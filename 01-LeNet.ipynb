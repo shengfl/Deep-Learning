{
 "cells": [
  {
   "cell_type": "markdown",
   "id": "d801ab2b-2c62-409a-8824-ddc0d65856b8",
   "metadata": {},
   "source": [
    "### 1. 介绍 Introduction\n",
    "-------------"
   ]
  },
  {
   "cell_type": "markdown",
   "id": "c81828f2-f44a-4b51-a4c2-b4e06c331550",
   "metadata": {},
   "source": [
    "LeNet是由Yann LeCun等人在1998年提出的经典卷积神经网络（CNN）,架构如下图。论文地址：\n",
    "[LeNet](http://vision.stanford.edu/cs598_spring07/papers/Lecun98.pdf)"
   ]
  },
  {
   "cell_type": "code",
   "execution_count": 1,
   "id": "890bbe8d-e46a-4afc-9162-d0016a9576b2",
   "metadata": {},
   "outputs": [
    {
     "data": {
      "text/html": [
       "<img src=\"https://production-media.paperswithcode.com/methods/LeNet_Original_Image_48T74Lc.jpg\" width=\"600\"/>"
      ],
      "text/plain": [
       "<IPython.core.display.Image object>"
      ]
     },
     "metadata": {},
     "output_type": "display_data"
    }
   ],
   "source": [
    "from IPython.display import Image, display\n",
    "url = 'https://production-media.paperswithcode.com/methods/LeNet_Original_Image_48T74Lc.jpg'\n",
    "display(Image(url=url, width=600))"
   ]
  },
  {
   "cell_type": "markdown",
   "id": "c7923301-2e87-4fc9-b34b-fa2645a97961",
   "metadata": {},
   "source": [
    "### 2. 数学表达 mathematical expressions\n",
    "------------"
   ]
  },
  {
   "cell_type": "markdown",
   "id": "05a1eaa6-8a64-4811-aab4-155721f86689",
   "metadata": {},
   "source": [
    "- 输入：$X\\in \\mathbb{R}^{32\\times 32\\times 1}$\n",
    "- 卷积C1：采用了6个5×5×1大小的卷积核，即$ k=6$\n",
    "\n",
    "  $ C_{1k} = \\sum_{m=1}^5\\sum_{n=1}^5 W_k(m,n)\\cdot X(i+m,j+n)+b_k \\in \\mathbb{R}^{28\\times 28\\times 6} $\n",
    "\n",
    "  sigmoid激活：$  \\sigma(C_1) \\in \\mathbb{R}^{28\\times 28\\times 6}$\n",
    "- 平均池化S2：$ S_2 = mean(\\sigma(C_1), 2\\times 2) \\in \\mathbb{R}^{14\\times 14\\times 6}$"
   ]
  },
  {
   "cell_type": "markdown",
   "id": "a97d2328-140b-45fc-a177-5277dd89c6ba",
   "metadata": {},
   "source": [
    "- 卷积C3：采用了16个5×5×6大小的卷积核，即$ k=16$\n",
    "  \n",
    "  $ C_{3k} = \\sum_{m=1}^5\\sum_{n=1}^5 \\sum_{l=1}^6 W_k(m,n, l)\\cdot X(i+m,j+n, h+l)+b_k \\in \\mathbb{R}^{10 \\times 10 \\times 16} $\n",
    "\n",
    "  激活sigmoid：$\\sigma(C_3) \\in \\mathbb{R}^{10 \\times 10 \\times 16} $\n",
    "- 平均池化S4：$ S_4 = max(\\sigma(C_3), 2\\times 2) \\in \\mathbb{R}^{5 \\times 5 \\times 16} $"
   ]
  },
  {
   "cell_type": "markdown",
   "id": "9689ea57-f087-4ce6-be98-ed459bfaf330",
   "metadata": {},
   "source": [
    "- 全连接C5：$ C_5=W_{120\\times 400}\\cdot vec(S_4)+b_{400\\times 1}\\in \\mathbb{R}^{120 \\times 1}$\n",
    "\n",
    "  sigmoid激活：$ \\sigma(C_5)\\in \\mathbb{R}^{120 \\times 1} $\n",
    "- 全连接F6：$F_6 = W_{84\\times 120} \\cdot \\sigma(C_5) + b_{84\\times 1}\\in \\mathbb{R}^{84\\times 1} $\n",
    "\n",
    "  sigmoid激活：$\\sigma(F_6)$\n",
    "- 全连接F7：$ F_7= W_{10\\times 84} \\cdot \\sigma(F_6) + b_{10\\times 1}\\in \\mathbb{R}^{10\\times 1} $\n",
    "\n",
    "  高斯激活：$ RBF(F_7) $\n",
    "\n",
    "  $RBF = exp(-\\beta \\cdot ||x-w_i||^2)$ \n",
    "- 输出：$\\mathbb{R}^{10\\times 1}$"
   ]
  },
  {
   "cell_type": "markdown",
   "id": "a3060450-7fa3-4b07-8d60-0cc473683326",
   "metadata": {},
   "source": [
    "### 3. 原始实现\n",
    "----------------"
   ]
  },
  {
   "cell_type": "code",
   "execution_count": 118,
   "id": "f4060615-9d7a-4623-b14f-1d33d789a059",
   "metadata": {},
   "outputs": [],
   "source": [
    "import torch\n",
    "import torch.nn as nn\n",
    "import torchvision\n",
    "from torchvision import transforms\n",
    "import torch.nn.functional as F"
   ]
  },
  {
   "cell_type": "code",
   "execution_count": 164,
   "id": "4ccb57a4-020d-4396-9982-69c4bd635a59",
   "metadata": {},
   "outputs": [],
   "source": [
    "batch_size = 256\n",
    "device = torch.device('cuda' if torch.cuda.is_available() else 'cpu')\n",
    "\n",
    "lr = 1e-3\n",
    "epochs = 20"
   ]
  },
  {
   "cell_type": "code",
   "execution_count": 120,
   "id": "0841ba41-a825-4409-aa98-8868709ec005",
   "metadata": {},
   "outputs": [],
   "source": [
    "# 定义数据转换方法\n",
    "transform = transforms.Compose([transforms.Resize((32,32)), \n",
    "                                transforms.ToTensor(), \n",
    "                                transforms.Normalize((0.1307,),(0.3081,))])\n",
    "# 定义训练集\n",
    "train_dataset = torchvision.datasets.MNIST(root = './data',\n",
    "                                          train = True,\n",
    "                                          transform = transform,\n",
    "                                          download = True)\n",
    "# 定义测试集\n",
    "test_dataset = torchvision.datasets.MNIST(root = './data',\n",
    "                                         train = False,\n",
    "                                         transform = transform,\n",
    "                                         download = True)\n",
    "\n",
    "# 加载训练数据，并打乱\n",
    "train_loader = torch.utils.data.DataLoader(dataset=train_dataset, batch_size=batch_size, shuffle=True)\n",
    "# 加载测试数据\n",
    "test_loader = torch.utils.data.DataLoader(dataset=test_dataset, batch_size=batch_size, shuffle=False)"
   ]
  },
  {
   "cell_type": "code",
   "execution_count": 121,
   "id": "4ca65ae5-dfe8-47dd-ad2a-116d34fa7be6",
   "metadata": {},
   "outputs": [
    {
     "name": "stdout",
     "output_type": "stream",
     "text": [
      "torch.Size([256, 1, 32, 32]) torch.Size([256]) tensor([8, 5, 5, 7, 9, 7, 6, 2, 8, 1, 6, 2, 1, 0, 1, 9, 1, 3, 0, 1, 0, 5, 6, 7,\n",
      "        2, 8, 1, 2, 5, 7, 9, 4, 7, 2, 8, 1, 4, 5, 9, 8, 8, 3, 1, 7, 9, 9, 9, 2,\n",
      "        1, 8, 2, 3, 6, 9, 1, 7, 3, 1, 6, 4, 6, 9, 3, 0, 9, 0, 2, 3, 1, 8, 0, 5,\n",
      "        5, 1, 4, 4, 0, 0, 8, 9, 7, 5, 9, 4, 0, 1, 2, 1, 0, 6, 4, 2, 1, 2, 2, 8,\n",
      "        8, 5, 1, 3, 4, 1, 9, 6, 7, 8, 5, 7, 8, 1, 7, 1, 8, 1, 1, 3, 1, 0, 0, 6,\n",
      "        7, 1, 5, 3, 8, 9, 9, 5, 6, 4, 8, 5, 3, 3, 0, 9, 1, 5, 5, 9, 9, 9, 5, 1,\n",
      "        9, 7, 7, 3, 6, 8, 6, 9, 4, 6, 4, 9, 7, 4, 9, 3, 6, 5, 4, 9, 1, 0, 2, 5,\n",
      "        4, 6, 7, 5, 1, 7, 4, 8, 8, 1, 3, 6, 5, 5, 9, 4, 5, 5, 1, 3, 0, 7, 8, 0,\n",
      "        0, 5, 8, 2, 5, 6, 3, 1, 8, 5, 3, 7, 4, 3, 8, 4, 7, 5, 7, 8, 8, 5, 5, 4,\n",
      "        9, 5, 0, 6, 3, 3, 2, 9, 6, 6, 5, 2, 6, 6, 7, 8, 2, 3, 7, 7, 8, 0, 5, 8,\n",
      "        8, 4, 8, 9, 6, 2, 2, 9, 4, 7, 2, 7, 2, 8, 3, 9])\n"
     ]
    },
    {
     "data": {
      "text/plain": [
       "<matplotlib.image.AxesImage at 0x20c9a525280>"
      ]
     },
     "execution_count": 121,
     "metadata": {},
     "output_type": "execute_result"
    },
    {
     "data": {
      "image/png": "[encoded data removed]",
      "text/plain": [
       "<Figure size 640x480 with 1 Axes>"
      ]
     },
     "metadata": {},
     "output_type": "display_data"
    }
   ],
   "source": [
    "import matplotlib.pyplot as plt\n",
    "image, label = next(iter(train_loader))\n",
    "print(image.shape, label.shape, label)\n",
    "plt.imshow(image[0][0], cmap='gray')"
   ]
  },
  {
   "cell_type": "code",
   "execution_count": 122,
   "id": "4e05bf76-23c3-4c1d-8d34-9e0ba38764ee",
   "metadata": {},
   "outputs": [],
   "source": [
    "class OriginalLeNet5(nn.Module): # 定义类，继承自pytorch的nn.Module基类\n",
    "    def __init__(self, num_classes=10, beta=1.0): # 初始化\n",
    "        super(OriginalLeNet5, self).__init__() # 显示调用父类的构造方法\n",
    "        self.conv1 = nn.Conv2d(1, 6, kernel_size=5, stride=1, padding=0) # 输入通道1，输出通道6，步幅1，填充0\n",
    "        self.avgpool1 = nn.AvgPool2d(kernel_size=2, stride=2) # 平均池化，2×2核，步幅2\n",
    "        self.conv2 = nn.Conv2d(6, 16, kernel_size=5, stride=1, padding=0) # 输入通道6，输出通道16，步幅1，填充0\n",
    "        self.avgpool2 = nn.AvgPool2d(kernel_size=2, stride=2) # 平均池化，2×2核，步幅2\n",
    "        \n",
    "        self.fc1 = nn.Linear(16 * 5 * 5, 120) # 第一个全连接层，输出120\n",
    "        self.fc2 = nn.Linear(120, 84) #第二个全连接层，输出84\n",
    "        self.fc3 = nn.Linear(84, num_classes) #第三个全连接层，输出10\n",
    "\n",
    "        self.beta = beta #RBF超参数\n",
    "        self.sigmoid = nn.Sigmoid() # sigmoid激活函数\n",
    "\n",
    "    def forward(self, x):\n",
    "        x = self.sigmoid(self.conv1(x))\n",
    "        x = self.avgpool1(x)\n",
    "        x = self.sigmoid(self.conv2(x))\n",
    "        x = self.avgpool2(x)\n",
    "\n",
    "        x = x.view(-1, 16 * 5 * 5)\n",
    "        x = self.sigmoid(self.fc1(x))\n",
    "        x = self.sigmoid(self.fc2(x))\n",
    "        # output = self.fc3(x)\n",
    "\n",
    "        # 采用高斯激活\n",
    "        prototypes = self.fc3.weight\n",
    "        x = x.unsqueeze(1)\n",
    "        distance = torch.norm(x - prototypes, dim=2, p=2)\n",
    "        output = torch.exp(-self.beta * distance.pow(2))\n",
    "\n",
    "        return output"
   ]
  },
  {
   "cell_type": "code",
   "execution_count": 166,
   "id": "fe715cb8-43c7-4d79-b7f4-d3c8e5ececb8",
   "metadata": {},
   "outputs": [],
   "source": [
    "model = OriginalLeNet5()\n",
    "model = model.cuda()\n",
    "criterion = nn.MSELoss(reduction='sum')\n",
    "optimizer = optim.Adam(model.parameters(), lr=lr)"
   ]
  },
  {
   "cell_type": "code",
   "execution_count": 132,
   "id": "58d46815-01fd-45ec-898f-6f27213bf95a",
   "metadata": {},
   "outputs": [],
   "source": [
    "# 定义训练函数\n",
    "def train(epoch):\n",
    "    model.train()\n",
    "    train_loss = 0\n",
    "    correct_num = 0\n",
    "    total_num = 0\n",
    "    \n",
    "    # 遍历训练数据\n",
    "    for data, label in train_loader:\n",
    "        data, label = data.cuda(), label.cuda() # 将数据和标签挪到GPU        \n",
    "        optimizer.zero_grad() # 梯度清理\n",
    "        output = model(data) # 前向传播\n",
    "\n",
    "        # 将标签转化为one-hot编码\n",
    "        batch_size = label.size(0)\n",
    "        label_one_hot = torch.zeros(batch_size, 10).cuda()\n",
    "        label_one_hot.scatter_(1, label.unsqueeze(1), 1)\n",
    "        \n",
    "        loss = criterion(output, label_one_hot) # 计算损失，也就是预测结果和真实标签的误差\n",
    "        loss.backward() # 反向传播，计算梯度\n",
    "        optimizer.step() # 更新一步参数\n",
    "        \n",
    "        train_loss += loss.item() #计算损失\n",
    "        preds = torch.argmax(output, dim=1)\n",
    "        correct_num += torch.eq(preds, label).sum().item() # 预测正确数量\n",
    "        total_num += data.size(0) # 总预测数量\n",
    "    train_loss = train_loss/len(train_loader.dataset) # 计算平均训练损失\n",
    "    accuracy = correct_num/total_num # 计算准确率\n",
    "    print(f'Epoch:{epoch}\\tTraining Loss:{train_loss:.6f}, Accuracy:{accuracy:.6f}') # 输出信息"
   ]
  },
  {
   "cell_type": "code",
   "execution_count": 133,
   "id": "6f31a3cf-cc8f-44d1-8715-b012c94a3a7a",
   "metadata": {},
   "outputs": [],
   "source": [
    "# 定义验证函数并初始化\n",
    "def evaluate(epoch): \n",
    "    model.eval() # 验证模式\n",
    "    evaluate_loss = 0 #累积验证损失\n",
    "    correct_num = 0 \n",
    "    total_num = 0 \n",
    "    \n",
    "    # 禁用梯度\n",
    "    with torch.no_grad():\n",
    "        # 遍历测试数据\n",
    "        for data, label in test_loader: \n",
    "            data, label = data.cuda(), label.cuda() #数据迁移到GPU            \n",
    "            output = model(data) # 前向传播\n",
    "\n",
    "            # 转换测试标签为one-hot编码\n",
    "            batch_size = label.size(0)\n",
    "            label_one_hot = torch.zeros(batch_size, 10).cuda()\n",
    "            label_one_hot.scatter_(1, label.unsqueeze(1), 1)\n",
    "            \n",
    "            loss = criterion(output, label_one_hot) # 计算当前批次损失\n",
    "            evaluate_loss += loss.item() # 累积总损失\n",
    "            preds = torch.argmax(output, dim=1) # 取得每行最大值的索引，获取预测结果。\n",
    "            correct_num += torch.eq(preds, label).sum().item() # 预测正确数量\n",
    "            total_num += data.size(0) # 总预测数量\n",
    "    evaluate_loss = evaluate_loss/total_num # 计算平均验证损失\n",
    "    accuracy = correct_num/total_num # 计算准确率\n",
    "    print(f'Epoch:{epoch}\\tValidation Loss:{evaluate_loss:.6f}, Accuracy:{accuracy:.6f}') #打印输出信息"
   ]
  },
  {
   "cell_type": "code",
   "execution_count": 135,
   "id": "93db1c0b-76ce-4c63-bb0b-684efa4f4896",
   "metadata": {},
   "outputs": [
    {
     "name": "stdout",
     "output_type": "stream",
     "text": [
      "Epoch:1\tTraining Loss:0.899994, Accuracy:0.109333\n",
      "Epoch:1\tValidation Loss:0.899686, Accuracy:0.113500\n",
      "Epoch:2\tTraining Loss:0.700318, Accuracy:0.401783\n",
      "Epoch:2\tValidation Loss:0.298925, Accuracy:0.829600\n",
      "Epoch:3\tTraining Loss:0.191958, Accuracy:0.890250\n",
      "Epoch:3\tValidation Loss:0.143211, Accuracy:0.919100\n",
      "Epoch:4\tTraining Loss:0.131826, Accuracy:0.925217\n",
      "Epoch:4\tValidation Loss:0.114010, Accuracy:0.935700\n",
      "Epoch:5\tTraining Loss:0.107524, Accuracy:0.939733\n",
      "Epoch:5\tValidation Loss:0.095248, Accuracy:0.946900\n",
      "Epoch:6\tTraining Loss:0.090756, Accuracy:0.950900\n",
      "Epoch:6\tValidation Loss:0.080909, Accuracy:0.957500\n",
      "Epoch:7\tTraining Loss:0.078437, Accuracy:0.959117\n",
      "Epoch:7\tValidation Loss:0.071199, Accuracy:0.963500\n",
      "Epoch:8\tTraining Loss:0.069164, Accuracy:0.964667\n",
      "Epoch:8\tValidation Loss:0.063153, Accuracy:0.967800\n",
      "Epoch:9\tTraining Loss:0.062191, Accuracy:0.968467\n",
      "Epoch:9\tValidation Loss:0.058382, Accuracy:0.971100\n",
      "Epoch:10\tTraining Loss:0.056787, Accuracy:0.972533\n",
      "Epoch:10\tValidation Loss:0.053161, Accuracy:0.974200\n",
      "Epoch:11\tTraining Loss:0.052008, Accuracy:0.974950\n",
      "Epoch:11\tValidation Loss:0.049967, Accuracy:0.975800\n",
      "Epoch:12\tTraining Loss:0.048155, Accuracy:0.977150\n",
      "Epoch:12\tValidation Loss:0.047073, Accuracy:0.977100\n",
      "Epoch:13\tTraining Loss:0.045210, Accuracy:0.979017\n",
      "Epoch:13\tValidation Loss:0.042814, Accuracy:0.979400\n",
      "Epoch:14\tTraining Loss:0.042438, Accuracy:0.980383\n",
      "Epoch:14\tValidation Loss:0.040599, Accuracy:0.980000\n",
      "Epoch:15\tTraining Loss:0.040138, Accuracy:0.981217\n",
      "Epoch:15\tValidation Loss:0.039887, Accuracy:0.981400\n",
      "Epoch:16\tTraining Loss:0.038040, Accuracy:0.982617\n",
      "Epoch:16\tValidation Loss:0.037459, Accuracy:0.982900\n",
      "Epoch:17\tTraining Loss:0.036487, Accuracy:0.983567\n",
      "Epoch:17\tValidation Loss:0.035151, Accuracy:0.983300\n",
      "Epoch:18\tTraining Loss:0.034688, Accuracy:0.984500\n",
      "Epoch:18\tValidation Loss:0.033834, Accuracy:0.984300\n",
      "Epoch:19\tTraining Loss:0.033098, Accuracy:0.984950\n",
      "Epoch:19\tValidation Loss:0.032361, Accuracy:0.984800\n",
      "Epoch:20\tTraining Loss:0.031551, Accuracy:0.986233\n",
      "Epoch:20\tValidation Loss:0.030811, Accuracy:0.985200\n"
     ]
    }
   ],
   "source": [
    "for epoch in range(1, epochs+1):\n",
    "    train(epoch)\n",
    "    evaluate(epoch)"
   ]
  },
  {
   "cell_type": "markdown",
   "id": "58a100dc-384b-4bb5-ba7c-53490bae37eb",
   "metadata": {},
   "source": [
    "### 4. 现代实现\n",
    "-------------------"
   ]
  },
  {
   "cell_type": "markdown",
   "id": "124de0cc-5353-4201-96b8-ea45cceafb66",
   "metadata": {},
   "source": [
    "主要修改内容\n",
    "- 采用最大池化（max pooling），而不是平均池化\n",
    "- 在每次卷积之后进行批归一化（Batch Normalization）\n",
    "- 采用ReLU作为激活函数\n",
    "- 使用交叉熵作为损失函数"
   ]
  },
  {
   "cell_type": "code",
   "execution_count": 152,
   "id": "83ee13a0-58ba-49da-995d-5913d9c80276",
   "metadata": {},
   "outputs": [],
   "source": [
    "modern_LeNet5 = nn.Sequential(\n",
    "    nn.Conv2d(1, 6, kernel_size=5, padding=0), \n",
    "    nn.BatchNorm2d(6),\n",
    "    nn.ReLU(),\n",
    "    nn.MaxPool2d(kernel_size=2, stride=2),\n",
    "    \n",
    "    nn.Conv2d(6, 16, kernel_size=5, padding=0), \n",
    "    nn.BatchNorm2d(16),\n",
    "    nn.ReLU(),\n",
    "    nn.MaxPool2d(kernel_size=2, stride=2),\n",
    "    \n",
    "    nn.Flatten(),\n",
    "    nn.Linear(16 * 5 * 5, 120), \n",
    "    nn.ReLU(),\n",
    "    nn.Linear(120, 84), \n",
    "    nn.ReLU(),\n",
    "    nn.Linear(84, 10)\n",
    ")"
   ]
  },
  {
   "cell_type": "code",
   "execution_count": 165,
   "id": "326c97a6-2d47-4570-a06e-34881ba076ad",
   "metadata": {},
   "outputs": [],
   "source": [
    "model = modern_LeNet5\n",
    "model = model.cuda()\n",
    "criterion = nn.CrossEntropyLoss(reduction='sum')\n",
    "optimizer = optim.Adam(model.parameters(), lr=lr)"
   ]
  },
  {
   "cell_type": "code",
   "execution_count": 154,
   "id": "b3555c5a-f3e2-43ac-9a22-eb5d2806d1f1",
   "metadata": {},
   "outputs": [],
   "source": [
    "# 定义训练函数\n",
    "def train(epoch):\n",
    "    model.train()\n",
    "    train_loss = 0\n",
    "    correct_num = 0\n",
    "    total_num = 0\n",
    "    \n",
    "    # 遍历训练数据\n",
    "    for data, label in train_loader:\n",
    "        data, label = data.cuda(), label.cuda() # 将数据和标签挪到GPU        \n",
    "        optimizer.zero_grad() # 梯度清理\n",
    "        output = model(data) # 前向传播\n",
    "       \n",
    "        loss = criterion(output, label) # 计算损失，也就是预测结果和真实标签的误差\n",
    "        loss.backward() # 反向传播，计算梯度\n",
    "        optimizer.step() # 更新一步参数\n",
    "        \n",
    "        train_loss += loss.item() #计算损失\n",
    "        preds = torch.argmax(output, dim=1)\n",
    "        correct_num += torch.eq(preds, label).sum().item() # 预测正确数量\n",
    "        total_num += data.size(0) # 总预测数量\n",
    "    train_loss = train_loss/len(train_loader.dataset) # 计算平均训练损失\n",
    "    accuracy = correct_num/total_num # 计算准确率\n",
    "    print(f'Epoch:{epoch}\\tTraining Loss:{train_loss:.6f}, Accuracy:{accuracy:.6f}') # 输出信息"
   ]
  },
  {
   "cell_type": "code",
   "execution_count": 155,
   "id": "31082809-855b-4720-bd30-258860648809",
   "metadata": {},
   "outputs": [],
   "source": [
    "# 定义验证函数并初始化\n",
    "def evaluate(epoch): \n",
    "    model.eval() # 验证模式\n",
    "    evaluate_loss = 0 #累积验证损失\n",
    "    correct_num = 0 \n",
    "    total_num = 0 \n",
    "    \n",
    "    # 禁用梯度\n",
    "    with torch.no_grad():\n",
    "        # 遍历测试数据\n",
    "        for data, label in test_loader: \n",
    "            data, label = data.cuda(), label.cuda() #数据迁移到GPU            \n",
    "            output = model(data) # 前向传播\n",
    "            \n",
    "            loss = criterion(output, label) # 计算当前批次损失\n",
    "            evaluate_loss += loss.item() # 累积总损失\n",
    "            preds = torch.argmax(output, dim=1) # 取得每行最大值的索引，获取预测结果。\n",
    "            correct_num += torch.eq(preds, label).sum().item() # 预测正确数量\n",
    "            total_num += data.size(0) # 总预测数量\n",
    "    evaluate_loss = evaluate_loss/total_num # 计算平均验证损失\n",
    "    accuracy = correct_num/total_num # 计算准确率\n",
    "    print(f'Epoch:{epoch}\\tValidation Loss:{evaluate_loss:.6f}, Accuracy:{accuracy:.6f}') #打印输出信息"
   ]
  },
  {
   "cell_type": "code",
   "execution_count": null,
   "id": "903c1059-c4cb-4e47-a517-3265c316bce3",
   "metadata": {},
   "outputs": [],
   "source": [
    "for epoch in range(1, epochs+1):\n",
    "    train(epoch)\n",
    "    evaluate(epoch)"
   ]
  },
  {
   "cell_type": "markdown",
   "id": "a5968876-d8ff-4846-8d1e-5690169355ab",
   "metadata": {},
   "source": [
    "### 5. 收获\n",
    "-------------"
   ]
  },
  {
   "cell_type": "markdown",
   "id": "acd15f6e-5df1-4eb7-b906-fd05f3ec4387",
   "metadata": {},
   "source": [
    "LeNet带来了如下经验：\n",
    "- 理解卷积：平移不变性 + 共享权重\n",
    "- 池化层局部不变性，增加稳定性\n",
    "- 算法：反向传播\n",
    "- 具备后续卷积神经网络的全部要素：卷积层、池化层、全连接层"
   ]
  },
  {
   "cell_type": "code",
   "execution_count": null,
   "id": "260edfb7-6afb-4062-9671-f06ab7a163ac",
   "metadata": {},
   "outputs": [],
   "source": []
  }
 ],
 "metadata": {
  "kernelspec": {
   "display_name": "Python 3 (ipykernel)",
   "language": "python",
   "name": "python3"
  },
  "language_info": {
   "codemirror_mode": {
    "name": "ipython",
    "version": 3
   },
   "file_extension": ".py",
   "mimetype": "text/x-python",
   "name": "python",
   "nbconvert_exporter": "python",
   "pygments_lexer": "ipython3",
   "version": "3.12.9"
  }
 },
 "nbformat": 4,
 "nbformat_minor": 5
}
