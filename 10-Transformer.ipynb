{
 "cells": [
  {
   "cell_type": "markdown",
   "id": "fa467b57-a9f7-41e0-a4a4-71f158a58a75",
   "metadata": {},
   "source": [
    "## 1. Transformer\n",
    "---"
   ]
  },
  {
   "cell_type": "markdown",
   "id": "bedbe633-3296-4ae7-8c31-b9d021fb07ac",
   "metadata": {},
   "source": [
    "大名鼎鼎，论文地址：[Transformer](https://arxiv.org/pdf/1706.03762)\n",
    "\n",
    "实现了深度循环神经网络并行计算"
   ]
  },
  {
   "cell_type": "code",
   "execution_count": 3,
   "id": "9c9cbcb6-bba8-4f75-9db3-6ede25a0e14a",
   "metadata": {},
   "outputs": [
    {
     "data": {
      "text/html": [
       "<img src=\"https://theaisummer.com/static/6122618d7e1466853e88473ba375cdc7/40ffe/transformer.png\" width=\"600\"/>"
      ],
      "text/plain": [
       "<IPython.core.display.Image object>"
      ]
     },
     "metadata": {},
     "output_type": "display_data"
    }
   ],
   "source": [
    "from IPython.display import Image, display\n",
    "url = 'https://theaisummer.com/static/6122618d7e1466853e88473ba375cdc7/40ffe/transformer.png'\n",
    "display(Image(url=url, width=600))"
   ]
  },
  {
   "cell_type": "markdown",
   "id": "71349dcd-223f-42a1-a3f2-ce603db4f544",
   "metadata": {},
   "source": [
    "## 2. 数学过程"
   ]
  },
  {
   "cell_type": "markdown",
   "id": "2d8f36c0-a264-4ff4-b87b-bfacff034e33",
   "metadata": {},
   "source": [
    "### 2.1 编码"
   ]
  },
  {
   "cell_type": "markdown",
   "id": "f6ed89c7-90de-4942-b1d3-18241756d3ea",
   "metadata": {},
   "source": [
    "分两步：\n",
    "\n",
    "**1. 词嵌入（Input & Embedding）**\n",
    "\n",
    "字典大小 vocab_size × embed_dim\n",
    "\n",
    "词大小 1 × embed_dim\n",
    "    \n",
    "句子大小 seq_len × embed_dim\n",
    "\n",
    "批量句子大小 batch_size × seq_len × embed_dim\n",
    "\n",
    "**2. 位置编码（Positional Encoding）**\n",
    "\n",
    "由于 Transformer 的自注意力机制本身不具备对输入顺序的感知能力，位置编码在 Transformer 架构中引入序列位置信息。\n",
    "\n",
    "为每个位置生成唯一的编码向量，直接加到词嵌入上。\n",
    "\n",
    "位置编码数学公式，根据位置p、维度i、词嵌入维度d, 偶数维和奇数维交替使用正弦和余弦。\n",
    "\n",
    "正弦：$PE_{(p, i, d)}=\\sin(\\frac{p}{10000^{2i/d}})$\n",
    "\n",
    "余弦：$PE_{(p, i, d)}=\\cos(\\frac{p}{10000^{2i/d}})$\n",
    "\n",
    "矩阵大小 seq_len × embed_dim\n",
    "\n",
    "批量大小 batch_size × seq_len × embed_dim\n",
    "\n",
    "**3. 编码结果**\n",
    "\n",
    "X = E + P\n",
    "\n",
    "批量维度 batch_size × seq_len × embed_dim\n",
    "\n",
    "**4. 位置编码的讨论**\n",
    "\n",
    "上面采用正弦和余弦公式是原始论文中所采用的方式。  \n",
    "存在的主要问题是，位置编码的公式是固定的，不可学习，而且在最后采用将位置编码直接加到词向量上，污染了信息。  \n",
    "随着研究的深入，旋转位置嵌入（Rotary Positional Embedding, RoPE）的模式得到很大关注。这里有篇论文。[RoPE](https://arxiv.org/pdf/2410.06205)  \n",
    "原始的位置编码，从开始可以看作是一种二进制的方波，但因为跳跃变化，采用了类似正弦余弦波的编码方式。  \n",
    "下面总结一下个人看法：  \n",
    "（1）词嵌入是没有位置关系的，也没有多重语义，但的确编码了大部分语言符号的意思的差异。我将之成为全局性语义向量（Global Semantic Vector）。之所以这么称呼的原因是因为，词嵌入更多的表达的是一种数据转换，将语言符号转换为数字。全局性语义向量，一方面是从更加自然性的语言角度理解，另一方面表示词汇在语义空间上的向量表达。  \n",
    "（2）词汇之间的位置关系和语义关联，是和使用词汇的场景是高度关联的。如果我们将之称为局部语义空间，那么位置编码可以看作是是从全局性语义向量向局部语义向量（Local Semantic Vector）做的一个映射，映射后的局部语义向量看作是上下文中词汇语义的真实表达。  \n",
    "（3）当然在操作上，我们希望这个映射是线性的。而且，如果上下文中的某些位置关联紧密，那么它们之间的局部语义向量之间应该有更高的余弦相似度。于是，位置p的向量V(p)可以经由某个矩阵变换M得到p+k位置的相似向量V(p+k)。可参见[RoFormer论文](https://arxiv.org/pdf/2104.09864)  \n",
    "（4）最终结果是通过矩阵乘法的形式（实际上采用的是克式积），实现了由全局性语义空间向局部语义空间的映射。避免了加法带来的语义污染，并且具有了科学系的特征。  \n",
    "（5）编码可以看作两步：词汇符号→全局语义向量→局部语义向量。"
   ]
  },
  {
   "cell_type": "code",
   "execution_count": 4,
   "id": "4a450937-1c18-4f4e-a235-88ca85a12acf",
   "metadata": {},
   "outputs": [
    {
     "data": {
      "text/plain": [
       "<matplotlib.collections.PathCollection at 0x1b8b760a150>"
      ]
     },
     "execution_count": 4,
     "metadata": {},
     "output_type": "execute_result"
    },
    {
     "data": {
      "image/png": "[encoded data removed]",
      "text/plain": [
       "<Figure size 640x480 with 1 Axes>"
      ]
     },
     "metadata": {},
     "output_type": "display_data"
    }
   ],
   "source": [
    "# 经典PE的数值分布\n",
    "import numpy as np\n",
    "import matplotlib.pyplot as plt\n",
    "\n",
    "def pe(seq_len, embed_dim):\n",
    "    L = []\n",
    "    for i in range(seq_len):\n",
    "        if i%2==0:\n",
    "            L.append(round(np.cos(seq_len/(10000**(2*i/embed_dim))),4))\n",
    "        else:\n",
    "            L.append(round(np.sin(seq_len/(10000**(2*i/embed_dim))),4))\n",
    "    return L\n",
    "L = pe(521, 256)\n",
    "C = [x % 2 for x in range(len(L)) ]\n",
    "plt.scatter(x=np.arange(len(L)), y=L, s=3, c=C, cmap='Paired')"
   ]
  },
  {
   "cell_type": "markdown",
   "id": "7fd8b170-b79e-4bb7-aa6d-5b6a3ea6a4c4",
   "metadata": {},
   "source": [
    "### 2.2 注意力机制"
   ]
  },
  {
   "cell_type": "markdown",
   "id": "b2f99ca2-a864-4111-a286-b161b5bcd2db",
   "metadata": {},
   "source": [
    "注意力机制有很多变体。  \n",
    "这里按照逐层深入的方式，拆解为：单头注意力、多头注意力、掩码多头注意力、交叉多头注意力。  \n",
    "后续优化变体多查询注意力(MQA)，分组查询注意力(GQA)，多潜头注意力(MLA)。  \n",
    "\n",
    "厘清维度+理解作用是关键。 \n",
    "先定义一些超参数，方便后面理解  \n",
    "vocab_size：词表大小（一般为50000左右）。字母：V  \n",
    "embed_dim：词向量维度。字母 C  \n",
    "batch_size：批量大小。字母 B  \n",
    "seq_len：上下文长度。字母 T  \n",
    "num_heads：注意力头的数量。字母 n  \n",
    "single_head_dim：单个注意力头的维数。字母 s  \n",
    "multi_head_dim = single_head_dim × num_heads：多头注意力维数，一般等于embed_dim。字母 H  \n",
    "\n",
    "Attention最著名的公式：$$\\mathbf{Attention}(Q, K, V)=\\mathbf{softmax}(\\frac{QK^T}{\\sqrt{d_k}})V $$\n",
    "\n",
    "里面涉及三个重要的向量Q, K, V, 分别代表查询（Query）、键（Key）和值（Value）。  \n",
    "Transformer左边是编码器，右边是解码器。编码器最终输出K, V用于右边的解码器，而解码器用自身的Q。  \n",
    "所以查询的意思是容易理解的。  \n",
    "再看公式的最后，是关于V的某个线性组合，所以值的意思也清楚。\n",
    "键的意思是作为参考而言的。\n",
    "\n",
    "-----"
   ]
  },
  {
   "cell_type": "markdown",
   "id": "cf4a3d85-964d-4e57-a8ff-cc30fc66116b",
   "metadata": {},
   "source": [
    "下面是**单头注意力**的维度变化情况：  \n",
    "1. 输入X的维度是(B, T, C)，复制三份。\n",
    "2. 与查询矩阵$W_Q$作用，得到Q。即X经过$W_Q$线性变换得到Q。$W_Q$的维度是(B, C, H)，Q的维度是(B, T, H)\n",
    ">如是线性变换，按照矩阵乘法，$W_Q$应该在X的左边，即$XW_Q$，但很多论文和研究报告，都把X写在左边，这主要是因为在变换之后，X的C维度会消失，写在左边符合矩阵乘法的直觉，但在变换的视角下又是别扭的，这归功于pytorch在维度处理上的优秀设计。\n",
    "\n",
    "3. 同样的有键矩阵$W_K$，作用在X上。$W_K$的维度是(B, C, H)，K的维度是(B, T, H)\n",
    "4. 进行点积+缩放操作，即 $\\frac{QK^T}{\\sqrt{d_k}}$，结果维度是(B, T, T)\n",
    ">上述操作将输入X经过线性变化从原来的(B, T, C)变换到(B, T, H)空间进行表示。\n",
    ">点积操作是为了比较一个序列中，各位置上元素的距离，可以用余弦相似度来理解\n",
    ">缩放是出于数值稳定性的考虑，其中$d_k$是每个头的维度，但单头注意力中等于H\n",
    "\n",
    "5. softmax使其称为一个概率分布，注意力权重矩阵，torch中是每一行，矩阵乘法中是每一列\n",
    "6. 有值矩阵$W_V$，作用在X上。$W_V$的维度是(B, C, H)，V的维度是(B, T, H)\n",
    "7. 将权重矩阵和V相乘，得到结果，维度是(B, T, H)，与输入维度一致。注：在多元线性回归中，我们一般是将权重写在右侧的，如$||Y-Xw-b||^2$，其中$w$是权重\n",
    "8. 残差连接\n",
    "9. 层归一化，沿最后一维归一化。\n",
    "10. 再接前馈神经网络或混合专家模型。\n",
    "\n",
    "---"
   ]
  },
  {
   "cell_type": "markdown",
   "id": "89669ce1-334b-4723-9db5-1524db3f1d85",
   "metadata": {},
   "source": [
    "**多头注意力**，在计算出Q,K,V之后，进行分割。\n",
    "维度变化：  \n",
    "$X:(B, T, C)$  \n",
    "$Q, K, V:(B, T, H)$  \n",
    "分割后：$Q^i, K^i, V^i:(B, n, T, s), \\ \\  H=n×s$  \n",
    "点击+缩放：$(B, n, T, T)$  \n",
    "softmax：$(B, n, T, T)$  \n",
    "与$V^i$相乘：$(B, n, T, s)$  \n",
    "拼接输出：$(B, T, H)$，与输入维度一致  \n",
    "后续无变化。\n",
    "\n",
    "多头注意力，相比单头注意力，通过多个不同的子空间用于关于不同结构上的特征。\n",
    "\n",
    "参数和单头注意力一样多，但计算上可以并行，提高计算效率。\n",
    "\n",
    "---"
   ]
  },
  {
   "cell_type": "markdown",
   "id": "6048b1cb-c1ec-46c0-8743-bb75f059ce49",
   "metadata": {},
   "source": [
    "**掩码自注意力**的另一个名称是因果自注意力。\n",
    "\n",
    "掩码多头注意力，维度变化与多头注意力是一样的。\n",
    "\n",
    "两者的主要区别是在softmax这个步骤上。掩码多头注意力会在这个分数矩阵上加上一个掩码矩阵，通常是下三角矩阵，将未来位置的得分设置为-inf，使得softmax后这些位置的权重接近0。"
   ]
  },
  {
   "cell_type": "code",
   "execution_count": 22,
   "id": "9a643faa-5509-4926-83c5-c97d065812c1",
   "metadata": {},
   "outputs": [
    {
     "name": "stdout",
     "output_type": "stream",
     "text": [
      "tensor([[ 1.0182,  1.1535, -1.7100, -0.2435,  1.1991],\n",
      "        [-1.1976,  0.1862,  0.9975, -0.6647,  0.8301],\n",
      "        [ 1.0701,  1.3209, -0.5289,  0.0137, -0.2921],\n",
      "        [ 0.9137,  0.3797, -0.1829, -2.7691,  0.4461],\n",
      "        [ 2.1975,  0.3053, -0.7171, -1.1248,  0.7243]])\n",
      "tensor([[ 1.0182e+00, -1.0000e+09, -1.0000e+09, -1.0000e+09, -1.0000e+09],\n",
      "        [-1.1976e+00,  1.8616e-01, -1.0000e+09, -1.0000e+09, -1.0000e+09],\n",
      "        [ 1.0701e+00,  1.3209e+00, -5.2889e-01, -1.0000e+09, -1.0000e+09],\n",
      "        [ 9.1374e-01,  3.7970e-01, -1.8290e-01, -2.7691e+00, -1.0000e+09],\n",
      "        [ 2.1975e+00,  3.0532e-01, -7.1708e-01, -1.1248e+00,  7.2425e-01]])\n"
     ]
    },
    {
     "data": {
      "text/plain": [
       "tensor([[1.0000, 0.0000, 0.0000, 0.0000, 0.0000],\n",
       "        [0.2004, 0.7996, 0.0000, 0.0000, 0.0000],\n",
       "        [0.4021, 0.5167, 0.0813, 0.0000, 0.0000],\n",
       "        [0.5140, 0.3013, 0.1717, 0.0129, 0.0000],\n",
       "        [0.6802, 0.1025, 0.0369, 0.0245, 0.1559]])"
      ]
     },
     "execution_count": 22,
     "metadata": {},
     "output_type": "execute_result"
    }
   ],
   "source": [
    "import torch\n",
    "import torch.nn.functional as F\n",
    "\n",
    "mask = torch.triu(torch.ones(5, 5), diagonal=1).bool()\n",
    "scores = torch.randn(5, 5)\n",
    "print(scores)\n",
    "scores = scores.masked_fill(mask, -1e9)\n",
    "print(scores)\n",
    "F.softmax(scores, dim=-1)"
   ]
  },
  {
   "cell_type": "markdown",
   "id": "e9fd7d56-1018-4541-8533-13a85fb4f9d1",
   "metadata": {},
   "source": [
    "**交叉多头注意力**\n",
    "\n",
    "一般不需要掩码\n",
    "\n",
    "维度变化和多头注意力一样，只不过K,V用的是编码器输出，Q是解码输入。"
   ]
  },
  {
   "cell_type": "markdown",
   "id": "958b5565-4835-4f39-8ddc-2aea94965846",
   "metadata": {},
   "source": [
    "**KV Cache**: 增量计算。这得益于矩阵乘法分片裁切的效果。  \n",
    "**多查询注意力（Multi-Query Attention, MQA）**：让所有头共享K，V值，只切割Q。具体做法是，在$K=XW_K$这步计算时，直接将K降到(B, C, s)大小，在点积缩放时进行广播。  \n",
    "**分组查询注意力 (Grouped Query Attention, GQA)**：引入超参数组数，不要所有头都一样了，而是在头里进行分组，组内用一样的K,V  \n",
    "**MLA（Multi-Head Local Attention, MLA）**: DeepSeek模型中使用，目的是为了减少内存的占用，有点像奇异值分解。 **待研究** "
   ]
  },
  {
   "cell_type": "markdown",
   "id": "28d05bf8-e8be-4baf-8fac-1131d6985e2e",
   "metadata": {},
   "source": [
    "### 2.3 前馈神经网络(FeedforwardNeural Network，FFN)"
   ]
  },
  {
   "cell_type": "markdown",
   "id": "61f53a2b-de9f-49f7-b7dd-5bb2929cf8ca",
   "metadata": {},
   "source": [
    "前馈神经网络，又称为全连接层（Fully Connected Layer）或密集层（Dense Layer）。\n",
    "这里讲的很好：[FFN](https://mp.weixin.qq.com/s?__biz=MzUzOTgwNDMzOQ==&mid=2247503288&idx=1&sn=ee4b2bc1b396a1e82725998911ded45d&chksm=fac05a64cdb7d372181dd1017b99a13d444bfc0c257002f8018560af83fde1bbf69f182c5f37&scene=178&cur_album_id=3876802058308993025#rd)"
   ]
  },
  {
   "cell_type": "markdown",
   "id": "d5835c56-d6f7-46e4-9c8a-8bd54c45ac4f",
   "metadata": {},
   "source": [
    "数学表达上是简单的：  \n",
    "\n",
    "（1）升维：$X^{B\\times T\\times 4C} = X^{B\\times T\\times C}W_1^{B\\times C\\times 4C} + b_1^{B\\times T\\times 4C}$  \n",
    "（2）激活：$X^{B\\times T\\times 4C} = \\phi(X^{B\\times T\\times 4C})$  \n",
    "（3）降维：$X^{B\\times T\\times C} = X^{B\\times T\\times 4C}W_2^{B\\times 4C\\times C} + b_2^{B\\times T\\times C}$\n",
    "\n",
    "输出和输入维度一样。激活层必不可少。因为attention模块最后的结果是V的线性组合。并没有引入非线性。\n",
    "\n",
    "4C的原因是信息丢失补偿。"
   ]
  },
  {
   "cell_type": "markdown",
   "id": "2b76a913-3893-4d69-8169-8efa83a4d82e",
   "metadata": {},
   "source": [
    "### 2.4 混合专家模型 (Mixed Expert Models，MoEs)"
   ]
  },
  {
   "cell_type": "markdown",
   "id": "8e51be36-d6ce-489a-907d-147dd985e2e6",
   "metadata": {},
   "source": [
    "核心构件包括两部分：专家网络，如FNN；门控网络  \n",
    "输出是TopK个专家的加权，一般K取很小的值，如1或2。 $output = \\sum_{i=1}^N G(x)_i\\times E_i(x)$   \n",
    "门控网络，$G(x)=softmax(TopK(W_gx+b_g, k))$  \n",
    "专家网络，$FFN(x)$    \n",
    "负载均衡约束：$L_{balance} = \\lambda\\cdot\\sum_{i=1}^Nf_i\\cdot P_i$\n",
    "总损失：$L_{total} = L_{task} + L_{balance} $    \n",
    "\n",
    "优点：在远低于稠密模型的计算成本下进行高效预训练。\n",
    "\n",
    "缺点：微调阶段容易泛化能力不足，导致过拟合；虽然 MoE 只激活部分参数进行推理，速度快于同等规模的稠密模型，但所有参数仍需加载到内存，导致较高的 VRAM 需求\n",
    "\n",
    "---"
   ]
  },
  {
   "cell_type": "markdown",
   "id": "6f915515-5850-43ec-89c0-883783b6d13c",
   "metadata": {},
   "source": [
    "## 3. 文本生成\n",
    "\n",
    "模拟训练"
   ]
  },
  {
   "cell_type": "markdown",
   "id": "9f26e761-0439-4ca4-952d-b9849b9a506e",
   "metadata": {},
   "source": [
    "### 3.1 导入必要的包"
   ]
  },
  {
   "cell_type": "code",
   "execution_count": 1,
   "id": "4d00a50f-aa0c-4fed-94a1-ce80233ca50f",
   "metadata": {},
   "outputs": [],
   "source": [
    "import torch\n",
    "import torch.nn as nn\n",
    "import math\n",
    "import time\n",
    "import psutil\n",
    "\n",
    "from datasets import load_dataset\n",
    "from transformers import AutoTokenizer\n",
    "from torch.utils.data import DataLoader\n",
    "from torch.amp import autocast, GradScaler\n",
    "import torch.optim as optim"
   ]
  },
  {
   "cell_type": "markdown",
   "id": "5fe6ebfd-b208-4735-ac06-f816ad2d2587",
   "metadata": {},
   "source": [
    "### 3.2 设定超参数"
   ]
  },
  {
   "cell_type": "code",
   "execution_count": 2,
   "id": "f3931aab-7ab2-425e-8f37-9578c9889b04",
   "metadata": {},
   "outputs": [],
   "source": [
    "batch_size= 64\n",
    "seq_len = 128\n",
    "embed_dim = 64\n",
    "num_heads = 4\n",
    "num_encoder_layers = 2\n",
    "dropout= 0.2\n",
    "lr= 1e-3\n",
    "epochs= 20\n",
    "device= 'cuda' if torch.cuda.is_available() else 'cpu'"
   ]
  },
  {
   "cell_type": "markdown",
   "id": "0feb6d51-8eb3-4551-b823-088828a5e05c",
   "metadata": {},
   "source": [
    "### 3.3 处理数据"
   ]
  },
  {
   "cell_type": "code",
   "execution_count": 3,
   "id": "b0c3cabf-5093-42e1-b081-b806edcaf009",
   "metadata": {},
   "outputs": [
    {
     "data": {
      "text/plain": [
       "50257"
      ]
     },
     "execution_count": 3,
     "metadata": {},
     "output_type": "execute_result"
    }
   ],
   "source": [
    "dataset = load_dataset(\"wikitext\", \"wikitext-2-raw-v1\", cache_dir='./cache')\n",
    "tokenizer = AutoTokenizer.from_pretrained(\"distilgpt2\", cache_dir=\"./cache\")\n",
    "tokenizer.pad_token = tokenizer.eos_token\n",
    "vocab_size = len(tokenizer)\n",
    "vocab_size"
   ]
  },
  {
   "cell_type": "code",
   "execution_count": 4,
   "id": "662d54a6-68d3-4c49-9074-da554355fe92",
   "metadata": {},
   "outputs": [
    {
     "name": "stdout",
     "output_type": "stream",
     "text": [
      "DatasetDict({\n",
      "    test: Dataset({\n",
      "        features: ['text'],\n",
      "        num_rows: 4358\n",
      "    })\n",
      "    train: Dataset({\n",
      "        features: ['text'],\n",
      "        num_rows: 36718\n",
      "    })\n",
      "    validation: Dataset({\n",
      "        features: ['text'],\n",
      "        num_rows: 3760\n",
      "    })\n",
      "})\n"
     ]
    }
   ],
   "source": [
    "print(dataset)"
   ]
  },
  {
   "cell_type": "code",
   "execution_count": 5,
   "id": "bc80c099-95de-4295-b841-1f6f7ccaa89e",
   "metadata": {},
   "outputs": [],
   "source": [
    "tokenizer.model_max_length = seq_len\n",
    "tokenizer.model_input_names = [\"input_ids\"]"
   ]
  },
  {
   "cell_type": "code",
   "execution_count": 6,
   "id": "72d35f25-1ac2-43d7-b45b-e025e6bd53f6",
   "metadata": {},
   "outputs": [
    {
     "name": "stdout",
     "output_type": "stream",
     "text": [
      "Tokens: 78 ['The', 'ĠHub', 'Ġhas', 'Ġsupport', 'Ġfor', 'Ġdozens', 'Ġof', 'Ġlibraries', 'Ġin', 'Ġthe', 'ĠOpen', 'ĠSource', 'Ġecosystem', '.', 'ĠThanks', 'Ġto', 'Ġthe', 'Ġhugging', 'face', '_', 'hub', 'ĠPython', 'Ġlibrary', ',', 'Ġit', 'âĢ', 'Ļ', 's', 'Ġeasy', 'Ġto', 'Ġenable', 'Ġsharing', 'Ġyour', 'Ġmodels', 'Ġon', 'Ġthe', 'ĠHub', '.', 'ĠThe', 'ĠHub', 'Ġsupports', 'Ġmany', 'Ġlibraries', ',', 'Ġand', 'Ġwe', 'âĢ', 'Ļ', 're', 'Ġworking', 'Ġon', 'Ġexpanding', 'Ġthis', 'Ġsupport', '.', 'ĠWe', 'âĢ', 'Ļ', 're', 'Ġhappy', 'Ġto', 'Ġwelcome', 'Ġto', 'Ġthe', 'ĠHub', 'Ġa', 'Ġset', 'Ġof', 'ĠOpen', 'ĠSource', 'Ġlibraries', 'Ġthat', 'Ġare', 'Ġpushing', 'ĠMachine', 'ĠLearning', 'Ġforward', '.']\n"
     ]
    }
   ],
   "source": [
    "# 示例\n",
    "text = \"The Hub has support for dozens of libraries in the Open Source ecosystem. \\\n",
    "Thanks to the huggingface_hub Python library, it’s easy to enable sharing your models on the Hub. \\\n",
    "The Hub supports many libraries, and we’re working on expanding this support. \\\n",
    "We’re happy to welcome to the Hub a set of Open Source libraries that are pushing Machine Learning forward.\"\n",
    "\n",
    "# 分词\n",
    "tokens = tokenizer.tokenize(text)\n",
    "print(\"Tokens:\", len(tokens), tokens)"
   ]
  },
  {
   "cell_type": "code",
   "execution_count": 7,
   "id": "d3b5bfb2-03d2-4288-a40e-16bc5ce94b35",
   "metadata": {},
   "outputs": [],
   "source": [
    "def tokenize(example):\n",
    "    return tokenizer(example[\"text\"], truncation=True, max_length=seq_len, padding=\"max_length\")"
   ]
  },
  {
   "cell_type": "code",
   "execution_count": 8,
   "id": "2ba79cf0-d2b0-4743-bb36-50ca376f9892",
   "metadata": {},
   "outputs": [
    {
     "name": "stdout",
     "output_type": "stream",
     "text": [
      "{'input_ids': tensor([[  464, 14699,   468,  1104,   329,  9264,   286, 12782,   287,   262,\n",
      "          4946,  8090, 13187,    13,  6930,   284,   262, 46292,  2550,    62]])}\n"
     ]
    }
   ],
   "source": [
    "encoding = tokenizer(text, padding=True, truncation=True, max_length=20, return_tensors=\"pt\")\n",
    "print(encoding)"
   ]
  },
  {
   "cell_type": "code",
   "execution_count": 9,
   "id": "9b1d45b8-f897-4498-9c2a-e3f082f2343e",
   "metadata": {},
   "outputs": [],
   "source": [
    "tokenized = dataset.map(tokenize, batched=True, remove_columns=[\"text\"])\n",
    "tokenized.set_format(type='torch', columns=[\"input_ids\"])"
   ]
  },
  {
   "cell_type": "code",
   "execution_count": 10,
   "id": "85fa6436-65b0-4c4a-ba81-29141b84d640",
   "metadata": {},
   "outputs": [],
   "source": [
    "train_loader = DataLoader(tokenized[\"train\"], batch_size=batch_size, shuffle=True)\n",
    "val_loader = DataLoader(tokenized[\"validation\"], batch_size=batch_size, shuffle=False)"
   ]
  },
  {
   "cell_type": "markdown",
   "id": "5225c4f7-599d-4def-b9a1-e16391f58f9d",
   "metadata": {},
   "source": [
    "### 3.4 定义网络"
   ]
  },
  {
   "cell_type": "code",
   "execution_count": 11,
   "id": "165f98d5-c32f-4858-92e2-702370a42a4d",
   "metadata": {},
   "outputs": [],
   "source": [
    "# 旋转位置编码，对每个二维子空间进行旋转\n",
    "def apply_rope(x):\n",
    "    B, T, H, D = x.shape #输入，batch_size, seq_len, num_heads, head_dim\n",
    "    assert D % 2 == 0\n",
    "    half = D // 2\n",
    "    freqs = 1.0 / (10000 ** (torch.arange(0, half, device=x.device).float() / half)) # embed_dim/2 数组\n",
    "    pos = torch.arange(0, T, device=x.device).float()\n",
    "    angles = torch.einsum(\"i,j->ij\", pos, freqs) # 外积，T, half，爱因斯坦求和约定\n",
    "    sin, cos = angles.sin(), angles.cos()\n",
    "    sin = sin.unsqueeze(0).unsqueeze(2) # 添加维度占位\n",
    "    cos = cos.unsqueeze(0).unsqueeze(2)\n",
    "    x1, x2 = x[..., :half], x[..., half:] # 按最后一个维度切片\n",
    "    return torch.cat([x1 * cos - x2 * sin, x1 * sin + x2 * cos], dim=-1) # 利用广播机制"
   ]
  },
  {
   "cell_type": "code",
   "execution_count": 12,
   "id": "e1ca3fb0-fbd9-4580-9ce7-75af7270e638",
   "metadata": {},
   "outputs": [],
   "source": [
    "class MultiHeadAttention(nn.Module):\n",
    "    def __init__(self, embed_dim, num_heads):\n",
    "        super().__init__()\n",
    "        assert embed_dim % num_heads == 0\n",
    "        self.head_dim = embed_dim // num_heads\n",
    "        self.num_heads = num_heads\n",
    "        self.wq = nn.Linear(embed_dim, embed_dim)\n",
    "        self.wk = nn.Linear(embed_dim, embed_dim)\n",
    "        self.wv = nn.Linear(embed_dim, embed_dim)\n",
    "        self.fc = nn.Linear(embed_dim, embed_dim)\n",
    "\n",
    "    def forward(self, x, attention_mask=None):\n",
    "        B, T, D = x.shape # D: embed_dim\n",
    "        q = self.wq(x).view(B, T, self.num_heads, self.head_dim).transpose(1, 2) # B, num_heads, T, head_dim\n",
    "        k = self.wk(x).view(B, T, self.num_heads, self.head_dim).transpose(1, 2)\n",
    "        v = self.wv(x).view(B, T, self.num_heads, self.head_dim).transpose(1, 2)        \n",
    "\n",
    "        q = apply_rope(q.transpose(1, 2)).transpose(1, 2) # 先和apply_rope对齐，B, T, num_heads, head_dim ---> B, num_heads, T, head_dim\n",
    "        k = apply_rope(k.transpose(1, 2)).transpose(1, 2)\n",
    "        attention_scores = (q @ k.transpose(-2, -1)) / math.sqrt(self.head_dim) # B, num_heads, T, T\n",
    "        if attention_mask is not None: # attention mask的形状 T, T 会被广播到 B, num_heads, T, T\n",
    "            attention_scores = attention_scores.masked_fill(attention_mask, float('-inf'))\n",
    "        attention_weights  = torch.softmax(attention_scores, dim=-1) # B, num_heads, T, T\n",
    "\n",
    "        attention_output = attention_weights @ v  #  B, num_heads, T, head_dim\n",
    "        attention_output = attention_output.transpose(1, 2).contiguous().view(B, T, D)\n",
    "        return self.fc(attention_output) # B, T, D"
   ]
  },
  {
   "cell_type": "code",
   "execution_count": 13,
   "id": "3fd124fa-7352-4ab4-8386-e47a8544ebe3",
   "metadata": {},
   "outputs": [],
   "source": [
    "class TransformerBlock(nn.Module):\n",
    "    def __init__(self, embed_dim, num_heads, dropout):\n",
    "        super().__init__()\n",
    "        self.attention = MultiHeadAttention(embed_dim, num_heads)\n",
    "        self.ln1 = nn.LayerNorm(embed_dim)\n",
    "        self.ff = nn.Sequential(\n",
    "            nn.Linear(embed_dim, embed_dim*4),\n",
    "            nn.GELU(),\n",
    "            nn.Linear(embed_dim*4, embed_dim),\n",
    "            nn.Dropout(dropout)\n",
    "        )\n",
    "        self.ln2 = nn.LayerNorm(embed_dim)\n",
    "    \n",
    "    def forward(self, x, attention_mask=None):\n",
    "        attention_out = self.attention(x, attention_mask=attention_mask) # 多头自注意力输出\n",
    "        x = self.ln1(x+attention_out) # 残差连接\n",
    "        ff_out = self.ff(x) # feedforward 输出\n",
    "        return self.ln2(x + ff_out) # 归一化"
   ]
  },
  {
   "cell_type": "code",
   "execution_count": 14,
   "id": "a53a57ff-939d-49ac-be8b-5ab55a55a97f",
   "metadata": {},
   "outputs": [],
   "source": [
    "class TransformerLM(nn.Module):\n",
    "    def __init__(self, vocab_size, embed_dim, num_heads, num_layers, dropout):\n",
    "        super().__init__()\n",
    "        self.token_emb = nn.Embedding(vocab_size, embed_dim)\n",
    "        self.blocks = nn.ModuleList([TransformerBlock(embed_dim, num_heads, dropout) for _ in range(num_layers)]) # 列表推导式，堆叠Transformer块\n",
    "        self.ln = nn.LayerNorm(embed_dim)\n",
    "        self.head = nn.Linear(embed_dim, vocab_size)\n",
    "\n",
    "    def forward(self, x): # 输入X  batch_size, seq_len\n",
    "        B, T = x.shape\n",
    "        tok = self.token_emb(x) # 词嵌入 batch_size, seq_len, embed_dim : B, T, embed_dim(C/D)\n",
    "        mask = torch.triu(torch.ones(T, T, device=x.device), diagonal=1).bool()\n",
    "        for block in self.blocks:\n",
    "            tok = block(tok, attention_mask=mask)\n",
    "        tok = self.ln(tok)\n",
    "        \n",
    "        return self.head(tok)"
   ]
  },
  {
   "cell_type": "markdown",
   "id": "b942d1b4-c4f7-4916-a6b9-601d47d067ba",
   "metadata": {},
   "source": [
    "### 3.5 实例化模型"
   ]
  },
  {
   "cell_type": "code",
   "execution_count": 15,
   "id": "fa68050b-9b9f-4cf4-9d50-4e17c1c7e308",
   "metadata": {},
   "outputs": [],
   "source": [
    "model = TransformerLM(vocab_size, embed_dim, num_heads, num_encoder_layers, dropout).to(device)"
   ]
  },
  {
   "cell_type": "code",
   "execution_count": 16,
   "id": "9e265479-9da2-4670-9e5f-59935ef2d476",
   "metadata": {},
   "outputs": [
    {
     "data": {
      "text/plain": [
       "=================================================================\n",
       "Layer (type:depth-idx)                   Param #\n",
       "=================================================================\n",
       "TransformerLM                            --\n",
       "├─Embedding: 1-1                         3,216,448\n",
       "├─ModuleList: 1-2                        --\n",
       "│    └─TransformerBlock: 2-1             --\n",
       "│    │    └─MultiHeadAttention: 3-1      16,640\n",
       "│    │    └─LayerNorm: 3-2               128\n",
       "│    │    └─Sequential: 3-3              33,088\n",
       "│    │    └─LayerNorm: 3-4               128\n",
       "│    └─TransformerBlock: 2-2             --\n",
       "│    │    └─MultiHeadAttention: 3-5      16,640\n",
       "│    │    └─LayerNorm: 3-6               128\n",
       "│    │    └─Sequential: 3-7              33,088\n",
       "│    │    └─LayerNorm: 3-8               128\n",
       "├─LayerNorm: 1-3                         128\n",
       "├─Linear: 1-4                            3,266,705\n",
       "=================================================================\n",
       "Total params: 6,583,249\n",
       "Trainable params: 6,583,249\n",
       "Non-trainable params: 0\n",
       "================================================================="
      ]
     },
     "execution_count": 16,
     "metadata": {},
     "output_type": "execute_result"
    }
   ],
   "source": [
    "from torchinfo import summary\n",
    "summary(model)"
   ]
  },
  {
   "cell_type": "markdown",
   "id": "49e19683-26fc-4d4d-82b9-acef116dddbd",
   "metadata": {},
   "source": [
    "### 3.6 选择损失函数和优化器"
   ]
  },
  {
   "cell_type": "code",
   "execution_count": 17,
   "id": "b657f6a2-536c-4bc6-87e4-5caee0389757",
   "metadata": {},
   "outputs": [],
   "source": [
    "optimizer = optim.AdamW(model.parameters(), lr=lr)\n",
    "scaler = GradScaler()\n",
    "loss_fn = nn.CrossEntropyLoss(ignore_index=tokenizer.pad_token_id)"
   ]
  },
  {
   "cell_type": "markdown",
   "id": "e829393b-8a5b-428e-8cfe-d30fccc02129",
   "metadata": {},
   "source": [
    "### 3.7 验证函数"
   ]
  },
  {
   "cell_type": "code",
   "execution_count": 18,
   "id": "842d666e-ae78-4496-bcf7-38a46e4cb7ba",
   "metadata": {},
   "outputs": [],
   "source": [
    "def evaluate(model, dataloader):\n",
    "    model.eval()\n",
    "    total_loss = 0\n",
    "    with torch.no_grad():\n",
    "        for batch in dataloader:\n",
    "            x = batch[\"input_ids\"][:, :-1].to(device)\n",
    "            y = batch[\"input_ids\"][:, 1:].to(device)\n",
    "            with autocast(device_type=device):\n",
    "                logits = model(x)\n",
    "                loss = loss_fn(logits.view(-1, vocab_size), y.view(-1))\n",
    "            total_loss += loss.item()\n",
    "    return total_loss / len(dataloader)"
   ]
  },
  {
   "cell_type": "markdown",
   "id": "dcd5d05a-e16f-4192-842d-301de90cf93d",
   "metadata": {},
   "source": [
    "### 3.8 文本生成"
   ]
  },
  {
   "cell_type": "code",
   "execution_count": 19,
   "id": "45c71f5e-393c-4d70-95f9-31f3c82d3ffa",
   "metadata": {},
   "outputs": [],
   "source": [
    "def top_p_sampling(logits, temperature=1.0, top_p=0.9, repetition_penalty=1.1, past_tokens=None):\n",
    "    logits = logits / temperature\n",
    "    if past_tokens is not None:\n",
    "        logits[past_tokens] /= repetition_penalty\n",
    "    sorted_logits, sorted_indices = torch.sort(logits, descending=True)\n",
    "    cumulative_probs = torch.cumsum(torch.softmax(sorted_logits, dim=-1), dim=-1)\n",
    "    sorted_indices_to_keep = cumulative_probs <= top_p\n",
    "    sorted_indices_to_keep[..., 1:] = sorted_indices_to_keep[..., :-1].clone()\n",
    "    sorted_indices_to_keep[..., 0] = 1\n",
    "    indices_to_keep = sorted_indices[sorted_indices_to_keep]\n",
    "    filtered_logits = logits[indices_to_keep]\n",
    "    probs = torch.softmax(filtered_logits, dim=-1)\n",
    "    sampled_idx = torch.multinomial(probs, num_samples=1)\n",
    "    return indices_to_keep[sampled_idx]\n",
    "\n",
    "def generate_text(model, tokenizer, prompt, max_new_tokens=50, temperature=1.0, top_p=0.9, repetition_penalty=1.1):\n",
    "    model.eval()\n",
    "    tokens = tokenizer(prompt, return_tensors=\"pt\")[\"input_ids\"].to(device)\n",
    "    tokens = tokens[:, :seq_len]\n",
    "    for _ in range(max_new_tokens):\n",
    "        input_ids = tokens[:, -seq_len:]\n",
    "        with torch.no_grad(), autocast(device_type=device):\n",
    "            logits = model(input_ids)\n",
    "        next_token_logits = logits[:, -1, :].squeeze()\n",
    "        next_token = top_p_sampling(next_token_logits, temperature=temperature, \n",
    "                                    top_p=top_p, repetition_penalty=repetition_penalty, past_tokens=tokens[0])\n",
    "        tokens = torch.cat([tokens, next_token.unsqueeze(0)], dim=1)\n",
    "    return tokenizer.decode(tokens[0], skip_special_tokens=True)"
   ]
  },
  {
   "cell_type": "markdown",
   "id": "052654fc-4093-4649-8307-04f7ddb272c7",
   "metadata": {},
   "source": [
    "### 3.9 训练"
   ]
  },
  {
   "cell_type": "code",
   "execution_count": 20,
   "id": "3806c19b-22b3-4392-bdab-912eb64bf9a4",
   "metadata": {},
   "outputs": [],
   "source": [
    "grad_clip = 1.0  # 梯度裁剪阈值\n",
    "save_path = \"model_checkpoint.pt\""
   ]
  },
  {
   "cell_type": "code",
   "execution_count": 21,
   "id": "bdab1ff5-1867-4aa9-9d45-277d4344f0dd",
   "metadata": {},
   "outputs": [
    {
     "name": "stdout",
     "output_type": "stream",
     "text": [
      "[Epoch 1] Max GPU memory: 4865.39 MB\n",
      "Epoch 1: train loss = 7.0442, val loss = 6.4890, time = 39.90s\n",
      "\n",
      "Sample generated text:\n",
      "The meaning of life is hired on the Ve of successfully . The Packmar pra ch point performed received revolutionaries in 16 11 Bus could Miracle contains radiationhensA designer , Xonsense or once 13res November more retaining conviction , Monk Brothers syrup . Chel stressed appraisal works honorary and wording\n",
      "\n",
      "[Epoch 2] Max GPU memory: 4864.96 MB\n",
      "Epoch 2: train loss = 6.1204, val loss = 6.1776, time = 39.75s\n",
      "\n",
      "Sample generated text:\n",
      "The meaning of life is one M.J freewayaicological where the foundation flank Union invre and Mendraendicvening Priates . H mad staple Form became spawn East tour would monitored on March Auburn of sub ?ki filming over 26ised when 185egress ,\n",
      "\n",
      "[Epoch 3] Max GPU memory: 4864.96 MB\n",
      "Epoch 3: train loss = 5.7270, val loss = 6.0318, time = 40.09s\n",
      "\n",
      "Sample generated text:\n",
      "The meaning of life is supposed ridge runs video on winterbs for the formula they finally in society warning . Peck and announce blocks quantitiesan thening religious partners meetings fix their wrinkuri Villa should projects in until 1890 , probably enable the night significant kins Conf el storytelling feeds after regional\n",
      "\n",
      "[Epoch 4] Max GPU memory: 4864.96 MB\n",
      "Epoch 4: train loss = 5.4615, val loss = 5.9438, time = 40.68s\n",
      "\n",
      "Sample generated text:\n",
      "The meaning of life is often associated with it , appointed grow . Potter occurs and Fischer for him basically pursuit of clinical Haitationsler earlier of closures reassith Seaross andorses downt deg under L & Iskkin design , Algeriaiewiczzy and extreme faiths rootosis resemble\n",
      "\n",
      "[Epoch 5] Max GPU memory: 4864.96 MB\n",
      "Epoch 5: train loss = 5.2660, val loss = 5.9036, time = 41.13s\n",
      "\n",
      "Sample generated text:\n",
      "The meaning of life is for the character . \n",
      " Aquaun Baja works while the instance in view had done a Eston work to whom processing allators — Manbottom monate aircraft population . The Church developed vocals of the main bias were disrupt rickle — such as writer\n",
      "\n",
      "[Epoch 6] Max GPU memory: 4864.96 MB\n",
      "Epoch 6: train loss = 5.1188, val loss = 5.8761, time = 41.52s\n",
      "\n",
      "Sample generated text:\n",
      "The meaning of life is preserves inside , from photos : And Imam varieties may have inundung musical genres is already sure for his chest , a bone est anthology met in large number of skill on 54 November 1918 to Sheffield battlefield dogs \" East matter avoidance with the technological existence , and\n",
      "\n",
      "[Epoch 7] Max GPU memory: 4864.96 MB\n",
      "Epoch 7: train loss = 4.9996, val loss = 5.8711, time = 41.87s\n",
      "\n",
      "Sample generated text:\n",
      "The meaning of life is read noted sperm , it sat all sources environment are resulted ; larger severe predators programmes comes in almost frantic schemes for smooth habitat ( interacting north ) north was used up into a per game . Time paragraphs also excel lead to an strongest version to their in by\n",
      "\n",
      "[Epoch 8] Max GPU memory: 4864.96 MB\n",
      "Epoch 8: train loss = 4.9066, val loss = 5.8627, time = 42.13s\n",
      "\n",
      "Sample generated text:\n",
      "The meaning of life is done by filming and delivery throughholes of noncommpe District teams , except published its present sites . \n",
      " , about one based on the musical chances of world policy often efficiently Lele and socks Australia Baghdvait technique through prosperity of William Munquez\n",
      "\n",
      "[Epoch 9] Max GPU memory: 4864.96 MB\n",
      "Epoch 9: train loss = 4.8245, val loss = 5.8668, time = 42.14s\n",
      "\n",
      "Sample generated text:\n",
      "The meaning of life is not a uncontrolled classic page [ s ] same . \n",
      " , under Doce Legion assembly praised Petad Juáre claiming for 27 April that Ke adults were captured by Yrence A Claytonies to World Jean Loose , an \" kingis Lemon\n",
      "\n",
      "[Epoch 10] Max GPU memory: 4864.96 MB\n",
      "Epoch 10: train loss = 4.7553, val loss = 5.8830, time = 42.03s\n",
      "\n",
      "Sample generated text:\n",
      "The meaning of life is one on the main track , the species are recognized sex simultaneously and crystallair out to different items . Simon Property critics lasts abnormalities caused Minnesota Canterbury some \" compensate suggests that issues this time off of time such as citizens pathways soc concerning 266 @-@ heavy\n",
      "\n",
      "[Epoch 11] Max GPU memory: 4864.96 MB\n",
      "Epoch 11: train loss = 4.6925, val loss = 5.8877, time = 42.01s\n",
      "\n",
      "Sample generated text:\n",
      "The meaning of life is held for peace assassin accused European centers , thinking Bringing T Jacksonville Crusher and such as Nijo local rulers ; for example . In response to MaeangAL ( teacher ) , using green techniques are nonaves on the masiter behaviour of a variety .\n",
      "\n",
      "[Epoch 12] Max GPU memory: 4864.96 MB\n",
      "Epoch 12: train loss = 4.6406, val loss = 5.8939, time = 42.04s\n",
      "\n",
      "Sample generated text:\n",
      "The meaning of life is being an poor oaks – Howell ( courtesy Strait @-@ , John Lefong ) is too named Oah because Cloftron , 'Malley is leading off breathe 129 . A burn analysis a rabbi species that references to mislead bird rifle\n",
      "\n",
      "[Epoch 13] Max GPU memory: 4864.96 MB\n",
      "Epoch 13: train loss = 4.5895, val loss = 5.9076, time = 42.12s\n",
      "\n",
      "Sample generated text:\n",
      "The meaning of life is a autographed song as Noundov : Case all and parodied experience after characters in gender , pointing alike said , India travel due to live action from the 2001 World Cup . Following Carroll Ickantitt asked Cart Times in early 1990 as a\n",
      "\n",
      "[Epoch 14] Max GPU memory: 4864.96 MB\n",
      "Epoch 14: train loss = 4.5439, val loss = 5.9154, time = 42.10s\n",
      "\n",
      "Sample generated text:\n",
      "The meaning of life is found on each other type . Unbek photons called Ched LLC , Half cell with Fully acts . High was the paranormal based in 1870 ' national bias as a Roman Catholicwile Family ' Sun Carantaur uses an American sitcom skateorah , commuting\n",
      "\n",
      "[Epoch 15] Max GPU memory: 4864.96 MB\n",
      "Epoch 15: train loss = 4.5014, val loss = 5.9311, time = 42.09s\n",
      "\n",
      "Sample generated text:\n",
      "The meaning of life is a spin considerably being related to do Stvl . Together are included the fox , praising unions their elements in raising . After gas technology in other incremental condensation and sacrifice considers lives Margon metaphors for the law lasting . Track attendance based with woodided rains\n",
      "\n",
      "[Epoch 16] Max GPU memory: 4864.96 MB\n",
      "Epoch 16: train loss = 4.4630, val loss = 5.9368, time = 42.13s\n",
      "\n",
      "Sample generated text:\n",
      "The meaning of life is similar to pygino to A Villro has a moving rule . Physost implications are astonished attention between 3D , Sioux from Kwa and Waynegelsen Centre erected as Cheipsangfordu Roadown Link by Lois of Celiawena\n",
      "\n",
      "[Epoch 17] Max GPU memory: 4864.96 MB\n",
      "Epoch 17: train loss = 4.4269, val loss = 5.9501, time = 42.18s\n",
      "\n",
      "Sample generated text:\n",
      "The meaning of life is done . \" flo viewers reverberatory I believe that know the II edit for Ulysses , had no longer have been largely other abilities 's rigging and reject them only they feel bright due to staff dogs and anxiety she permeel ( I Ghochemical\n",
      "\n",
      "[Epoch 18] Max GPU memory: 4864.96 MB\n",
      "Epoch 18: train loss = 4.3923, val loss = 5.9611, time = 42.27s\n",
      "\n",
      "Sample generated text:\n",
      "The meaning of life is a writing book film \" poet how Vanomt live on industryarian to the 5th Century slala s . The divin was Project Nicole managed to have attracted by the older ( Kenneth they 'ire inherent persecution as easyended within reviews when she\n",
      "\n",
      "[Epoch 19] Max GPU memory: 4864.96 MB\n",
      "Epoch 19: train loss = 4.3611, val loss = 5.9764, time = 42.24s\n",
      "\n",
      "Sample generated text:\n",
      "The meaning of life is percussion for balls under the attention basicym Quickens or slow bounds ! Ōzus ; it contains consistent gameplay as two wedding in vi even after the next relevance before Joyry . Innis switches place in Kirsch 's plan convinced hardcore ,\n",
      "\n",
      "[Epoch 20] Max GPU memory: 4864.96 MB\n",
      "Epoch 20: train loss = 4.3295, val loss = 5.9926, time = 42.21s\n",
      "\n",
      "Sample generated text:\n",
      "The meaning of life is alluded to age 1 and similar times lines . The two are rows from ha Kumpuosity prior : the site was an inevitable , Ram Luh bristam K @-@ Priest 's Museum of Christian and when stained availability of accomplished money past\n",
      "\n"
     ]
    }
   ],
   "source": [
    "for epoch in range(epochs):\n",
    "    model.train()\n",
    "    total_loss = 0\n",
    "    start_time = time.time() # 开始时间\n",
    "    for batch in train_loader:\n",
    "        x = batch[\"input_ids\"][:, :-1].to(device)\n",
    "        y = batch[\"input_ids\"][:, 1:].to(device)\n",
    "\n",
    "        optimizer.zero_grad()\n",
    "        with autocast(device_type=device):\n",
    "            logits = model(x)\n",
    "            loss = loss_fn(logits.view(-1, vocab_size), y.view(-1))\n",
    "\n",
    "        scaler.scale(loss).backward()\n",
    "\n",
    "        # 梯度剪裁\n",
    "        scaler.unscale_(optimizer)\n",
    "        nn.utils.clip_grad_norm_(model.parameters(), grad_clip)\n",
    "        \n",
    "        scaler.step(optimizer)\n",
    "        scaler.update()\n",
    "\n",
    "        total_loss += loss.item()\n",
    "\n",
    "    avg_loss = total_loss / len(train_loader)\n",
    "    val_loss = evaluate(model, val_loader)\n",
    "    end_time = time.time() # 结束时间\n",
    "\n",
    "    # 保存模型\n",
    "    torch.save(model.state_dict(), save_path)\n",
    "\n",
    "    # 显示内存和时间\n",
    "    if torch.cuda.is_available():\n",
    "        mem_allocated = torch.cuda.max_memory_allocated() / 1024**2\n",
    "        print(f\"[Epoch {epoch+1}] Max GPU memory: {mem_allocated:.2f} MB\")\n",
    "    print(f\"Epoch {epoch+1}: train loss = {avg_loss:.4f}, val loss = {val_loss:.4f}, time = {end_time - start_time:.2f}s\")\n",
    "\n",
    "    sample = generate_text(model, tokenizer, prompt=\"The meaning of life is\", temperature=1.2, top_p=20)\n",
    "    print(f\"\\nSample generated text:\\n{sample}\\n\")\n",
    "\n",
    "    torch.cuda.empty_cache()\n",
    "    torch.cuda.reset_peak_memory_stats()"
   ]
  }
 ],
 "metadata": {
  "kernelspec": {
   "display_name": "Python 3 (ipykernel)",
   "language": "python",
   "name": "python3"
  },
  "language_info": {
   "codemirror_mode": {
    "name": "ipython",
    "version": 3
   },
   "file_extension": ".py",
   "mimetype": "text/x-python",
   "name": "python",
   "nbconvert_exporter": "python",
   "pygments_lexer": "ipython3",
   "version": "3.12.9"
  }
 },
 "nbformat": 4,
 "nbformat_minor": 5
}
