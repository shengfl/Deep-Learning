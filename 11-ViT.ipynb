{
 "cells": [
  {
   "cell_type": "markdown",
   "id": "ec3c5a34-c6c9-4fc2-9c3b-7dc94d644559",
   "metadata": {},
   "source": [
    "## 1. 介绍\n",
    "\n",
    "---"
   ]
  },
  {
   "cell_type": "markdown",
   "id": "3a1d3e81-3b0b-4e1b-a094-4ab9b50dd79e",
   "metadata": {},
   "source": [
    "将Transformer用在视觉领域，效果要比CNN好。\n",
    "\n",
    "[ViT论文](https://arxiv.org/abs/2010.11929)\n",
    "\n",
    "Transformer的输入是 batch_size, seq_len  \n",
    "而图片的输入是 batch_size, channels, width, heights  \n",
    "ViT为了实现序列化的效果，对图片进行了等大小的裁切，比如图片大小3×96×96，裁切成3×16×16的大小，则seq_len = (96/16)^2 = 36  \n",
    "这样图片输入的序列化就搞定了\n",
    "\n",
    "词嵌入，就是将余下的维度拉直，再进行线性映射。\n",
    "\n",
    "输出再接一个MLP"
   ]
  },
  {
   "cell_type": "markdown",
   "id": "d316f89a-29ab-4455-8d18-c22275bcc59c",
   "metadata": {},
   "source": [
    "## 2. 简单实现"
   ]
  },
  {
   "cell_type": "markdown",
   "id": "516497d8-557d-493b-b248-4ad5ee23531b",
   "metadata": {},
   "source": [
    "在CIFAR10上进行实现"
   ]
  },
  {
   "cell_type": "code",
   "execution_count": 53,
   "id": "a73092f7-4a23-4445-8c2a-add5dac39825",
   "metadata": {},
   "outputs": [],
   "source": [
    "import torch\n",
    "import torch.nn as nn\n",
    "from torchvision import datasets, transforms\n",
    "from torch.utils.data import DataLoader\n",
    "from torchinfo import summary\n",
    "from IPython.display import display, clear_output\n",
    "from torch.amp import autocast, GradScaler\n",
    "import matplotlib.pyplot as plt"
   ]
  },
  {
   "cell_type": "code",
   "execution_count": 38,
   "id": "485bb64e-8f8f-4319-a08f-d07e417513b9",
   "metadata": {},
   "outputs": [
    {
     "name": "stdout",
     "output_type": "stream",
     "text": [
      "Files already downloaded and verified\n",
      "Files already downloaded and verified\n"
     ]
    }
   ],
   "source": [
    "transform = transforms.Compose([\n",
    "    transforms.Resize((96, 96)),\n",
    "    transforms.ToTensor(),\n",
    "])\n",
    "\n",
    "train_dataset = datasets.CIFAR10(root='./data', train=True, download=True, transform=transform)\n",
    "test_dataset  = datasets.CIFAR10(root='./data', train=False, download=True, transform=transform)\n",
    "\n",
    "train_loader = DataLoader(train_dataset, batch_size=128, shuffle=True, num_workers=2)\n",
    "test_loader  = DataLoader(test_dataset, batch_size=128, shuffle=False, num_workers=2)"
   ]
  },
  {
   "cell_type": "code",
   "execution_count": 42,
   "id": "cac786ec-33a4-4bcf-919b-92c96e2802eb",
   "metadata": {},
   "outputs": [],
   "source": [
    "class ViT(nn.Module):\n",
    "    def __init__(self, image_size=96, patch_size=16, num_classes=10, dim=256, depth=4, heads=8, mlp_dim=512):\n",
    "        super().__init__()\n",
    "        assert image_size % patch_size == 0, \"Image dimensions must be divisible by the patch size.\"\n",
    "        num_patches = (image_size // patch_size) ** 2\n",
    "        patch_dim = 3 * patch_size * patch_size\n",
    "\n",
    "        self.patch_size = patch_size\n",
    "        self.linear_patch = nn.Linear(patch_dim, dim)\n",
    "        self.pos_embedding = nn.Parameter(torch.randn(1, num_patches + 1, dim))\n",
    "        self.cls_token = nn.Parameter(torch.randn(1, 1, dim))\n",
    "        self.transformer = nn.TransformerEncoder(\n",
    "            nn.TransformerEncoderLayer(d_model=dim, nhead=heads, dim_feedforward=mlp_dim, dropout=0.1, batch_first=True),\n",
    "            num_layers=depth\n",
    "        )\n",
    "        self.mlp_head = nn.Sequential(\n",
    "            nn.LayerNorm(dim),\n",
    "            nn.Linear(dim, num_classes)\n",
    "        )\n",
    "\n",
    "    def forward(self, x):\n",
    "        B, C, H, W = x.shape\n",
    "        p = self.patch_size\n",
    "        x = x.unfold(2, p, p).unfold(3, p, p)  # [B, C, n_patches_h, n_patches_w, p, p]\n",
    "        x = x.contiguous().view(B, C, -1, p, p).permute(0, 2, 1, 3, 4)  # [B, N, C, p, p]\n",
    "        x = x.flatten(2)  # [B, N, patch_dim]\n",
    "        x = self.linear_patch(x)  # [B, N, dim]\n",
    "\n",
    "        cls_tokens = self.cls_token.expand(B, -1, -1)  # [B, 1, dim]\n",
    "        x = torch.cat((cls_tokens, x), dim=1)  # [B, N+1, dim]\n",
    "        x = x + self.pos_embedding[:, :x.size(1)]\n",
    "        x = self.transformer(x)\n",
    "        return self.mlp_head(x[:, 0])  # 用cls token表示图像"
   ]
  },
  {
   "cell_type": "code",
   "execution_count": 43,
   "id": "51b4bed8-7b53-4d65-9bb4-79464c5c57a5",
   "metadata": {},
   "outputs": [],
   "source": [
    "device = torch.device(\"cuda\" if torch.cuda.is_available() else \"cpu\")\n",
    "model = ViT().to(device)\n",
    "criterion = nn.CrossEntropyLoss()\n",
    "optimizer = torch.optim.AdamW(model.parameters(), lr=3e-4)\n",
    "scaler = GradScaler()"
   ]
  },
  {
   "cell_type": "code",
   "execution_count": 44,
   "id": "9a23f7b5-f5f1-4cff-a6bf-bc2f8364211e",
   "metadata": {},
   "outputs": [
    {
     "data": {
      "text/plain": [
       "===============================================================================================\n",
       "Layer (type:depth-idx)                        Output Shape              Param #\n",
       "===============================================================================================\n",
       "ViT                                           [64, 10]                  9,728\n",
       "├─Linear: 1-1                                 [64, 36, 256]             196,864\n",
       "├─TransformerEncoder: 1-2                     [64, 37, 256]             --\n",
       "│    └─ModuleList: 2-1                        --                        --\n",
       "│    │    └─TransformerEncoderLayer: 3-1      [64, 37, 256]             527,104\n",
       "│    │    └─TransformerEncoderLayer: 3-2      [64, 37, 256]             527,104\n",
       "│    │    └─TransformerEncoderLayer: 3-3      [64, 37, 256]             527,104\n",
       "│    │    └─TransformerEncoderLayer: 3-4      [64, 37, 256]             527,104\n",
       "├─Sequential: 1-3                             [64, 10]                  --\n",
       "│    └─LayerNorm: 2-2                         [64, 256]                 512\n",
       "│    └─Linear: 2-3                            [64, 10]                  2,570\n",
       "===============================================================================================\n",
       "Total params: 2,318,090\n",
       "Trainable params: 2,318,090\n",
       "Non-trainable params: 0\n",
       "Total mult-adds (Units.MEGABYTES): 80.36\n",
       "===============================================================================================\n",
       "Input size (MB): 7.08\n",
       "Forward/backward pass size (MB): 101.85\n",
       "Params size (MB): 5.02\n",
       "Estimated Total Size (MB): 113.95\n",
       "==============================================================================================="
      ]
     },
     "execution_count": 44,
     "metadata": {},
     "output_type": "execute_result"
    }
   ],
   "source": [
    "summary(model, input_size=(64, 3, 96, 96))"
   ]
  },
  {
   "cell_type": "code",
   "execution_count": 60,
   "id": "43328998-cc49-47e0-a6ed-004855f98373",
   "metadata": {},
   "outputs": [],
   "source": [
    "# 定义训练函数\n",
    "def train(epoch):\n",
    "    model.train()\n",
    "    train_loss = 0\n",
    "    correct_num = 0\n",
    "    total_num = 0\n",
    "    \n",
    "    # 遍历训练数据\n",
    "    for data, label in train_loader:\n",
    "        # 将数据和标签挪到GPU  \n",
    "        data, label = data.to(device), label.to(device)\n",
    "        \n",
    "        optimizer.zero_grad() # 梯度清理\n",
    "        with autocast(device_type='cuda'):\n",
    "            output = model(data)\n",
    "            loss = criterion(output, label)\n",
    "        # 使用 GradScaler 进行 loss 反向传播\n",
    "        scaler.scale(loss).backward()\n",
    "        scaler.step(optimizer)\n",
    "        scaler.update()\n",
    "        \n",
    "        train_loss += loss.item()  #计算总损失\n",
    "        preds = torch.argmax(output, dim=1)\n",
    "        correct_num += torch.eq(preds, label).sum().item() # 预测正确数量\n",
    "        total_num += label.size(0) # 总预测数量\n",
    "\n",
    "        #手动释放显存\n",
    "        del data, label, output, loss\n",
    "        torch.cuda.empty_cache()\n",
    "\n",
    "    train_loss = train_loss/len(train_loader) # 计算平均训练损失\n",
    "    accuracy = correct_num/total_num # 计算准确率\n",
    "    train_losses.append(train_loss)\n",
    "    train_accuracies.append(accuracy)\n",
    "    print(f'Epoch:{epoch}\\tTraining Loss:{train_loss:.6f}, Accuracy:{accuracy:.6f}') # 输出信息"
   ]
  },
  {
   "cell_type": "code",
   "execution_count": 61,
   "id": "32b1c91b-27f3-4417-a236-3bf143f74ee0",
   "metadata": {},
   "outputs": [],
   "source": [
    "# 定义验证函数并初始化\n",
    "def evaluate(epoch): \n",
    "    model.eval() # 验证模式\n",
    "    evaluate_loss = 0 #累积验证损失\n",
    "    correct_num = 0 \n",
    "    total_num = 0 \n",
    "    \n",
    "    # 禁用梯度\n",
    "    with torch.no_grad():\n",
    "        # 遍历测试数据\n",
    "        for data, label in test_loader: \n",
    "            # 将数据和标签挪到GPU  \n",
    "            data, label = data.to(device), label.to(device)\n",
    "            with torch.amp.autocast(device_type='cuda'):  # 同样使用半精度\n",
    "                output = model(data)\n",
    "                loss = criterion(output, label)\n",
    "\n",
    "            evaluate_loss += loss.item() # 累积总损失\n",
    "            preds = torch.argmax(output, dim=1)\n",
    "            correct_num += torch.eq(preds, label).sum().item() # 预测正确数量\n",
    "            total_num += label.size(0) # 总预测数量\n",
    "    accuracy = correct_num/total_num # 计算准确率\n",
    "    evaluate_loss = evaluate_loss/len(test_loader) # 计算平均验证损失\n",
    "    test_accuracies.append(accuracy)\n",
    "    print(f'Epoch:{epoch}\\tValidation Loss:{evaluate_loss:.6f}, Accuracy:{accuracy:.6f}') #打印输出信息"
   ]
  },
  {
   "cell_type": "code",
   "execution_count": 62,
   "id": "7363a905-d806-49f8-a8c2-61fc6bfabfc0",
   "metadata": {},
   "outputs": [],
   "source": [
    "best_accuracy = 0.0\n",
    "def save_model_if_best(epoch, accuracy):\n",
    "    global best_accuracy\n",
    "    if accuracy > best_accuracy:\n",
    "        best_accuracy = accuracy\n",
    "        torch.save(model.state_dict(), f\"best_vit_epoch{epoch}_acc{accuracy:.4f}.pth\")\n",
    "        print(f\"Saved Best Model at Epoch {epoch} with Accuracy: {accuracy:.4f}\")"
   ]
  },
  {
   "cell_type": "code",
   "execution_count": 63,
   "id": "6cb85235-ff15-45f2-867f-4ab430ee1335",
   "metadata": {},
   "outputs": [],
   "source": [
    "# 初始化数据\n",
    "train_losses = []\n",
    "train_accuracies = []\n",
    "test_accuracies = []\n",
    "\n",
    "# 设置 x 轴范围\n",
    "initial_x_range = 10\n",
    "x_range = initial_x_range  # 初始的 x 轴范围\n",
    "\n",
    "# 画图函数\n",
    "def plot_graph(epoch):\n",
    "    global x_range\n",
    "\n",
    "    # 如果 epoch 数量大于 x 轴范围的上限，就扩展 x 轴范围\n",
    "    if epoch > x_range:\n",
    "        x_range += 10\n",
    "    \n",
    "    clear_output(wait=True)  # 清除上一次的图表\n",
    "    \n",
    "    fig, ax1 = plt.subplots(figsize=(5, 3))\n",
    "\n",
    "    # 绘制训练损失（左 y 轴）\n",
    "    ax1.set_xlabel('Epochs')\n",
    "    ax1.set_ylabel('Train Loss', color='tab:red')\n",
    "    ax1.plot(range(1, len(train_losses) + 1), train_losses, color='tab:red', \n",
    "             label='Train Loss', linewidth=0.8, marker='o', markersize=4, markeredgecolor='black')\n",
    "    ax1.tick_params(axis='y', labelcolor='tab:red')\n",
    "    ax1.set_xlim(0, x_range)\n",
    "\n",
    "    # 创建右侧 y 轴（准确率）\n",
    "    ax2 = ax1.twinx()\n",
    "    ax2.set_ylabel('Accuracy', color='tab:blue')\n",
    "    ax2.plot(range(1, len(train_accuracies) + 1), train_accuracies, color='tab:blue', \n",
    "             label='Train Accuracy', linewidth=0.8, marker='s', markersize=4, markeredgecolor='black')\n",
    "    ax2.plot(range(1, len(test_accuracies) + 1), test_accuracies, color='tab:green', \n",
    "             label='Test Accuracy', linewidth=0.8, marker='^', markersize=4, markeredgecolor='black')\n",
    "    ax2.tick_params(axis='y', labelcolor='tab:blue')\n",
    "\n",
    "    # 获取 ax1 和 ax2 的图例并合并\n",
    "    handles1, labels1 = ax1.get_legend_handles_labels()\n",
    "    handles2, labels2 = ax2.get_legend_handles_labels()\n",
    "    handles = handles1 + handles2\n",
    "    labels = labels1 + labels2\n",
    "\n",
    "    # 添加合并后的图例\n",
    "    legend = ax1.legend(handles, labels, loc='upper left', bbox_to_anchor=(0.65, 0.5), fontsize=8, markerscale=1.2, frameon=False)\n",
    "\n",
    "    # 调整图例位置，避免遮挡折线\n",
    "    ax1.add_artist(legend)\n",
    "\n",
    "    plt.title('Training Loss and Accuracy')\n",
    "    plt.show()"
   ]
  },
  {
   "cell_type": "code",
   "execution_count": 64,
   "id": "4aea82d0-813e-4671-b3a5-e9280f010b14",
   "metadata": {},
   "outputs": [
    {
     "data": {
      "image/png": "[encoded data removed]",
      "text/plain": [
       "<Figure size 500x300 with 2 Axes>"
      ]
     },
     "metadata": {},
     "output_type": "display_data"
    }
   ],
   "source": [
    "scheduler = torch.optim.lr_scheduler.CosineAnnealingLR(optimizer, T_max=epochs)\n",
    "epochs = 60\n",
    "# 训练和评估循环\n",
    "for epoch in range(1, epochs + 1):\n",
    "    train(epoch)\n",
    "    scheduler.step()\n",
    "    evaluate(epoch)\n",
    "    plot_graph(epoch)  # 更新图表"
   ]
  },
  {
   "cell_type": "code",
   "execution_count": null,
   "id": "018dbcc6-dced-4798-a67c-c77baf3c9382",
   "metadata": {},
   "outputs": [],
   "source": []
  }
 ],
 "metadata": {
  "kernelspec": {
   "display_name": "Python 3 (ipykernel)",
   "language": "python",
   "name": "python3"
  },
  "language_info": {
   "codemirror_mode": {
    "name": "ipython",
    "version": 3
   },
   "file_extension": ".py",
   "mimetype": "text/x-python",
   "name": "python",
   "nbconvert_exporter": "python",
   "pygments_lexer": "ipython3",
   "version": "3.12.9"
  }
 },
 "nbformat": 4,
 "nbformat_minor": 5
}
