{
 "cells": [
  {
   "cell_type": "markdown",
   "id": "6a7a44bc-46c1-4478-a7b6-5ab247fe5bd9",
   "metadata": {},
   "source": [
    "## 1. 导入包 import packages\n",
    "---"
   ]
  },
  {
   "cell_type": "code",
   "execution_count": 6,
   "id": "7a4469bf-14b6-42b4-a77e-484364a14632",
   "metadata": {},
   "outputs": [],
   "source": [
    "import os\n",
    "import numpy as np\n",
    "import torch\n",
    "import torch.nn as nn\n",
    "import torch.optim as optim\n",
    "from torch.utils.data import Dataset, DataLoader\n",
    "\n",
    "from torchvision import transforms\n",
    "from torchvision import datasets"
   ]
  },
  {
   "cell_type": "markdown",
   "id": "3b314a57-12ed-4169-8f50-a0f55d31b21d",
   "metadata": {},
   "source": [
    "## 2. 配置环境和超参数\n",
    "---"
   ]
  },
  {
   "cell_type": "code",
   "execution_count": 21,
   "id": "adf10414-c593-43a9-8bf9-a93ef7d82110",
   "metadata": {},
   "outputs": [],
   "source": [
    "image_size = 28\n",
    "num_workers = 0\n",
    "batch_size = 256\n",
    "\n",
    "device = torch.device('cuda' if torch.cuda.is_available() else 'cpu')\n",
    "\n",
    "lr = 1e-4\n",
    "epochs = 20"
   ]
  },
  {
   "cell_type": "markdown",
   "id": "6f3ff61b-90ee-4f4c-b856-1e96cd57299b",
   "metadata": {},
   "source": [
    "## 3. 准备数据\n",
    "---"
   ]
  },
  {
   "cell_type": "code",
   "execution_count": 22,
   "id": "4e178c33-83d2-44d2-9dcc-ed9d997835fc",
   "metadata": {},
   "outputs": [],
   "source": [
    "data_transform = transforms.Compose([\n",
    "    transforms.Resize(image_size),\n",
    "    transforms.ToTensor()\n",
    "])\n",
    "\n",
    "train_data = datasets.FashionMNIST(root='./data', train=True, download=True, transform=data_transform)\n",
    "test_data = datasets.FashionMNIST(root='./data', train=False, download=True, transform=data_transform)\n",
    "\n",
    "train_loader = DataLoader(train_data, batch_size=batch_size, shuffle=True, num_workers=num_workers, drop_last=True)\n",
    "test_loader = DataLoader(test_data, batch_size=batch_size, shuffle=False, num_workers=num_workers)"
   ]
  },
  {
   "cell_type": "code",
   "execution_count": 9,
   "id": "cd0d8bd2-ed09-4f15-b848-fc97771e3674",
   "metadata": {},
   "outputs": [
    {
     "name": "stdout",
     "output_type": "stream",
     "text": [
      "torch.Size([256, 1, 28, 28]) torch.Size([256])\n"
     ]
    },
    {
     "data": {
      "text/plain": [
       "<matplotlib.image.AxesImage at 0x2aaec627440>"
      ]
     },
     "execution_count": 9,
     "metadata": {},
     "output_type": "execute_result"
    },
    {
     "data": {
      "image/png": "[encoded data removed]",
      "text/plain": [
       "<Figure size 640x480 with 1 Axes>"
      ]
     },
     "metadata": {},
     "output_type": "display_data"
    }
   ],
   "source": [
    "import matplotlib.pyplot as plt\n",
    "image, label = next(iter(train_loader))\n",
    "print(image.shape, label.shape)\n",
    "plt.imshow(image[0][0], cmap='viridis')"
   ]
  },
  {
   "cell_type": "markdown",
   "id": "5102d276-7fa5-4cd6-80bc-358707f65aed",
   "metadata": {},
   "source": [
    "## 4. 定义网络\n",
    "---"
   ]
  },
  {
   "cell_type": "code",
   "execution_count": 10,
   "id": "ef71e1a1-a2a5-49ec-9304-81124ffb8f01",
   "metadata": {},
   "outputs": [],
   "source": [
    "class FMNet(nn.Module):\n",
    "    def __init__(self):\n",
    "        super(FMNet, self).__init__()\n",
    "        self.conv = nn.Sequential(\n",
    "            nn.Conv2d(1, 32, 5),\n",
    "            nn.ReLU(),\n",
    "            nn.MaxPool2d(2, stride=2),\n",
    "            nn.Dropout(0.3),\n",
    "            nn.Conv2d(32, 64, 5),\n",
    "            nn.ReLU(),\n",
    "            nn.MaxPool2d(2, stride=2),\n",
    "            nn.Dropout(0.3)\n",
    "        )\n",
    "        self.fc = nn.Sequential(\n",
    "            nn.Linear(64*4*4, 512),\n",
    "            nn.ReLU(),\n",
    "            nn.Linear(512, 10)\n",
    "        )\n",
    "\n",
    "    def forward(self, x):\n",
    "        x = self.conv(x)\n",
    "        x = x.view(-1, 64*4*4)\n",
    "        x = self.fc(x)\n",
    "        return x\n",
    "\n",
    "model = FMNet()\n",
    "model = model.cuda()"
   ]
  },
  {
   "cell_type": "markdown",
   "id": "288f4406-3e9f-4552-8788-ce640ed2e534",
   "metadata": {},
   "source": [
    "## 5. 选择损失函数"
   ]
  },
  {
   "cell_type": "code",
   "execution_count": 24,
   "id": "868d4fbf-c326-4ea3-b4f4-c38386444501",
   "metadata": {},
   "outputs": [],
   "source": [
    "criterion = nn.CrossEntropyLoss(reduction='sum')"
   ]
  },
  {
   "cell_type": "markdown",
   "id": "ceb63e82-41cf-4b86-9014-6380c7878bbe",
   "metadata": {},
   "source": [
    "## 6. 选择优化器"
   ]
  },
  {
   "cell_type": "code",
   "execution_count": 25,
   "id": "3792cda7-33f1-434c-8745-f38a8ea983e4",
   "metadata": {},
   "outputs": [],
   "source": [
    "optimizer = optim.Adam(model.parameters(), lr=0.001)"
   ]
  },
  {
   "cell_type": "markdown",
   "id": "638c2835-6628-4142-99f2-9ada316bef16",
   "metadata": {},
   "source": [
    "## 7. 训练和验证模型"
   ]
  },
  {
   "cell_type": "code",
   "execution_count": 26,
   "id": "6ff0da43-d4ec-4c56-aa43-b2705af50bb1",
   "metadata": {},
   "outputs": [],
   "source": [
    "# 定义训练函数\n",
    "def train(epoch):\n",
    "    model.train()\n",
    "    train_loss = 0\n",
    "    correct_num = 0\n",
    "    total_num = 0\n",
    "    \n",
    "    # 遍历训练数据\n",
    "    for data, label in train_loader:\n",
    "        data, label = data.cuda(), label.cuda() # 将数据和标签挪到GPU\n",
    "        optimizer.zero_grad() # 梯度清理\n",
    "        output = model(data) # 前向传播\n",
    "        loss = criterion(output, label) # 计算损失，也就是预测结果和真实标签的误差\n",
    "        loss.backward() # 反向传播，计算梯度\n",
    "        optimizer.step() # 更新一步参数\n",
    "        \n",
    "        train_loss += loss.item() #计算损失\n",
    "        preds = torch.argmax(output, dim=1)\n",
    "        correct_num += torch.eq(preds, label).sum().item() # 预测正确数量\n",
    "        total_num += data.size(0) # 总预测数量\n",
    "    train_loss = train_loss/len(train_loader.dataset) # 计算平均训练损失\n",
    "    accuracy = correct_num/total_num # 计算准确率\n",
    "    print(f'Epoch:{epoch}\\tTraining Loss:{train_loss:.6f}, Accuracy:{accuracy:.6f}') # 输出信息"
   ]
  },
  {
   "cell_type": "code",
   "execution_count": 27,
   "id": "1d250675-bd2a-491c-b265-4c88e7fec191",
   "metadata": {},
   "outputs": [],
   "source": [
    "# 定义验证函数并初始化\n",
    "def evaluate(epoch): \n",
    "    model.eval() # 验证模式\n",
    "    evaluate_loss = 0 #累积验证损失\n",
    "    correct_num = 0 \n",
    "    total_num = 0 \n",
    "    \n",
    "    # 禁用梯度\n",
    "    with torch.no_grad():\n",
    "        # 遍历测试数据\n",
    "        for data, label in test_loader: \n",
    "            data, label = data.cuda(), label.cuda() #数据迁移到GPU\n",
    "            output = model(data) # 前向传播\n",
    "            loss = criterion(output, label) # 计算当前批次损失\n",
    "            \n",
    "            evaluate_loss += loss.item() # 累积总损失\n",
    "            preds = torch.argmax(output, dim=1) # 取得每行最大值的索引，获取预测结果。\n",
    "            correct_num += torch.eq(preds, label).sum().item() # 预测正确数量\n",
    "            total_num += data.size(0) # 总预测数量\n",
    "    evaluate_loss = evaluate_loss/total_num # 计算平均验证损失\n",
    "    accuracy = correct_num/total_num # 计算准确率\n",
    "    print(f'Epoch:{epoch}\\tValidation Loss:{evaluate_loss:.6f}, Accuracy:{accuracy:.6f}') #打印输出信息"
   ]
  },
  {
   "cell_type": "code",
   "execution_count": 28,
   "id": "cc2b202b-8cae-4895-a7b4-bda09e738cc8",
   "metadata": {},
   "outputs": [
    {
     "name": "stdout",
     "output_type": "stream",
     "text": [
      "Epoch:1\tTraining Loss:0.178590, Accuracy:0.932626\n",
      "Epoch:1\tValidation Loss:0.233968, Accuracy:0.916600\n"
     ]
    }
   ],
   "source": [
    "for epoch in range(1, 2):\n",
    "    train(epoch)\n",
    "    evaluate(epoch)"
   ]
  },
  {
   "cell_type": "markdown",
   "id": "a932f094-91c1-4112-aff5-8c0558d82cfb",
   "metadata": {},
   "source": [
    "## 8. 保存模型"
   ]
  },
  {
   "cell_type": "code",
   "execution_count": 23,
   "id": "36825aff-31a0-49eb-bbba-1c356745d36c",
   "metadata": {},
   "outputs": [],
   "source": [
    "model_path = './model_pkl/FashionModel.pkl'\n",
    "torch.save(model, model_path)\n",
    "torch.save(model.state_dict, model_path)"
   ]
  }
 ],
 "metadata": {
  "kernelspec": {
   "display_name": "Python 3 (ipykernel)",
   "language": "python",
   "name": "python3"
  },
  "language_info": {
   "codemirror_mode": {
    "name": "ipython",
    "version": 3
   },
   "file_extension": ".py",
   "mimetype": "text/x-python",
   "name": "python",
   "nbconvert_exporter": "python",
   "pygments_lexer": "ipython3",
   "version": "3.12.9"
  }
 },
 "nbformat": 4,
 "nbformat_minor": 5
}
