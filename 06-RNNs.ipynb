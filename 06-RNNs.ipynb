{
 "cells": [
  {
   "cell_type": "markdown",
   "id": "fa467b57-a9f7-41e0-a4a4-71f158a58a75",
   "metadata": {},
   "source": [
    "## 1. 循环神经网络 Recurrent Neural Networks\n",
    "---"
   ]
  },
  {
   "cell_type": "markdown",
   "id": "bedbe633-3296-4ae7-8c31-b9d021fb07ac",
   "metadata": {},
   "source": [
    "循环神经网络是一个序列模型。\n",
    "\n",
    "序列模型，顾名思义，模型是一个序列，即$x_1, x_2, \\cdots, x_{t-1}, x_t$\n",
    "\n",
    "模型的目标是在给定$x_1, x_2, \\cdots, x_{t-1}$的情况下预测$x_t$"
   ]
  },
  {
   "cell_type": "markdown",
   "id": "b6b035eb-9f4c-4f79-bc87-8402e588a67f",
   "metadata": {},
   "source": [
    "### 1.1 一个经典的时序模型"
   ]
  },
  {
   "cell_type": "markdown",
   "id": "5ef89f6f-9561-4c48-864b-1d20a3ed0f31",
   "metadata": {},
   "source": [
    "在时间序列分析中，ARIMA(Autoregressive Integrated Moving Average)是一种常见的分析方法，也是一个预测模型。\n",
    "\n",
    "**ARIMA假设1（截断）**：$t$时刻的序列状态$x_t$只和之前的$p$个时刻有关，即进行了截断。这是有道理的，一般情况下，我们可以认为过去发生的事情，离我们越近的关系越大，越远的就关系越小，超过一定时间范围，就可以认为没有关系了。这个思想和核密度估计是一样的，只是那里不是时间，而是位置，而且是双侧。\n",
    "\n",
    "**ARIMA假设2（状态线性相关）**：$t$时刻的序列状态和之前的$p$个时刻状态线性相关。\n",
    "\n",
    "于是，$x_t$可以表示为：$$x_t =C + \\sum_{i=1}^{p}\\phi_{i}x_{t-i}+\\varepsilon_t $$ \n",
    "- $x_t$：$t$时刻序列的状态\n",
    "- $C$：常数项\n",
    "- $\\phi_i$：自回归系数\n",
    "- $\\varepsilon_t$：白噪声，均值为0，方差恒定\n",
    "\n",
    "这构成了ARIMA的AR(p)部分"
   ]
  },
  {
   "cell_type": "markdown",
   "id": "0c5cb32c-9c80-44df-8557-2e069baae9a3",
   "metadata": {},
   "source": [
    "**ARIMA假设3（残差线性相关）**：$t$时刻的残差和之前的q个时刻的残差线性相关。\n",
    "于是，$x_t$可以表示为：\n",
    "$$x_t=\\mu+\\sum_{i=1}^q\\theta_i\\varepsilon_{t-i}+\\varepsilon_t$$\n",
    "- $x_t$：$t$时刻序列的状态\n",
    "- $\\mu$：序列均值\n",
    "- $\\theta_i$：移动平均系数\n",
    "- $\\varepsilon_{t-i}$：历史时刻的误差项\n",
    "\n",
    "这构成了ARIMA的MA(q)部分"
   ]
  },
  {
   "cell_type": "markdown",
   "id": "e0c32996-3075-4b5d-bab3-44a8fcc0bca7",
   "metadata": {},
   "source": [
    "**ARIMA假设4（差分平稳）**：在经过d阶差分后，序列满足平稳性，即均值、方差不随时间变化。\n",
    "\n",
    "时间序列分析中，靠量的因素有四部分：趋势性、季节性、周期性和噪声。差分用于消除趋势、季节性等非平稳因素的影响。\n",
    "\n",
    "差分的另一个视角可以看作是导数，d阶差分平稳可以看作是一个d阶的多项式。1阶差分平稳表示一个等差数列，即线性相关；二阶差分平稳表示一个二次多项式，即二次平稳，以此类推。\n",
    "\n",
    "令 $Lx_t=x_{t-1}$，其中L为滞后(Lag)算子。于是，d阶差分可以表示为：\n",
    "$$ \\Delta^dx_t=(1-L)^dx_t$$"
   ]
  },
  {
   "cell_type": "markdown",
   "id": "199457e9-4a19-41a5-ae74-2ee1a307ff9d",
   "metadata": {},
   "source": [
    "将三个部分整合，得到经典的ARMA(p, d, q)模型：\n",
    "$$(1-\\sum_{i=1}^p\\phi_iL^i)(1-L)^dx_t=(1+\\sum_{i=1}^q\\theta_iL^i)\\varepsilon_t $$"
   ]
  },
  {
   "cell_type": "markdown",
   "id": "7513cc54-7fc5-495d-96c7-b0523a959b80",
   "metadata": {},
   "source": [
    "下面是一些常见的情况：\n",
    "\n",
    "ARIMA(1,0,0) ，表示一阶自回归模型(first-order autoregressive model)，和AR(1)相同。即：$x_t=\\phi_1x_{t-1}+\\varepsilon_t$\n",
    "\n",
    "ARIMA(0,1,0) ，表示随机游走(random walk) 。即：$x_t=x_{t-1}+\\varepsilon_t$\n",
    "\n",
    "ARIMA(1,1,0) ，表示差分一阶自回归模型(differenced first-order autoregressive model)。即：$\\Delta x_t=\\phi_1\\Delta x_{t-1}+\\epsilon_t$\n",
    "\n",
    "ARIMA(0,1,1) 不带常数项，表示简单指数平滑(simple exponential smoothing models)。 即：$\\Delta x_t=\\varepsilon_t -\\theta_1\\varepsilon_{t-1}$\n",
    "\n",
    "ARIMA(0,1,1) 带常数项，表示带增长的简单指数平滑(simple exponential smoothing models with growth)。即：$\\Delta x_t=c + \\varepsilon_t -\\theta_1\\varepsilon_{t-1}$\n",
    "\n",
    "p, d, q作为未知的超参数根据一定的准则进行搜索。"
   ]
  },
  {
   "cell_type": "markdown",
   "id": "5043d8a3-8a4d-4f1b-b82a-c38a5b1fa44f",
   "metadata": {},
   "source": [
    "### 1.2 隐藏状态"
   ]
  },
  {
   "cell_type": "markdown",
   "id": "52247426-a65a-4a14-8044-31dcf526bffa",
   "metadata": {},
   "source": [
    "从上面经典的时序模型可以看出，该模型是递归性质的。\n",
    "\n",
    "用隐藏状态来总结以前的信息，使得某时刻的状态之取决于前一时刻隐藏状态。\n",
    "\n",
    "用概率的方式可以表示为：$x_t \\sim P(x_t|h_{t-1})$"
   ]
  },
  {
   "cell_type": "code",
   "execution_count": 2,
   "id": "9c9cbcb6-bba8-4f75-9db3-6ede25a0e14a",
   "metadata": {},
   "outputs": [
    {
     "data": {
      "text/html": [
       "<img src=\"https://zh.d2l.ai/_images/rnn.svg\" width=\"600\"/>"
      ],
      "text/plain": [
       "<IPython.core.display.Image object>"
      ]
     },
     "metadata": {},
     "output_type": "display_data"
    }
   ],
   "source": [
    "from IPython.display import Image, display\n",
    "url = 'https://zh.d2l.ai/_images/rnn.svg'\n",
    "display(Image(url=url, width=600))"
   ]
  },
  {
   "cell_type": "markdown",
   "id": "fdfc7348-cd8d-420c-a5e6-254a6fc56378",
   "metadata": {},
   "source": [
    "这便是循环神经网络。\n",
    "\n",
    "当然也可以从概率图模型的视角来看，循环神经网络就是一个规整的贝叶斯网，如果只有一个隐藏层，就是隐马尔科夫模型。"
   ]
  },
  {
   "cell_type": "markdown",
   "id": "71349dcd-223f-42a1-a3f2-ce603db4f544",
   "metadata": {},
   "source": [
    "### 1.3 数学表达式"
   ]
  },
  {
   "cell_type": "markdown",
   "id": "2d8f36c0-a264-4ff4-b87b-bfacff034e33",
   "metadata": {},
   "source": [
    "$t$时刻的隐藏输出：$H_t = \\phi(W_{hh}H_{t-1}+W_{xh}X_t+b)$\n",
    "\n",
    "$t$时刻的预测输出：$\\hat X_t = \\phi(W_{hx}H_{t}+b)$\n",
    "\n",
    "用分块矩阵乘法重新表示下$H_t$：$H_t = \\phi(\\left[\\begin{array}{c|r}W_{hh} & W_{xh}\\end{array}\\right] \\left[\\begin{array}{cc|r}H_{t-1}\\\\X_t\\end{array}\\right]+b)$"
   ]
  },
  {
   "cell_type": "markdown",
   "id": "35e0a8b0-dfa2-45d8-afb3-261ba445510a",
   "metadata": {},
   "source": [
    "用$\\hat X_t$和$X_t$之间的交叉熵作为损失函数\n",
    "\n",
    "假设序列总长度为n，则成本函数为n个输入的平均交叉熵损失\n",
    "\n",
    "历史原因，自然语言处理的科学家更喜欢使用一个叫做困惑度（perplexity）的量，是指数化的成本函数"
   ]
  },
  {
   "cell_type": "markdown",
   "id": "82ea434e-48be-4b48-978d-6a3270f6cd33",
   "metadata": {},
   "source": [
    "## 2 词编码"
   ]
  },
  {
   "cell_type": "markdown",
   "id": "63a7ba3f-0d12-4cef-bff5-4593c5004b88",
   "metadata": {},
   "source": [
    "词编码的方式有很多：\n",
    "\n",
    "**传统统计方法**：one-hot编码；词袋模型（Bag of Words, BoW）；TF-IDF（词频-逆文档频率）\n",
    "\n",
    "**词嵌入**：Word2Vec；GloVe（Global Vectors）；FastText\n",
    "\n",
    "**子词编码（Subword Tokenization）**：Byte Pair Encoding (BPE)；WordPiece；SentencePiece\n",
    "\n",
    "---"
   ]
  },
  {
   "cell_type": "markdown",
   "id": "e54f5e7b-836d-45dd-a0b9-e4c45361c7de",
   "metadata": {},
   "source": [
    "**one-hot编码**：向量的长度等于词汇表大小。根据词汇表大小，每个词给一个稀疏的二进制向量，明确区分不同词（所有向量互相正交）。特点是高维稀疏。\n",
    "\n",
    "**词袋模型**：向量的长度等于词汇表大小。把一段文本看作一个“装词汇的袋子”，忽略词的位置和顺序，只统计每个词出现的次数。同义词会被视为完全不同的特征。可以用N-gram来改进。\n",
    "\n",
    "**TF-IDF（词频-逆文档频率）**：向量的长度等于词汇表大小。稠密浮点数向量，每个元素是词的TF-IDF权重。实际向量是高度稀疏的（大部分词权重为0）\n",
    "\n",
    "第一步：计算词频（TF, Term Frequency）\n",
    "\n",
    "$$TF(t, d) = \\frac{词t在文档d中出现的次数}{文档d的总词数}$$\n",
    "\n",
    "第二步：计算逆文档频率（IDF, Inverse Document Frequency）\n",
    "\n",
    "$$IDF(t) = log(\\frac{总文档数N}{包含词t的文档数})$$\n",
    "\n",
    "第三步：计算TF-IDF权重\n",
    "\n",
    "$$TF-IDF(t,d)=TF(t,d)×IDF(t)$$\n",
    "\n",
    "简单有效，能自动突出关键词（如专业术语、稀有词）\n",
    "\n",
    "对超短文本（如推文）效果较差（词频统计不可靠）\n",
    "\n",
    "---"
   ]
  },
  {
   "cell_type": "markdown",
   "id": "b73c21d9-bb9e-42d7-a178-c72a5134b456",
   "metadata": {},
   "source": [
    "**Word2Vec**：先制定词的维数，比如300，再通过网络进行训练。gensim库可实现。有Skip-gram（跳字模型）和CBOW（连续词袋模型）两种模式。核心思想是：“相似的词出现在相似的上下文中”。\n",
    "\n",
    "**GloVe**：核心思想是：一个词的语义可以通过它在整个语料库中与其他词的共现（共同出现）模式来捕捉。\n",
    "\n",
    "**FastText**：核心思想是：词的语义由其组成部分决定。词=“apple”，n=3 → 子词：\\[\"<ap\", \"app\", \"ppl\", \"ple\", \"le>\"]\n",
    "\n",
    "---"
   ]
  },
  {
   "cell_type": "markdown",
   "id": "48270839-983c-4f6a-aa7f-b53bf799caa5",
   "metadata": {},
   "source": [
    "**Byte Pair Encoding (BPE)**：通过合并高频字符对，逐步将词拆分为更小的子词单元。BPE本身不生成词向量，需结合其他模型（如Word2Vec、BERT）\n",
    "BBPE则是直接采用了字节级别的类似算法（Byte，8位二进制数据）。\n",
    "\n",
    "**WordPiece**：合并对语言模型（如预测下一个词）帮助最大的字符对，而不是看频率。WordPiece本身不生成词向量，需结合上下文模型（如BERT）\n",
    "\n",
    "**SentencePiece**：从所有可能的字符和常见子词组合中随机生成一个较大的候选词汇表。通过期望最大化（EM）算法，逐步淘汰低概率子词，最终保留目标大小的词汇表。将文本直接视为一串字符，无需预分词，尤其适合中文、日文等无空格语言\n"
   ]
  },
  {
   "cell_type": "markdown",
   "id": "6f915515-5850-43ec-89c0-883783b6d13c",
   "metadata": {},
   "source": [
    "## 3. 文本分类\n",
    "\n",
    "基于以 imdb 数据集，实现了一个基本的 RNN 文本分类任务"
   ]
  },
  {
   "cell_type": "markdown",
   "id": "9f26e761-0439-4ca4-952d-b9849b9a506e",
   "metadata": {},
   "source": [
    "### 3.1 导入必要的包"
   ]
  },
  {
   "cell_type": "code",
   "execution_count": 1,
   "id": "4d00a50f-aa0c-4fed-94a1-ce80233ca50f",
   "metadata": {},
   "outputs": [],
   "source": [
    "import torch\n",
    "from datasets import load_dataset\n",
    "from torch.utils.data import DataLoader\n",
    "from transformers import BertTokenizer\n",
    "import torch.nn as nn\n",
    "import torch.optim as optim\n",
    "from IPython.display import display, clear_output"
   ]
  },
  {
   "cell_type": "markdown",
   "id": "5fe6ebfd-b208-4735-ac06-f816ad2d2587",
   "metadata": {},
   "source": [
    "### 3.2 设定超参数"
   ]
  },
  {
   "cell_type": "code",
   "execution_count": 2,
   "id": "f3931aab-7ab2-425e-8f37-9578c9889b04",
   "metadata": {},
   "outputs": [],
   "source": [
    "device = torch.device(\"cuda\" if torch.cuda.is_available() else \"cpu\")\n",
    "lr = 1e-3 #学习率\n",
    "batch_size = 16 # 批次大小\n",
    "epochs = 20 # 训练轮次"
   ]
  },
  {
   "cell_type": "markdown",
   "id": "0feb6d51-8eb3-4551-b823-088828a5e05c",
   "metadata": {},
   "source": [
    "### 3.3 处理数据"
   ]
  },
  {
   "cell_type": "code",
   "execution_count": 3,
   "id": "b0c3cabf-5093-42e1-b081-b806edcaf009",
   "metadata": {},
   "outputs": [
    {
     "name": "stdout",
     "output_type": "stream",
     "text": [
      "DatasetDict({\n",
      "    train: Dataset({\n",
      "        features: ['text', 'label'],\n",
      "        num_rows: 25000\n",
      "    })\n",
      "    test: Dataset({\n",
      "        features: ['text', 'label'],\n",
      "        num_rows: 25000\n",
      "    })\n",
      "    unsupervised: Dataset({\n",
      "        features: ['text', 'label'],\n",
      "        num_rows: 50000\n",
      "    })\n",
      "})\n",
      "['text', 'label']\n",
      "{'text': Value(dtype='string', id=None), 'label': ClassLabel(names=['neg', 'pos'], id=None)}\n"
     ]
    }
   ],
   "source": [
    "# 加载IMDB数据集\n",
    "dataset = load_dataset(\"imdb\", cache_dir='./data')\n",
    "\n",
    "# 打印数据集的结构\n",
    "print(dataset)\n",
    "# 查看数据集的字段名称\n",
    "print(dataset['train'].column_names)\n",
    "# 查看数据集的特征类型\n",
    "print(dataset['train'].features)"
   ]
  },
  {
   "cell_type": "code",
   "execution_count": 4,
   "id": "c71ca508-6780-4a35-b35a-6d9f08e10531",
   "metadata": {},
   "outputs": [
    {
     "data": {
      "text/plain": [
       "723"
      ]
     },
     "execution_count": 4,
     "metadata": {},
     "output_type": "execute_result"
    }
   ],
   "source": [
    "len(dataset['train'][11]['text'])"
   ]
  },
  {
   "cell_type": "code",
   "execution_count": 5,
   "id": "20a3e642-f38a-41c5-b7f9-b2ce748dc39b",
   "metadata": {},
   "outputs": [
    {
     "name": "stdout",
     "output_type": "stream",
     "text": [
      "['__class__', '__class_getitem__', '__contains__', '__delattr__', '__delitem__', '__dict__', '__dir__', '__doc__', '__enter__', '__eq__', '__exit__', '__format__', '__ge__', '__getattribute__', '__getitem__', '__getstate__', '__gt__', '__hash__', '__init__', '__init_subclass__', '__ior__', '__iter__', '__le__', '__len__', '__lt__', '__module__', '__ne__', '__new__', '__or__', '__reduce__', '__reduce_ex__', '__repr__', '__reversed__', '__ror__', '__setattr__', '__setitem__', '__sizeof__', '__str__', '__subclasshook__', '__weakref__', '_check_values_features', '_check_values_type', 'align_labels_with_mapping', 'cache_files', 'cast', 'cast_column', 'class_encode_column', 'cleanup_cache_files', 'clear', 'column_names', 'copy', 'data', 'filter', 'flatten', 'flatten_indices', 'formatted_as', 'from_csv', 'from_json', 'from_parquet', 'from_text', 'fromkeys', 'get', 'items', 'keys', 'load_from_disk', 'map', 'num_columns', 'num_rows', 'pop', 'popitem', 'push_to_hub', 'remove_columns', 'rename_column', 'rename_columns', 'reset_format', 'save_to_disk', 'select_columns', 'set_format', 'set_transform', 'setdefault', 'shape', 'shuffle', 'sort', 'unique', 'update', 'values', 'with_format', 'with_transform']\n"
     ]
    }
   ],
   "source": [
    "print(dir(dataset))"
   ]
  },
  {
   "cell_type": "code",
   "execution_count": 6,
   "id": "c2c01315-8497-4509-bd2a-5c4eb3d58754",
   "metadata": {},
   "outputs": [
    {
     "data": {
      "image/png": "[encoded data removed]",
      "text/plain": [
       "<Figure size 640x480 with 1 Axes>"
      ]
     },
     "metadata": {},
     "output_type": "display_data"
    }
   ],
   "source": [
    "import matplotlib.pyplot as plt\n",
    "\n",
    "# 获取训练集中的文本\n",
    "texts = dataset['train']['text'] \n",
    "lengths = [len(text.split()) for text in texts]  # 计算每条文本的单词数量\n",
    "\n",
    "# 绘制文本长度的分布\n",
    "plt.hist(lengths, bins=50, color='blue', alpha=0.7, edgecolor='white')\n",
    "plt.xlabel('Number of Words')\n",
    "plt.ylabel('Frequency')\n",
    "plt.title('Distribution of Text Lengths in IMDB Dataset')\n",
    "plt.show()"
   ]
  },
  {
   "cell_type": "code",
   "execution_count": 7,
   "id": "bc80c099-95de-4295-b841-1f6f7ccaa89e",
   "metadata": {},
   "outputs": [
    {
     "data": {
      "text/plain": [
       "transformers.models.bert.tokenization_bert.BertTokenizer"
      ]
     },
     "execution_count": 7,
     "metadata": {},
     "output_type": "execute_result"
    }
   ],
   "source": [
    "# 分词器\n",
    "tokenizer = BertTokenizer.from_pretrained(\"bert-base-uncased\", cache_dir='./cache') # BERT Tokenizer 使用的是 WordPiece 算法\n",
    "type(tokenizer)"
   ]
  },
  {
   "cell_type": "code",
   "execution_count": 8,
   "id": "5bddc36e-6928-46e3-9be0-c1586c13251f",
   "metadata": {},
   "outputs": [
    {
     "name": "stdout",
     "output_type": "stream",
     "text": [
      "Tokens: 75 ['the', 'hub', 'has', 'support', 'for', 'dozens', 'of', 'libraries', 'in', 'the', 'open', 'source', 'ecosystem', '.', 'thanks', 'to', 'the', 'hugging', '##face', '_', 'hub', 'python', 'library', ',', 'it', '’', 's', 'easy', 'to', 'enable', 'sharing', 'your', 'models', 'on', 'the', 'hub', '.', 'the', 'hub', 'supports', 'many', 'libraries', ',', 'and', 'we', '’', 're', 'working', 'on', 'expanding', 'this', 'support', '.', 'we', '’', 're', 'happy', 'to', 'welcome', 'to', 'the', 'hub', 'a', 'set', 'of', 'open', 'source', 'libraries', 'that', 'are', 'pushing', 'machine', 'learning', 'forward', '.']\n"
     ]
    }
   ],
   "source": [
    "# 示例\n",
    "text = \"The Hub has support for dozens of libraries in the Open Source ecosystem. \\\n",
    "Thanks to the huggingface_hub Python library, it’s easy to enable sharing your models on the Hub. \\\n",
    "The Hub supports many libraries, and we’re working on expanding this support. \\\n",
    "We’re happy to welcome to the Hub a set of Open Source libraries that are pushing Machine Learning forward.\"\n",
    "\n",
    "# 分词\n",
    "tokens = tokenizer.tokenize(text)\n",
    "print(\"Tokens:\", len(tokens), tokens)"
   ]
  },
  {
   "cell_type": "code",
   "execution_count": 9,
   "id": "0753a689-cd16-4972-b406-b4ee51ae1234",
   "metadata": {},
   "outputs": [
    {
     "name": "stdout",
     "output_type": "stream",
     "text": [
      "{'input_ids': tensor([[  101,  1996,  9594,  2038,  2490,  2005,  9877,  1997,  8860,  1999,\n",
      "          1996,  2330,  3120, 16927,  1012,  4283,  2000,  1996, 17662,   102]]), 'token_type_ids': tensor([[0, 0, 0, 0, 0, 0, 0, 0, 0, 0, 0, 0, 0, 0, 0, 0, 0, 0, 0, 0]]), 'attention_mask': tensor([[1, 1, 1, 1, 1, 1, 1, 1, 1, 1, 1, 1, 1, 1, 1, 1, 1, 1, 1, 1]])}\n"
     ]
    }
   ],
   "source": [
    "def preprocess_function(dataset):\n",
    "    return tokenizer(dataset['text'], padding='max_length', truncation=True, max_length=300)\n",
    "\n",
    "encoding = tokenizer(text, padding=True, truncation=True, max_length=20, return_tensors=\"pt\")\n",
    "print(encoding)"
   ]
  },
  {
   "cell_type": "code",
   "execution_count": 10,
   "id": "d3b5bfb2-03d2-4288-a40e-16bc5ce94b35",
   "metadata": {},
   "outputs": [],
   "source": [
    "# 应用预处理\n",
    "train_dataset = dataset['train'].map(preprocess_function, batched=True)\n",
    "test_dataset = dataset['test'].map(preprocess_function, batched=True)\n",
    "\n",
    "# 转换为 torch.Tensor\n",
    "def format_dataset(dataset):\n",
    "    dataset.set_format(type='torch', columns=['input_ids', 'attention_mask', 'label'])\n",
    "    return dataset\n",
    "\n",
    "# 应用格式化\n",
    "train_dataset = format_dataset(train_dataset)\n",
    "test_dataset = format_dataset(test_dataset)\n",
    "\n",
    "# 定义 collate_fn\n",
    "def collate_fn(batch):\n",
    "    input_ids = torch.stack([item['input_ids'] for item in batch])\n",
    "    attention_mask = torch.stack([item['attention_mask'] for item in batch])\n",
    "    labels = torch.tensor([item['label'] for item in batch])\n",
    "    \n",
    "    return {\n",
    "        'input_ids': input_ids,\n",
    "        'attention_mask': attention_mask,\n",
    "        'label': labels\n",
    "    }\n",
    "\n",
    "# 创建 DataLoader\n",
    "train_dataloader = DataLoader(train_dataset, batch_size=batch_size, shuffle=True, collate_fn=collate_fn)\n",
    "test_dataloader = DataLoader(test_dataset, batch_size=batch_size, collate_fn=collate_fn)"
   ]
  },
  {
   "cell_type": "code",
   "execution_count": 11,
   "id": "da8b0fb4-691c-47ef-8ac5-219f87f5d4df",
   "metadata": {},
   "outputs": [
    {
     "name": "stdout",
     "output_type": "stream",
     "text": [
      "{'input_ids': tensor([[  101,  4283,  2000,  ...,     0,     0,     0],\n",
      "        [  101,  2028, 12027,  ...,  1996,  3382,   102],\n",
      "        [  101,  8130,  2039,  ...,     0,     0,     0],\n",
      "        ...,\n",
      "        [  101,  1000,  2027,  ...,     0,     0,     0],\n",
      "        [  101,  2348,  1045,  ...,  8645,  5691,   102],\n",
      "        [  101, 14414,  2003,  ...,  2006, 14414,   102]]), 'attention_mask': tensor([[1, 1, 1,  ..., 0, 0, 0],\n",
      "        [1, 1, 1,  ..., 1, 1, 1],\n",
      "        [1, 1, 1,  ..., 0, 0, 0],\n",
      "        ...,\n",
      "        [1, 1, 1,  ..., 0, 0, 0],\n",
      "        [1, 1, 1,  ..., 1, 1, 1],\n",
      "        [1, 1, 1,  ..., 1, 1, 1]]), 'label': tensor([0, 1, 1, 1, 0, 1, 1, 0, 0, 1, 0, 0, 0, 1, 1, 1])}\n"
     ]
    }
   ],
   "source": [
    "for batch in train_dataloader:\n",
    "    print(batch)\n",
    "    break"
   ]
  },
  {
   "cell_type": "markdown",
   "id": "5225c4f7-599d-4def-b9a1-e16391f58f9d",
   "metadata": {},
   "source": [
    "### 3.4 定义网络"
   ]
  },
  {
   "cell_type": "code",
   "execution_count": 12,
   "id": "a53a57ff-939d-49ac-be8b-5ab55a55a97f",
   "metadata": {},
   "outputs": [],
   "source": [
    "# 定义 RNN 模型\n",
    "class RNNModel(nn.Module):\n",
    "    def __init__(self, input_dim, hidden_dim, output_dim):\n",
    "        super(RNNModel, self).__init__()\n",
    "        self.embedding = nn.Embedding(input_dim, 128)\n",
    "        self.rnn = nn.RNN(128, hidden_dim, batch_first=True)\n",
    "        self.fc = nn.Linear(hidden_dim, output_dim)\n",
    "        self.softmax = nn.Softmax(dim=1)\n",
    "        \n",
    "    def forward(self, x):\n",
    "        x = self.embedding(x)\n",
    "        out, _ = self.rnn(x)\n",
    "        out = out[:, -1, :]  # 获取序列的最后一个输出\n",
    "        out = self.fc(out)\n",
    "        return self.softmax(out)"
   ]
  },
  {
   "cell_type": "markdown",
   "id": "8a5e6ce8-7a07-4fb6-97c2-4de289eab55a",
   "metadata": {},
   "source": [
    "1. 初始化embedding权重矩阵$W_e\\in \\mathbb{R}^{30000\\times128}$\n",
    "\n",
    "2. 输入词索引矩阵，大小（batch_size=128, seq_len=300）\n",
    "\n",
    "3. 索引得到词向量矩阵，大小（batch_size=128, seq_len=300，embedding_dim=128），即$X\\in\\mathbb{R}^{128\\times300\\times128}$\n",
    "\n",
    "4. $t\\in\\mathbb N\\in[1, seq\\_len=300]$，取$t=1$时刻的$x$，即$x_{t=1}\\in\\mathbb{R}^{128\\times128}$\n",
    "\n",
    "6. 初始化$h_{t=0}$，大小（num_layers=1, batch_size=128, hidden_dim=128），即$h_{t=0}\\in\\mathbb{R}^{1\\times128\\times128}$\n",
    "\n",
    "7. 初始化$W_{hh}, W_{xh},b_{hh}, b_{xh}$\n",
    "\n",
    "8. $h_{t=1} = \\phi(W_{hh}h_{t=0} + b_{hh}+W_{xh}x_1  + b_{xh}  )$\n",
    "\n",
    "9. $\\hat x_{t=1} = \\phi(W_{hx}h_{t=1} + b_{hx}  )$\n",
    "\n",
    "10. 循环直至：$h_{t=300}$\n",
    "\n",
    "11. RNN输出：$output\\in\\mathbb{R}^{128\\times300\\times128}$\n",
    "\n",
    "12. 取最后一个时间步的隐藏状态$h_{t=300}\\in\\mathbb{R}^{128\\times1\\times128}$进入全连接层\n",
    "\n",
    "13. 计算损失函数\n",
    "\n",
    "14. BP反向传播流经嵌入层，更新对应的嵌入向量\n",
    "\n",
    "15. 更新所有参数"
   ]
  },
  {
   "cell_type": "markdown",
   "id": "b942d1b4-c4f7-4916-a6b9-601d47d067ba",
   "metadata": {},
   "source": [
    "### 3.5 实例化模型"
   ]
  },
  {
   "cell_type": "code",
   "execution_count": 13,
   "id": "fa68050b-9b9f-4cf4-9d50-4e17c1c7e308",
   "metadata": {},
   "outputs": [],
   "source": [
    "# BERT的词汇表大小为 30,000，隐藏层维度为128，输出类别数为2（正面或负面）\n",
    "model = RNNModel(input_dim=30000, hidden_dim=128, output_dim=2)"
   ]
  },
  {
   "cell_type": "code",
   "execution_count": 14,
   "id": "9e265479-9da2-4670-9e5f-59935ef2d476",
   "metadata": {},
   "outputs": [
    {
     "data": {
      "text/plain": [
       "=================================================================\n",
       "Layer (type:depth-idx)                   Param #\n",
       "=================================================================\n",
       "RNNModel                                 --\n",
       "├─Embedding: 1-1                         3,840,000\n",
       "├─RNN: 1-2                               33,024\n",
       "├─Linear: 1-3                            258\n",
       "├─Softmax: 1-4                           --\n",
       "=================================================================\n",
       "Total params: 3,873,282\n",
       "Trainable params: 3,873,282\n",
       "Non-trainable params: 0\n",
       "================================================================="
      ]
     },
     "execution_count": 14,
     "metadata": {},
     "output_type": "execute_result"
    }
   ],
   "source": [
    "from torchinfo import summary\n",
    "summary(model)"
   ]
  },
  {
   "cell_type": "markdown",
   "id": "49e19683-26fc-4d4d-82b9-acef116dddbd",
   "metadata": {},
   "source": [
    "### 3.6 选择损失函数和优化器"
   ]
  },
  {
   "cell_type": "code",
   "execution_count": 15,
   "id": "b657f6a2-536c-4bc6-87e4-5caee0389757",
   "metadata": {},
   "outputs": [],
   "source": [
    "# 使用交叉熵损失函数\n",
    "criterion = nn.CrossEntropyLoss()\n",
    "optimizer = optim.Adam(model.parameters(), lr=lr)\n",
    "model.to(device)\n",
    "scaler = torch.amp.GradScaler()"
   ]
  },
  {
   "cell_type": "code",
   "execution_count": 16,
   "id": "bdab1ff5-1867-4aa9-9d45-277d4344f0dd",
   "metadata": {},
   "outputs": [],
   "source": [
    "# 定义训练函数\n",
    "def train(epoch):\n",
    "    model.train()\n",
    "    train_loss = 0\n",
    "    correct_num = 0\n",
    "    total_num = 0\n",
    "    \n",
    "    # 遍历训练数据\n",
    "    for batch in train_dataloader:\n",
    "        # 将数据和标签挪到GPU  \n",
    "        data = batch['input_ids'].to(device)\n",
    "        label = batch['label'].to(device)\n",
    "        \n",
    "        optimizer.zero_grad() # 梯度清理\n",
    "        with torch.amp.autocast(device_type='cuda'):\n",
    "            output = model(data)\n",
    "            loss = criterion(output, label)\n",
    "        # 使用 GradScaler 进行 loss 反向传播\n",
    "        scaler.scale(loss).backward()\n",
    "        scaler.step(optimizer)\n",
    "        scaler.update()\n",
    "        \n",
    "        train_loss += loss.item()  #计算总损失\n",
    "        preds = torch.argmax(output, dim=1)\n",
    "        correct_num += torch.eq(preds, label).sum().item() # 预测正确数量\n",
    "        total_num += label.size(0) # 总预测数量\n",
    "\n",
    "        #手动释放显存\n",
    "        del data, label, output, loss\n",
    "        torch.cuda.empty_cache()\n",
    "\n",
    "    train_loss = train_loss/len(train_dataloader) # 计算平均训练损失\n",
    "    accuracy = correct_num/total_num # 计算准确率\n",
    "    train_losses.append(train_loss)\n",
    "    train_accuracies.append(accuracy)\n",
    "    print(f'Epoch:{epoch}\\tTraining Loss:{train_loss:.6f}, Accuracy:{accuracy:.6f}') # 输出信息"
   ]
  },
  {
   "cell_type": "code",
   "execution_count": 19,
   "id": "e6c0c0fa-31e7-43fc-a0ac-b9a8f406c13e",
   "metadata": {},
   "outputs": [],
   "source": [
    "# 定义验证函数并初始化\n",
    "def evaluate(epoch): \n",
    "    model.eval() # 验证模式\n",
    "    evaluate_loss = 0 #累积验证损失\n",
    "    correct_num = 0 \n",
    "    total_num = 0 \n",
    "    \n",
    "    # 禁用梯度\n",
    "    with torch.no_grad():\n",
    "        # 遍历测试数据\n",
    "        for batch in test_dataloader: \n",
    "            # 将数据和标签挪到GPU  \n",
    "            data = batch['input_ids'].to(device)\n",
    "            label = batch['label'].to(device)\n",
    "            with torch.amp.autocast(device_type='cuda'):  # 同样使用半精度\n",
    "                output = model(data)\n",
    "                loss = criterion(output, label)\n",
    "\n",
    "            evaluate_loss += loss.item() # 累积总损失\n",
    "            preds = torch.argmax(output, dim=1)\n",
    "            correct_num += torch.eq(preds, label).sum().item() # 预测正确数量\n",
    "            total_num += label.size(0) # 总预测数量\n",
    "    accuracy = correct_num/total_num # 计算准确率\n",
    "    evaluate_loss = evaluate_loss/total_num # 计算平均验证损失\n",
    "    test_accuracies.append(accuracy)\n",
    "    print(f'Epoch:{epoch}\\tValidation Loss:{evaluate_loss:.6f}, Accuracy:{accuracy:.6f}') #打印输出信息"
   ]
  },
  {
   "cell_type": "code",
   "execution_count": 20,
   "id": "ecec856f-f41a-415b-8da4-b2cdd497c618",
   "metadata": {},
   "outputs": [
    {
     "data": {
      "image/png": "[encoded data removed]",
      "text/plain": [
       "<Figure size 500x300 with 2 Axes>"
      ]
     },
     "metadata": {},
     "output_type": "display_data"
    }
   ],
   "source": [
    "# 初始化数据\n",
    "train_losses = []\n",
    "train_accuracies = []\n",
    "test_accuracies = []\n",
    "\n",
    "# 设置 x 轴范围\n",
    "initial_x_range = 10\n",
    "x_range = initial_x_range  # 初始的 x 轴范围\n",
    "\n",
    "# 画图函数\n",
    "def plot_graph(epoch):\n",
    "    global x_range\n",
    "\n",
    "    # 如果 epoch 数量大于 x 轴范围的上限，就扩展 x 轴范围\n",
    "    if epoch > x_range:\n",
    "        x_range += 10\n",
    "    \n",
    "    clear_output(wait=True)  # 清除上一次的图表\n",
    "    \n",
    "    fig, ax1 = plt.subplots(figsize=(5, 3))\n",
    "\n",
    "    # 绘制训练损失（左 y 轴）\n",
    "    ax1.set_xlabel('Epochs')\n",
    "    ax1.set_ylabel('Train Loss', color='tab:red')\n",
    "    ax1.plot(range(1, len(train_losses) + 1), train_losses, color='tab:red', label='Train Loss', linewidth=0.8, marker='o', markersize=4, markeredgecolor='black')\n",
    "    ax1.tick_params(axis='y', labelcolor='tab:red')\n",
    "    ax1.set_xlim(0, x_range)\n",
    "\n",
    "    # 创建右侧 y 轴（准确率）\n",
    "    ax2 = ax1.twinx()\n",
    "    ax2.set_ylabel('Accuracy', color='tab:blue')\n",
    "    ax2.plot(range(1, len(train_accuracies) + 1), train_accuracies, color='tab:blue', label='Train Accuracy', linewidth=0.8, marker='s', markersize=4, markeredgecolor='black')\n",
    "    ax2.plot(range(1, len(test_accuracies) + 1), test_accuracies, color='tab:green', label='Test Accuracy', linewidth=0.8, marker='^', markersize=4, markeredgecolor='black')\n",
    "    ax2.tick_params(axis='y', labelcolor='tab:blue')\n",
    "\n",
    "    # 获取 ax1 和 ax2 的图例并合并\n",
    "    handles1, labels1 = ax1.get_legend_handles_labels()\n",
    "    handles2, labels2 = ax2.get_legend_handles_labels()\n",
    "    handles = handles1 + handles2\n",
    "    labels = labels1 + labels2\n",
    "\n",
    "    # 添加合并后的图例\n",
    "    legend = ax1.legend(handles, labels, loc='upper left', bbox_to_anchor=(0.5, 1), fontsize=8, markerscale=1.2, frameon=False)\n",
    "\n",
    "    # 调整图例位置，避免遮挡折线\n",
    "    ax1.add_artist(legend)\n",
    "\n",
    "    plt.title('Training Loss and Accuracy')\n",
    "    plt.show()\n",
    "\n",
    "# 训练和评估循环\n",
    "for epoch in range(1, epochs + 1):\n",
    "    train(epoch)\n",
    "    evaluate(epoch)\n",
    "    plot_graph(epoch)  # 更新图表"
   ]
  },
  {
   "cell_type": "code",
   "execution_count": null,
   "id": "3067caab-6120-4e00-98c3-987b746188ae",
   "metadata": {},
   "outputs": [],
   "source": []
  }
 ],
 "metadata": {
  "kernelspec": {
   "display_name": "Python 3 (ipykernel)",
   "language": "python",
   "name": "python3"
  },
  "language_info": {
   "codemirror_mode": {
    "name": "ipython",
    "version": 3
   },
   "file_extension": ".py",
   "mimetype": "text/x-python",
   "name": "python",
   "nbconvert_exporter": "python",
   "pygments_lexer": "ipython3",
   "version": "3.12.9"
  }
 },
 "nbformat": 4,
 "nbformat_minor": 5
}
