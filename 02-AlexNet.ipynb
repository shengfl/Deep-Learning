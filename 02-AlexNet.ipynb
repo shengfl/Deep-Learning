{
 "cells": [
  {
   "cell_type": "markdown",
   "id": "d801ab2b-2c62-409a-8824-ddc0d65856b8",
   "metadata": {},
   "source": [
    "### 1. 介绍 Introduction\n",
    "-------------"
   ]
  },
  {
   "cell_type": "markdown",
   "id": "c81828f2-f44a-4b51-a4c2-b4e06c331550",
   "metadata": {},
   "source": [
    "AlexNet是由Alex Krizhevsky, Ilya Sutskever, Geoffrey E Hinton发表，并赢得ImageNet 2012挑战赛。\n",
    "\n",
    "论文地址：\n",
    "[AlexNet](https://proceedings.neurips.cc/paper_files/paper/2012/file/c399862d3b9d6b76c8436e924a68c45b-Paper.pdf)\n",
    "\n",
    "源代码：\n",
    "[AlexNet源代码](https://github.com/dansuh17/alexnet-pytorch/blob/d0c1b1c52296ffcbecfbf5b17e1d1685b4ca6744/model.py#L40)"
   ]
  },
  {
   "cell_type": "code",
   "execution_count": 1,
   "id": "890bbe8d-e46a-4afc-9162-d0016a9576b2",
   "metadata": {},
   "outputs": [
    {
     "data": {
      "text/html": [
       "<img src=\"https://production-media.paperswithcode.com/methods/Screen_Shot_2020-06-22_at_6.35.45_PM.png\" width=\"600\"/>"
      ],
      "text/plain": [
       "<IPython.core.display.Image object>"
      ]
     },
     "metadata": {},
     "output_type": "display_data"
    }
   ],
   "source": [
    "from IPython.display import Image, display\n",
    "url = 'https://production-media.paperswithcode.com/methods/Screen_Shot_2020-06-22_at_6.35.45_PM.png'\n",
    "display(Image(url=url, width=600))"
   ]
  },
  {
   "cell_type": "markdown",
   "id": "c7923301-2e87-4fc9-b34b-fa2645a97961",
   "metadata": {},
   "source": [
    "### 2. torchvision中AlexNet对比\n",
    "------------"
   ]
  },
  {
   "cell_type": "markdown",
   "id": "05a1eaa6-8a64-4811-aab4-155721f86689",
   "metadata": {},
   "source": [
    "由于torchvision中有AlexNet模版，先输出研究下：\n",
    "\n",
    "torchvision中的AlexNet与论文版本有差异：\n",
    "- 前两个卷积层有变化变化。torchvision：64→192→384→256→256；原版本：96→256→384→256→256\n",
    "- 原版本每个激活层后有 LocalResponseNorm， torchvision中没有\n",
    "- torch版本有一层AdaptiveAvgPool2d"
   ]
  },
  {
   "cell_type": "code",
   "execution_count": 7,
   "id": "453449f8-f05f-4268-b548-20c010701544",
   "metadata": {},
   "outputs": [
    {
     "name": "stdout",
     "output_type": "stream",
     "text": [
      "AlexNet(\n",
      "  (features): Sequential(\n",
      "    (0): Conv2d(3, 64, kernel_size=(11, 11), stride=(4, 4), padding=(2, 2))\n",
      "    (1): ReLU(inplace=True)\n",
      "    (2): MaxPool2d(kernel_size=3, stride=2, padding=0, dilation=1, ceil_mode=False)\n",
      "    (3): Conv2d(64, 192, kernel_size=(5, 5), stride=(1, 1), padding=(2, 2))\n",
      "    (4): ReLU(inplace=True)\n",
      "    (5): MaxPool2d(kernel_size=3, stride=2, padding=0, dilation=1, ceil_mode=False)\n",
      "    (6): Conv2d(192, 384, kernel_size=(3, 3), stride=(1, 1), padding=(1, 1))\n",
      "    (7): ReLU(inplace=True)\n",
      "    (8): Conv2d(384, 256, kernel_size=(3, 3), stride=(1, 1), padding=(1, 1))\n",
      "    (9): ReLU(inplace=True)\n",
      "    (10): Conv2d(256, 256, kernel_size=(3, 3), stride=(1, 1), padding=(1, 1))\n",
      "    (11): ReLU(inplace=True)\n",
      "    (12): MaxPool2d(kernel_size=3, stride=2, padding=0, dilation=1, ceil_mode=False)\n",
      "  )\n",
      "  (avgpool): AdaptiveAvgPool2d(output_size=(6, 6))\n",
      "  (classifier): Sequential(\n",
      "    (0): Dropout(p=0.5, inplace=False)\n",
      "    (1): Linear(in_features=9216, out_features=4096, bias=True)\n",
      "    (2): ReLU(inplace=True)\n",
      "    (3): Dropout(p=0.5, inplace=False)\n",
      "    (4): Linear(in_features=4096, out_features=4096, bias=True)\n",
      "    (5): ReLU(inplace=True)\n",
      "    (6): Linear(in_features=4096, out_features=1000, bias=True)\n",
      "  )\n",
      ")\n"
     ]
    }
   ],
   "source": [
    "import torchvision.models as models\n",
    "\n",
    "AlexNet = models.AlexNet()\n",
    "print(AlexNet)"
   ]
  },
  {
   "cell_type": "markdown",
   "id": "a3060450-7fa3-4b07-8d60-0cc473683326",
   "metadata": {},
   "source": [
    "### 3. 修改实现\n",
    "----------------"
   ]
  },
  {
   "cell_type": "markdown",
   "id": "b7650388-b1de-41bc-be1a-8e049aa38db5",
   "metadata": {},
   "source": [
    "目标：保持AlexNet整体框架不变，在CIFAR10数据集上进行训练\n",
    "- 将CIFAR10数据Resize到224×224，只能当作练习用\n",
    "- 所有参数裁半\n",
    "- LocalResponseNorm层用BatchNorm替代"
   ]
  },
  {
   "cell_type": "code",
   "execution_count": 8,
   "id": "f4060615-9d7a-4623-b14f-1d33d789a059",
   "metadata": {},
   "outputs": [],
   "source": [
    "import os\n",
    "import numpy as np\n",
    "import torch\n",
    "import torch.nn as nn\n",
    "import torch.optim as optim\n",
    "from torch.utils.data import Dataset, DataLoader\n",
    "\n",
    "from torchvision import transforms\n",
    "from torchvision import datasets"
   ]
  },
  {
   "cell_type": "code",
   "execution_count": 53,
   "id": "4ccb57a4-020d-4396-9982-69c4bd635a59",
   "metadata": {},
   "outputs": [],
   "source": [
    "batch_size = 256\n",
    "device = torch.device('cuda' if torch.cuda.is_available() else 'cpu')\n",
    "num_classes = 10\n",
    "lr = 1e-3\n",
    "epochs = 5"
   ]
  },
  {
   "cell_type": "code",
   "execution_count": 35,
   "id": "0841ba41-a825-4409-aa98-8868709ec005",
   "metadata": {},
   "outputs": [
    {
     "name": "stdout",
     "output_type": "stream",
     "text": [
      "Files already downloaded and verified\n",
      "Files already downloaded and verified\n",
      "50000 10000\n"
     ]
    }
   ],
   "source": [
    "# 定义数据转换方法\n",
    "transform = transforms.Compose([transforms.Resize((224, 224)),\n",
    "                                transforms.ToTensor()])\n",
    "# 定义训练集\n",
    "train_dataset = datasets.CIFAR10(root = './data',\n",
    "                                          train = True,\n",
    "                                          transform = transform,\n",
    "                                          download = True)\n",
    "# 定义测试集\n",
    "test_dataset = datasets.CIFAR10(root = './data',\n",
    "                                         train = False,\n",
    "                                         transform = transform,\n",
    "                                         download = True)\n",
    "\n",
    "# 加载训练数据，并打乱\n",
    "train_loader = DataLoader(dataset=train_dataset, batch_size=batch_size, shuffle=True)\n",
    "# 加载测试数据\n",
    "test_loader = DataLoader(dataset=test_dataset, batch_size=batch_size, shuffle=False)\n",
    "print(len(train_dataset), len(test_dataset))"
   ]
  },
  {
   "cell_type": "code",
   "execution_count": 36,
   "id": "4ca65ae5-dfe8-47dd-ad2a-116d34fa7be6",
   "metadata": {},
   "outputs": [
    {
     "name": "stdout",
     "output_type": "stream",
     "text": [
      "torch.Size([256, 3, 224, 224]) torch.Size([256]) tensor([0, 2, 0, 6, 6, 8, 6, 6, 0, 8, 4, 2, 5, 2, 5, 8, 3, 3, 4, 0, 7, 3, 0, 3,\n",
      "        6, 5, 7, 6, 1, 8, 6, 1, 8, 8, 6, 5, 8, 3, 9, 3, 2, 9, 5, 6, 6, 4, 9, 5,\n",
      "        5, 0, 0, 0, 5, 5, 2, 5, 3, 0, 6, 9, 9, 0, 8, 9, 9, 7, 9, 7, 7, 3, 7, 8,\n",
      "        0, 3, 1, 5, 5, 1, 6, 5, 6, 5, 6, 3, 5, 0, 3, 5, 7, 0, 3, 8, 5, 6, 4, 3,\n",
      "        3, 1, 7, 5, 4, 7, 7, 8, 9, 5, 4, 0, 4, 8, 5, 8, 7, 0, 9, 2, 6, 5, 9, 6,\n",
      "        0, 1, 2, 7, 2, 6, 3, 2, 0, 2, 1, 9, 6, 5, 0, 7, 1, 3, 4, 6, 1, 2, 4, 0,\n",
      "        8, 2, 3, 8, 9, 1, 8, 5, 6, 3, 9, 8, 3, 4, 5, 3, 1, 9, 1, 6, 8, 4, 3, 2,\n",
      "        0, 7, 3, 7, 1, 1, 5, 4, 6, 5, 8, 7, 5, 6, 7, 9, 6, 3, 5, 5, 2, 6, 4, 1,\n",
      "        4, 0, 3, 7, 9, 2, 2, 4, 7, 8, 4, 6, 4, 6, 7, 0, 9, 3, 2, 6, 7, 5, 3, 0,\n",
      "        8, 2, 9, 6, 2, 5, 9, 6, 8, 4, 9, 6, 2, 8, 0, 0, 7, 1, 8, 9, 7, 7, 1, 5,\n",
      "        2, 6, 3, 2, 8, 8, 3, 5, 3, 0, 7, 6, 6, 9, 6, 5])\n"
     ]
    },
    {
     "data": {
      "text/plain": [
       "<matplotlib.image.AxesImage at 0x2e05369bfe0>"
      ]
     },
     "execution_count": 36,
     "metadata": {},
     "output_type": "execute_result"
    },
    {
     "data": {
      "image/png": "[encoded data removed]",
      "text/plain": [
       "<Figure size 100x100 with 1 Axes>"
      ]
     },
     "metadata": {},
     "output_type": "display_data"
    }
   ],
   "source": [
    "import matplotlib.pyplot as plt\n",
    "image, label = next(iter(train_loader))\n",
    "print(image.shape, label.shape, label)\n",
    "plt.figure(figsize=(1, 1))\n",
    "plt.axis('off')\n",
    "plt.imshow(image[0][0], cmap='viridis')"
   ]
  },
  {
   "cell_type": "code",
   "execution_count": 55,
   "id": "4e05bf76-23c3-4c1d-8d34-9e0ba38764ee",
   "metadata": {},
   "outputs": [],
   "source": [
    "class AlexNet(nn.Module): # 定义类，继承自pytorch的nn.Module基类\n",
    "    def __init__(self): # 初始化\n",
    "        super(AlexNet, self).__init__() # 显示调用父类的构造方法\n",
    "        self.net = nn.Sequential(\n",
    "            nn.Conv2d(in_channels=3, out_channels=36, kernel_size=5, stride=4),  \n",
    "            nn.ReLU(),\n",
    "            nn.BatchNorm2d(36),\n",
    "            nn.MaxPool2d(kernel_size=3, stride=2),\n",
    "            nn.Conv2d(36, 128, 5, padding=2),\n",
    "            nn.ReLU(),\n",
    "            nn.BatchNorm2d(128),\n",
    "            nn.MaxPool2d(kernel_size=3, stride=2),\n",
    "            nn.Conv2d(128, 256, 3, padding=1),\n",
    "            nn.ReLU(),\n",
    "            nn.Conv2d(256, 128, 3, padding=1),\n",
    "            nn.ReLU(),\n",
    "            nn.Conv2d(128, 128, 3, padding=1),\n",
    "            nn.ReLU(),\n",
    "            nn.MaxPool2d(kernel_size=3, stride=2),\n",
    "        )\n",
    "        self.avgpool = nn.AdaptiveAvgPool2d((6, 6))\n",
    "        self.classifier = nn.Sequential(\n",
    "            nn.Dropout(p=0.5),\n",
    "            nn.Linear(in_features=(128 * 6 * 6), out_features=2048),\n",
    "            nn.ReLU(),\n",
    "            nn.Dropout(p=0.5),\n",
    "            nn.Linear(in_features=2048, out_features=1024),\n",
    "            nn.ReLU(),\n",
    "            nn.Linear(in_features=1024, out_features=num_classes),\n",
    "        )\n",
    "\n",
    "    def forward(self, x):\n",
    "        x = self.net(x)\n",
    "        x = self.avgpool(x)\n",
    "        x = torch.flatten(x, 1)\n",
    "        x = self.classifier(x)\n",
    "        return x"
   ]
  },
  {
   "cell_type": "code",
   "execution_count": 56,
   "id": "fe715cb8-43c7-4d79-b7f4-d3c8e5ececb8",
   "metadata": {},
   "outputs": [],
   "source": [
    "model = AlexNet()\n",
    "model = model.cuda()\n",
    "criterion = nn.CrossEntropyLoss(reduction='sum')\n",
    "optimizer = optim.Adam(model.parameters(), lr=lr)"
   ]
  },
  {
   "cell_type": "code",
   "execution_count": 57,
   "id": "58d46815-01fd-45ec-898f-6f27213bf95a",
   "metadata": {},
   "outputs": [],
   "source": [
    "# 定义训练函数\n",
    "def train(epoch):\n",
    "    model.train()\n",
    "    train_loss = 0\n",
    "    correct_num = 0\n",
    "    total_num = 0\n",
    "    \n",
    "    # 遍历训练数据\n",
    "    for data, label in train_loader:\n",
    "        data, label = data.cuda(), label.cuda() # 将数据和标签挪到GPU        \n",
    "        optimizer.zero_grad() # 梯度清理\n",
    "        output = model(data) # 前向传播\n",
    "        \n",
    "        loss = criterion(output, label) # 计算损失，也就是预测结果和真实标签的误差\n",
    "        loss.backward() # 反向传播，计算梯度\n",
    "        optimizer.step() # 更新一步参数\n",
    "        \n",
    "        train_loss += loss.item() #计算损失\n",
    "        preds = torch.argmax(output, dim=1)\n",
    "        correct_num += torch.eq(preds, label).sum().item() # 预测正确数量\n",
    "        total_num += data.size(0) # 总预测数量\n",
    "    train_loss = train_loss/len(train_loader.dataset) # 计算平均训练损失\n",
    "    accuracy = correct_num/total_num # 计算准确率\n",
    "    print(f'Epoch:{epoch}\\tTraining Loss:{train_loss:.6f}, Accuracy:{accuracy:.6f}') # 输出信息"
   ]
  },
  {
   "cell_type": "code",
   "execution_count": 58,
   "id": "6f31a3cf-cc8f-44d1-8715-b012c94a3a7a",
   "metadata": {},
   "outputs": [],
   "source": [
    "# 定义验证函数并初始化\n",
    "def evaluate(epoch): \n",
    "    model.eval() # 验证模式\n",
    "    evaluate_loss = 0 #累积验证损失\n",
    "    correct_num = 0 \n",
    "    total_num = 0 \n",
    "    \n",
    "    # 禁用梯度\n",
    "    with torch.no_grad():\n",
    "        # 遍历测试数据\n",
    "        for data, label in test_loader: \n",
    "            data, label = data.cuda(), label.cuda() #数据迁移到GPU            \n",
    "            output = model(data) # 前向传播\n",
    "            \n",
    "            loss = criterion(output, label) # 计算当前批次损失\n",
    "            evaluate_loss += loss.item() # 累积总损失\n",
    "            preds = torch.argmax(output, dim=1) # 取得每行最大值的索引，获取预测结果。\n",
    "            correct_num += torch.eq(preds, label).sum().item() # 预测正确数量\n",
    "            total_num += data.size(0) # 总预测数量\n",
    "    evaluate_loss = evaluate_loss/total_num # 计算平均验证损失\n",
    "    accuracy = correct_num/total_num # 计算准确率\n",
    "    print(f'Epoch:{epoch}\\tValidation Loss:{evaluate_loss:.6f}, Accuracy:{accuracy:.6f}') #打印输出信息"
   ]
  },
  {
   "cell_type": "code",
   "execution_count": 52,
   "id": "93db1c0b-76ce-4c63-bb0b-684efa4f4896",
   "metadata": {},
   "outputs": [
    {
     "name": "stdout",
     "output_type": "stream",
     "text": [
      "Epoch:1\tTraining Loss:0.773573, Accuracy:0.727040\n",
      "Epoch:1\tValidation Loss:1.088993, Accuracy:0.621900\n",
      "Epoch:2\tTraining Loss:0.693566, Accuracy:0.759200\n",
      "Epoch:2\tValidation Loss:0.759285, Accuracy:0.744400\n",
      "Epoch:3\tTraining Loss:0.627502, Accuracy:0.779620\n",
      "Epoch:3\tValidation Loss:0.714460, Accuracy:0.758300\n",
      "Epoch:4\tTraining Loss:0.577621, Accuracy:0.798520\n",
      "Epoch:4\tValidation Loss:0.770314, Accuracy:0.729600\n",
      "Epoch:5\tTraining Loss:0.535428, Accuracy:0.811000\n",
      "Epoch:5\tValidation Loss:0.656842, Accuracy:0.776100\n"
     ]
    }
   ],
   "source": [
    "for epoch in range(1, epochs+1):\n",
    "    train(epoch)\n",
    "    evaluate(epoch)"
   ]
  },
  {
   "cell_type": "markdown",
   "id": "a5968876-d8ff-4846-8d1e-5690169355ab",
   "metadata": {},
   "source": [
    "### 4. 收获\n",
    "-------------"
   ]
  },
  {
   "cell_type": "markdown",
   "id": "acd15f6e-5df1-4eb7-b906-fd05f3ec4387",
   "metadata": {},
   "source": [
    "LeNet带来了如下经验：\n",
    "- 正如论文所言：“Our results show that a large, deep convolutional neural network is capable of achieving recordbreaking results on a highly challenging dataset using purely supervised learning.”\n",
    "- 数据扩张：128万张图片，1000类\n",
    "- 模型扩张：60M参数\n",
    "- 防止过拟合：数据增强(data augmentation)+dropout\n",
    "- 训练技术：GPU+分布式"
   ]
  }
 ],
 "metadata": {
  "kernelspec": {
   "display_name": "Python 3 (ipykernel)",
   "language": "python",
   "name": "python3"
  },
  "language_info": {
   "codemirror_mode": {
    "name": "ipython",
    "version": 3
   },
   "file_extension": ".py",
   "mimetype": "text/x-python",
   "name": "python",
   "nbconvert_exporter": "python",
   "pygments_lexer": "ipython3",
   "version": "3.12.9"
  }
 },
 "nbformat": 4,
 "nbformat_minor": 5
}
