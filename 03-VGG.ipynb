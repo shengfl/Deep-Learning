{
 "cells": [
  {
   "cell_type": "markdown",
   "id": "f0d876a1-b1d6-465a-a6a8-39fba25f8780",
   "metadata": {},
   "source": [
    "### 1. 介绍 Introduction\n",
    "-------------"
   ]
  },
  {
   "cell_type": "markdown",
   "id": "1c61a859-b255-41ac-8ac1-c4439b359659",
   "metadata": {},
   "source": [
    "VGG主要体现了由“层”向“块”的转变\n",
    "\n",
    "出现在牛津大学的视觉几何组（visual geometry group）的网络中\n",
    "\n",
    "最初的VGG论文地址：[VGG论文](https://arxiv.org/pdf/1409.1556)"
   ]
  },
  {
   "cell_type": "code",
   "execution_count": 2,
   "id": "821e30c6-af83-4f79-8d93-814f618dc2b3",
   "metadata": {},
   "outputs": [
    {
     "data": {
      "text/html": [
       "<img src=\"https://production-media.paperswithcode.com/methods/vgg_7mT4DML.png\" width=\"400\"/>"
      ],
      "text/plain": [
       "<IPython.core.display.Image object>"
      ]
     },
     "metadata": {},
     "output_type": "display_data"
    }
   ],
   "source": [
    "from IPython.display import Image, display\n",
    "url = 'https://production-media.paperswithcode.com/methods/vgg_7mT4DML.png'\n",
    "display(Image(url=url, width=400))"
   ]
  },
  {
   "cell_type": "markdown",
   "id": "2acfcfe4-43b9-4f71-a605-757e46ad189e",
   "metadata": {},
   "source": [
    "## 2. torchvision中的VGG11\n",
    "---"
   ]
  },
  {
   "cell_type": "markdown",
   "id": "f9ea756a-228a-4ad5-a444-8acaf1a07acb",
   "metadata": {},
   "source": [
    "VGG网络呈现出明显的重复节奏，除输入通道和输出通道外，其他参数均相同，网络分为两种块：\n",
    "- (Conv2d+ReLU+MaxPool2d)×2\n",
    "- ((Conv2d+ReLU)×2+MaxPool2d))×3\n",
    "\n",
    "VGG11的全连接层和AlexNet相同\n",
    "\n",
    "由于该网络使用8个卷积层和3个全连接层，因此它通常被称为VGG-11"
   ]
  },
  {
   "cell_type": "code",
   "execution_count": 3,
   "id": "0ff6322c-a2d5-432a-be1c-d3d7e08a56a2",
   "metadata": {},
   "outputs": [
    {
     "data": {
      "text/plain": [
       "==========================================================================================\n",
       "Layer (type:depth-idx)                   Output Shape              Param #\n",
       "==========================================================================================\n",
       "VGG                                      [1, 1000]                 --\n",
       "├─Sequential: 1-1                        [1, 512, 7, 7]            --\n",
       "│    └─Conv2d: 2-1                       [1, 64, 224, 224]         1,792\n",
       "│    └─ReLU: 2-2                         [1, 64, 224, 224]         --\n",
       "│    └─MaxPool2d: 2-3                    [1, 64, 112, 112]         --\n",
       "│    └─Conv2d: 2-4                       [1, 128, 112, 112]        73,856\n",
       "│    └─ReLU: 2-5                         [1, 128, 112, 112]        --\n",
       "│    └─MaxPool2d: 2-6                    [1, 128, 56, 56]          --\n",
       "│    └─Conv2d: 2-7                       [1, 256, 56, 56]          295,168\n",
       "│    └─ReLU: 2-8                         [1, 256, 56, 56]          --\n",
       "│    └─Conv2d: 2-9                       [1, 256, 56, 56]          590,080\n",
       "│    └─ReLU: 2-10                        [1, 256, 56, 56]          --\n",
       "│    └─MaxPool2d: 2-11                   [1, 256, 28, 28]          --\n",
       "│    └─Conv2d: 2-12                      [1, 512, 28, 28]          1,180,160\n",
       "│    └─ReLU: 2-13                        [1, 512, 28, 28]          --\n",
       "│    └─Conv2d: 2-14                      [1, 512, 28, 28]          2,359,808\n",
       "│    └─ReLU: 2-15                        [1, 512, 28, 28]          --\n",
       "│    └─MaxPool2d: 2-16                   [1, 512, 14, 14]          --\n",
       "│    └─Conv2d: 2-17                      [1, 512, 14, 14]          2,359,808\n",
       "│    └─ReLU: 2-18                        [1, 512, 14, 14]          --\n",
       "│    └─Conv2d: 2-19                      [1, 512, 14, 14]          2,359,808\n",
       "│    └─ReLU: 2-20                        [1, 512, 14, 14]          --\n",
       "│    └─MaxPool2d: 2-21                   [1, 512, 7, 7]            --\n",
       "├─AdaptiveAvgPool2d: 1-2                 [1, 512, 7, 7]            --\n",
       "├─Sequential: 1-3                        [1, 1000]                 --\n",
       "│    └─Linear: 2-22                      [1, 4096]                 102,764,544\n",
       "│    └─ReLU: 2-23                        [1, 4096]                 --\n",
       "│    └─Dropout: 2-24                     [1, 4096]                 --\n",
       "│    └─Linear: 2-25                      [1, 4096]                 16,781,312\n",
       "│    └─ReLU: 2-26                        [1, 4096]                 --\n",
       "│    └─Dropout: 2-27                     [1, 4096]                 --\n",
       "│    └─Linear: 2-28                      [1, 1000]                 4,097,000\n",
       "==========================================================================================\n",
       "Total params: 132,863,336\n",
       "Trainable params: 132,863,336\n",
       "Non-trainable params: 0\n",
       "Total mult-adds (Units.GIGABYTES): 7.62\n",
       "==========================================================================================\n",
       "Input size (MB): 0.60\n",
       "Forward/backward pass size (MB): 59.48\n",
       "Params size (MB): 531.45\n",
       "Estimated Total Size (MB): 591.54\n",
       "=========================================================================================="
      ]
     },
     "execution_count": 3,
     "metadata": {},
     "output_type": "execute_result"
    }
   ],
   "source": [
    "import torchvision.models as models\n",
    "from torchinfo import summary\n",
    "\n",
    "VGG11 = models.vgg11()\n",
    "summary(VGG11, (1, 3, 224, 224)) #用torchinfo中的summary方法对模型尺寸和结构进行输出"
   ]
  },
  {
   "cell_type": "markdown",
   "id": "096aa1d8-7f87-4876-9574-e3758c12d7df",
   "metadata": {},
   "source": [
    "## 3. 修改实现\n",
    "---"
   ]
  },
  {
   "cell_type": "markdown",
   "id": "8bb6fa8f-acf5-4161-bc19-ea005d5f47ad",
   "metadata": {},
   "source": [
    "目标：保持VGG11整体框架不变，在CIFAR10数据集上进行训练\n",
    "- 不Resize到224×224, 可以预见，训练是容易过拟合的\n",
    "- 因为原始输入图片很小，而VGG每次池化后，图片大小减半，略掉最后一个块。\n",
    "- 采用半精度进行训练"
   ]
  },
  {
   "cell_type": "markdown",
   "id": "69e0d114-fa45-47e8-9287-e116dd403f82",
   "metadata": {},
   "source": [
    "### 3.1 导入必要的包"
   ]
  },
  {
   "cell_type": "code",
   "execution_count": 40,
   "id": "4ac0740d-2df9-4301-a7f4-908178d9f9ce",
   "metadata": {},
   "outputs": [],
   "source": [
    "import os\n",
    "import numpy as np\n",
    "import torch\n",
    "import torch.nn as nn\n",
    "import torch.optim as optim\n",
    "import torchvision\n",
    "from torch.utils.data import Dataset, DataLoader\n",
    "\n",
    "from torchvision import transforms\n",
    "from torchvision import datasets\n",
    "from torch.amp import autocast, GradScaler"
   ]
  },
  {
   "cell_type": "markdown",
   "id": "ad9c6c23-7ae9-4b93-8cfc-c7b39a4661d1",
   "metadata": {},
   "source": [
    "### 3.2 设定超参数"
   ]
  },
  {
   "cell_type": "code",
   "execution_count": 41,
   "id": "c812f9af-7029-4154-a187-782a97c8501c",
   "metadata": {},
   "outputs": [],
   "source": [
    "batch_size = 128 # 批次大小\n",
    "device = torch.device('cuda' if torch.cuda.is_available() else 'cpu') # 使用GPU\n",
    "num_classes = 10 # 类别数\n",
    "lr = 1e-3 #学习率\n",
    "epochs = 20 # 训练轮次\n",
    "accumulation_steps = 4  # 设置梯度累积的步数"
   ]
  },
  {
   "cell_type": "markdown",
   "id": "ca018f5c-010a-45b7-8e2a-fd0b35dd4d0c",
   "metadata": {},
   "source": [
    "### 3.3 读入数据"
   ]
  },
  {
   "cell_type": "code",
   "execution_count": 44,
   "id": "622e445c-6191-4846-bceb-b0a6210e0970",
   "metadata": {},
   "outputs": [
    {
     "name": "stdout",
     "output_type": "stream",
     "text": [
      "Files already downloaded and verified\n",
      "Files already downloaded and verified\n",
      "50000 10000\n"
     ]
    }
   ],
   "source": [
    "# 定义数据转换方法\n",
    "transform = transforms.Compose([transforms.Resize((32, 32)),\n",
    "                                transforms.ToTensor(),\n",
    "                               transforms.Normalize(mean=[0.4914, 0.4822, 0.4465], std=[0.2470, 0.2435, 0.2616])])\n",
    "# 定义训练集\n",
    "train_dataset = datasets.CIFAR10(root = './data',\n",
    "                                          train = True,\n",
    "                                          transform = transform,\n",
    "                                          download = True)\n",
    "# 定义测试集\n",
    "test_dataset = datasets.CIFAR10(root = './data',\n",
    "                                         train = False,\n",
    "                                         transform = transform,\n",
    "                                         download = True)\n",
    "\n",
    "# 加载训练数据，并打乱\n",
    "train_loader = DataLoader(dataset=train_dataset, batch_size=batch_size, shuffle=True)\n",
    "# 加载测试数据\n",
    "test_loader = DataLoader(dataset=test_dataset, batch_size=batch_size, shuffle=False)\n",
    "print(len(train_dataset), len(test_dataset))"
   ]
  },
  {
   "cell_type": "markdown",
   "id": "53333dbd-1c73-44d4-af7a-d0ae84280e05",
   "metadata": {},
   "source": [
    "### 3.4 采用tensorboard对读入的数据进行查看\n",
    "\n",
    "- 注：此处代码由大语言模型迭代生成，有修订"
   ]
  },
  {
   "cell_type": "code",
   "execution_count": 88,
   "id": "1cbd42b7-550a-43c9-aee8-20b8aaa865a1",
   "metadata": {},
   "outputs": [
    {
     "data": {
      "image/png": "[encoded data removed]",
      "text/plain": [
       "<Figure size 500x200 with 1 Axes>"
      ]
     },
     "metadata": {},
     "output_type": "display_data"
    }
   ],
   "source": [
    "import matplotlib.pyplot as plt\n",
    "from torch.utils.tensorboard import SummaryWriter\n",
    "\n",
    "# 定义反标准化函数\n",
    "def imshow(img):\n",
    "    # 反标准化\n",
    "    mean = torch.tensor([0.4914, 0.4822, 0.4465]).view(3, 1, 1)\n",
    "    std = torch.tensor([0.2470, 0.2435, 0.2616]).view(3, 1, 1)\n",
    "    img = img * std + mean  # 反标准化\n",
    "    # 限制像素值在 [0, 1] 范围\n",
    "    img = torch.clamp(img, 0, 1)\n",
    "    npimg = img.numpy()\n",
    "    return npimg\n",
    "\n",
    "# 显示指定数量的图片，并在每张图像上标注标签\n",
    "def show_images_in_grid(images, labels, class_names, num_images=10, images_per_row=5):\n",
    "    # 确保显示的图片数量是10\n",
    "    images = images[:num_images]\n",
    "    labels = labels[:num_images]\n",
    "    # 使用 make_grid 来排列图像，分为两行，每行 5 张图像\n",
    "    img_grid = torchvision.utils.make_grid(images, nrow=images_per_row)\n",
    "    # 转换图像格式并显示\n",
    "    npimg = imshow(img_grid)    \n",
    "    # 使用 matplotlib 显示图像\n",
    "    plt.figure(figsize=(5, 2))  # 设置图像大小\n",
    "    plt.imshow(np.transpose(npimg, (1, 2, 0)))\n",
    "    plt.axis('off')  # 不显示坐标轴\n",
    "\n",
    "    # 在每张图像上显示标签\n",
    "    for i in range(num_images):\n",
    "        row = i // images_per_row\n",
    "        col = i % images_per_row\n",
    "        plt.text(col * 34 + 2, row * 34 + 8,  # x, y 坐标（调整偏移量）\n",
    "                 class_names[labels[i]],  # 显示标签\n",
    "                 color='orange', fontsize=8, ha='left')\n",
    "    plt.show()\n",
    "\n",
    "# CIFAR-10 类别名称（标签对应的类名）\n",
    "class_names = ['airplane', 'automobile', 'bird', 'cat', 'deer', 'dog', 'frog', 'horse', 'ship', 'truck']\n",
    "# 创建一个 SummaryWriter 实例\n",
    "writer = SummaryWriter('runs/cifar10_samples')\n",
    "# 获取一个批次的样本\n",
    "dataiter = iter(train_loader)\n",
    "images, labels = next(dataiter)\n",
    "# 显示 10 张图像（分成两行，每行5张）并显示标签\n",
    "show_images_in_grid(images, labels, class_names)\n",
    "# 将图像添加到 TensorBoard\n",
    "writer.add_image('CIFAR10_images', torchvision.utils.make_grid(images))\n",
    "# 关闭 writer\n",
    "writer.close()"
   ]
  },
  {
   "cell_type": "markdown",
   "id": "9b48cdc7-25c6-43ba-918b-b40e2fa466e2",
   "metadata": {},
   "source": [
    "### 3.5 根据VGG网络的特点，定义网络结构\n",
    "\n",
    "- 用定义函数的方式生成VGG块，这样就不用每个层单独进行输入"
   ]
  },
  {
   "cell_type": "code",
   "execution_count": 8,
   "id": "afa8f03e-b7aa-469f-9a5b-21bcb66db099",
   "metadata": {},
   "outputs": [],
   "source": [
    "# 定义一个创建VGG块的函数\n",
    "def vgg_block(num_convs, in_channels, out_channels):\n",
    "    layers = []\n",
    "    for _ in range(num_convs):\n",
    "        layers.append(nn.Conv2d(in_channels, out_channels, kernel_size=3, padding=1))\n",
    "        layers.append(nn.ReLU())\n",
    "        in_channels = out_channels\n",
    "    layers.append(nn.MaxPool2d(kernel_size=2, stride=2))\n",
    "    return layers"
   ]
  },
  {
   "cell_type": "code",
   "execution_count": 9,
   "id": "679db864-5c6d-43f9-ad49-b9ef64076144",
   "metadata": {},
   "outputs": [],
   "source": [
    "# 定义vgg特征网络\n",
    "def vgg_features(vgg_architecture):\n",
    "    features = []\n",
    "    in_channels = 3\n",
    "    for conv_num, out_channels in vgg_architecture:\n",
    "        features.extend(vgg_block(conv_num, in_channels, out_channels))\n",
    "        in_channels = out_channels\n",
    "    return features"
   ]
  },
  {
   "cell_type": "code",
   "execution_count": 10,
   "id": "775c6cb4-696a-4fbb-94c8-35fa41550e64",
   "metadata": {},
   "outputs": [],
   "source": [
    "class VGG(nn.Module): # 定义类，继承自pytorch的nn.Module基类\n",
    "    def __init__(self, vgg_architecture): # 初始化\n",
    "        super(VGG, self).__init__() # 显示调用父类的构造方法\n",
    "        self.features = nn.Sequential(*vgg_features(vgg_architecture))\n",
    "        self.avgpool = nn.AdaptiveAvgPool2d((7, 7))\n",
    "        self.classifier = nn.Sequential(\n",
    "            nn.Linear(in_features=(512 * 7 * 7), out_features=512),\n",
    "            nn.ReLU(),\n",
    "            nn.Dropout(p=0.5),\n",
    "            nn.Linear(in_features=512, out_features=256),\n",
    "            nn.ReLU(),\n",
    "            nn.Dropout(p=0.5),\n",
    "            nn.Linear(in_features=256, out_features=num_classes),\n",
    "        )\n",
    "\n",
    "    def forward(self, x):\n",
    "        x = self.features(x)\n",
    "        x = self.avgpool(x)\n",
    "        x = torch.flatten(x, 1)\n",
    "        x = self.classifier(x)\n",
    "        return x"
   ]
  },
  {
   "cell_type": "code",
   "execution_count": 11,
   "id": "b76b73e0-8e92-4be5-a8a4-3d89643d7919",
   "metadata": {},
   "outputs": [
    {
     "data": {
      "text/plain": [
       "==========================================================================================\n",
       "Layer (type:depth-idx)                   Output Shape              Param #\n",
       "==========================================================================================\n",
       "VGG                                      [1, 10]                   --\n",
       "├─Sequential: 1-1                        [1, 512, 14, 14]          --\n",
       "│    └─Conv2d: 2-1                       [1, 64, 224, 224]         1,792\n",
       "│    └─ReLU: 2-2                         [1, 64, 224, 224]         --\n",
       "│    └─MaxPool2d: 2-3                    [1, 64, 112, 112]         --\n",
       "│    └─Conv2d: 2-4                       [1, 128, 112, 112]        73,856\n",
       "│    └─ReLU: 2-5                         [1, 128, 112, 112]        --\n",
       "│    └─MaxPool2d: 2-6                    [1, 128, 56, 56]          --\n",
       "│    └─Conv2d: 2-7                       [1, 256, 56, 56]          295,168\n",
       "│    └─ReLU: 2-8                         [1, 256, 56, 56]          --\n",
       "│    └─Conv2d: 2-9                       [1, 256, 56, 56]          590,080\n",
       "│    └─ReLU: 2-10                        [1, 256, 56, 56]          --\n",
       "│    └─MaxPool2d: 2-11                   [1, 256, 28, 28]          --\n",
       "│    └─Conv2d: 2-12                      [1, 512, 28, 28]          1,180,160\n",
       "│    └─ReLU: 2-13                        [1, 512, 28, 28]          --\n",
       "│    └─Conv2d: 2-14                      [1, 512, 28, 28]          2,359,808\n",
       "│    └─ReLU: 2-15                        [1, 512, 28, 28]          --\n",
       "│    └─MaxPool2d: 2-16                   [1, 512, 14, 14]          --\n",
       "├─AdaptiveAvgPool2d: 1-2                 [1, 512, 7, 7]            --\n",
       "├─Sequential: 1-3                        [1, 10]                   --\n",
       "│    └─Linear: 2-17                      [1, 512]                  12,845,568\n",
       "│    └─ReLU: 2-18                        [1, 512]                  --\n",
       "│    └─Dropout: 2-19                     [1, 512]                  --\n",
       "│    └─Linear: 2-20                      [1, 256]                  131,328\n",
       "│    └─ReLU: 2-21                        [1, 256]                  --\n",
       "│    └─Dropout: 2-22                     [1, 256]                  --\n",
       "│    └─Linear: 2-23                      [1, 10]                   2,570\n",
       "==========================================================================================\n",
       "Total params: 17,480,330\n",
       "Trainable params: 17,480,330\n",
       "Non-trainable params: 0\n",
       "Total mult-adds (Units.GIGABYTES): 6.58\n",
       "==========================================================================================\n",
       "Input size (MB): 0.60\n",
       "Forward/backward pass size (MB): 57.81\n",
       "Params size (MB): 69.92\n",
       "Estimated Total Size (MB): 128.33\n",
       "=========================================================================================="
      ]
     },
     "execution_count": 11,
     "metadata": {},
     "output_type": "execute_result"
    }
   ],
   "source": [
    "# 定义vgg11，删除了最后一个VGG块\n",
    "vgg11_architecture = ((1, 64), (1, 128), (2, 256), (2, 512))\n",
    "model = VGG(vgg11_architecture)\n",
    "summary(model, (1, 3, 224, 224)) #用torchinfo中的summary方法对模型尺寸和结构进行输出"
   ]
  },
  {
   "cell_type": "markdown",
   "id": "4cebbba6-1327-4fd5-b809-e4cdcc89391a",
   "metadata": {},
   "source": [
    "### 3.6 确定损失函数和优化器"
   ]
  },
  {
   "cell_type": "code",
   "execution_count": 20,
   "id": "6e56698f-f7f7-4aa0-9e35-7786bb30daa8",
   "metadata": {},
   "outputs": [],
   "source": [
    "model = model.to(device)\n",
    "criterion = nn.CrossEntropyLoss(reduction='sum')\n",
    "optimizer = optim.Adam(model.parameters(), lr=lr)\n",
    "scaler = GradScaler(device)  # 用于缩放梯度"
   ]
  },
  {
   "cell_type": "markdown",
   "id": "889cc2d8-d325-4c71-8666-0a03dcbd20f9",
   "metadata": {},
   "source": [
    "### 3.7 训练函数\n",
    "\n",
    "- 采用的半精度训练方式\n",
    "- 手动释放显存"
   ]
  },
  {
   "cell_type": "code",
   "execution_count": 34,
   "id": "f6df300d-5a17-4805-bdbd-1512bebf9e98",
   "metadata": {},
   "outputs": [],
   "source": [
    "# 定义训练函数\n",
    "def train(epoch):\n",
    "    model.train()\n",
    "    train_loss = 0\n",
    "    correct_num = 0\n",
    "    total_num = 0\n",
    "    \n",
    "    optimizer.zero_grad() # 梯度清理\n",
    "    # 遍历训练数据\n",
    "    for batch_idx, (data, label) in enumerate(train_loader):\n",
    "        data, label = data.to(device), label.to(device) # 将数据和标签挪到GPU        \n",
    "\n",
    "        # 使用autocast进行半精度计算\n",
    "        with autocast(device_type='cuda'):\n",
    "            output = model(data) # 前向传播\n",
    "            loss = criterion(output, label) # 原始总损失\n",
    "            scaled_loss = loss/accumulation_steps # 缩放损失用于梯度累积\n",
    "\n",
    "        # 使用GradScaler进行反向传播和参数更新\n",
    "        scaler.scale(scaled_loss).backward() # 缩放损失并进行反向传播\n",
    "        # 根据累积次数更新参数\n",
    "        if (batch_idx + 1) % accumulation_steps == 0:\n",
    "            scaler.step(optimizer) # 使用缩放后的梯度进行参数更新\n",
    "            scaler.update() # 更新缩放因子\n",
    "            optimizer.zero_grad(set_to_none=True)  # 清空梯度\n",
    "        \n",
    "        train_loss += loss.item()  #计算损失\n",
    "        preds = torch.argmax(output, dim=1)\n",
    "        correct_num += torch.eq(preds, label).sum().item() # 预测正确数量\n",
    "        total_num += data.size(0) # 总预测数量\n",
    "\n",
    "        #手动释放显存\n",
    "        del data, label, output, loss\n",
    "        torch.cuda.empty_cache()\n",
    "\n",
    "    train_loss = train_loss/len(train_loader.dataset) # 计算平均训练损失\n",
    "    accuracy = correct_num/total_num # 计算准确率\n",
    "    print(f'Epoch:{epoch}\\tTraining Loss:{train_loss:.6f}, Accuracy:{accuracy:.6f}') # 输出信息"
   ]
  },
  {
   "cell_type": "markdown",
   "id": "625f492d-bc62-4bd6-8087-5a5bee21ada3",
   "metadata": {},
   "source": [
    "### 3.8 验证函数\n",
    "\n",
    "- 也采用的半精度的方式，但也可以不用"
   ]
  },
  {
   "cell_type": "code",
   "execution_count": 35,
   "id": "f4426e85-7335-429a-abf6-988878d13a61",
   "metadata": {},
   "outputs": [],
   "source": [
    "# 定义验证函数并初始化\n",
    "def evaluate(epoch): \n",
    "    model.eval() # 验证模式\n",
    "    evaluate_loss = 0 #累积验证损失\n",
    "    correct_num = 0 \n",
    "    total_num = 0 \n",
    "    \n",
    "    # 禁用梯度\n",
    "    with torch.no_grad():\n",
    "        # 遍历测试数据\n",
    "        for data, label in test_loader: \n",
    "            data, label = data.to(device), label.to(device) #数据迁移到GPU            \n",
    "            output = model(data) # 前向传播\n",
    "\n",
    "            # 使用autocast进行半精度计算\n",
    "            with autocast(device_type='cuda'):\n",
    "                output = model(data) # 前向传播           \n",
    "                loss = criterion(output, label) # 计算当前批次损失\n",
    "            \n",
    "            evaluate_loss += loss.item() # 累积总损失\n",
    "            preds = torch.argmax(output, dim=1) # 取得每行最大值的索引，获取预测结果。\n",
    "            correct_num += torch.eq(preds, label).sum().item() # 预测正确数量\n",
    "            total_num += data.size(0) # 总预测数量\n",
    "    evaluate_loss = evaluate_loss/total_num # 计算平均验证损失\n",
    "    accuracy = correct_num/total_num # 计算准确率\n",
    "    print(f'Epoch:{epoch}\\tValidation Loss:{evaluate_loss:.6f}, Accuracy:{accuracy:.6f}') #打印输出信息"
   ]
  },
  {
   "cell_type": "markdown",
   "id": "41d92d74-0af1-4ca0-9ecd-c1c6d2263519",
   "metadata": {},
   "source": [
    "### 3.9 训练"
   ]
  },
  {
   "cell_type": "code",
   "execution_count": 37,
   "id": "d24ce423-70a1-4dd8-882e-930f72454f0d",
   "metadata": {},
   "outputs": [
    {
     "name": "stdout",
     "output_type": "stream",
     "text": [
      "Epoch:1\tTraining Loss:0.043149, Accuracy:0.986760\n",
      "Epoch:1\tValidation Loss:1.778317, Accuracy:0.746600\n",
      "Epoch:2\tTraining Loss:0.027221, Accuracy:0.991600\n",
      "Epoch:2\tValidation Loss:2.057219, Accuracy:0.745000\n",
      "Epoch:3\tTraining Loss:0.023410, Accuracy:0.993020\n",
      "Epoch:3\tValidation Loss:2.165121, Accuracy:0.747900\n",
      "Epoch:4\tTraining Loss:0.019889, Accuracy:0.994560\n",
      "Epoch:4\tValidation Loss:2.217725, Accuracy:0.747400\n",
      "Epoch:5\tTraining Loss:0.017537, Accuracy:0.995000\n",
      "Epoch:5\tValidation Loss:2.227541, Accuracy:0.749600\n",
      "Epoch:6\tTraining Loss:0.013876, Accuracy:0.995420\n",
      "Epoch:6\tValidation Loss:2.649174, Accuracy:0.745600\n",
      "Epoch:7\tTraining Loss:0.020680, Accuracy:0.994300\n",
      "Epoch:7\tValidation Loss:2.191355, Accuracy:0.747400\n",
      "Epoch:8\tTraining Loss:0.017882, Accuracy:0.994320\n",
      "Epoch:8\tValidation Loss:2.284585, Accuracy:0.746100\n",
      "Epoch:9\tTraining Loss:0.021253, Accuracy:0.993920\n",
      "Epoch:9\tValidation Loss:2.364760, Accuracy:0.743200\n",
      "Epoch:10\tTraining Loss:0.020079, Accuracy:0.993700\n",
      "Epoch:10\tValidation Loss:2.157813, Accuracy:0.746200\n",
      "Epoch:11\tTraining Loss:0.012007, Accuracy:0.996140\n",
      "Epoch:11\tValidation Loss:2.441869, Accuracy:0.742600\n",
      "Epoch:12\tTraining Loss:0.022252, Accuracy:0.993480\n",
      "Epoch:12\tValidation Loss:2.203980, Accuracy:0.743600\n",
      "Epoch:13\tTraining Loss:0.021480, Accuracy:0.993820\n",
      "Epoch:13\tValidation Loss:2.314944, Accuracy:0.739700\n",
      "Epoch:14\tTraining Loss:0.022379, Accuracy:0.993200\n",
      "Epoch:14\tValidation Loss:2.354800, Accuracy:0.742400\n",
      "Epoch:15\tTraining Loss:0.024932, Accuracy:0.992460\n",
      "Epoch:15\tValidation Loss:2.263630, Accuracy:0.745200\n",
      "Epoch:16\tTraining Loss:0.029743, Accuracy:0.991400\n",
      "Epoch:16\tValidation Loss:2.097454, Accuracy:0.739800\n",
      "Epoch:17\tTraining Loss:0.031063, Accuracy:0.990400\n",
      "Epoch:17\tValidation Loss:2.165147, Accuracy:0.740600\n",
      "Epoch:18\tTraining Loss:0.024988, Accuracy:0.993020\n",
      "Epoch:18\tValidation Loss:2.303323, Accuracy:0.739700\n",
      "Epoch:19\tTraining Loss:0.040658, Accuracy:0.987900\n",
      "Epoch:19\tValidation Loss:2.126577, Accuracy:0.736400\n",
      "Epoch:20\tTraining Loss:0.026970, Accuracy:0.992120\n",
      "Epoch:20\tValidation Loss:2.229493, Accuracy:0.743700\n"
     ]
    }
   ],
   "source": [
    "for epoch in range(1, epochs+1):\n",
    "    train(epoch)\n",
    "    evaluate(epoch)\n",
    "    torch.cuda.empty_cache()"
   ]
  },
  {
   "cell_type": "markdown",
   "id": "5d6dc79d-236e-4117-b934-f8292293b997",
   "metadata": {},
   "source": [
    "## 4. 可视化CNN卷积核"
   ]
  },
  {
   "cell_type": "code",
   "execution_count": 90,
   "id": "360539d9-d955-47ca-92a2-82030cd36bd1",
   "metadata": {},
   "outputs": [
    {
     "name": "stdout",
     "output_type": "stream",
     "text": [
      "VGG(\n",
      "  (features): Sequential(\n",
      "    (0): Conv2d(3, 64, kernel_size=(3, 3), stride=(1, 1), padding=(1, 1))\n",
      "    (1): ReLU()\n",
      "    (2): MaxPool2d(kernel_size=2, stride=2, padding=0, dilation=1, ceil_mode=False)\n",
      "    (3): Conv2d(64, 128, kernel_size=(3, 3), stride=(1, 1), padding=(1, 1))\n",
      "    (4): ReLU()\n",
      "    (5): MaxPool2d(kernel_size=2, stride=2, padding=0, dilation=1, ceil_mode=False)\n",
      "    (6): Conv2d(128, 256, kernel_size=(3, 3), stride=(1, 1), padding=(1, 1))\n",
      "    (7): ReLU()\n",
      "    (8): Conv2d(256, 256, kernel_size=(3, 3), stride=(1, 1), padding=(1, 1))\n",
      "    (9): ReLU()\n",
      "    (10): MaxPool2d(kernel_size=2, stride=2, padding=0, dilation=1, ceil_mode=False)\n",
      "    (11): Conv2d(256, 512, kernel_size=(3, 3), stride=(1, 1), padding=(1, 1))\n",
      "    (12): ReLU()\n",
      "    (13): Conv2d(512, 512, kernel_size=(3, 3), stride=(1, 1), padding=(1, 1))\n",
      "    (14): ReLU()\n",
      "    (15): MaxPool2d(kernel_size=2, stride=2, padding=0, dilation=1, ceil_mode=False)\n",
      "  )\n",
      "  (avgpool): AdaptiveAvgPool2d(output_size=(7, 7))\n",
      "  (classifier): Sequential(\n",
      "    (0): Linear(in_features=25088, out_features=512, bias=True)\n",
      "    (1): ReLU()\n",
      "    (2): Dropout(p=0.5, inplace=False)\n",
      "    (3): Linear(in_features=512, out_features=256, bias=True)\n",
      "    (4): ReLU()\n",
      "    (5): Dropout(p=0.5, inplace=False)\n",
      "    (6): Linear(in_features=256, out_features=10, bias=True)\n",
      "  )\n",
      ")\n"
     ]
    }
   ],
   "source": [
    "print(model)"
   ]
  },
  {
   "cell_type": "code",
   "execution_count": 102,
   "id": "77187377-99f6-4d4e-9f33-1e120dab54b0",
   "metadata": {},
   "outputs": [
    {
     "data": {
      "image/png": "[encoded data removed]",
      "text/plain": [
       "<Figure size 400x100 with 16 Axes>"
      ]
     },
     "metadata": {},
     "output_type": "display_data"
    }
   ],
   "source": [
    "# 获取指定卷积层的权重\n",
    "conv1_weights = model.features[0].weight.data.cpu().numpy()[:16]  # 获取第一层卷积核，提取前16个核\n",
    "num_kernels = conv1_weights.shape[0]  # 这里是 16\n",
    "fig, axes = plt.subplots(2, 8, figsize=(4, 1))  # 2x8 网格\n",
    "for i in range(num_kernels):\n",
    "    ax = axes[i // 8, i % 8]\n",
    "    ax.imshow(conv1_weights[i, 0, :, :], cmap='bwr')  # 选择第一个通道来显示\n",
    "    ax.axis('off')\n",
    "plt.show()"
   ]
  },
  {
   "cell_type": "markdown",
   "id": "ee429000-1070-4135-9c57-8af04866390a",
   "metadata": {},
   "source": [
    "## 5. 收获"
   ]
  },
  {
   "cell_type": "markdown",
   "id": "6a6aee62-3fe9-49a3-8ff6-d8ad47fc9e7c",
   "metadata": {},
   "source": [
    "VGG的经验：\n",
    "- 从层到块！\n",
    "\n",
    "但参数量大，计算成本高。中间GPU炸了一次。"
   ]
  }
 ],
 "metadata": {
  "kernelspec": {
   "display_name": "Python 3 (ipykernel)",
   "language": "python",
   "name": "python3"
  },
  "language_info": {
   "codemirror_mode": {
    "name": "ipython",
    "version": 3
   },
   "file_extension": ".py",
   "mimetype": "text/x-python",
   "name": "python",
   "nbconvert_exporter": "python",
   "pygments_lexer": "ipython3",
   "version": "3.12.9"
  }
 },
 "nbformat": 4,
 "nbformat_minor": 5
}
