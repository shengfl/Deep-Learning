{
 "cells": [
  {
   "cell_type": "markdown",
   "id": "fa467b57-a9f7-41e0-a4a4-71f158a58a75",
   "metadata": {},
   "source": [
    "## 1. 门控循环单元（gated recurrent unit，GRU）\n",
    "---"
   ]
  },
  {
   "cell_type": "markdown",
   "id": "bedbe633-3296-4ae7-8c31-b9d021fb07ac",
   "metadata": {},
   "source": [
    "通过门控机制（Gated Mechanism）动态控制信息的流动，平衡长期记忆和短期输入的权重。\n",
    "\n",
    "传统RNN通过隐藏状态传递信息，但随着时间步增加，梯度可能消失或爆炸，导致难以捕捉长期依赖。GRU通过引入更新门和重置门，让模型自主决定何时保留旧信息、何时更新新信息，从而更好地建模长序列。"
   ]
  },
  {
   "cell_type": "code",
   "execution_count": 5,
   "id": "9c9cbcb6-bba8-4f75-9db3-6ede25a0e14a",
   "metadata": {},
   "outputs": [
    {
     "data": {
      "text/html": [
       "<img src=\"https://zh.d2l.ai/_images/gru-3.svg\" width=\"400\"/>"
      ],
      "text/plain": [
       "<IPython.core.display.Image object>"
      ]
     },
     "metadata": {},
     "output_type": "display_data"
    }
   ],
   "source": [
    "from IPython.display import Image, display\n",
    "url = 'https://zh.d2l.ai/_images/gru-3.svg'\n",
    "display(Image(url=url, width=400))"
   ]
  },
  {
   "cell_type": "markdown",
   "id": "71349dcd-223f-42a1-a3f2-ce603db4f544",
   "metadata": {},
   "source": [
    "## 2. 数学表达式"
   ]
  },
  {
   "cell_type": "markdown",
   "id": "2d8f36c0-a264-4ff4-b87b-bfacff034e33",
   "metadata": {},
   "source": [
    "为了捕获长期记忆和短期输入，希望有一个概率分布$p(x)$使得$t$时刻的隐藏状态等于：\n",
    "$$H_t=p(x)H_{t-1}+(1-p(x))\\hat H_{t}$$\n",
    "其中，$H_{t-1}$表示长期记忆；$\\hat H_{t}$代表短期输入，也就是候选隐状态。\n",
    "\n",
    "构造$p(x)$，也就是GRU中的更新门$Z_t$，使得其成为一个**可学习**的概率分布，即：\n",
    "$$p(x)=Z_t=\\sigma(W_{hz}H_{t-1}+W_{xz}X_t+b_z) $$\n",
    "候选隐状态需要区别于$H_{t-1}$，即要对其进行限制，类似的构造一个概率分布$q(x)$**作用**在$H_{t-1}$上。这个$q(x)$即是GRU中的重置门。\n",
    "$$q(x)=R_t=\\sigma(W_{hr}H_{t-1}+W_{xr}X_t+b_r) $$\n",
    "$$\\hat H_{t}=\\phi(W_{hh}(R_t\\odot H_{t-1})+W_{xh}X_t+b_h) $$\n",
    "\n",
    "整理后有：$$H_t=Z_t\\odot H_{t-1}+(1-Z_t)\\odot \\hat H_{t}$$\n",
    "\n",
    "$t$时刻的预测输出：$\\hat X_t = \\phi(W_{hx}H_{t}+b)$"
   ]
  },
  {
   "cell_type": "markdown",
   "id": "6f915515-5850-43ec-89c0-883783b6d13c",
   "metadata": {},
   "source": [
    "## 3. 文本分类\n",
    "\n",
    "基于以 imdb 数据集，实现了一个基本的 RNN 文本分类任务"
   ]
  },
  {
   "cell_type": "markdown",
   "id": "9f26e761-0439-4ca4-952d-b9849b9a506e",
   "metadata": {},
   "source": [
    "### 3.1 导入必要的包"
   ]
  },
  {
   "cell_type": "code",
   "execution_count": 18,
   "id": "4d00a50f-aa0c-4fed-94a1-ce80233ca50f",
   "metadata": {},
   "outputs": [],
   "source": [
    "import torch\n",
    "from datasets import load_dataset\n",
    "from torch.utils.data import DataLoader\n",
    "from transformers import BertTokenizer\n",
    "import torch.nn as nn\n",
    "import torch.optim as optim\n",
    "import matplotlib.pyplot as plt\n",
    "from IPython.display import display, clear_output"
   ]
  },
  {
   "cell_type": "markdown",
   "id": "5fe6ebfd-b208-4735-ac06-f816ad2d2587",
   "metadata": {},
   "source": [
    "### 3.2 设定超参数"
   ]
  },
  {
   "cell_type": "code",
   "execution_count": 7,
   "id": "f3931aab-7ab2-425e-8f37-9578c9889b04",
   "metadata": {},
   "outputs": [],
   "source": [
    "device = torch.device(\"cuda\" if torch.cuda.is_available() else \"cpu\")\n",
    "lr = 1e-3 #学习率\n",
    "batch_size = 16 # 批次大小\n",
    "epochs = 20 # 训练轮次"
   ]
  },
  {
   "cell_type": "markdown",
   "id": "0feb6d51-8eb3-4551-b823-088828a5e05c",
   "metadata": {},
   "source": [
    "### 3.3 处理数据"
   ]
  },
  {
   "cell_type": "code",
   "execution_count": 8,
   "id": "b0c3cabf-5093-42e1-b081-b806edcaf009",
   "metadata": {},
   "outputs": [],
   "source": [
    "# 加载IMDB数据集\n",
    "dataset = load_dataset(\"imdb\", cache_dir='./data')"
   ]
  },
  {
   "cell_type": "code",
   "execution_count": 9,
   "id": "bc80c099-95de-4295-b841-1f6f7ccaa89e",
   "metadata": {},
   "outputs": [],
   "source": [
    "# 分词器\n",
    "tokenizer = BertTokenizer.from_pretrained(\"bert-base-uncased\", cache_dir='./cache') # BERT Tokenizer 使用的是 WordPiece 算法"
   ]
  },
  {
   "cell_type": "code",
   "execution_count": 10,
   "id": "d3b5bfb2-03d2-4288-a40e-16bc5ce94b35",
   "metadata": {},
   "outputs": [],
   "source": [
    "# 定义预处理函数\n",
    "def preprocess_function(dataset):\n",
    "    return tokenizer(dataset['text'], padding='max_length', truncation=True, max_length=300)\n",
    "    \n",
    "# 应用预处理\n",
    "train_dataset = dataset['train'].map(preprocess_function, batched=True)\n",
    "test_dataset = dataset['test'].map(preprocess_function, batched=True)\n",
    "\n",
    "# 转换为 torch.Tensor\n",
    "def format_dataset(dataset):\n",
    "    dataset.set_format(type='torch', columns=['input_ids', 'attention_mask', 'label'])\n",
    "    return dataset\n",
    "\n",
    "# 应用格式化\n",
    "train_dataset = format_dataset(train_dataset)\n",
    "test_dataset = format_dataset(test_dataset)\n",
    "\n",
    "# 定义 collate_fn\n",
    "def collate_fn(batch):\n",
    "    input_ids = torch.stack([item['input_ids'] for item in batch])\n",
    "    attention_mask = torch.stack([item['attention_mask'] for item in batch])\n",
    "    labels = torch.tensor([item['label'] for item in batch])\n",
    "    \n",
    "    return {\n",
    "        'input_ids': input_ids,\n",
    "        'attention_mask': attention_mask,\n",
    "        'label': labels\n",
    "    }\n",
    "\n",
    "# 创建 DataLoader\n",
    "train_dataloader = DataLoader(train_dataset, batch_size=batch_size, shuffle=True, collate_fn=collate_fn)\n",
    "test_dataloader = DataLoader(test_dataset, batch_size=batch_size, collate_fn=collate_fn)"
   ]
  },
  {
   "cell_type": "markdown",
   "id": "5225c4f7-599d-4def-b9a1-e16391f58f9d",
   "metadata": {},
   "source": [
    "### 3.4 定义网络"
   ]
  },
  {
   "cell_type": "code",
   "execution_count": 11,
   "id": "a53a57ff-939d-49ac-be8b-5ab55a55a97f",
   "metadata": {},
   "outputs": [],
   "source": [
    "# 定义 RNN 模型\n",
    "class RNNModel(nn.Module):\n",
    "    def __init__(self, input_dim, hidden_dim, output_dim):\n",
    "        super(RNNModel, self).__init__()\n",
    "        self.embedding = nn.Embedding(input_dim, 128)\n",
    "        self.gru = nn.GRU(128, hidden_dim, batch_first=True)\n",
    "        self.fc = nn.Linear(hidden_dim, output_dim)\n",
    "        self.softmax = nn.Softmax(dim=1)\n",
    "        \n",
    "    def forward(self, x):\n",
    "        x = self.embedding(x)\n",
    "        out, _ = self.gru(x)\n",
    "        out = out[:, -1, :]  # 获取序列的最后一个输出\n",
    "        out = self.fc(out)\n",
    "        return self.softmax(out)"
   ]
  },
  {
   "cell_type": "markdown",
   "id": "b942d1b4-c4f7-4916-a6b9-601d47d067ba",
   "metadata": {},
   "source": [
    "### 3.5 实例化模型"
   ]
  },
  {
   "cell_type": "code",
   "execution_count": 12,
   "id": "fa68050b-9b9f-4cf4-9d50-4e17c1c7e308",
   "metadata": {},
   "outputs": [],
   "source": [
    "# BERT的词汇表大小为 30,000，隐藏层维度为128，输出类别数为2（正面或负面）\n",
    "model = RNNModel(input_dim=30000, hidden_dim=128, output_dim=2)"
   ]
  },
  {
   "cell_type": "code",
   "execution_count": 13,
   "id": "9e265479-9da2-4670-9e5f-59935ef2d476",
   "metadata": {},
   "outputs": [
    {
     "data": {
      "text/plain": [
       "=================================================================\n",
       "Layer (type:depth-idx)                   Param #\n",
       "=================================================================\n",
       "RNNModel                                 --\n",
       "├─Embedding: 1-1                         3,840,000\n",
       "├─GRU: 1-2                               99,072\n",
       "├─Linear: 1-3                            258\n",
       "├─Softmax: 1-4                           --\n",
       "=================================================================\n",
       "Total params: 3,939,330\n",
       "Trainable params: 3,939,330\n",
       "Non-trainable params: 0\n",
       "================================================================="
      ]
     },
     "execution_count": 13,
     "metadata": {},
     "output_type": "execute_result"
    }
   ],
   "source": [
    "from torchinfo import summary\n",
    "summary(model)"
   ]
  },
  {
   "cell_type": "markdown",
   "id": "49e19683-26fc-4d4d-82b9-acef116dddbd",
   "metadata": {},
   "source": [
    "### 3.6 选择损失函数和优化器"
   ]
  },
  {
   "cell_type": "code",
   "execution_count": 14,
   "id": "b657f6a2-536c-4bc6-87e4-5caee0389757",
   "metadata": {},
   "outputs": [],
   "source": [
    "# 使用交叉熵损失函数\n",
    "criterion = nn.CrossEntropyLoss()\n",
    "optimizer = optim.Adam(model.parameters(), lr=lr)\n",
    "model.to(device)\n",
    "scaler = torch.amp.GradScaler()"
   ]
  },
  {
   "cell_type": "code",
   "execution_count": 15,
   "id": "bdab1ff5-1867-4aa9-9d45-277d4344f0dd",
   "metadata": {},
   "outputs": [],
   "source": [
    "# 定义训练函数\n",
    "def train(epoch):\n",
    "    model.train()\n",
    "    train_loss = 0\n",
    "    correct_num = 0\n",
    "    total_num = 0\n",
    "    \n",
    "    # 遍历训练数据\n",
    "    for batch in train_dataloader:\n",
    "        # 将数据和标签挪到GPU  \n",
    "        data = batch['input_ids'].to(device)\n",
    "        label = batch['label'].to(device)\n",
    "        \n",
    "        optimizer.zero_grad() # 梯度清理\n",
    "        with torch.amp.autocast(device_type='cuda'):\n",
    "            output = model(data)\n",
    "            loss = criterion(output, label)\n",
    "        # 使用 GradScaler 进行 loss 反向传播\n",
    "        scaler.scale(loss).backward()\n",
    "        scaler.step(optimizer)\n",
    "        scaler.update()\n",
    "        \n",
    "        train_loss += loss.item()  #计算总损失\n",
    "        preds = torch.argmax(output, dim=1)\n",
    "        correct_num += torch.eq(preds, label).sum().item() # 预测正确数量\n",
    "        total_num += label.size(0) # 总预测数量\n",
    "\n",
    "        #手动释放显存\n",
    "        del data, label, output, loss\n",
    "        torch.cuda.empty_cache()\n",
    "\n",
    "    train_loss = train_loss/len(train_dataloader) # 计算平均训练损失\n",
    "    accuracy = correct_num/total_num # 计算准确率\n",
    "    train_losses.append(train_loss)\n",
    "    train_accuracies.append(accuracy)\n",
    "    print(f'Epoch:{epoch}\\tTraining Loss:{train_loss:.6f}, Accuracy:{accuracy:.6f}') # 输出信息"
   ]
  },
  {
   "cell_type": "code",
   "execution_count": 16,
   "id": "e6c0c0fa-31e7-43fc-a0ac-b9a8f406c13e",
   "metadata": {},
   "outputs": [],
   "source": [
    "# 定义验证函数并初始化\n",
    "def evaluate(epoch): \n",
    "    model.eval() # 验证模式\n",
    "    evaluate_loss = 0 #累积验证损失\n",
    "    correct_num = 0 \n",
    "    total_num = 0 \n",
    "    \n",
    "    # 禁用梯度\n",
    "    with torch.no_grad():\n",
    "        # 遍历测试数据\n",
    "        for batch in test_dataloader: \n",
    "            # 将数据和标签挪到GPU  \n",
    "            data = batch['input_ids'].to(device)\n",
    "            label = batch['label'].to(device)\n",
    "            with torch.amp.autocast(device_type='cuda'):  # 同样使用半精度\n",
    "                output = model(data)\n",
    "                loss = criterion(output, label)\n",
    "\n",
    "            evaluate_loss += loss.item() # 累积总损失\n",
    "            preds = torch.argmax(output, dim=1)\n",
    "            correct_num += torch.eq(preds, label).sum().item() # 预测正确数量\n",
    "            total_num += label.size(0) # 总预测数量\n",
    "    accuracy = correct_num/total_num # 计算准确率\n",
    "    evaluate_loss = evaluate_loss/total_num # 计算平均验证损失\n",
    "    test_accuracies.append(accuracy)\n",
    "    print(f'Epoch:{epoch}\\tValidation Loss:{evaluate_loss:.6f}, Accuracy:{accuracy:.6f}') #打印输出信息"
   ]
  },
  {
   "cell_type": "code",
   "execution_count": 19,
   "id": "ecec856f-f41a-415b-8da4-b2cdd497c618",
   "metadata": {},
   "outputs": [
    {
     "data": {
      "image/png": "[encoded data removed]",
      "text/plain": [
       "<Figure size 500x300 with 2 Axes>"
      ]
     },
     "metadata": {},
     "output_type": "display_data"
    }
   ],
   "source": [
    "# 初始化数据\n",
    "train_losses = []\n",
    "train_accuracies = []\n",
    "test_accuracies = []\n",
    "\n",
    "# 设置 x 轴范围\n",
    "initial_x_range = 10\n",
    "x_range = initial_x_range  # 初始的 x 轴范围\n",
    "\n",
    "# 画图函数\n",
    "def plot_graph(epoch):\n",
    "    global x_range\n",
    "\n",
    "    # 如果 epoch 数量大于 x 轴范围的上限，就扩展 x 轴范围\n",
    "    if epoch > x_range:\n",
    "        x_range += 10\n",
    "    \n",
    "    clear_output(wait=True)  # 清除上一次的图表\n",
    "    \n",
    "    fig, ax1 = plt.subplots(figsize=(5, 3))\n",
    "\n",
    "    # 绘制训练损失（左 y 轴）\n",
    "    ax1.set_xlabel('Epochs')\n",
    "    ax1.set_ylabel('Train Loss', color='tab:red')\n",
    "    ax1.plot(range(1, len(train_losses) + 1), train_losses, color='tab:red', label='Train Loss', linewidth=0.8, marker='o', markersize=4, markeredgecolor='black')\n",
    "    ax1.tick_params(axis='y', labelcolor='tab:red')\n",
    "    ax1.set_xlim(0, x_range)\n",
    "\n",
    "    # 创建右侧 y 轴（准确率）\n",
    "    ax2 = ax1.twinx()\n",
    "    ax2.set_ylabel('Accuracy', color='tab:blue')\n",
    "    ax2.plot(range(1, len(train_accuracies) + 1), train_accuracies, color='tab:blue', label='Train Accuracy', linewidth=0.8, marker='s', markersize=4, markeredgecolor='black')\n",
    "    ax2.plot(range(1, len(test_accuracies) + 1), test_accuracies, color='tab:green', label='Test Accuracy', linewidth=0.8, marker='^', markersize=4, markeredgecolor='black')\n",
    "    ax2.tick_params(axis='y', labelcolor='tab:blue')\n",
    "\n",
    "    # 获取 ax1 和 ax2 的图例并合并\n",
    "    handles1, labels1 = ax1.get_legend_handles_labels()\n",
    "    handles2, labels2 = ax2.get_legend_handles_labels()\n",
    "    handles = handles1 + handles2\n",
    "    labels = labels1 + labels2\n",
    "\n",
    "    # 添加合并后的图例\n",
    "    legend = ax1.legend(handles, labels, loc='upper left', bbox_to_anchor=(0.65, 1), fontsize=8, markerscale=1.2, frameon=False)\n",
    "\n",
    "    # 调整图例位置，避免遮挡折线\n",
    "    ax1.add_artist(legend)\n",
    "\n",
    "    plt.title('Training Loss and Accuracy')\n",
    "    plt.show()\n",
    "\n",
    "# 训练和评估循环\n",
    "for epoch in range(1, epochs + 1):\n",
    "    train(epoch)\n",
    "    evaluate(epoch)\n",
    "    plot_graph(epoch)  # 更新图表"
   ]
  },
  {
   "cell_type": "code",
   "execution_count": null,
   "id": "3067caab-6120-4e00-98c3-987b746188ae",
   "metadata": {},
   "outputs": [],
   "source": []
  }
 ],
 "metadata": {
  "kernelspec": {
   "display_name": "Python 3 (ipykernel)",
   "language": "python",
   "name": "python3"
  },
  "language_info": {
   "codemirror_mode": {
    "name": "ipython",
    "version": 3
   },
   "file_extension": ".py",
   "mimetype": "text/x-python",
   "name": "python",
   "nbconvert_exporter": "python",
   "pygments_lexer": "ipython3",
   "version": "3.12.9"
  }
 },
 "nbformat": 4,
 "nbformat_minor": 5
}
