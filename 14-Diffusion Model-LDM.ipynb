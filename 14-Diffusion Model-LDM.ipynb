{
 "cells": [
  {
   "cell_type": "markdown",
   "id": "d390f5a4-5620-40cd-80e2-84c76b87539c",
   "metadata": {},
   "source": [
    "## 1. 扩散模型（Diffusion Model）"
   ]
  },
  {
   "cell_type": "code",
   "execution_count": 124,
   "id": "10b2bef8-0a55-4987-8b42-7886809552f7",
   "metadata": {},
   "outputs": [
    {
     "data": {
      "text/html": [
       "<img src=\"https://lilianweng.github.io/posts/2021-07-11-diffusion-models/DDPM.png\" width=\"600\"/>"
      ],
      "text/plain": [
       "<IPython.core.display.Image object>"
      ]
     },
     "metadata": {},
     "output_type": "display_data"
    }
   ],
   "source": [
    "from IPython.display import Image, display\n",
    "url = 'https://lilianweng.github.io/posts/2021-07-11-diffusion-models/DDPM.png'\n",
    "display(Image(url=url, width=600))"
   ]
  },
  {
   "cell_type": "markdown",
   "id": "ada9a134-d114-457d-bb41-0edd136d3ac3",
   "metadata": {},
   "source": [
    "分两个方向：\n",
    "\n",
    "**正向过程（扩散过程）**：将原始数据（如图像）逐步添加高斯噪声，最终转化为纯噪声。每一步的噪声强度由预设的调度策略控制（如线性增加噪声）。这一过程是确定性的，不需要学习。\n",
    "\n",
    "**逆向过程（去噪过程）**：模型通过训练学习如何逐步去除噪声，将纯噪声还原为原始数据。这是扩散模型的核心：通过神经网络（如U-Net）预测每一步的噪声，并迭代去噪。"
   ]
  },
  {
   "cell_type": "markdown",
   "id": "652b2758-3284-4680-8329-d45570610f62",
   "metadata": {},
   "source": [
    "## 2. 数学表达式"
   ]
  },
  {
   "cell_type": "markdown",
   "id": "8a00b280-5abc-4ca5-856f-f9a688749600",
   "metadata": {},
   "source": [
    "### 2.1 正向过程"
   ]
  },
  {
   "cell_type": "markdown",
   "id": "db09408d-49b6-4d6e-89ac-7c041c61cdf4",
   "metadata": {},
   "source": [
    "将数据 $x_0$ 逐步添加高斯噪声，在T步之后，变为纯噪声 $x_T\\sim\\mathcal{N}(0,I)$  \n",
    "\n",
    "假设从真实分布中取样 $x_0$ 服从某个分布 $x_0 \\sim q(x)$  \n",
    "\n",
    "$t$ 时刻的分布只取决于前一时刻 $t-1$ 的状态（马尔可夫性）  \n",
    "\n",
    "$\\beta_t$ 是 $t$ 时刻加入的噪声比例，预设的噪声调度参数（例如线性增长或余弦调度）    \n",
    "\n",
    "$q(x_t|x_{t-1})=\\mathcal{N}(x_t; \\sqrt{1-\\beta_t} x_{t-1}, \\beta_tI))$  \n",
    "\n",
    "通过重参数化技巧，可以从 $x_0$ 直接计算任意 $t$ 时刻的 $x_t=\\sqrt{\\bar\\alpha_t}x_0+\\sqrt{1-\\bar\\alpha_t}\\epsilon,  \\epsilon\\sim\\mathcal{N}(0,I)$"
   ]
  },
  {
   "cell_type": "markdown",
   "id": "ca024595-a5eb-448c-b43a-b52c33d319df",
   "metadata": {},
   "source": [
    "推导过程：  \n",
    "\n",
    "$$x_t = \\sqrt{1-\\beta_t} x_{t-1} + \\sqrt\\beta_t\\epsilon_{t-1} $$\n",
    "$$=\\sqrt{1-\\beta_t}(\\sqrt{1-\\beta_{t-1}} x_{t-2} + \\sqrt{\\beta_{t-1}}\\epsilon_{t-2})+ \\sqrt\\beta_t\\epsilon_{t-1}$$\n",
    "$$=\\sqrt{1-\\beta_t}\\sqrt{1-\\beta_{t-1}} x_{t-2} + \\sqrt{1-\\beta_t}\\sqrt{\\beta_{t-1}}\\epsilon_{t-2}+ \\sqrt\\beta_t\\epsilon_{t-1}=\\cdots$$\n",
    "$$=\\prod_{i=1}^t\\sqrt{1-\\beta_i}x_0 + \\sqrt\\beta_t\\epsilon_{t-1} + \\sqrt{1-\\beta_t}\\sqrt{\\beta_{t-1}}\\epsilon_{t-2} + \\cdots $$"
   ]
  },
  {
   "cell_type": "markdown",
   "id": "fdd21c55-a8e1-4036-988c-589ce4c51826",
   "metadata": {},
   "source": [
    "除第一项外，剩余项为n个标准正态分布的叠加，方差\n",
    "$$\\sigma^2=\\beta_t+(1-\\beta_t)\\beta_{t-1}+\\cdots$$\n",
    "令$$\\alpha_t=1-\\beta_t$$\n",
    "有\n",
    "$$\\sigma^2=1-\\alpha_t+\\alpha_t(1-\\alpha_{t-1})+\\cdots$$\n",
    "$$=1-\\prod_{i=1}^t\\alpha_i$$ \n",
    "于是\n",
    "$$x_t=\\left(\\prod_{i=1}^t(1-\\beta_i) \\right)^{1/2}x_0+\\left(1-\\prod_{i=1}^t(1-\\beta_i)\\right)^{1/2}\\epsilon, \\ \\epsilon\\sim\\mathcal{N}(0,I)$$"
   ]
  },
  {
   "cell_type": "markdown",
   "id": "ca2f7441-48f8-4454-80ee-d240fa7edd97",
   "metadata": {},
   "source": [
    "定义$$\\bar\\alpha_t:=\\prod_{i=1}^t(1-\\beta_i)$$\n",
    "表示前 $t$ 步累积的噪声保留率。"
   ]
  },
  {
   "cell_type": "markdown",
   "id": "4203f834-5630-4fe1-a355-e9eb27d783b1",
   "metadata": {},
   "source": [
    "### 2.2 逆向过程"
   ]
  },
  {
   "cell_type": "markdown",
   "id": "00d253b5-f163-4d65-a0f6-ea3f0a200397",
   "metadata": {},
   "source": [
    "从噪声 $x_T\\sim\\mathcal{N}(0,I)$  逐步还原出原始数据 $x_0$\n",
    "\n",
    "当$\\beta_t$较小时，假设逆过程也是高斯的，于是 $q(x_{t-1}|x_t)$ 是高斯的。在给定 $x_0$ 的情况下，$q(x_{t-1}|x_t, x_0)$ 是有解析解的。\n",
    "\n",
    "**根据 $x_0$ 已知程度的不同**，可以对应一些不同的应用场景。如果完全已知，则可以用来检验模型效果；若部分已知，如被遮挡，给定部分像素或 mask，条件扩散模型引导生成合理的其余图像部分；采用类似的图像，则可以生成具有相同风格/结构的新图像；如果给定的是图像所属类别标签，如\"狗\"、\"猫\"，模型从高斯噪声生成对应图像；也可以给定一段自然语言的描述，生成图像。\n",
    "\n",
    "一般情况下这个分布很难计算，于是希望找到另外一个变分分布 $p_\\theta$ 去迫近，也就是我们需要学习的模型。\n",
    "$$p_\\theta(x_{t-1} | x_t) = \\mathcal{N}(x_{t-1}; \\mu_\\theta(x_t, t), \\Sigma_\\theta(x_t, t))$$\n",
    "其中 $ \\mu_\\theta $ 和$  \\Sigma_\\theta  $是神经网络学习的均值和方差。这个过程类似于VAE"
   ]
  },
  {
   "cell_type": "markdown",
   "id": "85d08748-faba-435f-8251-1f78dfff980a",
   "metadata": {},
   "source": [
    "[Ho et al. (2020)](https://arxiv.org/pdf/2006.11239) 提出，只在每个时间步最小化：\n",
    "$$\\mathbb{E}_{x_0,\\epsilon,t}\\left[||\\epsilon-\\epsilon_\\theta (x_t,t)||^2\\right]$$\n",
    "等价于对 ELBO 的近似优化。\n",
    "\n",
    "从闭式采样中得到 $x_t=\\sqrt{\\bar\\alpha_t}x_0+\\sqrt{1-\\bar\\alpha_t}\\epsilon$\n",
    "\n",
    "将 $x_t$ 传入一个神经网络，训练其预测原始噪声, 得到预测结果 $\\hat\\epsilon$\n",
    "\n",
    "直接采用MSE作为损失函数。 $L_t = \\mathbb{E}_{x_0,\\epsilon}\\left[||\\epsilon-\\epsilon_\\theta (\\sqrt{\\bar\\alpha_t}x_0+\\sqrt{1-\\bar\\alpha_t}\\epsilon,t)||^2\\right]$\n",
    "\n",
    "有了预测噪声 $\\hat\\epsilon$，用其构造 $\\hat x_0$ ，利用 $x_0$ 已知情况下 $q(x_{t-1}|x_t, x_0)$ 的闭式解公式来更新参数。"
   ]
  },
  {
   "cell_type": "markdown",
   "id": "6c2d6368-89de-42bc-9af6-3f01edd16835",
   "metadata": {},
   "source": [
    "当 $x_0$ 已知时， $q(x_{t-1}|x_t, x_0)=\\mathcal{N}(x_{t-1};\\tilde{mu}(x_t,x_0),\\tilde{\\beta_t}I)$ 的闭式解为：\n",
    "$$\\tilde{\\beta_t}=\\frac{1-\\bar\\alpha_{t-1}}{1-\\bar\\alpha_t}\\cdot \\beta_t$$\n",
    "$$\\tilde{\\mu}(x_t,x_0)=\\frac{\\sqrt{\\alpha_t}(1-\\bar\\alpha_{t-1})}{1-\\bar\\alpha_t}x_t+\\frac{\\sqrt{\\bar\\alpha_{t-1}}\\beta_t}{1-\\bar\\alpha_t}x_0$$"
   ]
  },
  {
   "cell_type": "markdown",
   "id": "ed414315-8982-4a11-8c81-abbea2a53485",
   "metadata": {},
   "source": [
    "由预测噪声 $\\hat\\epsilon$ 得到 $$\\hat x_0=\\frac{1}{\\sqrt{\\bar\\alpha_t}}(x_t - \\sqrt{1-\\bar\\alpha_t}\\hat\\epsilon)$$\n",
    "\n",
    "带入上式，有：\n",
    "$${\\mu}(x_t,x_0)=\\frac{\\sqrt{\\alpha_t}(1-\\bar\\alpha_{t-1})}{1-\\bar\\alpha_t}x_t+\\frac{\\sqrt{\\bar\\alpha_{t-1}}\\beta_t}{1-\\bar\\alpha_t}\\hat x_0$$"
   ]
  },
  {
   "cell_type": "markdown",
   "id": "2905e167-b311-4c84-b591-a18081109c75",
   "metadata": {},
   "source": [
    "### 2.3 隐状态空间"
   ]
  },
  {
   "cell_type": "markdown",
   "id": "15aa17c3-0b68-431d-860e-3f8605937367",
   "metadata": {},
   "source": [
    "Latent Diffusion Model, LDM 就是让上述过程发生在隐状态空间内。[LDM](https://arxiv.org/pdf/2112.10752)"
   ]
  },
  {
   "cell_type": "code",
   "execution_count": 125,
   "id": "0bc28337-916f-4a5d-a1be-8ebcdc2558ee",
   "metadata": {},
   "outputs": [
    {
     "data": {
      "text/html": [
       "<img src=\"https://towardsdatascience.com/wp-content/uploads/2022/09/1WTe5olMSFC-T6No0Y_gKWg.png\" width=\"600\"/>"
      ],
      "text/plain": [
       "<IPython.core.display.Image object>"
      ]
     },
     "metadata": {},
     "output_type": "display_data"
    }
   ],
   "source": [
    "url = 'https://towardsdatascience.com/wp-content/uploads/2022/09/1WTe5olMSFC-T6No0Y_gKWg.png'\n",
    "display(Image(url=url, width=600))"
   ]
  },
  {
   "cell_type": "markdown",
   "id": "b021f293-5456-4cb4-85bb-f7ce331885b6",
   "metadata": {},
   "source": [
    "## 3. 简单实现"
   ]
  },
  {
   "cell_type": "code",
   "execution_count": 2,
   "id": "b92778d6-da8f-4dd9-8a0e-010e94dc5499",
   "metadata": {},
   "outputs": [],
   "source": [
    "import torch\n",
    "import torch.nn as nn\n",
    "import torch.nn.functional as F\n",
    "import torchvision.datasets as datasets\n",
    "from torchvision import transforms\n",
    "from torch.utils.data import DataLoader, Subset\n",
    "from torch.amp import autocast, GradScaler\n",
    "from torchinfo import summary\n",
    "import math\n",
    "import os\n",
    "from PIL import Image\n",
    "import matplotlib.pyplot as plt\n",
    "\n",
    "import numpy as np\n",
    "from torchvision.utils import save_image, make_grid\n",
    "import tqdm"
   ]
  },
  {
   "cell_type": "code",
   "execution_count": 3,
   "id": "ae8e6e49-5ae8-41cd-8b15-df40b5d1eec9",
   "metadata": {},
   "outputs": [],
   "source": [
    "device = torch.device('cuda' if torch.cuda.is_available() else 'cpu')\n",
    "data_path = 'data/celeba_hq_256/'\n",
    "image_size = 256\n",
    "downscale = 4\n",
    "batch_size = 64\n",
    "in_channels = 3\n",
    "timesteps = 1000\n",
    "latent_dim = 32"
   ]
  },
  {
   "cell_type": "code",
   "execution_count": 4,
   "id": "cc7f389c-a26f-469b-93b5-e646585ddebb",
   "metadata": {},
   "outputs": [],
   "source": [
    "# CelebA-HQ Super-Resolution Dataset\n",
    "class CelebASuperRes(torch.utils.data.Dataset):\n",
    "    def __init__(self, root, transform=None, size=256, downscale=4):\n",
    "        self.root = root\n",
    "        self.transform = transform\n",
    "        self.size = size\n",
    "        self.downscale = downscale\n",
    "        self.images = [f for f in os.listdir(root) if f.endswith('.jpg')]\n",
    "\n",
    "    def __len__(self):\n",
    "        return len(self.images)\n",
    "\n",
    "    def __getitem__(self, idx):\n",
    "        img = Image.open(os.path.join(self.root, self.images[idx])).convert('RGB')\n",
    "        hr = transforms.Resize((self.size, self.size))(img)\n",
    "        lr = transforms.Resize((self.size // self.downscale, self.size // self.downscale))(hr)\n",
    "        lr = transforms.Resize((self.size, self.size), interpolation=Image.BICUBIC)(lr)\n",
    "        if self.transform:\n",
    "            hr = self.transform(hr)\n",
    "            lr = self.transform(lr)\n",
    "        return hr, lr"
   ]
  },
  {
   "cell_type": "code",
   "execution_count": 5,
   "id": "82ecb634-6e48-4ad7-b297-12fe605c5e54",
   "metadata": {},
   "outputs": [],
   "source": [
    "mean=[0.485, 0.456, 0.406]\n",
    "std=[0.229, 0.224, 0.225]\n",
    "def denormalize(tensor, mean, std):\n",
    "    mean = torch.tensor(mean).view(1, 3, 1, 1).to(tensor.device)\n",
    "    std = torch.tensor(std).view(1, 3, 1, 1).to(tensor.device)\n",
    "    return tensor * std + mean\n",
    "\n",
    "transform = transforms.Compose([\n",
    "    transforms.ToTensor(),\n",
    "    transforms.Normalize(mean, std)\n",
    "])"
   ]
  },
  {
   "cell_type": "code",
   "execution_count": 6,
   "id": "c8065e12-64b2-4419-a800-d85dd8573013",
   "metadata": {},
   "outputs": [],
   "source": [
    "dataset = CelebASuperRes(data_path, transform=transform, size=image_size, downscale=downscale)\n",
    "subset_dataset = Subset(dataset, range(15000))\n",
    "dataloader = DataLoader(subset_dataset, batch_size=batch_size, shuffle=True, num_workers=0, pin_memory=True)\n",
    "unloader = transforms.ToPILImage()"
   ]
  },
  {
   "cell_type": "code",
   "execution_count": 7,
   "id": "e8c81437-ceb6-4951-ada1-39aa93210734",
   "metadata": {},
   "outputs": [
    {
     "data": {
      "image/png": "[encoded data removed]",
      "text/plain": [
       "<Figure size 1200x200 with 8 Axes>"
      ]
     },
     "metadata": {},
     "output_type": "display_data"
    }
   ],
   "source": [
    "images, _ = next(iter(dataloader))\n",
    "images = denormalize(images[:8], mean, std)\n",
    "\n",
    "fig, axes = plt.subplots(1, 8, figsize=(12, 2))\n",
    "for i in range(8):\n",
    "    axes[i].imshow(images[i].permute(1, 2, 0).cpu().numpy())\n",
    "    axes[i].axis(\"off\")\n",
    "plt.show()"
   ]
  },
  {
   "cell_type": "code",
   "execution_count": 36,
   "id": "a2eca0e7-4e39-4d70-81fa-7f87869b0eb4",
   "metadata": {},
   "outputs": [],
   "source": [
    "# Time embedding\n",
    "class TimeEmbedding(nn.Module):\n",
    "    def __init__(self, dim):\n",
    "        super().__init__()\n",
    "        self.linear1 = nn.Linear(dim, dim * 4)\n",
    "        self.linear2 = nn.Linear(dim * 4, dim)\n",
    "        self.act = nn.SiLU()\n",
    "\n",
    "    def forward(self, t):\n",
    "        half_dim = self.linear1.in_features // 2\n",
    "        emb = math.log(10000) / (half_dim - 1)\n",
    "        emb = torch.exp(torch.arange(half_dim, device=t.device) * -emb)\n",
    "        emb = t[:, None] * emb[None, :]\n",
    "        emb = torch.cat((emb.sin(), emb.cos()), dim=-1)\n",
    "        return self.linear2(self.act(self.linear1(emb)))"
   ]
  },
  {
   "cell_type": "code",
   "execution_count": 37,
   "id": "8a5ed695-d461-42fa-b6fc-07611071fb18",
   "metadata": {},
   "outputs": [],
   "source": [
    "# Residual block with time embedding\n",
    "class ResBlock(nn.Module):\n",
    "    def __init__(self, in_ch, out_ch, time_emb_dim):\n",
    "        super().__init__()\n",
    "        self.block1 = nn.Sequential(\n",
    "            nn.Conv2d(in_ch, out_ch, 3, padding=1),\n",
    "            nn.GroupNorm(8, out_ch),\n",
    "            nn.SiLU()\n",
    "        )\n",
    "        self.time_mlp = nn.Sequential(\n",
    "            nn.SiLU(),\n",
    "            nn.Linear(time_emb_dim, out_ch)\n",
    "        )\n",
    "        self.block2 = nn.Sequential(\n",
    "            nn.Conv2d(out_ch, out_ch, 3, padding=1),\n",
    "            nn.GroupNorm(8, out_ch),\n",
    "            nn.SiLU()\n",
    "        )\n",
    "        self.residual = nn.Conv2d(in_ch, out_ch, 1) if in_ch != out_ch else nn.Identity()\n",
    "\n",
    "    def forward(self, x, t_emb):\n",
    "        h = self.block1(x)\n",
    "        h = h + self.time_mlp(t_emb)[:, :, None, None]\n",
    "        h = self.block2(h)\n",
    "        return h + self.residual(x)"
   ]
  },
  {
   "cell_type": "code",
   "execution_count": 38,
   "id": "969a2998-5086-4e02-94da-38624d4ca924",
   "metadata": {},
   "outputs": [],
   "source": [
    "# Self-Attention block (for 2D images)\n",
    "class AttentionBlock(nn.Module):\n",
    "    def __init__(self, channels):\n",
    "        super().__init__()\n",
    "        self.norm = nn.GroupNorm(8, channels)\n",
    "        self.q = nn.Conv1d(channels, channels, 1)\n",
    "        self.k = nn.Conv1d(channels, channels, 1)\n",
    "        self.v = nn.Conv1d(channels, channels, 1)\n",
    "        self.proj = nn.Conv1d(channels, channels, 1)\n",
    "\n",
    "    def forward(self, x):\n",
    "        B, C, H, W = x.shape\n",
    "        x_ = self.norm(x).view(B, C, H * W)  # [B, C, HW]\n",
    "        q, k, v = self.q(x_), self.k(x_), self.v(x_)\n",
    "\n",
    "        attn = torch.softmax(q.transpose(1, 2) @ k / math.sqrt(C), dim=-1)\n",
    "        out = v @ attn.transpose(1, 2)  # [B, C, HW]\n",
    "        out = self.proj(out).view(B, C, H, W)\n",
    "        return out + x"
   ]
  },
  {
   "cell_type": "code",
   "execution_count": 39,
   "id": "b3717541-5022-4d77-8272-27f5f8dd3cd5",
   "metadata": {},
   "outputs": [],
   "source": [
    "# UNet with Conv down/up and center attention\n",
    "class UNet(nn.Module):\n",
    "    def __init__(self, time_emb_dim=256):\n",
    "        super().__init__()\n",
    "        self.time_embedding = TimeEmbedding(time_emb_dim)\n",
    "\n",
    "        self.enc1 = ResBlock(32, 128, time_emb_dim)\n",
    "        self.down1 = nn.Conv2d(128, 256, 4, 2, 1)  # downsample\n",
    "        self.enc2 = ResBlock(256, 256, time_emb_dim)\n",
    "        self.down2 = nn.Conv2d(256, 512, 4, 2, 1)  # downsample\n",
    "        self.enc3 = ResBlock(512, 512, time_emb_dim)\n",
    "        # self.down3 = nn.Conv2d(128, 256, 4, 2, 1)  # downsample\n",
    "        # self.enc4 = ResBlock(256, 256, time_emb_dim)\n",
    "\n",
    "        self.mid = nn.Sequential(\n",
    "            ResBlock(512, 512, time_emb_dim),\n",
    "            AttentionBlock(512),\n",
    "            ResBlock(512, 512, time_emb_dim)\n",
    "        )\n",
    "        \n",
    "        # self.up1 = nn.ConvTranspose2d(256, 128, 4, 2, 1)  # upsample\n",
    "        # self.dec1 = ResBlock(128, 128, time_emb_dim)\n",
    "        self.up2 = nn.ConvTranspose2d(512, 256, 4, 2, 1)  # upsample\n",
    "        self.dec2 = ResBlock(256, 256, time_emb_dim)\n",
    "        self.up3 = nn.ConvTranspose2d(256, 128, 4, 2, 1)  # upsample\n",
    "        self.dec3 = ResBlock(128, 128, time_emb_dim)\n",
    "        self.out = nn.Conv2d(128, 32, 1)\n",
    "\n",
    "    def forward(self, x, t):\n",
    "        t_emb = self.time_embedding(t)\n",
    "\n",
    "        x1 = self.enc1(x, t_emb)\n",
    "        x2 = self.enc2(self.down1(x1), t_emb)\n",
    "        x3 = self.enc3(self.down2(x2), t_emb)\n",
    "        # x4 = self.enc4(self.down3(x3), t_emb)        \n",
    "        \n",
    "        x_mid = self.mid[0](x3, t_emb)  # ResBlock\n",
    "        x_mid = self.mid[1](x_mid)      # AttentionBlock\n",
    "        x_mid = self.mid[2](x_mid, t_emb)  # ResBlock\n",
    "\n",
    "        # x_up1 = self.dec1(self.up1(x_mid), t_emb)\n",
    "        x_up2 = self.dec2(self.up2(x_mid), t_emb)\n",
    "        x_up3 = self.dec3(self.up3(x_up2), t_emb)\n",
    "        return self.out(x_up3)"
   ]
  },
  {
   "cell_type": "code",
   "execution_count": 40,
   "id": "ade7e03d-58ca-43b3-a566-d64143bc5258",
   "metadata": {},
   "outputs": [],
   "source": [
    "from copy import deepcopy\n",
    "# EMA Tracker\n",
    "class EMA:\n",
    "    def __init__(self, model, decay=0.9999):\n",
    "        self.model = deepcopy(model)\n",
    "        self.model.eval()\n",
    "        self.decay = decay\n",
    "\n",
    "    def update(self, model):\n",
    "        with torch.no_grad():\n",
    "            for p_ema, p in zip(self.model.parameters(), model.parameters()):\n",
    "                p_ema.data.mul_(self.decay).add_(p.data, alpha=1 - self.decay)"
   ]
  },
  {
   "cell_type": "code",
   "execution_count": 41,
   "id": "118b93db-5311-4c1c-b5a4-8901a9d952cf",
   "metadata": {},
   "outputs": [],
   "source": [
    "# 创建 beta 调度器（线性或 cosine 可选）\n",
    "def make_beta_schedule(schedule='linear', timesteps=1000, s=0.008):\n",
    "    if schedule == 'linear':\n",
    "        beta_start = 1e-4\n",
    "        beta_end = 0.02\n",
    "        return torch.linspace(beta_start, beta_end, timesteps)\n",
    "    elif schedule == 'cosine':\n",
    "        steps = timesteps + 1\n",
    "        x = torch.linspace(0, timesteps, steps)\n",
    "        alphas_cumprod = torch.cos(((x / timesteps) + s) / (1 + s) * np.pi * 0.5) ** 2\n",
    "        alphas_cumprod = alphas_cumprod / alphas_cumprod[0]\n",
    "        betas = 1 - (alphas_cumprod[1:] / alphas_cumprod[:-1])\n",
    "        return torch.clip(betas, 0.0001, 0.9999)"
   ]
  },
  {
   "cell_type": "code",
   "execution_count": 42,
   "id": "f3097d72-0ce3-40c2-8c44-91dda803cb8a",
   "metadata": {},
   "outputs": [],
   "source": [
    "# 扩散类\n",
    "class Diffusion:\n",
    "    def __init__(self, timesteps=1000, beta_schedule='cosine', device='cuda'):\n",
    "        self.timesteps = timesteps\n",
    "        self.betas = make_beta_schedule(beta_schedule, timesteps).to(device)\n",
    "        self.alphas = 1.0 - self.betas\n",
    "        self.alpha_hat = torch.cumprod(self.alphas, dim=0)\n",
    "        self.device = device\n",
    "\n",
    "    # q(x_t | x_0)\n",
    "    def q_sample(self, x_0, t, noise=None):\n",
    "        if noise is None:\n",
    "            noise = torch.randn_like(x_0)\n",
    "        sqrt_alpha_hat = self.alpha_hat[t].sqrt().view(-1, 1, 1, 1)\n",
    "        sqrt_one_minus = (1 - self.alpha_hat[t]).sqrt().view(-1, 1, 1, 1)\n",
    "        return sqrt_alpha_hat * x_0 + sqrt_one_minus * noise\n",
    "\n",
    "    # 标准反向采样过程 p(x_{t-1} | x_t)\n",
    "    def p_sample(self, model, x, t):\n",
    "        beta_t = self.betas[t].view(-1, 1, 1, 1)\n",
    "        sqrt_one_minus_alpha = (1 - self.alpha_hat[t]).sqrt().view(-1, 1, 1, 1)\n",
    "        alpha_t = self.alphas[t].view(-1, 1, 1, 1)\n",
    "\n",
    "        eps_pred = model(x, t)\n",
    "        mean = (1 / alpha_t.sqrt()) * (x - (beta_t / sqrt_one_minus_alpha) * eps_pred)\n",
    "        noise = torch.randn_like(x) if (t > 0).all() else 0\n",
    "        return mean + noise * beta_t.sqrt()\n",
    "\n",
    "    # 完整采样流程\n",
    "    def p_sample_loop(self, model, shape):\n",
    "        x = torch.randn(shape).to(self.device)\n",
    "        for t in reversed(range(self.timesteps)):\n",
    "            t_batch = torch.full((shape[0],), t, device=self.device, dtype=torch.long)\n",
    "            x = self.p_sample(model, x, t_batch)\n",
    "        return x\n",
    "\n",
    "    # DDIM sampling（可调 eta）\n",
    "    def ddim_sample(self, model, shape, eta=0.0, steps=50):\n",
    "        times = torch.linspace(0, self.timesteps - 1, steps).long().to(self.device)\n",
    "        alphas = self.alpha_hat[times]\n",
    "\n",
    "        x = torch.randn(shape).to(self.device)\n",
    "\n",
    "        for i in reversed(range(steps)):\n",
    "            t = times[i].repeat(shape[0])\n",
    "            alpha = alphas[i].view(-1, 1, 1, 1)\n",
    "            eps = model(x, t)\n",
    "\n",
    "            x0_pred = (x - eps * (1 - alpha).sqrt()) / alpha.sqrt()\n",
    "            if i > 0:\n",
    "                alpha_prev = alphas[i - 1].view(-1, 1, 1, 1)\n",
    "                sigma = eta * ((1 - alpha_prev) / (1 - alpha) * (1 - alpha / alpha_prev)).sqrt()\n",
    "                noise = torch.randn_like(x)\n",
    "                x = alpha_prev.sqrt() * x0_pred + (1 - alpha_prev).sqrt() * eps + sigma * noise\n",
    "            else:\n",
    "                x = x0_pred\n",
    "        return x"
   ]
  },
  {
   "cell_type": "code",
   "execution_count": 43,
   "id": "348018b3-7461-487f-84e6-8910a2b1e8cf",
   "metadata": {},
   "outputs": [],
   "source": [
    "# 可视化保存路径\n",
    "def save_samples(samples, step, path=\"./images/ldm_002_hq-face\"):\n",
    "    os.makedirs(path, exist_ok=True)\n",
    "    save_image(samples, os.path.join(path, f\"{step:04d}.png\"), nrow=8, normalize=True)"
   ]
  },
  {
   "cell_type": "code",
   "execution_count": 44,
   "id": "c10c8e75-f1a2-44d8-b745-3b34bf6724a5",
   "metadata": {},
   "outputs": [],
   "source": [
    "class VAE(nn.Module):\n",
    "    def __init__(self, in_channels=in_channels, latent_dim=latent_dim):  \n",
    "        super().__init__()\n",
    "        self.encoder = nn.Sequential(\n",
    "            nn.Conv2d(in_channels, 64, kernel_size=3, stride=1, padding=1), \n",
    "            nn.BatchNorm2d(64),\n",
    "            nn.ReLU(),\n",
    "            nn.Conv2d(64, 128, kernel_size=3, stride=2, padding=1), \n",
    "            nn.BatchNorm2d(128),\n",
    "            nn.ReLU(),\n",
    "            nn.Conv2d(128, 256, kernel_size=3, stride=2, padding=1), \n",
    "            nn.BatchNorm2d(256),\n",
    "            nn.ReLU(),\n",
    "            nn.Conv2d(256, 512, kernel_size=3, stride=2, padding=1), \n",
    "            nn.BatchNorm2d(512),\n",
    "            nn.ReLU(),\n",
    "            nn.Conv2d(512, latent_dim, kernel_size=3, stride=1, padding=1) \n",
    "        )\n",
    "\n",
    "        self.conv_mu = nn.Conv2d(latent_dim, latent_dim, 1)\n",
    "        self.conv_logvar = nn.Conv2d(latent_dim, latent_dim, 1)\n",
    "\n",
    "        self.decoder = nn.Sequential(\n",
    "            nn.ConvTranspose2d(latent_dim, 512, kernel_size=3, stride=1, padding=1),\n",
    "            nn.BatchNorm2d(512),\n",
    "            nn.ReLU(),\n",
    "            nn.ConvTranspose2d(512, 256, kernel_size=4, stride=2, padding=1),\n",
    "            nn.BatchNorm2d(256),\n",
    "            nn.ReLU(),\n",
    "            nn.ConvTranspose2d(256, 128, kernel_size=4, stride=2, padding=1),\n",
    "            nn.BatchNorm2d(128),\n",
    "            nn.ReLU(),\n",
    "            nn.ConvTranspose2d(128, 64, kernel_size=4, stride=2, padding=1),\n",
    "            nn.BatchNorm2d(64),\n",
    "            nn.ReLU(),\n",
    "            nn.ConvTranspose2d(64, in_channels, kernel_size=3, stride=1, padding=1),\n",
    "            nn.Tanh()\n",
    "        )  \n",
    "    \n",
    "    def reparameterize(self, mu, logvar):\n",
    "        std = torch.exp(0.5 * logvar)\n",
    "        eps = torch.randn_like(std)\n",
    "        return mu + eps * std\n",
    "\n",
    "    def forward(self, x):\n",
    "        enc = self.encoder(x)\n",
    "        mu = self.conv_mu(enc)\n",
    "        logvar = self.conv_logvar(enc)\n",
    "        z = self.reparameterize(mu, logvar)\n",
    "        recon = self.decoder(z)\n",
    "        return recon, mu, logvar"
   ]
  },
  {
   "cell_type": "code",
   "execution_count": 45,
   "id": "5cd6967f-7ac0-47a4-9857-12db134d27a1",
   "metadata": {},
   "outputs": [
    {
     "name": "stderr",
     "output_type": "stream",
     "text": [
      "C:\\Users\\sheng\\AppData\\Local\\Temp\\ipykernel_64760\\1852388198.py:2: FutureWarning: You are using `torch.load` with `weights_only=False` (the current default value), which uses the default pickle module implicitly. It is possible to construct malicious pickle data which will execute arbitrary code during unpickling (See https://github.com/pytorch/pytorch/blob/main/SECURITY.md#untrusted-models for more details). In a future release, the default value for `weights_only` will be flipped to `True`. This limits the functions that could be executed during unpickling. Arbitrary objects will no longer be allowed to be loaded via this mode unless they are explicitly allowlisted by the user via `torch.serialization.add_safe_globals`. We recommend you start setting `weights_only=True` for any use case where you don't have full control of the loaded file. Please open an issue on GitHub for any issues related to this experimental feature.\n",
      "  model_vae.load_state_dict(torch.load('model_pkl/model_vae_02.pth'))\n"
     ]
    },
    {
     "data": {
      "text/plain": [
       "VAE(\n",
       "  (encoder): Sequential(\n",
       "    (0): Conv2d(3, 64, kernel_size=(3, 3), stride=(1, 1), padding=(1, 1))\n",
       "    (1): BatchNorm2d(64, eps=1e-05, momentum=0.1, affine=True, track_running_stats=True)\n",
       "    (2): ReLU()\n",
       "    (3): Conv2d(64, 128, kernel_size=(3, 3), stride=(2, 2), padding=(1, 1))\n",
       "    (4): BatchNorm2d(128, eps=1e-05, momentum=0.1, affine=True, track_running_stats=True)\n",
       "    (5): ReLU()\n",
       "    (6): Conv2d(128, 256, kernel_size=(3, 3), stride=(2, 2), padding=(1, 1))\n",
       "    (7): BatchNorm2d(256, eps=1e-05, momentum=0.1, affine=True, track_running_stats=True)\n",
       "    (8): ReLU()\n",
       "    (9): Conv2d(256, 512, kernel_size=(3, 3), stride=(2, 2), padding=(1, 1))\n",
       "    (10): BatchNorm2d(512, eps=1e-05, momentum=0.1, affine=True, track_running_stats=True)\n",
       "    (11): ReLU()\n",
       "    (12): Conv2d(512, 32, kernel_size=(3, 3), stride=(1, 1), padding=(1, 1))\n",
       "  )\n",
       "  (conv_mu): Conv2d(32, 32, kernel_size=(1, 1), stride=(1, 1))\n",
       "  (conv_logvar): Conv2d(32, 32, kernel_size=(1, 1), stride=(1, 1))\n",
       "  (decoder): Sequential(\n",
       "    (0): ConvTranspose2d(32, 512, kernel_size=(3, 3), stride=(1, 1), padding=(1, 1))\n",
       "    (1): BatchNorm2d(512, eps=1e-05, momentum=0.1, affine=True, track_running_stats=True)\n",
       "    (2): ReLU()\n",
       "    (3): ConvTranspose2d(512, 256, kernel_size=(4, 4), stride=(2, 2), padding=(1, 1))\n",
       "    (4): BatchNorm2d(256, eps=1e-05, momentum=0.1, affine=True, track_running_stats=True)\n",
       "    (5): ReLU()\n",
       "    (6): ConvTranspose2d(256, 128, kernel_size=(4, 4), stride=(2, 2), padding=(1, 1))\n",
       "    (7): BatchNorm2d(128, eps=1e-05, momentum=0.1, affine=True, track_running_stats=True)\n",
       "    (8): ReLU()\n",
       "    (9): ConvTranspose2d(128, 64, kernel_size=(4, 4), stride=(2, 2), padding=(1, 1))\n",
       "    (10): BatchNorm2d(64, eps=1e-05, momentum=0.1, affine=True, track_running_stats=True)\n",
       "    (11): ReLU()\n",
       "    (12): ConvTranspose2d(64, 3, kernel_size=(3, 3), stride=(1, 1), padding=(1, 1))\n",
       "    (13): Tanh()\n",
       "  )\n",
       ")"
      ]
     },
     "execution_count": 45,
     "metadata": {},
     "output_type": "execute_result"
    }
   ],
   "source": [
    "model_vae=VAE().to(device)\n",
    "model_vae.load_state_dict(torch.load('model_pkl/model_vae_02.pth'))\n",
    "model_vae.eval()"
   ]
  },
  {
   "cell_type": "code",
   "execution_count": 46,
   "id": "ca738e3e-50d0-473b-a4a4-829a7b9d4fe7",
   "metadata": {},
   "outputs": [],
   "source": [
    "device = \"cuda\" if torch.cuda.is_available() else \"cpu\"\n",
    "\n",
    "# 模型 & EMA\n",
    "model = UNet().to(device)\n",
    "ema = EMA(model, decay=0.99)\n",
    "diffusion = Diffusion(device=device)\n",
    "optimizer = torch.optim.Adam(model.parameters(), lr=2e-4)\n",
    "epochs = 400\n",
    "learning_rate = 1e-4\n",
    "scheduler = torch.optim.lr_scheduler.CosineAnnealingLR(optimizer, T_max=epochs)"
   ]
  },
  {
   "cell_type": "code",
   "execution_count": 47,
   "id": "28faf807-d5d7-4644-9e8c-109f867f04b2",
   "metadata": {},
   "outputs": [
    {
     "data": {
      "text/plain": [
       "==========================================================================================\n",
       "Layer (type:depth-idx)                   Output Shape              Param #\n",
       "==========================================================================================\n",
       "UNet                                     [32, 32, 32, 32]          --\n",
       "├─TimeEmbedding: 1-1                     [1, 256]                  --\n",
       "│    └─Linear: 2-1                       [1, 1024]                 263,168\n",
       "│    └─SiLU: 2-2                         [1, 1024]                 --\n",
       "│    └─Linear: 2-3                       [1, 256]                  262,400\n",
       "├─ResBlock: 1-2                          [32, 128, 32, 32]         --\n",
       "│    └─Sequential: 2-4                   [32, 128, 32, 32]         --\n",
       "│    │    └─Conv2d: 3-1                  [32, 128, 32, 32]         36,992\n",
       "│    │    └─GroupNorm: 3-2               [32, 128, 32, 32]         256\n",
       "│    │    └─SiLU: 3-3                    [32, 128, 32, 32]         --\n",
       "│    └─Sequential: 2-5                   [1, 128]                  --\n",
       "│    │    └─SiLU: 3-4                    [1, 256]                  --\n",
       "│    │    └─Linear: 3-5                  [1, 128]                  32,896\n",
       "│    └─Sequential: 2-6                   [32, 128, 32, 32]         --\n",
       "│    │    └─Conv2d: 3-6                  [32, 128, 32, 32]         147,584\n",
       "│    │    └─GroupNorm: 3-7               [32, 128, 32, 32]         256\n",
       "│    │    └─SiLU: 3-8                    [32, 128, 32, 32]         --\n",
       "│    └─Conv2d: 2-7                       [32, 128, 32, 32]         4,224\n",
       "├─Conv2d: 1-3                            [32, 256, 16, 16]         524,544\n",
       "├─ResBlock: 1-4                          [32, 256, 16, 16]         --\n",
       "│    └─Sequential: 2-8                   [32, 256, 16, 16]         --\n",
       "│    │    └─Conv2d: 3-9                  [32, 256, 16, 16]         590,080\n",
       "│    │    └─GroupNorm: 3-10              [32, 256, 16, 16]         512\n",
       "│    │    └─SiLU: 3-11                   [32, 256, 16, 16]         --\n",
       "│    └─Sequential: 2-9                   [1, 256]                  --\n",
       "│    │    └─SiLU: 3-12                   [1, 256]                  --\n",
       "│    │    └─Linear: 3-13                 [1, 256]                  65,792\n",
       "│    └─Sequential: 2-10                  [32, 256, 16, 16]         --\n",
       "│    │    └─Conv2d: 3-14                 [32, 256, 16, 16]         590,080\n",
       "│    │    └─GroupNorm: 3-15              [32, 256, 16, 16]         512\n",
       "│    │    └─SiLU: 3-16                   [32, 256, 16, 16]         --\n",
       "│    └─Identity: 2-11                    [32, 256, 16, 16]         --\n",
       "├─Conv2d: 1-5                            [32, 512, 8, 8]           2,097,664\n",
       "├─ResBlock: 1-6                          [32, 512, 8, 8]           --\n",
       "│    └─Sequential: 2-12                  [32, 512, 8, 8]           --\n",
       "│    │    └─Conv2d: 3-17                 [32, 512, 8, 8]           2,359,808\n",
       "│    │    └─GroupNorm: 3-18              [32, 512, 8, 8]           1,024\n",
       "│    │    └─SiLU: 3-19                   [32, 512, 8, 8]           --\n",
       "│    └─Sequential: 2-13                  [1, 512]                  --\n",
       "│    │    └─SiLU: 3-20                   [1, 256]                  --\n",
       "│    │    └─Linear: 3-21                 [1, 512]                  131,584\n",
       "│    └─Sequential: 2-14                  [32, 512, 8, 8]           --\n",
       "│    │    └─Conv2d: 3-22                 [32, 512, 8, 8]           2,359,808\n",
       "│    │    └─GroupNorm: 3-23              [32, 512, 8, 8]           1,024\n",
       "│    │    └─SiLU: 3-24                   [32, 512, 8, 8]           --\n",
       "│    └─Identity: 2-15                    [32, 512, 8, 8]           --\n",
       "├─Sequential: 1-7                        --                        --\n",
       "│    └─ResBlock: 2-16                    [32, 512, 8, 8]           --\n",
       "│    │    └─Sequential: 3-25             [32, 512, 8, 8]           2,360,832\n",
       "│    │    └─Sequential: 3-26             [1, 512]                  131,584\n",
       "│    │    └─Sequential: 3-27             [32, 512, 8, 8]           2,360,832\n",
       "│    │    └─Identity: 3-28               [32, 512, 8, 8]           --\n",
       "│    └─AttentionBlock: 2-17              [32, 512, 8, 8]           --\n",
       "│    │    └─GroupNorm: 3-29              [32, 512, 8, 8]           1,024\n",
       "│    │    └─Conv1d: 3-30                 [32, 512, 64]             262,656\n",
       "│    │    └─Conv1d: 3-31                 [32, 512, 64]             262,656\n",
       "│    │    └─Conv1d: 3-32                 [32, 512, 64]             262,656\n",
       "│    │    └─Conv1d: 3-33                 [32, 512, 64]             262,656\n",
       "│    └─ResBlock: 2-18                    [32, 512, 8, 8]           --\n",
       "│    │    └─Sequential: 3-34             [32, 512, 8, 8]           2,360,832\n",
       "│    │    └─Sequential: 3-35             [1, 512]                  131,584\n",
       "│    │    └─Sequential: 3-36             [32, 512, 8, 8]           2,360,832\n",
       "│    │    └─Identity: 3-37               [32, 512, 8, 8]           --\n",
       "├─ConvTranspose2d: 1-8                   [32, 256, 16, 16]         2,097,408\n",
       "├─ResBlock: 1-9                          [32, 256, 16, 16]         --\n",
       "│    └─Sequential: 2-19                  [32, 256, 16, 16]         --\n",
       "│    │    └─Conv2d: 3-38                 [32, 256, 16, 16]         590,080\n",
       "│    │    └─GroupNorm: 3-39              [32, 256, 16, 16]         512\n",
       "│    │    └─SiLU: 3-40                   [32, 256, 16, 16]         --\n",
       "│    └─Sequential: 2-20                  [1, 256]                  --\n",
       "│    │    └─SiLU: 3-41                   [1, 256]                  --\n",
       "│    │    └─Linear: 3-42                 [1, 256]                  65,792\n",
       "│    └─Sequential: 2-21                  [32, 256, 16, 16]         --\n",
       "│    │    └─Conv2d: 3-43                 [32, 256, 16, 16]         590,080\n",
       "│    │    └─GroupNorm: 3-44              [32, 256, 16, 16]         512\n",
       "│    │    └─SiLU: 3-45                   [32, 256, 16, 16]         --\n",
       "│    └─Identity: 2-22                    [32, 256, 16, 16]         --\n",
       "├─ConvTranspose2d: 1-10                  [32, 128, 32, 32]         524,416\n",
       "├─ResBlock: 1-11                         [32, 128, 32, 32]         --\n",
       "│    └─Sequential: 2-23                  [32, 128, 32, 32]         --\n",
       "│    │    └─Conv2d: 3-46                 [32, 128, 32, 32]         147,584\n",
       "│    │    └─GroupNorm: 3-47              [32, 128, 32, 32]         256\n",
       "│    │    └─SiLU: 3-48                   [32, 128, 32, 32]         --\n",
       "│    └─Sequential: 2-24                  [1, 128]                  --\n",
       "│    │    └─SiLU: 3-49                   [1, 256]                  --\n",
       "│    │    └─Linear: 3-50                 [1, 128]                  32,896\n",
       "│    └─Sequential: 2-25                  [32, 128, 32, 32]         --\n",
       "│    │    └─Conv2d: 3-51                 [32, 128, 32, 32]         147,584\n",
       "│    │    └─GroupNorm: 3-52              [32, 128, 32, 32]         256\n",
       "│    │    └─SiLU: 3-53                   [32, 128, 32, 32]         --\n",
       "│    └─Identity: 2-26                    [32, 128, 32, 32]         --\n",
       "├─Conv2d: 1-12                           [32, 32, 32, 32]          4,128\n",
       "==========================================================================================\n",
       "Total params: 24,429,856\n",
       "Trainable params: 24,429,856\n",
       "Non-trainable params: 0\n",
       "Total mult-adds (Units.GIGABYTES): 109.44\n",
       "==========================================================================================\n",
       "Input size (MB): 4.19\n",
       "Forward/backward pass size (MB): 662.73\n",
       "Params size (MB): 97.72\n",
       "Estimated Total Size (MB): 764.64\n",
       "=========================================================================================="
      ]
     },
     "execution_count": 47,
     "metadata": {},
     "output_type": "execute_result"
    }
   ],
   "source": [
    "summary(model, input_size=[(32,32,32,32),(1,)])"
   ]
  },
  {
   "cell_type": "code",
   "execution_count": 48,
   "id": "b1567c91-3009-4451-a35c-309d9a3384f4",
   "metadata": {},
   "outputs": [],
   "source": [
    "def save_checkpoint(model, ema, optimizer, epoch, loss, best_loss, path=\"./model_pkl/ldm_002.pth\", best_path=\"./model_pkl/best_model_ldm_002.pth\"):\n",
    "    # 保存最新模型\n",
    "    torch.save({\n",
    "        'epoch': epoch,\n",
    "        'model_state_dict': model.state_dict(),\n",
    "        'ema_state_dict': ema.model.state_dict(),\n",
    "        'optimizer_state_dict': optimizer.state_dict(),\n",
    "        'loss': loss,\n",
    "        'best_loss': best_loss\n",
    "    }, path)\n",
    "\n",
    "    # 保存最优模型\n",
    "    if loss < best_loss:\n",
    "        print(f\"[✓] Loss improved from {best_loss:.4f} to {loss:.4f}, saving best model.\")\n",
    "        torch.save({\n",
    "            'epoch': epoch,\n",
    "            'model_state_dict': model.state_dict(),\n",
    "            'ema_state_dict': ema.model.state_dict(),\n",
    "            'optimizer_state_dict': optimizer.state_dict(),\n",
    "            'loss': loss,\n",
    "            'best_loss': loss\n",
    "        }, best_path)\n",
    "        return loss  # 更新 best_loss\n",
    "    return best_loss"
   ]
  },
  {
   "cell_type": "code",
   "execution_count": 49,
   "id": "5c28e45d-5274-4781-b3a1-e0d4531354e6",
   "metadata": {},
   "outputs": [],
   "source": [
    "def load_checkpoint(model, ema, optimizer, path=\"./model_pkl/checkpoint.pth\"):\n",
    "    if not os.path.exists(path):\n",
    "        print(\"[!] No checkpoint found.\")\n",
    "        return 0, float('inf')  # 从头开始训练\n",
    "\n",
    "    checkpoint = torch.load(path, map_location='cpu')\n",
    "    model.load_state_dict(checkpoint['model_state_dict'])\n",
    "    ema.model.load_state_dict(checkpoint['ema_state_dict'])\n",
    "    optimizer.load_state_dict(checkpoint['optimizer_state_dict'])\n",
    "    print(f\"[✓] Loaded checkpoint from epoch {checkpoint['epoch']}\")\n",
    "    return checkpoint['epoch'], checkpoint.get('best_loss', float('inf'))"
   ]
  },
  {
   "cell_type": "code",
   "execution_count": 50,
   "id": "3c5d5aac-00e4-4f8a-b429-061db461c552",
   "metadata": {
    "collapsed": true,
    "jupyter": {
     "outputs_hidden": true
    }
   },
   "outputs": [
    {
     "name": "stderr",
     "output_type": "stream",
     "text": [
      "Epoch 0: 100%|███████████████████████████████████████████████████████████| 235/235 [03:03<00:00,  1.28it/s, loss=0.685]\n"
     ]
    },
    {
     "name": "stdout",
     "output_type": "stream",
     "text": [
      "[Epoch 0] Loss: 0.8691\n",
      "[✓] Loss improved from 1.0000 to 0.8691, saving best model.\n"
     ]
    },
    {
     "name": "stderr",
     "output_type": "stream",
     "text": [
      "Epoch 1: 100%|███████████████████████████████████████████████████████████| 235/235 [01:56<00:00,  2.01it/s, loss=0.452]\n"
     ]
    },
    {
     "name": "stdout",
     "output_type": "stream",
     "text": [
      "[Epoch 1] Loss: 0.5417\n",
      "[✓] Loss improved from 0.8691 to 0.5417, saving best model.\n"
     ]
    },
    {
     "name": "stderr",
     "output_type": "stream",
     "text": [
      "Epoch 2: 100%|████████████████████████████████████████████████████████████| 235/235 [02:00<00:00,  1.95it/s, loss=0.33]\n"
     ]
    },
    {
     "name": "stdout",
     "output_type": "stream",
     "text": [
      "[Epoch 2] Loss: 0.3888\n",
      "[✓] Loss improved from 0.5417 to 0.3888, saving best model.\n"
     ]
    },
    {
     "name": "stderr",
     "output_type": "stream",
     "text": [
      "Epoch 3: 100%|███████████████████████████████████████████████████████████| 235/235 [02:00<00:00,  1.96it/s, loss=0.271]\n"
     ]
    },
    {
     "name": "stdout",
     "output_type": "stream",
     "text": [
      "[Epoch 3] Loss: 0.3136\n",
      "[✓] Loss improved from 0.3888 to 0.3136, saving best model.\n"
     ]
    },
    {
     "name": "stderr",
     "output_type": "stream",
     "text": [
      "Epoch 4: 100%|███████████████████████████████████████████████████████████| 235/235 [01:57<00:00,  2.01it/s, loss=0.227]\n"
     ]
    },
    {
     "name": "stdout",
     "output_type": "stream",
     "text": [
      "[Epoch 4] Loss: 0.2611\n",
      "[✓] Loss improved from 0.3136 to 0.2611, saving best model.\n"
     ]
    },
    {
     "name": "stderr",
     "output_type": "stream",
     "text": [
      "Epoch 5: 100%|█████████████████████████████████████████████████████████████| 235/235 [01:58<00:00,  1.99it/s, loss=0.2]\n"
     ]
    },
    {
     "name": "stdout",
     "output_type": "stream",
     "text": [
      "[Epoch 5] Loss: 0.2220\n",
      "[✓] Loss improved from 0.2611 to 0.2220, saving best model.\n"
     ]
    },
    {
     "name": "stderr",
     "output_type": "stream",
     "text": [
      "Epoch 6: 100%|███████████████████████████████████████████████████████████| 235/235 [01:57<00:00,  2.00it/s, loss=0.174]\n"
     ]
    },
    {
     "name": "stdout",
     "output_type": "stream",
     "text": [
      "[Epoch 6] Loss: 0.1924\n",
      "[✓] Loss improved from 0.2220 to 0.1924, saving best model.\n"
     ]
    },
    {
     "name": "stderr",
     "output_type": "stream",
     "text": [
      "Epoch 7: 100%|████████████████████████████████████████████████████████████| 235/235 [01:57<00:00,  2.00it/s, loss=0.18]\n"
     ]
    },
    {
     "name": "stdout",
     "output_type": "stream",
     "text": [
      "[Epoch 7] Loss: 0.1700\n",
      "[✓] Loss improved from 0.1924 to 0.1700, saving best model.\n"
     ]
    },
    {
     "name": "stderr",
     "output_type": "stream",
     "text": [
      "Epoch 8: 100%|███████████████████████████████████████████████████████████| 235/235 [01:58<00:00,  1.98it/s, loss=0.143]\n"
     ]
    },
    {
     "name": "stdout",
     "output_type": "stream",
     "text": [
      "[Epoch 8] Loss: 0.1557\n",
      "[✓] Loss improved from 0.1700 to 0.1557, saving best model.\n"
     ]
    },
    {
     "name": "stderr",
     "output_type": "stream",
     "text": [
      "Epoch 9: 100%|████████████████████████████████████████████████████████████| 235/235 [01:58<00:00,  1.98it/s, loss=0.15]\n"
     ]
    },
    {
     "name": "stdout",
     "output_type": "stream",
     "text": [
      "[Epoch 9] Loss: 0.1391\n",
      "[✓] Loss improved from 0.1557 to 0.1391, saving best model.\n"
     ]
    },
    {
     "name": "stderr",
     "output_type": "stream",
     "text": [
      "Epoch 10: 100%|██████████████████████████████████████████████████████████| 235/235 [01:59<00:00,  1.97it/s, loss=0.133]\n"
     ]
    },
    {
     "name": "stdout",
     "output_type": "stream",
     "text": [
      "[Epoch 10] Loss: 0.1346\n",
      "[✓] Loss improved from 0.1391 to 0.1346, saving best model.\n"
     ]
    },
    {
     "name": "stderr",
     "output_type": "stream",
     "text": [
      "Epoch 11: 100%|██████████████████████████████████████████████████████████| 235/235 [01:59<00:00,  1.97it/s, loss=0.123]\n"
     ]
    },
    {
     "name": "stdout",
     "output_type": "stream",
     "text": [
      "[Epoch 11] Loss: 0.1314\n",
      "[✓] Loss improved from 0.1346 to 0.1314, saving best model.\n"
     ]
    },
    {
     "name": "stderr",
     "output_type": "stream",
     "text": [
      "Epoch 12: 100%|██████████████████████████████████████████████████████████| 235/235 [01:58<00:00,  1.98it/s, loss=0.118]\n"
     ]
    },
    {
     "name": "stdout",
     "output_type": "stream",
     "text": [
      "[Epoch 12] Loss: 0.1305\n",
      "[✓] Loss improved from 0.1314 to 0.1305, saving best model.\n"
     ]
    },
    {
     "name": "stderr",
     "output_type": "stream",
     "text": [
      "Epoch 13: 100%|███████████████████████████████████████████████████████████| 235/235 [01:58<00:00,  1.99it/s, loss=0.12]\n"
     ]
    },
    {
     "name": "stdout",
     "output_type": "stream",
     "text": [
      "[Epoch 13] Loss: 0.1272\n",
      "[✓] Loss improved from 0.1305 to 0.1272, saving best model.\n"
     ]
    },
    {
     "name": "stderr",
     "output_type": "stream",
     "text": [
      "Epoch 14: 100%|██████████████████████████████████████████████████████████| 235/235 [01:58<00:00,  1.99it/s, loss=0.105]\n"
     ]
    },
    {
     "name": "stdout",
     "output_type": "stream",
     "text": [
      "[Epoch 14] Loss: 0.1169\n",
      "[✓] Loss improved from 0.1272 to 0.1169, saving best model.\n"
     ]
    },
    {
     "name": "stderr",
     "output_type": "stream",
     "text": [
      "Epoch 15: 100%|██████████████████████████████████████████████████████████| 235/235 [01:58<00:00,  1.98it/s, loss=0.265]\n"
     ]
    },
    {
     "name": "stdout",
     "output_type": "stream",
     "text": [
      "[Epoch 15] Loss: 0.1232\n"
     ]
    },
    {
     "name": "stderr",
     "output_type": "stream",
     "text": [
      "Epoch 16: 100%|███████████████████████████████████████████████████████████| 235/235 [01:58<00:00,  1.99it/s, loss=0.13]\n"
     ]
    },
    {
     "name": "stdout",
     "output_type": "stream",
     "text": [
      "[Epoch 16] Loss: 0.1209\n"
     ]
    },
    {
     "name": "stderr",
     "output_type": "stream",
     "text": [
      "Epoch 17: 100%|██████████████████████████████████████████████████████████| 235/235 [01:58<00:00,  1.99it/s, loss=0.102]\n"
     ]
    },
    {
     "name": "stdout",
     "output_type": "stream",
     "text": [
      "[Epoch 17] Loss: 0.1083\n",
      "[✓] Loss improved from 0.1169 to 0.1083, saving best model.\n"
     ]
    },
    {
     "name": "stderr",
     "output_type": "stream",
     "text": [
      "Epoch 18: 100%|██████████████████████████████████████████████████████████| 235/235 [01:57<00:00,  1.99it/s, loss=0.124]\n"
     ]
    },
    {
     "name": "stdout",
     "output_type": "stream",
     "text": [
      "[Epoch 18] Loss: 0.1046\n",
      "[✓] Loss improved from 0.1083 to 0.1046, saving best model.\n"
     ]
    },
    {
     "name": "stderr",
     "output_type": "stream",
     "text": [
      "Epoch 19: 100%|█████████████████████████████████████████████████████████| 235/235 [01:58<00:00,  1.99it/s, loss=0.0902]\n"
     ]
    },
    {
     "name": "stdout",
     "output_type": "stream",
     "text": [
      "[Epoch 19] Loss: 0.1029\n",
      "[✓] Loss improved from 0.1046 to 0.1029, saving best model.\n"
     ]
    },
    {
     "name": "stderr",
     "output_type": "stream",
     "text": [
      "Epoch 20: 100%|██████████████████████████████████████████████████████████| 235/235 [01:57<00:00,  1.99it/s, loss=0.114]\n"
     ]
    },
    {
     "name": "stdout",
     "output_type": "stream",
     "text": [
      "[Epoch 20] Loss: 0.0996\n",
      "[✓] Loss improved from 0.1029 to 0.0996, saving best model.\n"
     ]
    },
    {
     "name": "stderr",
     "output_type": "stream",
     "text": [
      "Epoch 21: 100%|█████████████████████████████████████████████████████████| 235/235 [01:57<00:00,  1.99it/s, loss=0.0857]\n"
     ]
    },
    {
     "name": "stdout",
     "output_type": "stream",
     "text": [
      "[Epoch 21] Loss: 0.0958\n",
      "[✓] Loss improved from 0.0996 to 0.0958, saving best model.\n"
     ]
    },
    {
     "name": "stderr",
     "output_type": "stream",
     "text": [
      "Epoch 22: 100%|██████████████████████████████████████████████████████████| 235/235 [02:01<00:00,  1.93it/s, loss=0.089]\n"
     ]
    },
    {
     "name": "stdout",
     "output_type": "stream",
     "text": [
      "[Epoch 22] Loss: 0.0937\n",
      "[✓] Loss improved from 0.0958 to 0.0937, saving best model.\n"
     ]
    },
    {
     "name": "stderr",
     "output_type": "stream",
     "text": [
      "Epoch 23: 100%|██████████████████████████████████████████████████████████| 235/235 [01:58<00:00,  1.98it/s, loss=0.104]\n"
     ]
    },
    {
     "name": "stdout",
     "output_type": "stream",
     "text": [
      "[Epoch 23] Loss: 0.0921\n",
      "[✓] Loss improved from 0.0937 to 0.0921, saving best model.\n"
     ]
    },
    {
     "name": "stderr",
     "output_type": "stream",
     "text": [
      "Epoch 24: 100%|█████████████████████████████████████████████████████████| 235/235 [01:57<00:00,  2.00it/s, loss=0.0734]\n"
     ]
    },
    {
     "name": "stdout",
     "output_type": "stream",
     "text": [
      "[Epoch 24] Loss: 0.0882\n",
      "[✓] Loss improved from 0.0921 to 0.0882, saving best model.\n"
     ]
    },
    {
     "name": "stderr",
     "output_type": "stream",
     "text": [
      "Epoch 25: 100%|█████████████████████████████████████████████████████████| 235/235 [01:58<00:00,  1.99it/s, loss=0.0704]\n"
     ]
    },
    {
     "name": "stdout",
     "output_type": "stream",
     "text": [
      "[Epoch 25] Loss: 0.0880\n",
      "[✓] Loss improved from 0.0882 to 0.0880, saving best model.\n"
     ]
    },
    {
     "name": "stderr",
     "output_type": "stream",
     "text": [
      "Epoch 26: 100%|█████████████████████████████████████████████████████████| 235/235 [01:57<00:00,  2.00it/s, loss=0.0819]\n"
     ]
    },
    {
     "name": "stdout",
     "output_type": "stream",
     "text": [
      "[Epoch 26] Loss: 0.0870\n",
      "[✓] Loss improved from 0.0880 to 0.0870, saving best model.\n"
     ]
    },
    {
     "name": "stderr",
     "output_type": "stream",
     "text": [
      "Epoch 27: 100%|██████████████████████████████████████████████████████████| 235/235 [01:57<00:00,  1.99it/s, loss=0.107]\n"
     ]
    },
    {
     "name": "stdout",
     "output_type": "stream",
     "text": [
      "[Epoch 27] Loss: 0.0857\n",
      "[✓] Loss improved from 0.0870 to 0.0857, saving best model.\n"
     ]
    },
    {
     "name": "stderr",
     "output_type": "stream",
     "text": [
      "Epoch 28: 100%|█████████████████████████████████████████████████████████| 235/235 [01:57<00:00,  1.99it/s, loss=0.0844]\n"
     ]
    },
    {
     "name": "stdout",
     "output_type": "stream",
     "text": [
      "[Epoch 28] Loss: 0.0858\n"
     ]
    },
    {
     "name": "stderr",
     "output_type": "stream",
     "text": [
      "Epoch 29: 100%|█████████████████████████████████████████████████████████| 235/235 [01:58<00:00,  1.99it/s, loss=0.0755]\n"
     ]
    },
    {
     "name": "stdout",
     "output_type": "stream",
     "text": [
      "[Epoch 29] Loss: 0.0837\n",
      "[✓] Loss improved from 0.0857 to 0.0837, saving best model.\n"
     ]
    },
    {
     "name": "stderr",
     "output_type": "stream",
     "text": [
      "Epoch 30: 100%|█████████████████████████████████████████████████████████| 235/235 [01:58<00:00,  1.99it/s, loss=0.0945]\n"
     ]
    },
    {
     "name": "stdout",
     "output_type": "stream",
     "text": [
      "[Epoch 30] Loss: 0.0845\n"
     ]
    },
    {
     "name": "stderr",
     "output_type": "stream",
     "text": [
      "Epoch 31: 100%|█████████████████████████████████████████████████████████| 235/235 [01:57<00:00,  2.00it/s, loss=0.0703]\n"
     ]
    },
    {
     "name": "stdout",
     "output_type": "stream",
     "text": [
      "[Epoch 31] Loss: 0.0831\n",
      "[✓] Loss improved from 0.0837 to 0.0831, saving best model.\n"
     ]
    },
    {
     "name": "stderr",
     "output_type": "stream",
     "text": [
      "Epoch 32: 100%|██████████████████████████████████████████████████████████| 235/235 [01:58<00:00,  1.98it/s, loss=0.108]\n"
     ]
    },
    {
     "name": "stdout",
     "output_type": "stream",
     "text": [
      "[Epoch 32] Loss: 0.0827\n",
      "[✓] Loss improved from 0.0831 to 0.0827, saving best model.\n"
     ]
    },
    {
     "name": "stderr",
     "output_type": "stream",
     "text": [
      "Epoch 33: 100%|█████████████████████████████████████████████████████████| 235/235 [01:58<00:00,  1.99it/s, loss=0.0671]\n"
     ]
    },
    {
     "name": "stdout",
     "output_type": "stream",
     "text": [
      "[Epoch 33] Loss: 0.0806\n",
      "[✓] Loss improved from 0.0827 to 0.0806, saving best model.\n"
     ]
    },
    {
     "name": "stderr",
     "output_type": "stream",
     "text": [
      "Epoch 34: 100%|█████████████████████████████████████████████████████████| 235/235 [02:01<00:00,  1.94it/s, loss=0.0653]\n"
     ]
    },
    {
     "name": "stdout",
     "output_type": "stream",
     "text": [
      "[Epoch 34] Loss: 0.0803\n",
      "[✓] Loss improved from 0.0806 to 0.0803, saving best model.\n"
     ]
    },
    {
     "name": "stderr",
     "output_type": "stream",
     "text": [
      "Epoch 35: 100%|█████████████████████████████████████████████████████████| 235/235 [01:58<00:00,  1.99it/s, loss=0.0538]\n"
     ]
    },
    {
     "name": "stdout",
     "output_type": "stream",
     "text": [
      "[Epoch 35] Loss: 0.0787\n",
      "[✓] Loss improved from 0.0803 to 0.0787, saving best model.\n"
     ]
    },
    {
     "name": "stderr",
     "output_type": "stream",
     "text": [
      "Epoch 36: 100%|█████████████████████████████████████████████████████████| 235/235 [01:58<00:00,  1.98it/s, loss=0.0623]\n"
     ]
    },
    {
     "name": "stdout",
     "output_type": "stream",
     "text": [
      "[Epoch 36] Loss: 0.0780\n",
      "[✓] Loss improved from 0.0787 to 0.0780, saving best model.\n"
     ]
    },
    {
     "name": "stderr",
     "output_type": "stream",
     "text": [
      "Epoch 37: 100%|█████████████████████████████████████████████████████████| 235/235 [02:04<00:00,  1.89it/s, loss=0.0706]\n"
     ]
    },
    {
     "name": "stdout",
     "output_type": "stream",
     "text": [
      "[Epoch 37] Loss: 0.0777\n",
      "[✓] Loss improved from 0.0780 to 0.0777, saving best model.\n"
     ]
    },
    {
     "name": "stderr",
     "output_type": "stream",
     "text": [
      "Epoch 38: 100%|█████████████████████████████████████████████████████████| 235/235 [02:05<00:00,  1.88it/s, loss=0.0961]\n"
     ]
    },
    {
     "name": "stdout",
     "output_type": "stream",
     "text": [
      "[Epoch 38] Loss: 0.0784\n"
     ]
    },
    {
     "name": "stderr",
     "output_type": "stream",
     "text": [
      "Epoch 39: 100%|██████████████████████████████████████████████████████████| 235/235 [02:00<00:00,  1.95it/s, loss=0.087]\n"
     ]
    },
    {
     "name": "stdout",
     "output_type": "stream",
     "text": [
      "[Epoch 39] Loss: 0.0771\n",
      "[✓] Loss improved from 0.0777 to 0.0771, saving best model.\n"
     ]
    },
    {
     "name": "stderr",
     "output_type": "stream",
     "text": [
      "Epoch 40: 100%|██████████████████████████████████████████████████████████| 235/235 [02:00<00:00,  1.95it/s, loss=0.071]\n"
     ]
    },
    {
     "name": "stdout",
     "output_type": "stream",
     "text": [
      "[Epoch 40] Loss: 0.0766\n",
      "[✓] Loss improved from 0.0771 to 0.0766, saving best model.\n"
     ]
    },
    {
     "name": "stderr",
     "output_type": "stream",
     "text": [
      "Epoch 41: 100%|█████████████████████████████████████████████████████████| 235/235 [02:00<00:00,  1.95it/s, loss=0.0688]\n"
     ]
    },
    {
     "name": "stdout",
     "output_type": "stream",
     "text": [
      "[Epoch 41] Loss: 0.0757\n",
      "[✓] Loss improved from 0.0766 to 0.0757, saving best model.\n"
     ]
    },
    {
     "name": "stderr",
     "output_type": "stream",
     "text": [
      "Epoch 42: 100%|█████████████████████████████████████████████████████████| 235/235 [02:01<00:00,  1.93it/s, loss=0.0649]\n"
     ]
    },
    {
     "name": "stdout",
     "output_type": "stream",
     "text": [
      "[Epoch 42] Loss: 0.0760\n"
     ]
    },
    {
     "name": "stderr",
     "output_type": "stream",
     "text": [
      "Epoch 43: 100%|█████████████████████████████████████████████████████████| 235/235 [02:00<00:00,  1.94it/s, loss=0.0649]\n"
     ]
    },
    {
     "name": "stdout",
     "output_type": "stream",
     "text": [
      "[Epoch 43] Loss: 0.0766\n"
     ]
    },
    {
     "name": "stderr",
     "output_type": "stream",
     "text": [
      "Epoch 44: 100%|█████████████████████████████████████████████████████████| 235/235 [02:01<00:00,  1.93it/s, loss=0.0814]\n"
     ]
    },
    {
     "name": "stdout",
     "output_type": "stream",
     "text": [
      "[Epoch 44] Loss: 0.0752\n",
      "[✓] Loss improved from 0.0757 to 0.0752, saving best model.\n"
     ]
    },
    {
     "name": "stderr",
     "output_type": "stream",
     "text": [
      "Epoch 45: 100%|█████████████████████████████████████████████████████████| 235/235 [01:58<00:00,  1.99it/s, loss=0.0645]\n"
     ]
    },
    {
     "name": "stdout",
     "output_type": "stream",
     "text": [
      "[Epoch 45] Loss: 0.0752\n",
      "[✓] Loss improved from 0.0752 to 0.0752, saving best model.\n"
     ]
    },
    {
     "name": "stderr",
     "output_type": "stream",
     "text": [
      "Epoch 46: 100%|█████████████████████████████████████████████████████████| 235/235 [01:57<00:00,  1.99it/s, loss=0.0803]\n"
     ]
    },
    {
     "name": "stdout",
     "output_type": "stream",
     "text": [
      "[Epoch 46] Loss: 0.0761\n"
     ]
    },
    {
     "name": "stderr",
     "output_type": "stream",
     "text": [
      "Epoch 47: 100%|█████████████████████████████████████████████████████████| 235/235 [02:00<00:00,  1.95it/s, loss=0.0676]\n"
     ]
    },
    {
     "name": "stdout",
     "output_type": "stream",
     "text": [
      "[Epoch 47] Loss: 0.0747\n",
      "[✓] Loss improved from 0.0752 to 0.0747, saving best model.\n"
     ]
    },
    {
     "name": "stderr",
     "output_type": "stream",
     "text": [
      "Epoch 48: 100%|█████████████████████████████████████████████████████████| 235/235 [01:59<00:00,  1.97it/s, loss=0.0697]\n"
     ]
    },
    {
     "name": "stdout",
     "output_type": "stream",
     "text": [
      "[Epoch 48] Loss: 0.0726\n",
      "[✓] Loss improved from 0.0747 to 0.0726, saving best model.\n"
     ]
    },
    {
     "name": "stderr",
     "output_type": "stream",
     "text": [
      "Epoch 49: 100%|██████████████████████████████████████████████████████████| 235/235 [01:57<00:00,  1.99it/s, loss=0.066]\n"
     ]
    },
    {
     "name": "stdout",
     "output_type": "stream",
     "text": [
      "[Epoch 49] Loss: 0.0741\n"
     ]
    },
    {
     "name": "stderr",
     "output_type": "stream",
     "text": [
      "Epoch 50: 100%|█████████████████████████████████████████████████████████| 235/235 [01:58<00:00,  1.99it/s, loss=0.0784]\n"
     ]
    },
    {
     "name": "stdout",
     "output_type": "stream",
     "text": [
      "[Epoch 50] Loss: 0.0722\n",
      "[✓] Loss improved from 0.0726 to 0.0722, saving best model.\n"
     ]
    },
    {
     "name": "stderr",
     "output_type": "stream",
     "text": [
      "Epoch 51: 100%|█████████████████████████████████████████████████████████| 235/235 [01:57<00:00,  2.00it/s, loss=0.0828]\n"
     ]
    },
    {
     "name": "stdout",
     "output_type": "stream",
     "text": [
      "[Epoch 51] Loss: 0.0716\n",
      "[✓] Loss improved from 0.0722 to 0.0716, saving best model.\n"
     ]
    },
    {
     "name": "stderr",
     "output_type": "stream",
     "text": [
      "Epoch 52: 100%|█████████████████████████████████████████████████████████| 235/235 [01:57<00:00,  2.00it/s, loss=0.0822]\n"
     ]
    },
    {
     "name": "stdout",
     "output_type": "stream",
     "text": [
      "[Epoch 52] Loss: 0.0725\n"
     ]
    },
    {
     "name": "stderr",
     "output_type": "stream",
     "text": [
      "Epoch 53: 100%|█████████████████████████████████████████████████████████| 235/235 [01:57<00:00,  1.99it/s, loss=0.0776]\n"
     ]
    },
    {
     "name": "stdout",
     "output_type": "stream",
     "text": [
      "[Epoch 53] Loss: 0.0710\n",
      "[✓] Loss improved from 0.0716 to 0.0710, saving best model.\n"
     ]
    },
    {
     "name": "stderr",
     "output_type": "stream",
     "text": [
      "Epoch 54: 100%|██████████████████████████████████████████████████████████| 235/235 [01:57<00:00,  2.00it/s, loss=0.143]\n"
     ]
    },
    {
     "name": "stdout",
     "output_type": "stream",
     "text": [
      "[Epoch 54] Loss: 0.0740\n"
     ]
    },
    {
     "name": "stderr",
     "output_type": "stream",
     "text": [
      "Epoch 55: 100%|█████████████████████████████████████████████████████████| 235/235 [01:58<00:00,  1.98it/s, loss=0.0649]\n"
     ]
    },
    {
     "name": "stdout",
     "output_type": "stream",
     "text": [
      "[Epoch 55] Loss: 0.0763\n"
     ]
    },
    {
     "name": "stderr",
     "output_type": "stream",
     "text": [
      "Epoch 56: 100%|█████████████████████████████████████████████████████████| 235/235 [01:57<00:00,  1.99it/s, loss=0.0646]\n"
     ]
    },
    {
     "name": "stdout",
     "output_type": "stream",
     "text": [
      "[Epoch 56] Loss: 0.0670\n",
      "[✓] Loss improved from 0.0710 to 0.0670, saving best model.\n"
     ]
    },
    {
     "name": "stderr",
     "output_type": "stream",
     "text": [
      "Epoch 57: 100%|█████████████████████████████████████████████████████████| 235/235 [01:57<00:00,  2.00it/s, loss=0.0728]\n"
     ]
    },
    {
     "name": "stdout",
     "output_type": "stream",
     "text": [
      "[Epoch 57] Loss: 0.0673\n"
     ]
    },
    {
     "name": "stderr",
     "output_type": "stream",
     "text": [
      "Epoch 58: 100%|█████████████████████████████████████████████████████████| 235/235 [01:57<00:00,  2.00it/s, loss=0.0571]\n"
     ]
    },
    {
     "name": "stdout",
     "output_type": "stream",
     "text": [
      "[Epoch 58] Loss: 0.0668\n",
      "[✓] Loss improved from 0.0670 to 0.0668, saving best model.\n"
     ]
    },
    {
     "name": "stderr",
     "output_type": "stream",
     "text": [
      "Epoch 59: 100%|█████████████████████████████████████████████████████████| 235/235 [01:57<00:00,  1.99it/s, loss=0.0522]\n"
     ]
    },
    {
     "name": "stdout",
     "output_type": "stream",
     "text": [
      "[Epoch 59] Loss: 0.0653\n",
      "[✓] Loss improved from 0.0668 to 0.0653, saving best model.\n"
     ]
    },
    {
     "name": "stderr",
     "output_type": "stream",
     "text": [
      "Epoch 60: 100%|█████████████████████████████████████████████████████████| 235/235 [01:57<00:00,  2.00it/s, loss=0.0543]\n"
     ]
    },
    {
     "name": "stdout",
     "output_type": "stream",
     "text": [
      "[Epoch 60] Loss: 0.0645\n",
      "[✓] Loss improved from 0.0653 to 0.0645, saving best model.\n"
     ]
    },
    {
     "name": "stderr",
     "output_type": "stream",
     "text": [
      "Epoch 61: 100%|█████████████████████████████████████████████████████████| 235/235 [01:58<00:00,  1.99it/s, loss=0.0827]\n"
     ]
    },
    {
     "name": "stdout",
     "output_type": "stream",
     "text": [
      "[Epoch 61] Loss: 0.0642\n",
      "[✓] Loss improved from 0.0645 to 0.0642, saving best model.\n"
     ]
    },
    {
     "name": "stderr",
     "output_type": "stream",
     "text": [
      "Epoch 62: 100%|█████████████████████████████████████████████████████████| 235/235 [02:55<00:00,  1.34it/s, loss=0.0657]\n"
     ]
    },
    {
     "name": "stdout",
     "output_type": "stream",
     "text": [
      "[Epoch 62] Loss: 0.0628\n",
      "[✓] Loss improved from 0.0642 to 0.0628, saving best model.\n"
     ]
    },
    {
     "name": "stderr",
     "output_type": "stream",
     "text": [
      "Epoch 63: 100%|█████████████████████████████████████████████████████████| 235/235 [02:01<00:00,  1.93it/s, loss=0.0718]\n"
     ]
    },
    {
     "name": "stdout",
     "output_type": "stream",
     "text": [
      "[Epoch 63] Loss: 0.0618\n",
      "[✓] Loss improved from 0.0628 to 0.0618, saving best model.\n"
     ]
    },
    {
     "name": "stderr",
     "output_type": "stream",
     "text": [
      "Epoch 64: 100%|█████████████████████████████████████████████████████████| 235/235 [02:02<00:00,  1.92it/s, loss=0.0685]\n"
     ]
    },
    {
     "name": "stdout",
     "output_type": "stream",
     "text": [
      "[Epoch 64] Loss: 0.0628\n"
     ]
    },
    {
     "name": "stderr",
     "output_type": "stream",
     "text": [
      "Epoch 65: 100%|█████████████████████████████████████████████████████████| 235/235 [02:01<00:00,  1.94it/s, loss=0.0524]\n"
     ]
    },
    {
     "name": "stdout",
     "output_type": "stream",
     "text": [
      "[Epoch 65] Loss: 0.0621\n"
     ]
    },
    {
     "name": "stderr",
     "output_type": "stream",
     "text": [
      "Epoch 66: 100%|█████████████████████████████████████████████████████████| 235/235 [02:03<00:00,  1.90it/s, loss=0.0487]\n"
     ]
    },
    {
     "name": "stdout",
     "output_type": "stream",
     "text": [
      "[Epoch 66] Loss: 0.0611\n",
      "[✓] Loss improved from 0.0618 to 0.0611, saving best model.\n"
     ]
    },
    {
     "name": "stderr",
     "output_type": "stream",
     "text": [
      "Epoch 67: 100%|█████████████████████████████████████████████████████████| 235/235 [02:10<00:00,  1.81it/s, loss=0.0847]\n"
     ]
    },
    {
     "name": "stdout",
     "output_type": "stream",
     "text": [
      "[Epoch 67] Loss: 0.0616\n"
     ]
    },
    {
     "name": "stderr",
     "output_type": "stream",
     "text": [
      "Epoch 68: 100%|█████████████████████████████████████████████████████████| 235/235 [02:08<00:00,  1.84it/s, loss=0.0677]\n"
     ]
    },
    {
     "name": "stdout",
     "output_type": "stream",
     "text": [
      "[Epoch 68] Loss: 0.0616\n"
     ]
    },
    {
     "name": "stderr",
     "output_type": "stream",
     "text": [
      "Epoch 69: 100%|█████████████████████████████████████████████████████████| 235/235 [02:06<00:00,  1.85it/s, loss=0.0397]\n"
     ]
    },
    {
     "name": "stdout",
     "output_type": "stream",
     "text": [
      "[Epoch 69] Loss: 0.0608\n",
      "[✓] Loss improved from 0.0611 to 0.0608, saving best model.\n"
     ]
    },
    {
     "name": "stderr",
     "output_type": "stream",
     "text": [
      "Epoch 70: 100%|█████████████████████████████████████████████████████████| 235/235 [02:10<00:00,  1.80it/s, loss=0.0483]\n"
     ]
    },
    {
     "name": "stdout",
     "output_type": "stream",
     "text": [
      "[Epoch 70] Loss: 0.0598\n",
      "[✓] Loss improved from 0.0608 to 0.0598, saving best model.\n"
     ]
    },
    {
     "name": "stderr",
     "output_type": "stream",
     "text": [
      "Epoch 71: 100%|█████████████████████████████████████████████████████████| 235/235 [02:18<00:00,  1.69it/s, loss=0.0675]\n"
     ]
    },
    {
     "name": "stdout",
     "output_type": "stream",
     "text": [
      "[Epoch 71] Loss: 0.0590\n",
      "[✓] Loss improved from 0.0598 to 0.0590, saving best model.\n"
     ]
    },
    {
     "name": "stderr",
     "output_type": "stream",
     "text": [
      "Epoch 72: 100%|█████████████████████████████████████████████████████████| 235/235 [02:10<00:00,  1.79it/s, loss=0.0534]\n"
     ]
    },
    {
     "name": "stdout",
     "output_type": "stream",
     "text": [
      "[Epoch 72] Loss: 0.0603\n"
     ]
    },
    {
     "name": "stderr",
     "output_type": "stream",
     "text": [
      "Epoch 73: 100%|█████████████████████████████████████████████████████████| 235/235 [02:12<00:00,  1.77it/s, loss=0.0577]\n"
     ]
    },
    {
     "name": "stdout",
     "output_type": "stream",
     "text": [
      "[Epoch 73] Loss: 0.0598\n"
     ]
    },
    {
     "name": "stderr",
     "output_type": "stream",
     "text": [
      "Epoch 74: 100%|█████████████████████████████████████████████████████████| 235/235 [02:10<00:00,  1.81it/s, loss=0.0566]\n"
     ]
    },
    {
     "name": "stdout",
     "output_type": "stream",
     "text": [
      "[Epoch 74] Loss: 0.0600\n"
     ]
    },
    {
     "name": "stderr",
     "output_type": "stream",
     "text": [
      "Epoch 75: 100%|█████████████████████████████████████████████████████████| 235/235 [02:06<00:00,  1.86it/s, loss=0.0473]\n"
     ]
    },
    {
     "name": "stdout",
     "output_type": "stream",
     "text": [
      "[Epoch 75] Loss: 0.0597\n"
     ]
    },
    {
     "name": "stderr",
     "output_type": "stream",
     "text": [
      "Epoch 76: 100%|█████████████████████████████████████████████████████████| 235/235 [02:06<00:00,  1.86it/s, loss=0.0712]\n"
     ]
    },
    {
     "name": "stdout",
     "output_type": "stream",
     "text": [
      "[Epoch 76] Loss: 0.0595\n"
     ]
    },
    {
     "name": "stderr",
     "output_type": "stream",
     "text": [
      "Epoch 77: 100%|█████████████████████████████████████████████████████████| 235/235 [02:06<00:00,  1.86it/s, loss=0.0808]\n"
     ]
    },
    {
     "name": "stdout",
     "output_type": "stream",
     "text": [
      "[Epoch 77] Loss: 0.0594\n"
     ]
    },
    {
     "name": "stderr",
     "output_type": "stream",
     "text": [
      "Epoch 78: 100%|█████████████████████████████████████████████████████████| 235/235 [02:06<00:00,  1.86it/s, loss=0.0403]\n"
     ]
    },
    {
     "name": "stdout",
     "output_type": "stream",
     "text": [
      "[Epoch 78] Loss: 0.0602\n"
     ]
    },
    {
     "name": "stderr",
     "output_type": "stream",
     "text": [
      "Epoch 79: 100%|█████████████████████████████████████████████████████████| 235/235 [02:08<00:00,  1.83it/s, loss=0.0595]\n"
     ]
    },
    {
     "name": "stdout",
     "output_type": "stream",
     "text": [
      "[Epoch 79] Loss: 0.0589\n",
      "[✓] Loss improved from 0.0590 to 0.0589, saving best model.\n"
     ]
    },
    {
     "name": "stderr",
     "output_type": "stream",
     "text": [
      "Epoch 80: 100%|█████████████████████████████████████████████████████████| 235/235 [02:08<00:00,  1.84it/s, loss=0.0485]\n"
     ]
    },
    {
     "name": "stdout",
     "output_type": "stream",
     "text": [
      "[Epoch 80] Loss: 0.0581\n",
      "[✓] Loss improved from 0.0589 to 0.0581, saving best model.\n"
     ]
    },
    {
     "name": "stderr",
     "output_type": "stream",
     "text": [
      "Epoch 81: 100%|█████████████████████████████████████████████████████████| 235/235 [02:15<00:00,  1.73it/s, loss=0.0736]\n"
     ]
    },
    {
     "name": "stdout",
     "output_type": "stream",
     "text": [
      "[Epoch 81] Loss: 0.0584\n"
     ]
    },
    {
     "name": "stderr",
     "output_type": "stream",
     "text": [
      "Epoch 82: 100%|██████████████████████████████████████████████████████████| 235/235 [02:12<00:00,  1.78it/s, loss=0.048]\n"
     ]
    },
    {
     "name": "stdout",
     "output_type": "stream",
     "text": [
      "[Epoch 82] Loss: 0.0587\n"
     ]
    },
    {
     "name": "stderr",
     "output_type": "stream",
     "text": [
      "Epoch 83: 100%|█████████████████████████████████████████████████████████| 235/235 [02:10<00:00,  1.79it/s, loss=0.0615]\n"
     ]
    },
    {
     "name": "stdout",
     "output_type": "stream",
     "text": [
      "[Epoch 83] Loss: 0.0589\n"
     ]
    },
    {
     "name": "stderr",
     "output_type": "stream",
     "text": [
      "Epoch 84: 100%|█████████████████████████████████████████████████████████| 235/235 [02:04<00:00,  1.89it/s, loss=0.0554]\n"
     ]
    },
    {
     "name": "stdout",
     "output_type": "stream",
     "text": [
      "[Epoch 84] Loss: 0.0583\n"
     ]
    },
    {
     "name": "stderr",
     "output_type": "stream",
     "text": [
      "Epoch 85: 100%|██████████████████████████████████████████████████████████| 235/235 [02:04<00:00,  1.88it/s, loss=0.057]\n"
     ]
    },
    {
     "name": "stdout",
     "output_type": "stream",
     "text": [
      "[Epoch 85] Loss: 0.0580\n",
      "[✓] Loss improved from 0.0581 to 0.0580, saving best model.\n"
     ]
    },
    {
     "name": "stderr",
     "output_type": "stream",
     "text": [
      "Epoch 86: 100%|█████████████████████████████████████████████████████████| 235/235 [02:03<00:00,  1.90it/s, loss=0.0693]\n"
     ]
    },
    {
     "name": "stdout",
     "output_type": "stream",
     "text": [
      "[Epoch 86] Loss: 0.0583\n"
     ]
    },
    {
     "name": "stderr",
     "output_type": "stream",
     "text": [
      "Epoch 87: 100%|█████████████████████████████████████████████████████████| 235/235 [02:09<00:00,  1.82it/s, loss=0.0395]\n"
     ]
    },
    {
     "name": "stdout",
     "output_type": "stream",
     "text": [
      "[Epoch 87] Loss: 0.0576\n",
      "[✓] Loss improved from 0.0580 to 0.0576, saving best model.\n"
     ]
    },
    {
     "name": "stderr",
     "output_type": "stream",
     "text": [
      "Epoch 88: 100%|██████████████████████████████████████████████████████████| 235/235 [02:08<00:00,  1.83it/s, loss=0.059]\n"
     ]
    },
    {
     "name": "stdout",
     "output_type": "stream",
     "text": [
      "[Epoch 88] Loss: 0.0573\n",
      "[✓] Loss improved from 0.0576 to 0.0573, saving best model.\n"
     ]
    },
    {
     "name": "stderr",
     "output_type": "stream",
     "text": [
      "Epoch 89: 100%|█████████████████████████████████████████████████████████| 235/235 [02:07<00:00,  1.85it/s, loss=0.0504]\n"
     ]
    },
    {
     "name": "stdout",
     "output_type": "stream",
     "text": [
      "[Epoch 89] Loss: 0.0586\n"
     ]
    },
    {
     "name": "stderr",
     "output_type": "stream",
     "text": [
      "Epoch 90: 100%|█████████████████████████████████████████████████████████| 235/235 [02:11<00:00,  1.79it/s, loss=0.0421]\n"
     ]
    },
    {
     "name": "stdout",
     "output_type": "stream",
     "text": [
      "[Epoch 90] Loss: 0.0571\n",
      "[✓] Loss improved from 0.0573 to 0.0571, saving best model.\n"
     ]
    },
    {
     "name": "stderr",
     "output_type": "stream",
     "text": [
      "Epoch 91: 100%|█████████████████████████████████████████████████████████| 235/235 [02:10<00:00,  1.80it/s, loss=0.0649]\n"
     ]
    },
    {
     "name": "stdout",
     "output_type": "stream",
     "text": [
      "[Epoch 91] Loss: 0.0569\n",
      "[✓] Loss improved from 0.0571 to 0.0569, saving best model.\n"
     ]
    },
    {
     "name": "stderr",
     "output_type": "stream",
     "text": [
      "Epoch 92: 100%|█████████████████████████████████████████████████████████| 235/235 [02:09<00:00,  1.82it/s, loss=0.0377]\n"
     ]
    },
    {
     "name": "stdout",
     "output_type": "stream",
     "text": [
      "[Epoch 92] Loss: 0.0570\n"
     ]
    },
    {
     "name": "stderr",
     "output_type": "stream",
     "text": [
      "Epoch 93: 100%|█████████████████████████████████████████████████████████| 235/235 [02:05<00:00,  1.88it/s, loss=0.0496]\n"
     ]
    },
    {
     "name": "stdout",
     "output_type": "stream",
     "text": [
      "[Epoch 93] Loss: 0.0580\n"
     ]
    },
    {
     "name": "stderr",
     "output_type": "stream",
     "text": [
      "Epoch 94: 100%|█████████████████████████████████████████████████████████| 235/235 [02:07<00:00,  1.84it/s, loss=0.0578]\n"
     ]
    },
    {
     "name": "stdout",
     "output_type": "stream",
     "text": [
      "[Epoch 94] Loss: 0.0570\n"
     ]
    },
    {
     "name": "stderr",
     "output_type": "stream",
     "text": [
      "Epoch 95: 100%|█████████████████████████████████████████████████████████| 235/235 [02:08<00:00,  1.83it/s, loss=0.0707]\n"
     ]
    },
    {
     "name": "stdout",
     "output_type": "stream",
     "text": [
      "[Epoch 95] Loss: 0.0569\n",
      "[✓] Loss improved from 0.0569 to 0.0569, saving best model.\n"
     ]
    },
    {
     "name": "stderr",
     "output_type": "stream",
     "text": [
      "Epoch 96: 100%|█████████████████████████████████████████████████████████| 235/235 [02:07<00:00,  1.85it/s, loss=0.0516]\n"
     ]
    },
    {
     "name": "stdout",
     "output_type": "stream",
     "text": [
      "[Epoch 96] Loss: 0.0571\n"
     ]
    },
    {
     "name": "stderr",
     "output_type": "stream",
     "text": [
      "Epoch 97: 100%|█████████████████████████████████████████████████████████| 235/235 [02:02<00:00,  1.91it/s, loss=0.0599]\n"
     ]
    },
    {
     "name": "stdout",
     "output_type": "stream",
     "text": [
      "[Epoch 97] Loss: 0.0568\n",
      "[✓] Loss improved from 0.0569 to 0.0568, saving best model.\n"
     ]
    },
    {
     "name": "stderr",
     "output_type": "stream",
     "text": [
      "Epoch 98: 100%|█████████████████████████████████████████████████████████| 235/235 [02:21<00:00,  1.66it/s, loss=0.0392]\n"
     ]
    },
    {
     "name": "stdout",
     "output_type": "stream",
     "text": [
      "[Epoch 98] Loss: 0.0571\n"
     ]
    },
    {
     "name": "stderr",
     "output_type": "stream",
     "text": [
      "Epoch 99: 100%|█████████████████████████████████████████████████████████| 235/235 [02:52<00:00,  1.36it/s, loss=0.0397]\n"
     ]
    },
    {
     "name": "stdout",
     "output_type": "stream",
     "text": [
      "[Epoch 99] Loss: 0.0576\n"
     ]
    },
    {
     "name": "stderr",
     "output_type": "stream",
     "text": [
      "Epoch 100: 100%|█████████████████████████████████████████████████████████| 235/235 [02:27<00:00,  1.59it/s, loss=0.056]\n"
     ]
    },
    {
     "name": "stdout",
     "output_type": "stream",
     "text": [
      "[Epoch 100] Loss: 0.0569\n"
     ]
    },
    {
     "name": "stderr",
     "output_type": "stream",
     "text": [
      "Epoch 101: 100%|████████████████████████████████████████████████████████| 235/235 [02:06<00:00,  1.85it/s, loss=0.0544]\n"
     ]
    },
    {
     "name": "stdout",
     "output_type": "stream",
     "text": [
      "[Epoch 101] Loss: 0.0564\n",
      "[✓] Loss improved from 0.0568 to 0.0564, saving best model.\n"
     ]
    },
    {
     "name": "stderr",
     "output_type": "stream",
     "text": [
      "Epoch 102: 100%|████████████████████████████████████████████████████████| 235/235 [01:59<00:00,  1.97it/s, loss=0.0782]\n"
     ]
    },
    {
     "name": "stdout",
     "output_type": "stream",
     "text": [
      "[Epoch 102] Loss: 0.0579\n"
     ]
    },
    {
     "name": "stderr",
     "output_type": "stream",
     "text": [
      "Epoch 103: 100%|████████████████████████████████████████████████████████| 235/235 [02:05<00:00,  1.87it/s, loss=0.0536]\n"
     ]
    },
    {
     "name": "stdout",
     "output_type": "stream",
     "text": [
      "[Epoch 103] Loss: 0.0563\n",
      "[✓] Loss improved from 0.0564 to 0.0563, saving best model.\n"
     ]
    },
    {
     "name": "stderr",
     "output_type": "stream",
     "text": [
      "Epoch 104: 100%|████████████████████████████████████████████████████████| 235/235 [01:59<00:00,  1.97it/s, loss=0.0728]\n"
     ]
    },
    {
     "name": "stdout",
     "output_type": "stream",
     "text": [
      "[Epoch 104] Loss: 0.0568\n"
     ]
    },
    {
     "name": "stderr",
     "output_type": "stream",
     "text": [
      "Epoch 105: 100%|████████████████████████████████████████████████████████| 235/235 [02:00<00:00,  1.95it/s, loss=0.0513]\n"
     ]
    },
    {
     "name": "stdout",
     "output_type": "stream",
     "text": [
      "[Epoch 105] Loss: 0.0555\n",
      "[✓] Loss improved from 0.0563 to 0.0555, saving best model.\n"
     ]
    },
    {
     "name": "stderr",
     "output_type": "stream",
     "text": [
      "Epoch 106: 100%|████████████████████████████████████████████████████████| 235/235 [01:59<00:00,  1.97it/s, loss=0.0497]\n"
     ]
    },
    {
     "name": "stdout",
     "output_type": "stream",
     "text": [
      "[Epoch 106] Loss: 0.0554\n",
      "[✓] Loss improved from 0.0555 to 0.0554, saving best model.\n"
     ]
    },
    {
     "name": "stderr",
     "output_type": "stream",
     "text": [
      "Epoch 107: 100%|██████████████████████████████████████████████████████████| 235/235 [01:59<00:00,  1.97it/s, loss=0.04]\n"
     ]
    },
    {
     "name": "stdout",
     "output_type": "stream",
     "text": [
      "[Epoch 107] Loss: 0.0552\n",
      "[✓] Loss improved from 0.0554 to 0.0552, saving best model.\n"
     ]
    },
    {
     "name": "stderr",
     "output_type": "stream",
     "text": [
      "Epoch 108: 100%|████████████████████████████████████████████████████████| 235/235 [01:59<00:00,  1.97it/s, loss=0.0341]\n"
     ]
    },
    {
     "name": "stdout",
     "output_type": "stream",
     "text": [
      "[Epoch 108] Loss: 0.0559\n"
     ]
    },
    {
     "name": "stderr",
     "output_type": "stream",
     "text": [
      "Epoch 109: 100%|████████████████████████████████████████████████████████| 235/235 [01:59<00:00,  1.97it/s, loss=0.0518]\n"
     ]
    },
    {
     "name": "stdout",
     "output_type": "stream",
     "text": [
      "[Epoch 109] Loss: 0.0562\n"
     ]
    },
    {
     "name": "stderr",
     "output_type": "stream",
     "text": [
      "Epoch 110: 100%|████████████████████████████████████████████████████████| 235/235 [01:59<00:00,  1.97it/s, loss=0.0586]\n"
     ]
    },
    {
     "name": "stdout",
     "output_type": "stream",
     "text": [
      "[Epoch 110] Loss: 0.0546\n",
      "[✓] Loss improved from 0.0552 to 0.0546, saving best model.\n"
     ]
    },
    {
     "name": "stderr",
     "output_type": "stream",
     "text": [
      "Epoch 111: 100%|████████████████████████████████████████████████████████| 235/235 [01:59<00:00,  1.96it/s, loss=0.0654]\n"
     ]
    },
    {
     "name": "stdout",
     "output_type": "stream",
     "text": [
      "[Epoch 111] Loss: 0.0552\n"
     ]
    },
    {
     "name": "stderr",
     "output_type": "stream",
     "text": [
      "Epoch 112: 100%|████████████████████████████████████████████████████████| 235/235 [02:06<00:00,  1.86it/s, loss=0.0734]\n"
     ]
    },
    {
     "name": "stdout",
     "output_type": "stream",
     "text": [
      "[Epoch 112] Loss: 0.0567\n"
     ]
    },
    {
     "name": "stderr",
     "output_type": "stream",
     "text": [
      "Epoch 113: 100%|████████████████████████████████████████████████████████| 235/235 [01:58<00:00,  1.98it/s, loss=0.0503]\n"
     ]
    },
    {
     "name": "stdout",
     "output_type": "stream",
     "text": [
      "[Epoch 113] Loss: 0.0560\n"
     ]
    },
    {
     "name": "stderr",
     "output_type": "stream",
     "text": [
      "Epoch 114: 100%|████████████████████████████████████████████████████████| 235/235 [02:00<00:00,  1.96it/s, loss=0.0644]\n"
     ]
    },
    {
     "name": "stdout",
     "output_type": "stream",
     "text": [
      "[Epoch 114] Loss: 0.0550\n"
     ]
    },
    {
     "name": "stderr",
     "output_type": "stream",
     "text": [
      "Epoch 115: 100%|█████████████████████████████████████████████████████████| 235/235 [02:03<00:00,  1.90it/s, loss=0.049]\n"
     ]
    },
    {
     "name": "stdout",
     "output_type": "stream",
     "text": [
      "[Epoch 115] Loss: 0.0564\n"
     ]
    },
    {
     "name": "stderr",
     "output_type": "stream",
     "text": [
      "Epoch 116: 100%|████████████████████████████████████████████████████████| 235/235 [02:07<00:00,  1.84it/s, loss=0.0501]\n"
     ]
    },
    {
     "name": "stdout",
     "output_type": "stream",
     "text": [
      "[Epoch 116] Loss: 0.0557\n"
     ]
    },
    {
     "name": "stderr",
     "output_type": "stream",
     "text": [
      "Epoch 117: 100%|████████████████████████████████████████████████████████| 235/235 [01:59<00:00,  1.97it/s, loss=0.0499]\n"
     ]
    },
    {
     "name": "stdout",
     "output_type": "stream",
     "text": [
      "[Epoch 117] Loss: 0.0549\n"
     ]
    },
    {
     "name": "stderr",
     "output_type": "stream",
     "text": [
      "Epoch 118: 100%|████████████████████████████████████████████████████████| 235/235 [02:02<00:00,  1.92it/s, loss=0.0485]\n"
     ]
    },
    {
     "name": "stdout",
     "output_type": "stream",
     "text": [
      "[Epoch 118] Loss: 0.0551\n"
     ]
    },
    {
     "name": "stderr",
     "output_type": "stream",
     "text": [
      "Epoch 119: 100%|████████████████████████████████████████████████████████| 235/235 [01:58<00:00,  1.98it/s, loss=0.0529]\n"
     ]
    },
    {
     "name": "stdout",
     "output_type": "stream",
     "text": [
      "[Epoch 119] Loss: 0.0551\n"
     ]
    },
    {
     "name": "stderr",
     "output_type": "stream",
     "text": [
      "Epoch 120: 100%|████████████████████████████████████████████████████████| 235/235 [01:57<00:00,  1.99it/s, loss=0.0652]\n"
     ]
    },
    {
     "name": "stdout",
     "output_type": "stream",
     "text": [
      "[Epoch 120] Loss: 0.0551\n"
     ]
    },
    {
     "name": "stderr",
     "output_type": "stream",
     "text": [
      "Epoch 121: 100%|████████████████████████████████████████████████████████| 235/235 [01:58<00:00,  1.98it/s, loss=0.0579]\n"
     ]
    },
    {
     "name": "stdout",
     "output_type": "stream",
     "text": [
      "[Epoch 121] Loss: 0.0557\n"
     ]
    },
    {
     "name": "stderr",
     "output_type": "stream",
     "text": [
      "Epoch 122: 100%|████████████████████████████████████████████████████████| 235/235 [01:58<00:00,  1.98it/s, loss=0.0596]\n"
     ]
    },
    {
     "name": "stdout",
     "output_type": "stream",
     "text": [
      "[Epoch 122] Loss: 0.0555\n"
     ]
    },
    {
     "name": "stderr",
     "output_type": "stream",
     "text": [
      "Epoch 123: 100%|████████████████████████████████████████████████████████| 235/235 [01:58<00:00,  1.98it/s, loss=0.0355]\n"
     ]
    },
    {
     "name": "stdout",
     "output_type": "stream",
     "text": [
      "[Epoch 123] Loss: 0.0546\n",
      "[✓] Loss improved from 0.0546 to 0.0546, saving best model.\n"
     ]
    },
    {
     "name": "stderr",
     "output_type": "stream",
     "text": [
      "Epoch 124: 100%|█████████████████████████████████████████████████████████| 235/235 [02:02<00:00,  1.92it/s, loss=0.037]\n"
     ]
    },
    {
     "name": "stdout",
     "output_type": "stream",
     "text": [
      "[Epoch 124] Loss: 0.0541\n",
      "[✓] Loss improved from 0.0546 to 0.0541, saving best model.\n"
     ]
    },
    {
     "name": "stderr",
     "output_type": "stream",
     "text": [
      "Epoch 125: 100%|████████████████████████████████████████████████████████| 235/235 [01:59<00:00,  1.97it/s, loss=0.0896]\n"
     ]
    },
    {
     "name": "stdout",
     "output_type": "stream",
     "text": [
      "[Epoch 125] Loss: 0.0551\n"
     ]
    },
    {
     "name": "stderr",
     "output_type": "stream",
     "text": [
      "Epoch 126: 100%|████████████████████████████████████████████████████████| 235/235 [01:58<00:00,  1.99it/s, loss=0.0575]\n"
     ]
    },
    {
     "name": "stdout",
     "output_type": "stream",
     "text": [
      "[Epoch 126] Loss: 0.0550\n"
     ]
    },
    {
     "name": "stderr",
     "output_type": "stream",
     "text": [
      "Epoch 127: 100%|█████████████████████████████████████████████████████████| 235/235 [02:01<00:00,  1.93it/s, loss=0.061]\n"
     ]
    },
    {
     "name": "stdout",
     "output_type": "stream",
     "text": [
      "[Epoch 127] Loss: 0.0555\n"
     ]
    },
    {
     "name": "stderr",
     "output_type": "stream",
     "text": [
      "Epoch 128: 100%|████████████████████████████████████████████████████████| 235/235 [01:57<00:00,  1.99it/s, loss=0.0589]\n"
     ]
    },
    {
     "name": "stdout",
     "output_type": "stream",
     "text": [
      "[Epoch 128] Loss: 0.0540\n",
      "[✓] Loss improved from 0.0541 to 0.0540, saving best model.\n"
     ]
    },
    {
     "name": "stderr",
     "output_type": "stream",
     "text": [
      "Epoch 129: 100%|████████████████████████████████████████████████████████| 235/235 [01:58<00:00,  1.98it/s, loss=0.0536]\n"
     ]
    },
    {
     "name": "stdout",
     "output_type": "stream",
     "text": [
      "[Epoch 129] Loss: 0.0542\n"
     ]
    },
    {
     "name": "stderr",
     "output_type": "stream",
     "text": [
      "Epoch 130: 100%|████████████████████████████████████████████████████████| 235/235 [01:57<00:00,  2.00it/s, loss=0.0497]\n"
     ]
    },
    {
     "name": "stdout",
     "output_type": "stream",
     "text": [
      "[Epoch 130] Loss: 0.0551\n"
     ]
    },
    {
     "name": "stderr",
     "output_type": "stream",
     "text": [
      "Epoch 131: 100%|████████████████████████████████████████████████████████| 235/235 [01:57<00:00,  2.00it/s, loss=0.0422]\n"
     ]
    },
    {
     "name": "stdout",
     "output_type": "stream",
     "text": [
      "[Epoch 131] Loss: 0.0547\n"
     ]
    },
    {
     "name": "stderr",
     "output_type": "stream",
     "text": [
      "Epoch 132: 100%|█████████████████████████████████████████████████████████| 235/235 [01:57<00:00,  2.00it/s, loss=0.068]\n"
     ]
    },
    {
     "name": "stdout",
     "output_type": "stream",
     "text": [
      "[Epoch 132] Loss: 0.0544\n"
     ]
    },
    {
     "name": "stderr",
     "output_type": "stream",
     "text": [
      "Epoch 133: 100%|████████████████████████████████████████████████████████| 235/235 [01:57<00:00,  2.00it/s, loss=0.0574]\n"
     ]
    },
    {
     "name": "stdout",
     "output_type": "stream",
     "text": [
      "[Epoch 133] Loss: 0.0542\n"
     ]
    },
    {
     "name": "stderr",
     "output_type": "stream",
     "text": [
      "Epoch 134: 100%|████████████████████████████████████████████████████████| 235/235 [01:57<00:00,  2.00it/s, loss=0.0384]\n"
     ]
    },
    {
     "name": "stdout",
     "output_type": "stream",
     "text": [
      "[Epoch 134] Loss: 0.0543\n"
     ]
    },
    {
     "name": "stderr",
     "output_type": "stream",
     "text": [
      "Epoch 135: 100%|████████████████████████████████████████████████████████| 235/235 [01:57<00:00,  2.00it/s, loss=0.0563]\n"
     ]
    },
    {
     "name": "stdout",
     "output_type": "stream",
     "text": [
      "[Epoch 135] Loss: 0.0545\n"
     ]
    },
    {
     "name": "stderr",
     "output_type": "stream",
     "text": [
      "Epoch 136: 100%|████████████████████████████████████████████████████████| 235/235 [01:57<00:00,  2.00it/s, loss=0.0536]\n"
     ]
    },
    {
     "name": "stdout",
     "output_type": "stream",
     "text": [
      "[Epoch 136] Loss: 0.0546\n"
     ]
    },
    {
     "name": "stderr",
     "output_type": "stream",
     "text": [
      "Epoch 137: 100%|████████████████████████████████████████████████████████| 235/235 [01:57<00:00,  2.00it/s, loss=0.0548]\n"
     ]
    },
    {
     "name": "stdout",
     "output_type": "stream",
     "text": [
      "[Epoch 137] Loss: 0.0540\n"
     ]
    },
    {
     "name": "stderr",
     "output_type": "stream",
     "text": [
      "Epoch 138: 100%|████████████████████████████████████████████████████████| 235/235 [01:57<00:00,  2.00it/s, loss=0.0482]\n"
     ]
    },
    {
     "name": "stdout",
     "output_type": "stream",
     "text": [
      "[Epoch 138] Loss: 0.0538\n",
      "[✓] Loss improved from 0.0540 to 0.0538, saving best model.\n"
     ]
    },
    {
     "name": "stderr",
     "output_type": "stream",
     "text": [
      "Epoch 139: 100%|████████████████████████████████████████████████████████| 235/235 [01:57<00:00,  1.99it/s, loss=0.0567]\n"
     ]
    },
    {
     "name": "stdout",
     "output_type": "stream",
     "text": [
      "[Epoch 139] Loss: 0.0547\n"
     ]
    },
    {
     "name": "stderr",
     "output_type": "stream",
     "text": [
      "Epoch 140: 100%|████████████████████████████████████████████████████████| 235/235 [01:57<00:00,  2.00it/s, loss=0.0492]\n"
     ]
    },
    {
     "name": "stdout",
     "output_type": "stream",
     "text": [
      "[Epoch 140] Loss: 0.0534\n",
      "[✓] Loss improved from 0.0538 to 0.0534, saving best model.\n"
     ]
    },
    {
     "name": "stderr",
     "output_type": "stream",
     "text": [
      "Epoch 141: 100%|████████████████████████████████████████████████████████| 235/235 [01:57<00:00,  2.00it/s, loss=0.0504]\n"
     ]
    },
    {
     "name": "stdout",
     "output_type": "stream",
     "text": [
      "[Epoch 141] Loss: 0.0526\n",
      "[✓] Loss improved from 0.0534 to 0.0526, saving best model.\n"
     ]
    },
    {
     "name": "stderr",
     "output_type": "stream",
     "text": [
      "Epoch 142: 100%|████████████████████████████████████████████████████████| 235/235 [01:57<00:00,  2.00it/s, loss=0.0465]\n"
     ]
    },
    {
     "name": "stdout",
     "output_type": "stream",
     "text": [
      "[Epoch 142] Loss: 0.0534\n"
     ]
    },
    {
     "name": "stderr",
     "output_type": "stream",
     "text": [
      "Epoch 143: 100%|████████████████████████████████████████████████████████| 235/235 [01:57<00:00,  2.00it/s, loss=0.0551]\n"
     ]
    },
    {
     "name": "stdout",
     "output_type": "stream",
     "text": [
      "[Epoch 143] Loss: 0.0544\n"
     ]
    },
    {
     "name": "stderr",
     "output_type": "stream",
     "text": [
      "Epoch 144: 100%|████████████████████████████████████████████████████████| 235/235 [01:57<00:00,  1.99it/s, loss=0.0345]\n"
     ]
    },
    {
     "name": "stdout",
     "output_type": "stream",
     "text": [
      "[Epoch 144] Loss: 0.0537\n"
     ]
    },
    {
     "name": "stderr",
     "output_type": "stream",
     "text": [
      "Epoch 145: 100%|████████████████████████████████████████████████████████| 235/235 [01:57<00:00,  1.99it/s, loss=0.0449]\n"
     ]
    },
    {
     "name": "stdout",
     "output_type": "stream",
     "text": [
      "[Epoch 145] Loss: 0.0537\n"
     ]
    },
    {
     "name": "stderr",
     "output_type": "stream",
     "text": [
      "Epoch 146: 100%|████████████████████████████████████████████████████████| 235/235 [01:58<00:00,  1.99it/s, loss=0.0859]\n"
     ]
    },
    {
     "name": "stdout",
     "output_type": "stream",
     "text": [
      "[Epoch 146] Loss: 0.0544\n"
     ]
    },
    {
     "name": "stderr",
     "output_type": "stream",
     "text": [
      "Epoch 147: 100%|████████████████████████████████████████████████████████| 235/235 [01:57<00:00,  2.00it/s, loss=0.0629]\n"
     ]
    },
    {
     "name": "stdout",
     "output_type": "stream",
     "text": [
      "[Epoch 147] Loss: 0.0535\n"
     ]
    },
    {
     "name": "stderr",
     "output_type": "stream",
     "text": [
      "Epoch 148: 100%|████████████████████████████████████████████████████████| 235/235 [01:57<00:00,  2.00it/s, loss=0.0437]\n"
     ]
    },
    {
     "name": "stdout",
     "output_type": "stream",
     "text": [
      "[Epoch 148] Loss: 0.0537\n"
     ]
    },
    {
     "name": "stderr",
     "output_type": "stream",
     "text": [
      "Epoch 149: 100%|████████████████████████████████████████████████████████| 235/235 [01:57<00:00,  2.00it/s, loss=0.0702]\n"
     ]
    },
    {
     "name": "stdout",
     "output_type": "stream",
     "text": [
      "[Epoch 149] Loss: 0.0530\n"
     ]
    },
    {
     "name": "stderr",
     "output_type": "stream",
     "text": [
      "Epoch 150: 100%|████████████████████████████████████████████████████████| 235/235 [01:57<00:00,  2.00it/s, loss=0.0361]\n"
     ]
    },
    {
     "name": "stdout",
     "output_type": "stream",
     "text": [
      "[Epoch 150] Loss: 0.0528\n"
     ]
    },
    {
     "name": "stderr",
     "output_type": "stream",
     "text": [
      "Epoch 151: 100%|████████████████████████████████████████████████████████| 235/235 [01:58<00:00,  1.99it/s, loss=0.0525]\n"
     ]
    },
    {
     "name": "stdout",
     "output_type": "stream",
     "text": [
      "[Epoch 151] Loss: 0.0541\n"
     ]
    },
    {
     "name": "stderr",
     "output_type": "stream",
     "text": [
      "Epoch 152: 100%|████████████████████████████████████████████████████████| 235/235 [02:00<00:00,  1.95it/s, loss=0.0472]\n"
     ]
    },
    {
     "name": "stdout",
     "output_type": "stream",
     "text": [
      "[Epoch 152] Loss: 0.0535\n"
     ]
    },
    {
     "name": "stderr",
     "output_type": "stream",
     "text": [
      "Epoch 153: 100%|████████████████████████████████████████████████████████| 235/235 [01:59<00:00,  1.96it/s, loss=0.0548]\n"
     ]
    },
    {
     "name": "stdout",
     "output_type": "stream",
     "text": [
      "[Epoch 153] Loss: 0.0543\n"
     ]
    },
    {
     "name": "stderr",
     "output_type": "stream",
     "text": [
      "Epoch 154: 100%|████████████████████████████████████████████████████████| 235/235 [01:58<00:00,  1.99it/s, loss=0.0609]\n"
     ]
    },
    {
     "name": "stdout",
     "output_type": "stream",
     "text": [
      "[Epoch 154] Loss: 0.0529\n"
     ]
    },
    {
     "name": "stderr",
     "output_type": "stream",
     "text": [
      "Epoch 155: 100%|████████████████████████████████████████████████████████| 235/235 [01:58<00:00,  1.99it/s, loss=0.0649]\n"
     ]
    },
    {
     "name": "stdout",
     "output_type": "stream",
     "text": [
      "[Epoch 155] Loss: 0.0527\n"
     ]
    },
    {
     "name": "stderr",
     "output_type": "stream",
     "text": [
      "Epoch 156: 100%|██████████████████████████████████████████████████████████| 235/235 [01:58<00:00,  1.98it/s, loss=0.05]\n"
     ]
    },
    {
     "name": "stdout",
     "output_type": "stream",
     "text": [
      "[Epoch 156] Loss: 0.0540\n"
     ]
    },
    {
     "name": "stderr",
     "output_type": "stream",
     "text": [
      "Epoch 157: 100%|████████████████████████████████████████████████████████| 235/235 [01:58<00:00,  1.98it/s, loss=0.0392]\n"
     ]
    },
    {
     "name": "stdout",
     "output_type": "stream",
     "text": [
      "[Epoch 157] Loss: 0.0529\n"
     ]
    },
    {
     "name": "stderr",
     "output_type": "stream",
     "text": [
      "Epoch 158: 100%|████████████████████████████████████████████████████████| 235/235 [01:58<00:00,  1.98it/s, loss=0.0463]\n"
     ]
    },
    {
     "name": "stdout",
     "output_type": "stream",
     "text": [
      "[Epoch 158] Loss: 0.0530\n"
     ]
    },
    {
     "name": "stderr",
     "output_type": "stream",
     "text": [
      "Epoch 159: 100%|████████████████████████████████████████████████████████| 235/235 [02:02<00:00,  1.92it/s, loss=0.0589]\n"
     ]
    },
    {
     "name": "stdout",
     "output_type": "stream",
     "text": [
      "[Epoch 159] Loss: 0.0525\n",
      "[✓] Loss improved from 0.0526 to 0.0525, saving best model.\n"
     ]
    },
    {
     "name": "stderr",
     "output_type": "stream",
     "text": [
      "Epoch 160: 100%|████████████████████████████████████████████████████████| 235/235 [02:01<00:00,  1.93it/s, loss=0.0521]\n"
     ]
    },
    {
     "name": "stdout",
     "output_type": "stream",
     "text": [
      "[Epoch 160] Loss: 0.0531\n"
     ]
    },
    {
     "name": "stderr",
     "output_type": "stream",
     "text": [
      "Epoch 161: 100%|████████████████████████████████████████████████████████| 235/235 [01:59<00:00,  1.97it/s, loss=0.0452]\n"
     ]
    },
    {
     "name": "stdout",
     "output_type": "stream",
     "text": [
      "[Epoch 161] Loss: 0.0531\n"
     ]
    },
    {
     "name": "stderr",
     "output_type": "stream",
     "text": [
      "Epoch 162: 100%|████████████████████████████████████████████████████████| 235/235 [02:04<00:00,  1.89it/s, loss=0.0751]\n"
     ]
    },
    {
     "name": "stdout",
     "output_type": "stream",
     "text": [
      "[Epoch 162] Loss: 0.0530\n"
     ]
    },
    {
     "name": "stderr",
     "output_type": "stream",
     "text": [
      "Epoch 163: 100%|████████████████████████████████████████████████████████| 235/235 [01:58<00:00,  1.99it/s, loss=0.0547]\n"
     ]
    },
    {
     "name": "stdout",
     "output_type": "stream",
     "text": [
      "[Epoch 163] Loss: 0.0539\n"
     ]
    },
    {
     "name": "stderr",
     "output_type": "stream",
     "text": [
      "Epoch 164: 100%|████████████████████████████████████████████████████████| 235/235 [01:58<00:00,  1.98it/s, loss=0.0487]\n"
     ]
    },
    {
     "name": "stdout",
     "output_type": "stream",
     "text": [
      "[Epoch 164] Loss: 0.0531\n"
     ]
    },
    {
     "name": "stderr",
     "output_type": "stream",
     "text": [
      "Epoch 165: 100%|████████████████████████████████████████████████████████| 235/235 [01:58<00:00,  1.99it/s, loss=0.0557]\n"
     ]
    },
    {
     "name": "stdout",
     "output_type": "stream",
     "text": [
      "[Epoch 165] Loss: 0.0531\n"
     ]
    },
    {
     "name": "stderr",
     "output_type": "stream",
     "text": [
      "Epoch 166: 100%|████████████████████████████████████████████████████████| 235/235 [02:04<00:00,  1.89it/s, loss=0.0357]\n"
     ]
    },
    {
     "name": "stdout",
     "output_type": "stream",
     "text": [
      "[Epoch 166] Loss: 0.0532\n"
     ]
    },
    {
     "name": "stderr",
     "output_type": "stream",
     "text": [
      "Epoch 167: 100%|████████████████████████████████████████████████████████| 235/235 [02:00<00:00,  1.95it/s, loss=0.0609]\n"
     ]
    },
    {
     "name": "stdout",
     "output_type": "stream",
     "text": [
      "[Epoch 167] Loss: 0.0535\n"
     ]
    },
    {
     "name": "stderr",
     "output_type": "stream",
     "text": [
      "Epoch 168: 100%|████████████████████████████████████████████████████████| 235/235 [01:58<00:00,  1.98it/s, loss=0.0673]\n"
     ]
    },
    {
     "name": "stdout",
     "output_type": "stream",
     "text": [
      "[Epoch 168] Loss: 0.0533\n"
     ]
    },
    {
     "name": "stderr",
     "output_type": "stream",
     "text": [
      "Epoch 169: 100%|████████████████████████████████████████████████████████| 235/235 [01:58<00:00,  1.99it/s, loss=0.0741]\n"
     ]
    },
    {
     "name": "stdout",
     "output_type": "stream",
     "text": [
      "[Epoch 169] Loss: 0.0534\n"
     ]
    },
    {
     "name": "stderr",
     "output_type": "stream",
     "text": [
      "Epoch 170: 100%|████████████████████████████████████████████████████████| 235/235 [01:57<00:00,  2.00it/s, loss=0.0393]\n"
     ]
    },
    {
     "name": "stdout",
     "output_type": "stream",
     "text": [
      "[Epoch 170] Loss: 0.0522\n",
      "[✓] Loss improved from 0.0525 to 0.0522, saving best model.\n"
     ]
    },
    {
     "name": "stderr",
     "output_type": "stream",
     "text": [
      "Epoch 171: 100%|████████████████████████████████████████████████████████| 235/235 [01:58<00:00,  1.99it/s, loss=0.0541]\n"
     ]
    },
    {
     "name": "stdout",
     "output_type": "stream",
     "text": [
      "[Epoch 171] Loss: 0.0528\n"
     ]
    },
    {
     "name": "stderr",
     "output_type": "stream",
     "text": [
      "Epoch 172: 100%|████████████████████████████████████████████████████████| 235/235 [02:00<00:00,  1.95it/s, loss=0.0557]\n"
     ]
    },
    {
     "name": "stdout",
     "output_type": "stream",
     "text": [
      "[Epoch 172] Loss: 0.0526\n"
     ]
    },
    {
     "name": "stderr",
     "output_type": "stream",
     "text": [
      "Epoch 173: 100%|████████████████████████████████████████████████████████| 235/235 [02:00<00:00,  1.95it/s, loss=0.0428]\n"
     ]
    },
    {
     "name": "stdout",
     "output_type": "stream",
     "text": [
      "[Epoch 173] Loss: 0.0524\n"
     ]
    },
    {
     "name": "stderr",
     "output_type": "stream",
     "text": [
      "Epoch 174: 100%|████████████████████████████████████████████████████████| 235/235 [01:59<00:00,  1.97it/s, loss=0.0548]\n"
     ]
    },
    {
     "name": "stdout",
     "output_type": "stream",
     "text": [
      "[Epoch 174] Loss: 0.0520\n",
      "[✓] Loss improved from 0.0522 to 0.0520, saving best model.\n"
     ]
    },
    {
     "name": "stderr",
     "output_type": "stream",
     "text": [
      "Epoch 175: 100%|████████████████████████████████████████████████████████| 235/235 [01:58<00:00,  1.98it/s, loss=0.0747]\n"
     ]
    },
    {
     "name": "stdout",
     "output_type": "stream",
     "text": [
      "[Epoch 175] Loss: 0.0533\n"
     ]
    },
    {
     "name": "stderr",
     "output_type": "stream",
     "text": [
      "Epoch 176: 100%|████████████████████████████████████████████████████████| 235/235 [01:57<00:00,  1.99it/s, loss=0.0404]\n"
     ]
    },
    {
     "name": "stdout",
     "output_type": "stream",
     "text": [
      "[Epoch 176] Loss: 0.0524\n"
     ]
    },
    {
     "name": "stderr",
     "output_type": "stream",
     "text": [
      "Epoch 177: 100%|████████████████████████████████████████████████████████| 235/235 [01:57<00:00,  2.00it/s, loss=0.0482]\n"
     ]
    },
    {
     "name": "stdout",
     "output_type": "stream",
     "text": [
      "[Epoch 177] Loss: 0.0523\n"
     ]
    },
    {
     "name": "stderr",
     "output_type": "stream",
     "text": [
      "Epoch 178: 100%|████████████████████████████████████████████████████████| 235/235 [02:03<00:00,  1.91it/s, loss=0.0636]\n"
     ]
    },
    {
     "name": "stdout",
     "output_type": "stream",
     "text": [
      "[Epoch 178] Loss: 0.0526\n"
     ]
    },
    {
     "name": "stderr",
     "output_type": "stream",
     "text": [
      "Epoch 179: 100%|████████████████████████████████████████████████████████| 235/235 [01:58<00:00,  1.98it/s, loss=0.0455]\n"
     ]
    },
    {
     "name": "stdout",
     "output_type": "stream",
     "text": [
      "[Epoch 179] Loss: 0.0524\n"
     ]
    },
    {
     "name": "stderr",
     "output_type": "stream",
     "text": [
      "Epoch 180: 100%|████████████████████████████████████████████████████████| 235/235 [01:57<00:00,  1.99it/s, loss=0.0356]\n"
     ]
    },
    {
     "name": "stdout",
     "output_type": "stream",
     "text": [
      "[Epoch 180] Loss: 0.0518\n",
      "[✓] Loss improved from 0.0520 to 0.0518, saving best model.\n"
     ]
    },
    {
     "name": "stderr",
     "output_type": "stream",
     "text": [
      "Epoch 181: 100%|█████████████████████████████████████████████████████████| 235/235 [01:58<00:00,  1.99it/s, loss=0.069]\n"
     ]
    },
    {
     "name": "stdout",
     "output_type": "stream",
     "text": [
      "[Epoch 181] Loss: 0.0526\n"
     ]
    },
    {
     "name": "stderr",
     "output_type": "stream",
     "text": [
      "Epoch 182: 100%|████████████████████████████████████████████████████████| 235/235 [01:58<00:00,  1.99it/s, loss=0.0557]\n"
     ]
    },
    {
     "name": "stdout",
     "output_type": "stream",
     "text": [
      "[Epoch 182] Loss: 0.0525\n"
     ]
    },
    {
     "name": "stderr",
     "output_type": "stream",
     "text": [
      "Epoch 183: 100%|████████████████████████████████████████████████████████| 235/235 [01:57<00:00,  1.99it/s, loss=0.0742]\n"
     ]
    },
    {
     "name": "stdout",
     "output_type": "stream",
     "text": [
      "[Epoch 183] Loss: 0.0516\n",
      "[✓] Loss improved from 0.0518 to 0.0516, saving best model.\n"
     ]
    },
    {
     "name": "stderr",
     "output_type": "stream",
     "text": [
      "Epoch 184: 100%|████████████████████████████████████████████████████████| 235/235 [02:00<00:00,  1.96it/s, loss=0.0435]\n"
     ]
    },
    {
     "name": "stdout",
     "output_type": "stream",
     "text": [
      "[Epoch 184] Loss: 0.0518\n"
     ]
    },
    {
     "name": "stderr",
     "output_type": "stream",
     "text": [
      "Epoch 185: 100%|████████████████████████████████████████████████████████| 235/235 [01:57<00:00,  1.99it/s, loss=0.0529]\n"
     ]
    },
    {
     "name": "stdout",
     "output_type": "stream",
     "text": [
      "[Epoch 185] Loss: 0.0526\n"
     ]
    },
    {
     "name": "stderr",
     "output_type": "stream",
     "text": [
      "Epoch 186: 100%|████████████████████████████████████████████████████████| 235/235 [01:57<00:00,  1.99it/s, loss=0.0638]\n"
     ]
    },
    {
     "name": "stdout",
     "output_type": "stream",
     "text": [
      "[Epoch 186] Loss: 0.0515\n",
      "[✓] Loss improved from 0.0516 to 0.0515, saving best model.\n"
     ]
    },
    {
     "name": "stderr",
     "output_type": "stream",
     "text": [
      "Epoch 187: 100%|████████████████████████████████████████████████████████| 235/235 [01:57<00:00,  2.00it/s, loss=0.0488]\n"
     ]
    },
    {
     "name": "stdout",
     "output_type": "stream",
     "text": [
      "[Epoch 187] Loss: 0.0528\n"
     ]
    },
    {
     "name": "stderr",
     "output_type": "stream",
     "text": [
      "Epoch 188: 100%|████████████████████████████████████████████████████████| 235/235 [01:57<00:00,  2.00it/s, loss=0.0424]\n"
     ]
    },
    {
     "name": "stdout",
     "output_type": "stream",
     "text": [
      "[Epoch 188] Loss: 0.0530\n"
     ]
    },
    {
     "name": "stderr",
     "output_type": "stream",
     "text": [
      "Epoch 189: 100%|█████████████████████████████████████████████████████████| 235/235 [01:57<00:00,  1.99it/s, loss=0.033]\n"
     ]
    },
    {
     "name": "stdout",
     "output_type": "stream",
     "text": [
      "[Epoch 189] Loss: 0.0518\n"
     ]
    },
    {
     "name": "stderr",
     "output_type": "stream",
     "text": [
      "Epoch 190: 100%|████████████████████████████████████████████████████████| 235/235 [01:59<00:00,  1.97it/s, loss=0.0475]\n"
     ]
    },
    {
     "name": "stdout",
     "output_type": "stream",
     "text": [
      "[Epoch 190] Loss: 0.0519\n"
     ]
    },
    {
     "name": "stderr",
     "output_type": "stream",
     "text": [
      "Epoch 191: 100%|████████████████████████████████████████████████████████| 235/235 [01:58<00:00,  1.98it/s, loss=0.0454]\n"
     ]
    },
    {
     "name": "stdout",
     "output_type": "stream",
     "text": [
      "[Epoch 191] Loss: 0.0514\n",
      "[✓] Loss improved from 0.0515 to 0.0514, saving best model.\n"
     ]
    },
    {
     "name": "stderr",
     "output_type": "stream",
     "text": [
      "Epoch 192: 100%|████████████████████████████████████████████████████████| 235/235 [01:57<00:00,  2.00it/s, loss=0.0574]\n"
     ]
    },
    {
     "name": "stdout",
     "output_type": "stream",
     "text": [
      "[Epoch 192] Loss: 0.0523\n"
     ]
    },
    {
     "name": "stderr",
     "output_type": "stream",
     "text": [
      "Epoch 193: 100%|████████████████████████████████████████████████████████| 235/235 [01:57<00:00,  1.99it/s, loss=0.0388]\n"
     ]
    },
    {
     "name": "stdout",
     "output_type": "stream",
     "text": [
      "[Epoch 193] Loss: 0.0519\n"
     ]
    },
    {
     "name": "stderr",
     "output_type": "stream",
     "text": [
      "Epoch 194: 100%|████████████████████████████████████████████████████████| 235/235 [02:00<00:00,  1.95it/s, loss=0.0759]\n"
     ]
    },
    {
     "name": "stdout",
     "output_type": "stream",
     "text": [
      "[Epoch 194] Loss: 0.0520\n"
     ]
    },
    {
     "name": "stderr",
     "output_type": "stream",
     "text": [
      "Epoch 195: 100%|████████████████████████████████████████████████████████| 235/235 [01:58<00:00,  1.98it/s, loss=0.0404]\n"
     ]
    },
    {
     "name": "stdout",
     "output_type": "stream",
     "text": [
      "[Epoch 195] Loss: 0.0525\n"
     ]
    },
    {
     "name": "stderr",
     "output_type": "stream",
     "text": [
      "Epoch 196: 100%|█████████████████████████████████████████████████████████| 235/235 [01:58<00:00,  1.99it/s, loss=0.041]\n"
     ]
    },
    {
     "name": "stdout",
     "output_type": "stream",
     "text": [
      "[Epoch 196] Loss: 0.0514\n"
     ]
    },
    {
     "name": "stderr",
     "output_type": "stream",
     "text": [
      "Epoch 197: 100%|████████████████████████████████████████████████████████| 235/235 [01:58<00:00,  1.99it/s, loss=0.0485]\n"
     ]
    },
    {
     "name": "stdout",
     "output_type": "stream",
     "text": [
      "[Epoch 197] Loss: 0.0524\n"
     ]
    },
    {
     "name": "stderr",
     "output_type": "stream",
     "text": [
      "Epoch 198: 100%|████████████████████████████████████████████████████████| 235/235 [02:04<00:00,  1.89it/s, loss=0.0708]\n"
     ]
    },
    {
     "name": "stdout",
     "output_type": "stream",
     "text": [
      "[Epoch 198] Loss: 0.0520\n"
     ]
    },
    {
     "name": "stderr",
     "output_type": "stream",
     "text": [
      "Epoch 199: 100%|████████████████████████████████████████████████████████| 235/235 [02:00<00:00,  1.95it/s, loss=0.0381]\n"
     ]
    },
    {
     "name": "stdout",
     "output_type": "stream",
     "text": [
      "[Epoch 199] Loss: 0.0505\n",
      "[✓] Loss improved from 0.0514 to 0.0505, saving best model.\n"
     ]
    },
    {
     "name": "stderr",
     "output_type": "stream",
     "text": [
      "Epoch 200: 100%|████████████████████████████████████████████████████████| 235/235 [01:57<00:00,  2.00it/s, loss=0.0709]\n"
     ]
    },
    {
     "name": "stdout",
     "output_type": "stream",
     "text": [
      "[Epoch 200] Loss: 0.0513\n"
     ]
    },
    {
     "name": "stderr",
     "output_type": "stream",
     "text": [
      "Epoch 201: 100%|████████████████████████████████████████████████████████| 235/235 [01:57<00:00,  2.00it/s, loss=0.0744]\n"
     ]
    },
    {
     "name": "stdout",
     "output_type": "stream",
     "text": [
      "[Epoch 201] Loss: 0.0522\n"
     ]
    },
    {
     "name": "stderr",
     "output_type": "stream",
     "text": [
      "Epoch 202: 100%|████████████████████████████████████████████████████████| 235/235 [01:58<00:00,  1.99it/s, loss=0.0443]\n"
     ]
    },
    {
     "name": "stdout",
     "output_type": "stream",
     "text": [
      "[Epoch 202] Loss: 0.0516\n"
     ]
    },
    {
     "name": "stderr",
     "output_type": "stream",
     "text": [
      "Epoch 203: 100%|████████████████████████████████████████████████████████| 235/235 [01:58<00:00,  1.98it/s, loss=0.0582]\n"
     ]
    },
    {
     "name": "stdout",
     "output_type": "stream",
     "text": [
      "[Epoch 203] Loss: 0.0513\n"
     ]
    },
    {
     "name": "stderr",
     "output_type": "stream",
     "text": [
      "Epoch 204: 100%|████████████████████████████████████████████████████████| 235/235 [01:58<00:00,  1.99it/s, loss=0.0728]\n"
     ]
    },
    {
     "name": "stdout",
     "output_type": "stream",
     "text": [
      "[Epoch 204] Loss: 0.0517\n"
     ]
    },
    {
     "name": "stderr",
     "output_type": "stream",
     "text": [
      "Epoch 205: 100%|████████████████████████████████████████████████████████| 235/235 [01:57<00:00,  2.00it/s, loss=0.0591]\n"
     ]
    },
    {
     "name": "stdout",
     "output_type": "stream",
     "text": [
      "[Epoch 205] Loss: 0.0515\n"
     ]
    },
    {
     "name": "stderr",
     "output_type": "stream",
     "text": [
      "Epoch 206: 100%|████████████████████████████████████████████████████████| 235/235 [01:58<00:00,  1.99it/s, loss=0.0511]\n"
     ]
    },
    {
     "name": "stdout",
     "output_type": "stream",
     "text": [
      "[Epoch 206] Loss: 0.0521\n"
     ]
    },
    {
     "name": "stderr",
     "output_type": "stream",
     "text": [
      "Epoch 207: 100%|████████████████████████████████████████████████████████| 235/235 [01:57<00:00,  2.00it/s, loss=0.0484]\n"
     ]
    },
    {
     "name": "stdout",
     "output_type": "stream",
     "text": [
      "[Epoch 207] Loss: 0.0517\n"
     ]
    },
    {
     "name": "stderr",
     "output_type": "stream",
     "text": [
      "Epoch 208: 100%|████████████████████████████████████████████████████████| 235/235 [02:00<00:00,  1.95it/s, loss=0.0954]\n"
     ]
    },
    {
     "name": "stdout",
     "output_type": "stream",
     "text": [
      "[Epoch 208] Loss: 0.0516\n"
     ]
    },
    {
     "name": "stderr",
     "output_type": "stream",
     "text": [
      "Epoch 209: 100%|████████████████████████████████████████████████████████| 235/235 [01:59<00:00,  1.96it/s, loss=0.0441]\n"
     ]
    },
    {
     "name": "stdout",
     "output_type": "stream",
     "text": [
      "[Epoch 209] Loss: 0.0514\n"
     ]
    },
    {
     "name": "stderr",
     "output_type": "stream",
     "text": [
      "Epoch 210: 100%|██████████████████████████████████████████████████████████| 235/235 [01:57<00:00,  2.00it/s, loss=0.04]\n"
     ]
    },
    {
     "name": "stdout",
     "output_type": "stream",
     "text": [
      "[Epoch 210] Loss: 0.0518\n"
     ]
    },
    {
     "name": "stderr",
     "output_type": "stream",
     "text": [
      "Epoch 211: 100%|████████████████████████████████████████████████████████| 235/235 [01:57<00:00,  1.99it/s, loss=0.0587]\n"
     ]
    },
    {
     "name": "stdout",
     "output_type": "stream",
     "text": [
      "[Epoch 211] Loss: 0.0506\n"
     ]
    },
    {
     "name": "stderr",
     "output_type": "stream",
     "text": [
      "Epoch 212: 100%|████████████████████████████████████████████████████████| 235/235 [01:58<00:00,  1.99it/s, loss=0.0459]\n"
     ]
    },
    {
     "name": "stdout",
     "output_type": "stream",
     "text": [
      "[Epoch 212] Loss: 0.0507\n"
     ]
    },
    {
     "name": "stderr",
     "output_type": "stream",
     "text": [
      "Epoch 213: 100%|████████████████████████████████████████████████████████| 235/235 [01:58<00:00,  1.98it/s, loss=0.0484]\n"
     ]
    },
    {
     "name": "stdout",
     "output_type": "stream",
     "text": [
      "[Epoch 213] Loss: 0.0503\n",
      "[✓] Loss improved from 0.0505 to 0.0503, saving best model.\n"
     ]
    },
    {
     "name": "stderr",
     "output_type": "stream",
     "text": [
      "Epoch 214: 100%|████████████████████████████████████████████████████████| 235/235 [01:59<00:00,  1.96it/s, loss=0.0524]\n"
     ]
    },
    {
     "name": "stdout",
     "output_type": "stream",
     "text": [
      "[Epoch 214] Loss: 0.0520\n"
     ]
    },
    {
     "name": "stderr",
     "output_type": "stream",
     "text": [
      "Epoch 215: 100%|█████████████████████████████████████████████████████████| 235/235 [02:00<00:00,  1.96it/s, loss=0.074]\n"
     ]
    },
    {
     "name": "stdout",
     "output_type": "stream",
     "text": [
      "[Epoch 215] Loss: 0.0522\n"
     ]
    },
    {
     "name": "stderr",
     "output_type": "stream",
     "text": [
      "Epoch 216: 100%|█████████████████████████████████████████████████████████| 235/235 [02:00<00:00,  1.96it/s, loss=0.049]\n"
     ]
    },
    {
     "name": "stdout",
     "output_type": "stream",
     "text": [
      "[Epoch 216] Loss: 0.0510\n"
     ]
    },
    {
     "name": "stderr",
     "output_type": "stream",
     "text": [
      "Epoch 217: 100%|█████████████████████████████████████████████████████████| 235/235 [01:59<00:00,  1.96it/s, loss=0.048]\n"
     ]
    },
    {
     "name": "stdout",
     "output_type": "stream",
     "text": [
      "[Epoch 217] Loss: 0.0517\n"
     ]
    },
    {
     "name": "stderr",
     "output_type": "stream",
     "text": [
      "Epoch 218: 100%|████████████████████████████████████████████████████████| 235/235 [02:00<00:00,  1.95it/s, loss=0.0723]\n"
     ]
    },
    {
     "name": "stdout",
     "output_type": "stream",
     "text": [
      "[Epoch 218] Loss: 0.0516\n"
     ]
    },
    {
     "name": "stderr",
     "output_type": "stream",
     "text": [
      "Epoch 219: 100%|█████████████████████████████████████████████████████████| 235/235 [02:00<00:00,  1.95it/s, loss=0.047]\n"
     ]
    },
    {
     "name": "stdout",
     "output_type": "stream",
     "text": [
      "[Epoch 219] Loss: 0.0510\n"
     ]
    },
    {
     "name": "stderr",
     "output_type": "stream",
     "text": [
      "Epoch 220: 100%|████████████████████████████████████████████████████████| 235/235 [02:01<00:00,  1.94it/s, loss=0.0478]\n"
     ]
    },
    {
     "name": "stdout",
     "output_type": "stream",
     "text": [
      "[Epoch 220] Loss: 0.0517\n"
     ]
    },
    {
     "name": "stderr",
     "output_type": "stream",
     "text": [
      "Epoch 221: 100%|████████████████████████████████████████████████████████| 235/235 [02:03<00:00,  1.90it/s, loss=0.0417]\n"
     ]
    },
    {
     "name": "stdout",
     "output_type": "stream",
     "text": [
      "[Epoch 221] Loss: 0.0508\n"
     ]
    },
    {
     "name": "stderr",
     "output_type": "stream",
     "text": [
      "Epoch 222: 100%|████████████████████████████████████████████████████████| 235/235 [02:03<00:00,  1.90it/s, loss=0.0511]\n"
     ]
    },
    {
     "name": "stdout",
     "output_type": "stream",
     "text": [
      "[Epoch 222] Loss: 0.0511\n"
     ]
    },
    {
     "name": "stderr",
     "output_type": "stream",
     "text": [
      "Epoch 223: 100%|████████████████████████████████████████████████████████| 235/235 [02:07<00:00,  1.85it/s, loss=0.0593]\n"
     ]
    },
    {
     "name": "stdout",
     "output_type": "stream",
     "text": [
      "[Epoch 223] Loss: 0.0505\n"
     ]
    },
    {
     "name": "stderr",
     "output_type": "stream",
     "text": [
      "Epoch 224: 100%|████████████████████████████████████████████████████████| 235/235 [02:02<00:00,  1.92it/s, loss=0.0384]\n"
     ]
    },
    {
     "name": "stdout",
     "output_type": "stream",
     "text": [
      "[Epoch 224] Loss: 0.0509\n"
     ]
    },
    {
     "name": "stderr",
     "output_type": "stream",
     "text": [
      "Epoch 225: 100%|████████████████████████████████████████████████████████| 235/235 [01:59<00:00,  1.97it/s, loss=0.0438]\n"
     ]
    },
    {
     "name": "stdout",
     "output_type": "stream",
     "text": [
      "[Epoch 225] Loss: 0.0505\n"
     ]
    },
    {
     "name": "stderr",
     "output_type": "stream",
     "text": [
      "Epoch 226: 100%|████████████████████████████████████████████████████████| 235/235 [01:57<00:00,  1.99it/s, loss=0.0428]\n"
     ]
    },
    {
     "name": "stdout",
     "output_type": "stream",
     "text": [
      "[Epoch 226] Loss: 0.0502\n",
      "[✓] Loss improved from 0.0503 to 0.0502, saving best model.\n"
     ]
    },
    {
     "name": "stderr",
     "output_type": "stream",
     "text": [
      "Epoch 227: 100%|█████████████████████████████████████████████████████████| 235/235 [01:57<00:00,  1.99it/s, loss=0.029]\n"
     ]
    },
    {
     "name": "stdout",
     "output_type": "stream",
     "text": [
      "[Epoch 227] Loss: 0.0516\n"
     ]
    },
    {
     "name": "stderr",
     "output_type": "stream",
     "text": [
      "Epoch 228: 100%|█████████████████████████████████████████████████████████| 235/235 [01:57<00:00,  2.01it/s, loss=0.045]\n"
     ]
    },
    {
     "name": "stdout",
     "output_type": "stream",
     "text": [
      "[Epoch 228] Loss: 0.0513\n"
     ]
    },
    {
     "name": "stderr",
     "output_type": "stream",
     "text": [
      "Epoch 229: 100%|████████████████████████████████████████████████████████| 235/235 [01:57<00:00,  2.00it/s, loss=0.0449]\n"
     ]
    },
    {
     "name": "stdout",
     "output_type": "stream",
     "text": [
      "[Epoch 229] Loss: 0.0512\n"
     ]
    },
    {
     "name": "stderr",
     "output_type": "stream",
     "text": [
      "Epoch 230: 100%|████████████████████████████████████████████████████████| 235/235 [01:57<00:00,  2.00it/s, loss=0.0452]\n"
     ]
    },
    {
     "name": "stdout",
     "output_type": "stream",
     "text": [
      "[Epoch 230] Loss: 0.0505\n"
     ]
    },
    {
     "name": "stderr",
     "output_type": "stream",
     "text": [
      "Epoch 231: 100%|████████████████████████████████████████████████████████| 235/235 [01:57<00:00,  2.01it/s, loss=0.0767]\n"
     ]
    },
    {
     "name": "stdout",
     "output_type": "stream",
     "text": [
      "[Epoch 231] Loss: 0.0508\n"
     ]
    },
    {
     "name": "stderr",
     "output_type": "stream",
     "text": [
      "Epoch 232: 100%|████████████████████████████████████████████████████████| 235/235 [01:57<00:00,  2.00it/s, loss=0.0512]\n"
     ]
    },
    {
     "name": "stdout",
     "output_type": "stream",
     "text": [
      "[Epoch 232] Loss: 0.0510\n"
     ]
    },
    {
     "name": "stderr",
     "output_type": "stream",
     "text": [
      "Epoch 233: 100%|████████████████████████████████████████████████████████| 235/235 [01:57<00:00,  2.00it/s, loss=0.0522]\n"
     ]
    },
    {
     "name": "stdout",
     "output_type": "stream",
     "text": [
      "[Epoch 233] Loss: 0.0515\n"
     ]
    },
    {
     "name": "stderr",
     "output_type": "stream",
     "text": [
      "Epoch 234: 100%|████████████████████████████████████████████████████████| 235/235 [01:57<00:00,  2.00it/s, loss=0.0359]\n"
     ]
    },
    {
     "name": "stdout",
     "output_type": "stream",
     "text": [
      "[Epoch 234] Loss: 0.0506\n"
     ]
    },
    {
     "name": "stderr",
     "output_type": "stream",
     "text": [
      "Epoch 235: 100%|████████████████████████████████████████████████████████| 235/235 [01:57<00:00,  2.00it/s, loss=0.0497]\n"
     ]
    },
    {
     "name": "stdout",
     "output_type": "stream",
     "text": [
      "[Epoch 235] Loss: 0.0514\n"
     ]
    },
    {
     "name": "stderr",
     "output_type": "stream",
     "text": [
      "Epoch 236: 100%|█████████████████████████████████████████████████████████| 235/235 [01:57<00:00,  2.01it/s, loss=0.076]\n"
     ]
    },
    {
     "name": "stdout",
     "output_type": "stream",
     "text": [
      "[Epoch 236] Loss: 0.0510\n"
     ]
    },
    {
     "name": "stderr",
     "output_type": "stream",
     "text": [
      "Epoch 237: 100%|████████████████████████████████████████████████████████| 235/235 [01:57<00:00,  2.00it/s, loss=0.0478]\n"
     ]
    },
    {
     "name": "stdout",
     "output_type": "stream",
     "text": [
      "[Epoch 237] Loss: 0.0505\n"
     ]
    },
    {
     "name": "stderr",
     "output_type": "stream",
     "text": [
      "Epoch 238: 100%|████████████████████████████████████████████████████████| 235/235 [01:57<00:00,  2.00it/s, loss=0.0533]\n"
     ]
    },
    {
     "name": "stdout",
     "output_type": "stream",
     "text": [
      "[Epoch 238] Loss: 0.0509\n"
     ]
    },
    {
     "name": "stderr",
     "output_type": "stream",
     "text": [
      "Epoch 239: 100%|████████████████████████████████████████████████████████| 235/235 [01:57<00:00,  2.00it/s, loss=0.0362]\n"
     ]
    },
    {
     "name": "stdout",
     "output_type": "stream",
     "text": [
      "[Epoch 239] Loss: 0.0510\n"
     ]
    },
    {
     "name": "stderr",
     "output_type": "stream",
     "text": [
      "Epoch 240: 100%|████████████████████████████████████████████████████████| 235/235 [01:57<00:00,  2.00it/s, loss=0.0507]\n"
     ]
    },
    {
     "name": "stdout",
     "output_type": "stream",
     "text": [
      "[Epoch 240] Loss: 0.0515\n"
     ]
    },
    {
     "name": "stderr",
     "output_type": "stream",
     "text": [
      "Epoch 241: 100%|████████████████████████████████████████████████████████| 235/235 [01:57<00:00,  2.00it/s, loss=0.0546]\n"
     ]
    },
    {
     "name": "stdout",
     "output_type": "stream",
     "text": [
      "[Epoch 241] Loss: 0.0510\n"
     ]
    },
    {
     "name": "stderr",
     "output_type": "stream",
     "text": [
      "Epoch 242: 100%|████████████████████████████████████████████████████████| 235/235 [01:57<00:00,  2.00it/s, loss=0.0532]\n"
     ]
    },
    {
     "name": "stdout",
     "output_type": "stream",
     "text": [
      "[Epoch 242] Loss: 0.0515\n"
     ]
    },
    {
     "name": "stderr",
     "output_type": "stream",
     "text": [
      "Epoch 243: 100%|████████████████████████████████████████████████████████| 235/235 [01:59<00:00,  1.97it/s, loss=0.0485]\n"
     ]
    },
    {
     "name": "stdout",
     "output_type": "stream",
     "text": [
      "[Epoch 243] Loss: 0.0504\n"
     ]
    },
    {
     "name": "stderr",
     "output_type": "stream",
     "text": [
      "Epoch 244: 100%|████████████████████████████████████████████████████████| 235/235 [01:59<00:00,  1.96it/s, loss=0.0619]\n"
     ]
    },
    {
     "name": "stdout",
     "output_type": "stream",
     "text": [
      "[Epoch 244] Loss: 0.0510\n"
     ]
    },
    {
     "name": "stderr",
     "output_type": "stream",
     "text": [
      "Epoch 245: 100%|████████████████████████████████████████████████████████| 235/235 [02:00<00:00,  1.95it/s, loss=0.0675]\n"
     ]
    },
    {
     "name": "stdout",
     "output_type": "stream",
     "text": [
      "[Epoch 245] Loss: 0.0510\n"
     ]
    },
    {
     "name": "stderr",
     "output_type": "stream",
     "text": [
      "Epoch 246: 100%|█████████████████████████████████████████████████████████| 235/235 [03:48<00:00,  1.03it/s, loss=0.051]\n"
     ]
    },
    {
     "name": "stdout",
     "output_type": "stream",
     "text": [
      "[Epoch 246] Loss: 0.0509\n"
     ]
    },
    {
     "name": "stderr",
     "output_type": "stream",
     "text": [
      "Epoch 247: 100%|████████████████████████████████████████████████████████| 235/235 [01:58<00:00,  1.98it/s, loss=0.0527]\n"
     ]
    },
    {
     "name": "stdout",
     "output_type": "stream",
     "text": [
      "[Epoch 247] Loss: 0.0502\n",
      "[✓] Loss improved from 0.0502 to 0.0502, saving best model.\n"
     ]
    },
    {
     "name": "stderr",
     "output_type": "stream",
     "text": [
      "Epoch 248: 100%|█████████████████████████████████████████████████████████| 235/235 [01:59<00:00,  1.96it/s, loss=0.068]\n"
     ]
    },
    {
     "name": "stdout",
     "output_type": "stream",
     "text": [
      "[Epoch 248] Loss: 0.0508\n"
     ]
    },
    {
     "name": "stderr",
     "output_type": "stream",
     "text": [
      "Epoch 249: 100%|████████████████████████████████████████████████████████| 235/235 [01:59<00:00,  1.97it/s, loss=0.0623]\n"
     ]
    },
    {
     "name": "stdout",
     "output_type": "stream",
     "text": [
      "[Epoch 249] Loss: 0.0503\n"
     ]
    },
    {
     "name": "stderr",
     "output_type": "stream",
     "text": [
      "Epoch 250: 100%|████████████████████████████████████████████████████████| 235/235 [01:59<00:00,  1.97it/s, loss=0.0483]\n"
     ]
    },
    {
     "name": "stdout",
     "output_type": "stream",
     "text": [
      "[Epoch 250] Loss: 0.0513\n"
     ]
    },
    {
     "name": "stderr",
     "output_type": "stream",
     "text": [
      "Epoch 251: 100%|████████████████████████████████████████████████████████| 235/235 [01:59<00:00,  1.97it/s, loss=0.0614]\n"
     ]
    },
    {
     "name": "stdout",
     "output_type": "stream",
     "text": [
      "[Epoch 251] Loss: 0.0510\n"
     ]
    },
    {
     "name": "stderr",
     "output_type": "stream",
     "text": [
      "Epoch 252: 100%|████████████████████████████████████████████████████████| 235/235 [01:59<00:00,  1.96it/s, loss=0.0593]\n"
     ]
    },
    {
     "name": "stdout",
     "output_type": "stream",
     "text": [
      "[Epoch 252] Loss: 0.0499\n",
      "[✓] Loss improved from 0.0502 to 0.0499, saving best model.\n"
     ]
    },
    {
     "name": "stderr",
     "output_type": "stream",
     "text": [
      "Epoch 253: 100%|████████████████████████████████████████████████████████| 235/235 [01:59<00:00,  1.96it/s, loss=0.0425]\n"
     ]
    },
    {
     "name": "stdout",
     "output_type": "stream",
     "text": [
      "[Epoch 253] Loss: 0.0496\n",
      "[✓] Loss improved from 0.0499 to 0.0496, saving best model.\n"
     ]
    },
    {
     "name": "stderr",
     "output_type": "stream",
     "text": [
      "Epoch 254: 100%|████████████████████████████████████████████████████████| 235/235 [02:00<00:00,  1.96it/s, loss=0.0446]\n"
     ]
    },
    {
     "name": "stdout",
     "output_type": "stream",
     "text": [
      "[Epoch 254] Loss: 0.0502\n"
     ]
    },
    {
     "name": "stderr",
     "output_type": "stream",
     "text": [
      "Epoch 255: 100%|████████████████████████████████████████████████████████| 235/235 [02:00<00:00,  1.95it/s, loss=0.0392]\n"
     ]
    },
    {
     "name": "stdout",
     "output_type": "stream",
     "text": [
      "[Epoch 255] Loss: 0.0504\n"
     ]
    },
    {
     "name": "stderr",
     "output_type": "stream",
     "text": [
      "Epoch 256: 100%|████████████████████████████████████████████████████████| 235/235 [01:59<00:00,  1.97it/s, loss=0.0334]\n"
     ]
    },
    {
     "name": "stdout",
     "output_type": "stream",
     "text": [
      "[Epoch 256] Loss: 0.0493\n",
      "[✓] Loss improved from 0.0496 to 0.0493, saving best model.\n"
     ]
    },
    {
     "name": "stderr",
     "output_type": "stream",
     "text": [
      "Epoch 257: 100%|████████████████████████████████████████████████████████| 235/235 [01:59<00:00,  1.97it/s, loss=0.0361]\n"
     ]
    },
    {
     "name": "stdout",
     "output_type": "stream",
     "text": [
      "[Epoch 257] Loss: 0.0509\n"
     ]
    },
    {
     "name": "stderr",
     "output_type": "stream",
     "text": [
      "Epoch 258: 100%|████████████████████████████████████████████████████████| 235/235 [01:59<00:00,  1.97it/s, loss=0.0475]\n"
     ]
    },
    {
     "name": "stdout",
     "output_type": "stream",
     "text": [
      "[Epoch 258] Loss: 0.0501\n"
     ]
    },
    {
     "name": "stderr",
     "output_type": "stream",
     "text": [
      "Epoch 259: 100%|████████████████████████████████████████████████████████| 235/235 [01:59<00:00,  1.97it/s, loss=0.0536]\n"
     ]
    },
    {
     "name": "stdout",
     "output_type": "stream",
     "text": [
      "[Epoch 259] Loss: 0.0499\n"
     ]
    },
    {
     "name": "stderr",
     "output_type": "stream",
     "text": [
      "Epoch 260: 100%|████████████████████████████████████████████████████████| 235/235 [01:59<00:00,  1.97it/s, loss=0.0937]\n"
     ]
    },
    {
     "name": "stdout",
     "output_type": "stream",
     "text": [
      "[Epoch 260] Loss: 0.0510\n"
     ]
    },
    {
     "name": "stderr",
     "output_type": "stream",
     "text": [
      "Epoch 261: 100%|████████████████████████████████████████████████████████| 235/235 [01:59<00:00,  1.96it/s, loss=0.0334]\n"
     ]
    },
    {
     "name": "stdout",
     "output_type": "stream",
     "text": [
      "[Epoch 261] Loss: 0.0504\n"
     ]
    },
    {
     "name": "stderr",
     "output_type": "stream",
     "text": [
      "Epoch 262: 100%|████████████████████████████████████████████████████████| 235/235 [01:59<00:00,  1.97it/s, loss=0.0782]\n"
     ]
    },
    {
     "name": "stdout",
     "output_type": "stream",
     "text": [
      "[Epoch 262] Loss: 0.0507\n"
     ]
    },
    {
     "name": "stderr",
     "output_type": "stream",
     "text": [
      "Epoch 263: 100%|████████████████████████████████████████████████████████| 235/235 [01:59<00:00,  1.96it/s, loss=0.0555]\n"
     ]
    },
    {
     "name": "stdout",
     "output_type": "stream",
     "text": [
      "[Epoch 263] Loss: 0.0494\n"
     ]
    },
    {
     "name": "stderr",
     "output_type": "stream",
     "text": [
      "Epoch 264: 100%|████████████████████████████████████████████████████████| 235/235 [01:59<00:00,  1.97it/s, loss=0.0534]\n"
     ]
    },
    {
     "name": "stdout",
     "output_type": "stream",
     "text": [
      "[Epoch 264] Loss: 0.0502\n"
     ]
    },
    {
     "name": "stderr",
     "output_type": "stream",
     "text": [
      "Epoch 265: 100%|████████████████████████████████████████████████████████| 235/235 [01:59<00:00,  1.97it/s, loss=0.0624]\n"
     ]
    },
    {
     "name": "stdout",
     "output_type": "stream",
     "text": [
      "[Epoch 265] Loss: 0.0499\n"
     ]
    },
    {
     "name": "stderr",
     "output_type": "stream",
     "text": [
      "Epoch 266: 100%|████████████████████████████████████████████████████████| 235/235 [01:59<00:00,  1.97it/s, loss=0.0511]\n"
     ]
    },
    {
     "name": "stdout",
     "output_type": "stream",
     "text": [
      "[Epoch 266] Loss: 0.0495\n"
     ]
    },
    {
     "name": "stderr",
     "output_type": "stream",
     "text": [
      "Epoch 267: 100%|████████████████████████████████████████████████████████| 235/235 [02:00<00:00,  1.95it/s, loss=0.0508]\n"
     ]
    },
    {
     "name": "stdout",
     "output_type": "stream",
     "text": [
      "[Epoch 267] Loss: 0.0502\n"
     ]
    },
    {
     "name": "stderr",
     "output_type": "stream",
     "text": [
      "Epoch 268: 100%|████████████████████████████████████████████████████████| 235/235 [01:59<00:00,  1.96it/s, loss=0.0405]\n"
     ]
    },
    {
     "name": "stdout",
     "output_type": "stream",
     "text": [
      "[Epoch 268] Loss: 0.0499\n"
     ]
    },
    {
     "name": "stderr",
     "output_type": "stream",
     "text": [
      "Epoch 269: 100%|██████████████████████████████████████████████████████████| 235/235 [01:59<00:00,  1.96it/s, loss=0.05]\n"
     ]
    },
    {
     "name": "stdout",
     "output_type": "stream",
     "text": [
      "[Epoch 269] Loss: 0.0497\n"
     ]
    },
    {
     "name": "stderr",
     "output_type": "stream",
     "text": [
      "Epoch 270: 100%|████████████████████████████████████████████████████████| 235/235 [01:59<00:00,  1.97it/s, loss=0.0399]\n"
     ]
    },
    {
     "name": "stdout",
     "output_type": "stream",
     "text": [
      "[Epoch 270] Loss: 0.0502\n"
     ]
    },
    {
     "name": "stderr",
     "output_type": "stream",
     "text": [
      "Epoch 271: 100%|████████████████████████████████████████████████████████| 235/235 [01:59<00:00,  1.97it/s, loss=0.0341]\n"
     ]
    },
    {
     "name": "stdout",
     "output_type": "stream",
     "text": [
      "[Epoch 271] Loss: 0.0498\n"
     ]
    },
    {
     "name": "stderr",
     "output_type": "stream",
     "text": [
      "Epoch 272: 100%|████████████████████████████████████████████████████████| 235/235 [01:59<00:00,  1.97it/s, loss=0.0517]\n"
     ]
    },
    {
     "name": "stdout",
     "output_type": "stream",
     "text": [
      "[Epoch 272] Loss: 0.0503\n"
     ]
    },
    {
     "name": "stderr",
     "output_type": "stream",
     "text": [
      "Epoch 273: 100%|████████████████████████████████████████████████████████| 235/235 [01:59<00:00,  1.96it/s, loss=0.0452]\n"
     ]
    },
    {
     "name": "stdout",
     "output_type": "stream",
     "text": [
      "[Epoch 273] Loss: 0.0501\n"
     ]
    },
    {
     "name": "stderr",
     "output_type": "stream",
     "text": [
      "Epoch 274: 100%|████████████████████████████████████████████████████████| 235/235 [01:59<00:00,  1.96it/s, loss=0.0458]\n"
     ]
    },
    {
     "name": "stdout",
     "output_type": "stream",
     "text": [
      "[Epoch 274] Loss: 0.0508\n"
     ]
    },
    {
     "name": "stderr",
     "output_type": "stream",
     "text": [
      "Epoch 275: 100%|████████████████████████████████████████████████████████| 235/235 [01:59<00:00,  1.97it/s, loss=0.0329]\n"
     ]
    },
    {
     "name": "stdout",
     "output_type": "stream",
     "text": [
      "[Epoch 275] Loss: 0.0498\n"
     ]
    },
    {
     "name": "stderr",
     "output_type": "stream",
     "text": [
      "Epoch 276: 100%|████████████████████████████████████████████████████████| 235/235 [01:59<00:00,  1.96it/s, loss=0.0401]\n"
     ]
    },
    {
     "name": "stdout",
     "output_type": "stream",
     "text": [
      "[Epoch 276] Loss: 0.0502\n"
     ]
    },
    {
     "name": "stderr",
     "output_type": "stream",
     "text": [
      "Epoch 277: 100%|████████████████████████████████████████████████████████| 235/235 [01:59<00:00,  1.97it/s, loss=0.0456]\n"
     ]
    },
    {
     "name": "stdout",
     "output_type": "stream",
     "text": [
      "[Epoch 277] Loss: 0.0497\n"
     ]
    },
    {
     "name": "stderr",
     "output_type": "stream",
     "text": [
      "Epoch 278: 100%|████████████████████████████████████████████████████████| 235/235 [01:59<00:00,  1.97it/s, loss=0.0523]\n"
     ]
    },
    {
     "name": "stdout",
     "output_type": "stream",
     "text": [
      "[Epoch 278] Loss: 0.0497\n"
     ]
    },
    {
     "name": "stderr",
     "output_type": "stream",
     "text": [
      "Epoch 279: 100%|████████████████████████████████████████████████████████| 235/235 [01:59<00:00,  1.97it/s, loss=0.0438]\n"
     ]
    },
    {
     "name": "stdout",
     "output_type": "stream",
     "text": [
      "[Epoch 279] Loss: 0.0493\n"
     ]
    },
    {
     "name": "stderr",
     "output_type": "stream",
     "text": [
      "Epoch 280: 100%|████████████████████████████████████████████████████████| 235/235 [01:59<00:00,  1.96it/s, loss=0.0562]\n"
     ]
    },
    {
     "name": "stdout",
     "output_type": "stream",
     "text": [
      "[Epoch 280] Loss: 0.0498\n"
     ]
    },
    {
     "name": "stderr",
     "output_type": "stream",
     "text": [
      "Epoch 281: 100%|████████████████████████████████████████████████████████| 235/235 [01:59<00:00,  1.97it/s, loss=0.0604]\n"
     ]
    },
    {
     "name": "stdout",
     "output_type": "stream",
     "text": [
      "[Epoch 281] Loss: 0.0501\n"
     ]
    },
    {
     "name": "stderr",
     "output_type": "stream",
     "text": [
      "Epoch 282: 100%|████████████████████████████████████████████████████████| 235/235 [01:59<00:00,  1.97it/s, loss=0.0578]\n"
     ]
    },
    {
     "name": "stdout",
     "output_type": "stream",
     "text": [
      "[Epoch 282] Loss: 0.0512\n"
     ]
    },
    {
     "name": "stderr",
     "output_type": "stream",
     "text": [
      "Epoch 283: 100%|████████████████████████████████████████████████████████| 235/235 [02:03<00:00,  1.90it/s, loss=0.0457]\n"
     ]
    },
    {
     "name": "stdout",
     "output_type": "stream",
     "text": [
      "[Epoch 283] Loss: 0.0496\n"
     ]
    },
    {
     "name": "stderr",
     "output_type": "stream",
     "text": [
      "Epoch 284: 100%|████████████████████████████████████████████████████████| 235/235 [02:00<00:00,  1.96it/s, loss=0.0496]\n"
     ]
    },
    {
     "name": "stdout",
     "output_type": "stream",
     "text": [
      "[Epoch 284] Loss: 0.0500\n"
     ]
    },
    {
     "name": "stderr",
     "output_type": "stream",
     "text": [
      "Epoch 285: 100%|████████████████████████████████████████████████████████| 235/235 [01:59<00:00,  1.96it/s, loss=0.0466]\n"
     ]
    },
    {
     "name": "stdout",
     "output_type": "stream",
     "text": [
      "[Epoch 285] Loss: 0.0495\n"
     ]
    },
    {
     "name": "stderr",
     "output_type": "stream",
     "text": [
      "Epoch 286: 100%|████████████████████████████████████████████████████████| 235/235 [01:59<00:00,  1.97it/s, loss=0.0587]\n"
     ]
    },
    {
     "name": "stdout",
     "output_type": "stream",
     "text": [
      "[Epoch 286] Loss: 0.0503\n"
     ]
    },
    {
     "name": "stderr",
     "output_type": "stream",
     "text": [
      "Epoch 287: 100%|████████████████████████████████████████████████████████| 235/235 [01:59<00:00,  1.97it/s, loss=0.0589]\n"
     ]
    },
    {
     "name": "stdout",
     "output_type": "stream",
     "text": [
      "[Epoch 287] Loss: 0.0497\n"
     ]
    },
    {
     "name": "stderr",
     "output_type": "stream",
     "text": [
      "Epoch 288: 100%|████████████████████████████████████████████████████████| 235/235 [01:59<00:00,  1.97it/s, loss=0.0504]\n"
     ]
    },
    {
     "name": "stdout",
     "output_type": "stream",
     "text": [
      "[Epoch 288] Loss: 0.0494\n"
     ]
    },
    {
     "name": "stderr",
     "output_type": "stream",
     "text": [
      "Epoch 289: 100%|████████████████████████████████████████████████████████| 235/235 [01:59<00:00,  1.96it/s, loss=0.0438]\n"
     ]
    },
    {
     "name": "stdout",
     "output_type": "stream",
     "text": [
      "[Epoch 289] Loss: 0.0502\n"
     ]
    },
    {
     "name": "stderr",
     "output_type": "stream",
     "text": [
      "Epoch 290: 100%|████████████████████████████████████████████████████████| 235/235 [01:59<00:00,  1.96it/s, loss=0.0415]\n"
     ]
    },
    {
     "name": "stdout",
     "output_type": "stream",
     "text": [
      "[Epoch 290] Loss: 0.0495\n"
     ]
    },
    {
     "name": "stderr",
     "output_type": "stream",
     "text": [
      "Epoch 291: 100%|████████████████████████████████████████████████████████| 235/235 [02:00<00:00,  1.96it/s, loss=0.0732]\n"
     ]
    },
    {
     "name": "stdout",
     "output_type": "stream",
     "text": [
      "[Epoch 291] Loss: 0.0501\n"
     ]
    },
    {
     "name": "stderr",
     "output_type": "stream",
     "text": [
      "Epoch 292: 100%|████████████████████████████████████████████████████████| 235/235 [01:59<00:00,  1.97it/s, loss=0.0458]\n"
     ]
    },
    {
     "name": "stdout",
     "output_type": "stream",
     "text": [
      "[Epoch 292] Loss: 0.0500\n"
     ]
    },
    {
     "name": "stderr",
     "output_type": "stream",
     "text": [
      "Epoch 293: 100%|████████████████████████████████████████████████████████| 235/235 [01:59<00:00,  1.97it/s, loss=0.0619]\n"
     ]
    },
    {
     "name": "stdout",
     "output_type": "stream",
     "text": [
      "[Epoch 293] Loss: 0.0498\n"
     ]
    },
    {
     "name": "stderr",
     "output_type": "stream",
     "text": [
      "Epoch 294: 100%|████████████████████████████████████████████████████████| 235/235 [01:59<00:00,  1.96it/s, loss=0.0515]\n"
     ]
    },
    {
     "name": "stdout",
     "output_type": "stream",
     "text": [
      "[Epoch 294] Loss: 0.0505\n"
     ]
    },
    {
     "name": "stderr",
     "output_type": "stream",
     "text": [
      "Epoch 295: 100%|████████████████████████████████████████████████████████| 235/235 [01:59<00:00,  1.97it/s, loss=0.0631]\n"
     ]
    },
    {
     "name": "stdout",
     "output_type": "stream",
     "text": [
      "[Epoch 295] Loss: 0.0495\n"
     ]
    },
    {
     "name": "stderr",
     "output_type": "stream",
     "text": [
      "Epoch 296: 100%|████████████████████████████████████████████████████████| 235/235 [01:59<00:00,  1.96it/s, loss=0.0488]\n"
     ]
    },
    {
     "name": "stdout",
     "output_type": "stream",
     "text": [
      "[Epoch 296] Loss: 0.0492\n",
      "[✓] Loss improved from 0.0493 to 0.0492, saving best model.\n"
     ]
    },
    {
     "name": "stderr",
     "output_type": "stream",
     "text": [
      "Epoch 297: 100%|████████████████████████████████████████████████████████| 235/235 [01:59<00:00,  1.97it/s, loss=0.0704]\n"
     ]
    },
    {
     "name": "stdout",
     "output_type": "stream",
     "text": [
      "[Epoch 297] Loss: 0.0490\n",
      "[✓] Loss improved from 0.0492 to 0.0490, saving best model.\n"
     ]
    },
    {
     "name": "stderr",
     "output_type": "stream",
     "text": [
      "Epoch 298: 100%|████████████████████████████████████████████████████████| 235/235 [02:00<00:00,  1.95it/s, loss=0.0422]\n"
     ]
    },
    {
     "name": "stdout",
     "output_type": "stream",
     "text": [
      "[Epoch 298] Loss: 0.0491\n"
     ]
    },
    {
     "name": "stderr",
     "output_type": "stream",
     "text": [
      "Epoch 299: 100%|████████████████████████████████████████████████████████| 235/235 [01:59<00:00,  1.96it/s, loss=0.0407]\n"
     ]
    },
    {
     "name": "stdout",
     "output_type": "stream",
     "text": [
      "[Epoch 299] Loss: 0.0501\n"
     ]
    },
    {
     "name": "stderr",
     "output_type": "stream",
     "text": [
      "Epoch 300: 100%|████████████████████████████████████████████████████████| 235/235 [02:00<00:00,  1.96it/s, loss=0.0492]\n"
     ]
    },
    {
     "name": "stdout",
     "output_type": "stream",
     "text": [
      "[Epoch 300] Loss: 0.0500\n"
     ]
    },
    {
     "name": "stderr",
     "output_type": "stream",
     "text": [
      "Epoch 301: 100%|████████████████████████████████████████████████████████| 235/235 [01:59<00:00,  1.97it/s, loss=0.0742]\n"
     ]
    },
    {
     "name": "stdout",
     "output_type": "stream",
     "text": [
      "[Epoch 301] Loss: 0.0502\n"
     ]
    },
    {
     "name": "stderr",
     "output_type": "stream",
     "text": [
      "Epoch 302: 100%|████████████████████████████████████████████████████████| 235/235 [01:59<00:00,  1.97it/s, loss=0.0365]\n"
     ]
    },
    {
     "name": "stdout",
     "output_type": "stream",
     "text": [
      "[Epoch 302] Loss: 0.0504\n"
     ]
    },
    {
     "name": "stderr",
     "output_type": "stream",
     "text": [
      "Epoch 303: 100%|████████████████████████████████████████████████████████| 235/235 [01:59<00:00,  1.97it/s, loss=0.0389]\n"
     ]
    },
    {
     "name": "stdout",
     "output_type": "stream",
     "text": [
      "[Epoch 303] Loss: 0.0489\n",
      "[✓] Loss improved from 0.0490 to 0.0489, saving best model.\n"
     ]
    },
    {
     "name": "stderr",
     "output_type": "stream",
     "text": [
      "Epoch 304: 100%|████████████████████████████████████████████████████████| 235/235 [01:59<00:00,  1.96it/s, loss=0.0589]\n"
     ]
    },
    {
     "name": "stdout",
     "output_type": "stream",
     "text": [
      "[Epoch 304] Loss: 0.0496\n"
     ]
    },
    {
     "name": "stderr",
     "output_type": "stream",
     "text": [
      "Epoch 305: 100%|████████████████████████████████████████████████████████| 235/235 [01:59<00:00,  1.97it/s, loss=0.0545]\n"
     ]
    },
    {
     "name": "stdout",
     "output_type": "stream",
     "text": [
      "[Epoch 305] Loss: 0.0499\n"
     ]
    },
    {
     "name": "stderr",
     "output_type": "stream",
     "text": [
      "Epoch 306: 100%|████████████████████████████████████████████████████████| 235/235 [01:59<00:00,  1.97it/s, loss=0.0504]\n"
     ]
    },
    {
     "name": "stdout",
     "output_type": "stream",
     "text": [
      "[Epoch 306] Loss: 0.0496\n"
     ]
    },
    {
     "name": "stderr",
     "output_type": "stream",
     "text": [
      "Epoch 307: 100%|████████████████████████████████████████████████████████| 235/235 [01:59<00:00,  1.97it/s, loss=0.0385]\n"
     ]
    },
    {
     "name": "stdout",
     "output_type": "stream",
     "text": [
      "[Epoch 307] Loss: 0.0486\n",
      "[✓] Loss improved from 0.0489 to 0.0486, saving best model.\n"
     ]
    },
    {
     "name": "stderr",
     "output_type": "stream",
     "text": [
      "Epoch 308: 100%|████████████████████████████████████████████████████████| 235/235 [01:59<00:00,  1.97it/s, loss=0.0689]\n"
     ]
    },
    {
     "name": "stdout",
     "output_type": "stream",
     "text": [
      "[Epoch 308] Loss: 0.0497\n"
     ]
    },
    {
     "name": "stderr",
     "output_type": "stream",
     "text": [
      "Epoch 309: 100%|█████████████████████████████████████████████████████████| 235/235 [01:59<00:00,  1.97it/s, loss=0.042]\n"
     ]
    },
    {
     "name": "stdout",
     "output_type": "stream",
     "text": [
      "[Epoch 309] Loss: 0.0494\n"
     ]
    },
    {
     "name": "stderr",
     "output_type": "stream",
     "text": [
      "Epoch 310: 100%|████████████████████████████████████████████████████████| 235/235 [01:59<00:00,  1.97it/s, loss=0.0689]\n"
     ]
    },
    {
     "name": "stdout",
     "output_type": "stream",
     "text": [
      "[Epoch 310] Loss: 0.0488\n"
     ]
    },
    {
     "name": "stderr",
     "output_type": "stream",
     "text": [
      "Epoch 311: 100%|█████████████████████████████████████████████████████████| 235/235 [01:59<00:00,  1.97it/s, loss=0.039]\n"
     ]
    },
    {
     "name": "stdout",
     "output_type": "stream",
     "text": [
      "[Epoch 311] Loss: 0.0493\n"
     ]
    },
    {
     "name": "stderr",
     "output_type": "stream",
     "text": [
      "Epoch 312: 100%|████████████████████████████████████████████████████████| 235/235 [01:59<00:00,  1.96it/s, loss=0.0647]\n"
     ]
    },
    {
     "name": "stdout",
     "output_type": "stream",
     "text": [
      "[Epoch 312] Loss: 0.0499\n"
     ]
    },
    {
     "name": "stderr",
     "output_type": "stream",
     "text": [
      "Epoch 313: 100%|████████████████████████████████████████████████████████| 235/235 [01:59<00:00,  1.97it/s, loss=0.0409]\n"
     ]
    },
    {
     "name": "stdout",
     "output_type": "stream",
     "text": [
      "[Epoch 313] Loss: 0.0489\n"
     ]
    },
    {
     "name": "stderr",
     "output_type": "stream",
     "text": [
      "Epoch 314: 100%|████████████████████████████████████████████████████████| 235/235 [01:59<00:00,  1.97it/s, loss=0.0453]\n"
     ]
    },
    {
     "name": "stdout",
     "output_type": "stream",
     "text": [
      "[Epoch 314] Loss: 0.0485\n",
      "[✓] Loss improved from 0.0486 to 0.0485, saving best model.\n"
     ]
    },
    {
     "name": "stderr",
     "output_type": "stream",
     "text": [
      "Epoch 315: 100%|████████████████████████████████████████████████████████| 235/235 [01:59<00:00,  1.96it/s, loss=0.0395]\n"
     ]
    },
    {
     "name": "stdout",
     "output_type": "stream",
     "text": [
      "[Epoch 315] Loss: 0.0489\n"
     ]
    },
    {
     "name": "stderr",
     "output_type": "stream",
     "text": [
      "Epoch 316: 100%|████████████████████████████████████████████████████████| 235/235 [01:59<00:00,  1.97it/s, loss=0.0571]\n"
     ]
    },
    {
     "name": "stdout",
     "output_type": "stream",
     "text": [
      "[Epoch 316] Loss: 0.0492\n"
     ]
    },
    {
     "name": "stderr",
     "output_type": "stream",
     "text": [
      "Epoch 317: 100%|████████████████████████████████████████████████████████| 235/235 [01:59<00:00,  1.97it/s, loss=0.0497]\n"
     ]
    },
    {
     "name": "stdout",
     "output_type": "stream",
     "text": [
      "[Epoch 317] Loss: 0.0488\n"
     ]
    },
    {
     "name": "stderr",
     "output_type": "stream",
     "text": [
      "Epoch 318: 100%|████████████████████████████████████████████████████████| 235/235 [01:59<00:00,  1.97it/s, loss=0.0594]\n"
     ]
    },
    {
     "name": "stdout",
     "output_type": "stream",
     "text": [
      "[Epoch 318] Loss: 0.0495\n"
     ]
    },
    {
     "name": "stderr",
     "output_type": "stream",
     "text": [
      "Epoch 319: 100%|██████████████████████████████████████████████████████████| 235/235 [01:59<00:00,  1.97it/s, loss=0.07]\n"
     ]
    },
    {
     "name": "stdout",
     "output_type": "stream",
     "text": [
      "[Epoch 319] Loss: 0.0491\n"
     ]
    },
    {
     "name": "stderr",
     "output_type": "stream",
     "text": [
      "Epoch 320: 100%|████████████████████████████████████████████████████████| 235/235 [01:59<00:00,  1.97it/s, loss=0.0708]\n"
     ]
    },
    {
     "name": "stdout",
     "output_type": "stream",
     "text": [
      "[Epoch 320] Loss: 0.0495\n"
     ]
    },
    {
     "name": "stderr",
     "output_type": "stream",
     "text": [
      "Epoch 321: 100%|████████████████████████████████████████████████████████| 235/235 [01:59<00:00,  1.97it/s, loss=0.0375]\n"
     ]
    },
    {
     "name": "stdout",
     "output_type": "stream",
     "text": [
      "[Epoch 321] Loss: 0.0480\n",
      "[✓] Loss improved from 0.0485 to 0.0480, saving best model.\n"
     ]
    },
    {
     "name": "stderr",
     "output_type": "stream",
     "text": [
      "Epoch 322: 100%|████████████████████████████████████████████████████████| 235/235 [01:59<00:00,  1.97it/s, loss=0.0509]\n"
     ]
    },
    {
     "name": "stdout",
     "output_type": "stream",
     "text": [
      "[Epoch 322] Loss: 0.0486\n"
     ]
    },
    {
     "name": "stderr",
     "output_type": "stream",
     "text": [
      "Epoch 323: 100%|████████████████████████████████████████████████████████| 235/235 [01:59<00:00,  1.97it/s, loss=0.0701]\n"
     ]
    },
    {
     "name": "stdout",
     "output_type": "stream",
     "text": [
      "[Epoch 323] Loss: 0.0493\n"
     ]
    },
    {
     "name": "stderr",
     "output_type": "stream",
     "text": [
      "Epoch 324: 100%|████████████████████████████████████████████████████████| 235/235 [01:59<00:00,  1.97it/s, loss=0.0598]\n"
     ]
    },
    {
     "name": "stdout",
     "output_type": "stream",
     "text": [
      "[Epoch 324] Loss: 0.0499\n"
     ]
    },
    {
     "name": "stderr",
     "output_type": "stream",
     "text": [
      "Epoch 325: 100%|████████████████████████████████████████████████████████| 235/235 [01:59<00:00,  1.97it/s, loss=0.0486]\n"
     ]
    },
    {
     "name": "stdout",
     "output_type": "stream",
     "text": [
      "[Epoch 325] Loss: 0.0487\n"
     ]
    },
    {
     "name": "stderr",
     "output_type": "stream",
     "text": [
      "Epoch 326: 100%|████████████████████████████████████████████████████████| 235/235 [01:59<00:00,  1.97it/s, loss=0.0513]\n"
     ]
    },
    {
     "name": "stdout",
     "output_type": "stream",
     "text": [
      "[Epoch 326] Loss: 0.0489\n"
     ]
    },
    {
     "name": "stderr",
     "output_type": "stream",
     "text": [
      "Epoch 327: 100%|████████████████████████████████████████████████████████| 235/235 [01:59<00:00,  1.96it/s, loss=0.0424]\n"
     ]
    },
    {
     "name": "stdout",
     "output_type": "stream",
     "text": [
      "[Epoch 327] Loss: 0.0492\n"
     ]
    },
    {
     "name": "stderr",
     "output_type": "stream",
     "text": [
      "Epoch 328: 100%|████████████████████████████████████████████████████████| 235/235 [02:01<00:00,  1.93it/s, loss=0.0384]\n"
     ]
    },
    {
     "name": "stdout",
     "output_type": "stream",
     "text": [
      "[Epoch 328] Loss: 0.0488\n"
     ]
    },
    {
     "name": "stderr",
     "output_type": "stream",
     "text": [
      "Epoch 329: 100%|████████████████████████████████████████████████████████| 235/235 [01:59<00:00,  1.96it/s, loss=0.0374]\n"
     ]
    },
    {
     "name": "stdout",
     "output_type": "stream",
     "text": [
      "[Epoch 329] Loss: 0.0503\n"
     ]
    },
    {
     "name": "stderr",
     "output_type": "stream",
     "text": [
      "Epoch 330: 100%|████████████████████████████████████████████████████████| 235/235 [01:59<00:00,  1.97it/s, loss=0.0538]\n"
     ]
    },
    {
     "name": "stdout",
     "output_type": "stream",
     "text": [
      "[Epoch 330] Loss: 0.0495\n"
     ]
    },
    {
     "name": "stderr",
     "output_type": "stream",
     "text": [
      "Epoch 331: 100%|████████████████████████████████████████████████████████| 235/235 [01:59<00:00,  1.96it/s, loss=0.0604]\n"
     ]
    },
    {
     "name": "stdout",
     "output_type": "stream",
     "text": [
      "[Epoch 331] Loss: 0.0490\n"
     ]
    },
    {
     "name": "stderr",
     "output_type": "stream",
     "text": [
      "Epoch 332: 100%|████████████████████████████████████████████████████████| 235/235 [01:59<00:00,  1.96it/s, loss=0.0655]\n"
     ]
    },
    {
     "name": "stdout",
     "output_type": "stream",
     "text": [
      "[Epoch 332] Loss: 0.0497\n"
     ]
    },
    {
     "name": "stderr",
     "output_type": "stream",
     "text": [
      "Epoch 333: 100%|████████████████████████████████████████████████████████| 235/235 [01:59<00:00,  1.97it/s, loss=0.0472]\n"
     ]
    },
    {
     "name": "stdout",
     "output_type": "stream",
     "text": [
      "[Epoch 333] Loss: 0.0498\n"
     ]
    },
    {
     "name": "stderr",
     "output_type": "stream",
     "text": [
      "Epoch 334: 100%|████████████████████████████████████████████████████████| 235/235 [01:59<00:00,  1.96it/s, loss=0.0422]\n"
     ]
    },
    {
     "name": "stdout",
     "output_type": "stream",
     "text": [
      "[Epoch 334] Loss: 0.0495\n"
     ]
    },
    {
     "name": "stderr",
     "output_type": "stream",
     "text": [
      "Epoch 335: 100%|████████████████████████████████████████████████████████| 235/235 [01:59<00:00,  1.97it/s, loss=0.0396]\n"
     ]
    },
    {
     "name": "stdout",
     "output_type": "stream",
     "text": [
      "[Epoch 335] Loss: 0.0491\n"
     ]
    },
    {
     "name": "stderr",
     "output_type": "stream",
     "text": [
      "Epoch 336: 100%|████████████████████████████████████████████████████████| 235/235 [02:00<00:00,  1.96it/s, loss=0.0927]\n"
     ]
    },
    {
     "name": "stdout",
     "output_type": "stream",
     "text": [
      "[Epoch 336] Loss: 0.0487\n"
     ]
    },
    {
     "name": "stderr",
     "output_type": "stream",
     "text": [
      "Epoch 337: 100%|█████████████████████████████████████████████████████████| 235/235 [01:59<00:00,  1.96it/s, loss=0.056]\n"
     ]
    },
    {
     "name": "stdout",
     "output_type": "stream",
     "text": [
      "[Epoch 337] Loss: 0.0490\n"
     ]
    },
    {
     "name": "stderr",
     "output_type": "stream",
     "text": [
      "Epoch 338: 100%|████████████████████████████████████████████████████████| 235/235 [01:59<00:00,  1.97it/s, loss=0.0337]\n"
     ]
    },
    {
     "name": "stdout",
     "output_type": "stream",
     "text": [
      "[Epoch 338] Loss: 0.0485\n"
     ]
    },
    {
     "name": "stderr",
     "output_type": "stream",
     "text": [
      "Epoch 339: 100%|████████████████████████████████████████████████████████| 235/235 [01:59<00:00,  1.97it/s, loss=0.0365]\n"
     ]
    },
    {
     "name": "stdout",
     "output_type": "stream",
     "text": [
      "[Epoch 339] Loss: 0.0485\n"
     ]
    },
    {
     "name": "stderr",
     "output_type": "stream",
     "text": [
      "Epoch 340: 100%|████████████████████████████████████████████████████████| 235/235 [01:59<00:00,  1.97it/s, loss=0.0456]\n"
     ]
    },
    {
     "name": "stdout",
     "output_type": "stream",
     "text": [
      "[Epoch 340] Loss: 0.0491\n"
     ]
    },
    {
     "name": "stderr",
     "output_type": "stream",
     "text": [
      "Epoch 341: 100%|████████████████████████████████████████████████████████| 235/235 [01:59<00:00,  1.96it/s, loss=0.0368]\n"
     ]
    },
    {
     "name": "stdout",
     "output_type": "stream",
     "text": [
      "[Epoch 341] Loss: 0.0502\n"
     ]
    },
    {
     "name": "stderr",
     "output_type": "stream",
     "text": [
      "Epoch 342: 100%|████████████████████████████████████████████████████████| 235/235 [01:59<00:00,  1.97it/s, loss=0.0492]\n"
     ]
    },
    {
     "name": "stdout",
     "output_type": "stream",
     "text": [
      "[Epoch 342] Loss: 0.0490\n"
     ]
    },
    {
     "name": "stderr",
     "output_type": "stream",
     "text": [
      "Epoch 343: 100%|█████████████████████████████████████████████████████████| 235/235 [01:59<00:00,  1.97it/s, loss=0.077]\n"
     ]
    },
    {
     "name": "stdout",
     "output_type": "stream",
     "text": [
      "[Epoch 343] Loss: 0.0495\n"
     ]
    },
    {
     "name": "stderr",
     "output_type": "stream",
     "text": [
      "Epoch 344: 100%|████████████████████████████████████████████████████████| 235/235 [01:59<00:00,  1.96it/s, loss=0.0705]\n"
     ]
    },
    {
     "name": "stdout",
     "output_type": "stream",
     "text": [
      "[Epoch 344] Loss: 0.0491\n"
     ]
    },
    {
     "name": "stderr",
     "output_type": "stream",
     "text": [
      "Epoch 345: 100%|████████████████████████████████████████████████████████| 235/235 [01:59<00:00,  1.97it/s, loss=0.0411]\n"
     ]
    },
    {
     "name": "stdout",
     "output_type": "stream",
     "text": [
      "[Epoch 345] Loss: 0.0495\n"
     ]
    },
    {
     "name": "stderr",
     "output_type": "stream",
     "text": [
      "Epoch 346: 100%|████████████████████████████████████████████████████████| 235/235 [01:58<00:00,  1.98it/s, loss=0.0413]\n"
     ]
    },
    {
     "name": "stdout",
     "output_type": "stream",
     "text": [
      "[Epoch 346] Loss: 0.0485\n"
     ]
    },
    {
     "name": "stderr",
     "output_type": "stream",
     "text": [
      "Epoch 347: 100%|████████████████████████████████████████████████████████| 235/235 [02:00<00:00,  1.95it/s, loss=0.0423]\n"
     ]
    },
    {
     "name": "stdout",
     "output_type": "stream",
     "text": [
      "[Epoch 347] Loss: 0.0494\n"
     ]
    },
    {
     "name": "stderr",
     "output_type": "stream",
     "text": [
      "Epoch 348: 100%|████████████████████████████████████████████████████████| 235/235 [01:59<00:00,  1.96it/s, loss=0.0753]\n"
     ]
    },
    {
     "name": "stdout",
     "output_type": "stream",
     "text": [
      "[Epoch 348] Loss: 0.0495\n"
     ]
    },
    {
     "name": "stderr",
     "output_type": "stream",
     "text": [
      "Epoch 349: 100%|████████████████████████████████████████████████████████| 235/235 [01:59<00:00,  1.97it/s, loss=0.0511]\n"
     ]
    },
    {
     "name": "stdout",
     "output_type": "stream",
     "text": [
      "[Epoch 349] Loss: 0.0494\n"
     ]
    },
    {
     "name": "stderr",
     "output_type": "stream",
     "text": [
      "Epoch 350: 100%|████████████████████████████████████████████████████████| 235/235 [01:59<00:00,  1.96it/s, loss=0.0404]\n"
     ]
    },
    {
     "name": "stdout",
     "output_type": "stream",
     "text": [
      "[Epoch 350] Loss: 0.0497\n"
     ]
    },
    {
     "name": "stderr",
     "output_type": "stream",
     "text": [
      "Epoch 351: 100%|████████████████████████████████████████████████████████| 235/235 [01:59<00:00,  1.97it/s, loss=0.0557]\n"
     ]
    },
    {
     "name": "stdout",
     "output_type": "stream",
     "text": [
      "[Epoch 351] Loss: 0.0487\n"
     ]
    },
    {
     "name": "stderr",
     "output_type": "stream",
     "text": [
      "Epoch 352: 100%|████████████████████████████████████████████████████████| 235/235 [01:59<00:00,  1.97it/s, loss=0.0823]\n"
     ]
    },
    {
     "name": "stdout",
     "output_type": "stream",
     "text": [
      "[Epoch 352] Loss: 0.0490\n"
     ]
    },
    {
     "name": "stderr",
     "output_type": "stream",
     "text": [
      "Epoch 353: 100%|████████████████████████████████████████████████████████| 235/235 [01:59<00:00,  1.97it/s, loss=0.0637]\n"
     ]
    },
    {
     "name": "stdout",
     "output_type": "stream",
     "text": [
      "[Epoch 353] Loss: 0.0500\n"
     ]
    },
    {
     "name": "stderr",
     "output_type": "stream",
     "text": [
      "Epoch 354: 100%|████████████████████████████████████████████████████████| 235/235 [01:59<00:00,  1.97it/s, loss=0.0603]\n"
     ]
    },
    {
     "name": "stdout",
     "output_type": "stream",
     "text": [
      "[Epoch 354] Loss: 0.0489\n"
     ]
    },
    {
     "name": "stderr",
     "output_type": "stream",
     "text": [
      "Epoch 355: 100%|████████████████████████████████████████████████████████| 235/235 [01:59<00:00,  1.96it/s, loss=0.0432]\n"
     ]
    },
    {
     "name": "stdout",
     "output_type": "stream",
     "text": [
      "[Epoch 355] Loss: 0.0486\n"
     ]
    },
    {
     "name": "stderr",
     "output_type": "stream",
     "text": [
      "Epoch 356: 100%|████████████████████████████████████████████████████████| 235/235 [01:59<00:00,  1.97it/s, loss=0.0397]\n"
     ]
    },
    {
     "name": "stdout",
     "output_type": "stream",
     "text": [
      "[Epoch 356] Loss: 0.0484\n"
     ]
    },
    {
     "name": "stderr",
     "output_type": "stream",
     "text": [
      "Epoch 357: 100%|████████████████████████████████████████████████████████| 235/235 [02:00<00:00,  1.96it/s, loss=0.0487]\n"
     ]
    },
    {
     "name": "stdout",
     "output_type": "stream",
     "text": [
      "[Epoch 357] Loss: 0.0488\n"
     ]
    },
    {
     "name": "stderr",
     "output_type": "stream",
     "text": [
      "Epoch 358: 100%|████████████████████████████████████████████████████████| 235/235 [01:59<00:00,  1.96it/s, loss=0.0518]\n"
     ]
    },
    {
     "name": "stdout",
     "output_type": "stream",
     "text": [
      "[Epoch 358] Loss: 0.0489\n"
     ]
    },
    {
     "name": "stderr",
     "output_type": "stream",
     "text": [
      "Epoch 359: 100%|████████████████████████████████████████████████████████| 235/235 [02:00<00:00,  1.95it/s, loss=0.0439]\n"
     ]
    },
    {
     "name": "stdout",
     "output_type": "stream",
     "text": [
      "[Epoch 359] Loss: 0.0488\n"
     ]
    },
    {
     "name": "stderr",
     "output_type": "stream",
     "text": [
      "Epoch 360: 100%|████████████████████████████████████████████████████████| 235/235 [01:59<00:00,  1.96it/s, loss=0.0547]\n"
     ]
    },
    {
     "name": "stdout",
     "output_type": "stream",
     "text": [
      "[Epoch 360] Loss: 0.0487\n"
     ]
    },
    {
     "name": "stderr",
     "output_type": "stream",
     "text": [
      "Epoch 361: 100%|████████████████████████████████████████████████████████| 235/235 [01:59<00:00,  1.96it/s, loss=0.0434]\n"
     ]
    },
    {
     "name": "stdout",
     "output_type": "stream",
     "text": [
      "[Epoch 361] Loss: 0.0486\n"
     ]
    },
    {
     "name": "stderr",
     "output_type": "stream",
     "text": [
      "Epoch 362: 100%|████████████████████████████████████████████████████████| 235/235 [01:59<00:00,  1.96it/s, loss=0.0457]\n"
     ]
    },
    {
     "name": "stdout",
     "output_type": "stream",
     "text": [
      "[Epoch 362] Loss: 0.0491\n"
     ]
    },
    {
     "name": "stderr",
     "output_type": "stream",
     "text": [
      "Epoch 363: 100%|████████████████████████████████████████████████████████| 235/235 [01:59<00:00,  1.96it/s, loss=0.0415]\n"
     ]
    },
    {
     "name": "stdout",
     "output_type": "stream",
     "text": [
      "[Epoch 363] Loss: 0.0494\n"
     ]
    },
    {
     "name": "stderr",
     "output_type": "stream",
     "text": [
      "Epoch 364: 100%|████████████████████████████████████████████████████████| 235/235 [01:59<00:00,  1.96it/s, loss=0.0755]\n"
     ]
    },
    {
     "name": "stdout",
     "output_type": "stream",
     "text": [
      "[Epoch 364] Loss: 0.0493\n"
     ]
    },
    {
     "name": "stderr",
     "output_type": "stream",
     "text": [
      "Epoch 365: 100%|████████████████████████████████████████████████████████| 235/235 [01:59<00:00,  1.97it/s, loss=0.0721]\n"
     ]
    },
    {
     "name": "stdout",
     "output_type": "stream",
     "text": [
      "[Epoch 365] Loss: 0.0493\n"
     ]
    },
    {
     "name": "stderr",
     "output_type": "stream",
     "text": [
      "Epoch 366: 100%|████████████████████████████████████████████████████████| 235/235 [01:59<00:00,  1.97it/s, loss=0.0606]\n"
     ]
    },
    {
     "name": "stdout",
     "output_type": "stream",
     "text": [
      "[Epoch 366] Loss: 0.0488\n"
     ]
    },
    {
     "name": "stderr",
     "output_type": "stream",
     "text": [
      "Epoch 367: 100%|████████████████████████████████████████████████████████| 235/235 [01:59<00:00,  1.97it/s, loss=0.0469]\n"
     ]
    },
    {
     "name": "stdout",
     "output_type": "stream",
     "text": [
      "[Epoch 367] Loss: 0.0493\n"
     ]
    },
    {
     "name": "stderr",
     "output_type": "stream",
     "text": [
      "Epoch 368: 100%|█████████████████████████████████████████████████████████| 235/235 [02:00<00:00,  1.96it/s, loss=0.045]\n"
     ]
    },
    {
     "name": "stdout",
     "output_type": "stream",
     "text": [
      "[Epoch 368] Loss: 0.0488\n"
     ]
    },
    {
     "name": "stderr",
     "output_type": "stream",
     "text": [
      "Epoch 369: 100%|████████████████████████████████████████████████████████| 235/235 [01:59<00:00,  1.96it/s, loss=0.0563]\n"
     ]
    },
    {
     "name": "stdout",
     "output_type": "stream",
     "text": [
      "[Epoch 369] Loss: 0.0481\n"
     ]
    },
    {
     "name": "stderr",
     "output_type": "stream",
     "text": [
      "Epoch 370: 100%|████████████████████████████████████████████████████████| 235/235 [02:00<00:00,  1.96it/s, loss=0.0473]\n"
     ]
    },
    {
     "name": "stdout",
     "output_type": "stream",
     "text": [
      "[Epoch 370] Loss: 0.0494\n"
     ]
    },
    {
     "name": "stderr",
     "output_type": "stream",
     "text": [
      "Epoch 371: 100%|████████████████████████████████████████████████████████| 235/235 [01:59<00:00,  1.96it/s, loss=0.0366]\n"
     ]
    },
    {
     "name": "stdout",
     "output_type": "stream",
     "text": [
      "[Epoch 371] Loss: 0.0488\n"
     ]
    },
    {
     "name": "stderr",
     "output_type": "stream",
     "text": [
      "Epoch 372: 100%|████████████████████████████████████████████████████████| 235/235 [01:59<00:00,  1.96it/s, loss=0.0775]\n"
     ]
    },
    {
     "name": "stdout",
     "output_type": "stream",
     "text": [
      "[Epoch 372] Loss: 0.0489\n"
     ]
    },
    {
     "name": "stderr",
     "output_type": "stream",
     "text": [
      "Epoch 373: 100%|█████████████████████████████████████████████████████████| 235/235 [02:00<00:00,  1.95it/s, loss=0.041]\n"
     ]
    },
    {
     "name": "stdout",
     "output_type": "stream",
     "text": [
      "[Epoch 373] Loss: 0.0492\n"
     ]
    },
    {
     "name": "stderr",
     "output_type": "stream",
     "text": [
      "Epoch 374: 100%|█████████████████████████████████████████████████████████| 235/235 [02:00<00:00,  1.95it/s, loss=0.037]\n"
     ]
    },
    {
     "name": "stdout",
     "output_type": "stream",
     "text": [
      "[Epoch 374] Loss: 0.0488\n"
     ]
    },
    {
     "name": "stderr",
     "output_type": "stream",
     "text": [
      "Epoch 375: 100%|████████████████████████████████████████████████████████| 235/235 [02:00<00:00,  1.95it/s, loss=0.0323]\n"
     ]
    },
    {
     "name": "stdout",
     "output_type": "stream",
     "text": [
      "[Epoch 375] Loss: 0.0485\n"
     ]
    },
    {
     "name": "stderr",
     "output_type": "stream",
     "text": [
      "Epoch 376: 100%|████████████████████████████████████████████████████████| 235/235 [02:00<00:00,  1.96it/s, loss=0.0346]\n"
     ]
    },
    {
     "name": "stdout",
     "output_type": "stream",
     "text": [
      "[Epoch 376] Loss: 0.0491\n"
     ]
    },
    {
     "name": "stderr",
     "output_type": "stream",
     "text": [
      "Epoch 377: 100%|████████████████████████████████████████████████████████| 235/235 [01:59<00:00,  1.96it/s, loss=0.0652]\n"
     ]
    },
    {
     "name": "stdout",
     "output_type": "stream",
     "text": [
      "[Epoch 377] Loss: 0.0491\n"
     ]
    },
    {
     "name": "stderr",
     "output_type": "stream",
     "text": [
      "Epoch 378: 100%|████████████████████████████████████████████████████████| 235/235 [02:00<00:00,  1.95it/s, loss=0.0454]\n"
     ]
    },
    {
     "name": "stdout",
     "output_type": "stream",
     "text": [
      "[Epoch 378] Loss: 0.0492\n"
     ]
    },
    {
     "name": "stderr",
     "output_type": "stream",
     "text": [
      "Epoch 379: 100%|████████████████████████████████████████████████████████| 235/235 [01:59<00:00,  1.96it/s, loss=0.0444]\n"
     ]
    },
    {
     "name": "stdout",
     "output_type": "stream",
     "text": [
      "[Epoch 379] Loss: 0.0484\n"
     ]
    },
    {
     "name": "stderr",
     "output_type": "stream",
     "text": [
      "Epoch 380: 100%|████████████████████████████████████████████████████████| 235/235 [02:00<00:00,  1.95it/s, loss=0.0497]\n"
     ]
    },
    {
     "name": "stdout",
     "output_type": "stream",
     "text": [
      "[Epoch 380] Loss: 0.0485\n"
     ]
    },
    {
     "name": "stderr",
     "output_type": "stream",
     "text": [
      "Epoch 381: 100%|████████████████████████████████████████████████████████| 235/235 [01:59<00:00,  1.96it/s, loss=0.0538]\n"
     ]
    },
    {
     "name": "stdout",
     "output_type": "stream",
     "text": [
      "[Epoch 381] Loss: 0.0484\n"
     ]
    },
    {
     "name": "stderr",
     "output_type": "stream",
     "text": [
      "Epoch 382: 100%|████████████████████████████████████████████████████████| 235/235 [02:00<00:00,  1.96it/s, loss=0.0548]\n"
     ]
    },
    {
     "name": "stdout",
     "output_type": "stream",
     "text": [
      "[Epoch 382] Loss: 0.0490\n"
     ]
    },
    {
     "name": "stderr",
     "output_type": "stream",
     "text": [
      "Epoch 383: 100%|████████████████████████████████████████████████████████| 235/235 [02:00<00:00,  1.96it/s, loss=0.0409]\n"
     ]
    },
    {
     "name": "stdout",
     "output_type": "stream",
     "text": [
      "[Epoch 383] Loss: 0.0481\n"
     ]
    },
    {
     "name": "stderr",
     "output_type": "stream",
     "text": [
      "Epoch 384: 100%|████████████████████████████████████████████████████████| 235/235 [02:01<00:00,  1.94it/s, loss=0.0418]\n"
     ]
    },
    {
     "name": "stdout",
     "output_type": "stream",
     "text": [
      "[Epoch 384] Loss: 0.0481\n"
     ]
    },
    {
     "name": "stderr",
     "output_type": "stream",
     "text": [
      "Epoch 385: 100%|████████████████████████████████████████████████████████| 235/235 [02:00<00:00,  1.95it/s, loss=0.0696]\n"
     ]
    },
    {
     "name": "stdout",
     "output_type": "stream",
     "text": [
      "[Epoch 385] Loss: 0.0491\n"
     ]
    },
    {
     "name": "stderr",
     "output_type": "stream",
     "text": [
      "Epoch 386: 100%|████████████████████████████████████████████████████████| 235/235 [02:01<00:00,  1.94it/s, loss=0.0618]\n"
     ]
    },
    {
     "name": "stdout",
     "output_type": "stream",
     "text": [
      "[Epoch 386] Loss: 0.0489\n"
     ]
    },
    {
     "name": "stderr",
     "output_type": "stream",
     "text": [
      "Epoch 387: 100%|████████████████████████████████████████████████████████| 235/235 [02:00<00:00,  1.95it/s, loss=0.0424]\n"
     ]
    },
    {
     "name": "stdout",
     "output_type": "stream",
     "text": [
      "[Epoch 387] Loss: 0.0492\n"
     ]
    },
    {
     "name": "stderr",
     "output_type": "stream",
     "text": [
      "Epoch 388: 100%|████████████████████████████████████████████████████████| 235/235 [02:00<00:00,  1.95it/s, loss=0.0345]\n"
     ]
    },
    {
     "name": "stdout",
     "output_type": "stream",
     "text": [
      "[Epoch 388] Loss: 0.0492\n"
     ]
    },
    {
     "name": "stderr",
     "output_type": "stream",
     "text": [
      "Epoch 389: 100%|████████████████████████████████████████████████████████| 235/235 [02:00<00:00,  1.95it/s, loss=0.0528]\n"
     ]
    },
    {
     "name": "stdout",
     "output_type": "stream",
     "text": [
      "[Epoch 389] Loss: 0.0489\n"
     ]
    },
    {
     "name": "stderr",
     "output_type": "stream",
     "text": [
      "Epoch 390: 100%|████████████████████████████████████████████████████████| 235/235 [02:00<00:00,  1.95it/s, loss=0.0375]\n"
     ]
    },
    {
     "name": "stdout",
     "output_type": "stream",
     "text": [
      "[Epoch 390] Loss: 0.0495\n"
     ]
    },
    {
     "name": "stderr",
     "output_type": "stream",
     "text": [
      "Epoch 391: 100%|████████████████████████████████████████████████████████| 235/235 [02:00<00:00,  1.95it/s, loss=0.0455]\n"
     ]
    },
    {
     "name": "stdout",
     "output_type": "stream",
     "text": [
      "[Epoch 391] Loss: 0.0486\n"
     ]
    },
    {
     "name": "stderr",
     "output_type": "stream",
     "text": [
      "Epoch 392: 100%|█████████████████████████████████████████████████████████| 235/235 [02:00<00:00,  1.96it/s, loss=0.051]\n"
     ]
    },
    {
     "name": "stdout",
     "output_type": "stream",
     "text": [
      "[Epoch 392] Loss: 0.0490\n"
     ]
    },
    {
     "name": "stderr",
     "output_type": "stream",
     "text": [
      "Epoch 393: 100%|█████████████████████████████████████████████████████████| 235/235 [02:00<00:00,  1.95it/s, loss=0.066]\n"
     ]
    },
    {
     "name": "stdout",
     "output_type": "stream",
     "text": [
      "[Epoch 393] Loss: 0.0488\n"
     ]
    },
    {
     "name": "stderr",
     "output_type": "stream",
     "text": [
      "Epoch 394: 100%|████████████████████████████████████████████████████████| 235/235 [02:07<00:00,  1.84it/s, loss=0.0538]\n"
     ]
    },
    {
     "name": "stdout",
     "output_type": "stream",
     "text": [
      "[Epoch 394] Loss: 0.0492\n"
     ]
    },
    {
     "name": "stderr",
     "output_type": "stream",
     "text": [
      "Epoch 395: 100%|█████████████████████████████████████████████████████████| 235/235 [02:04<00:00,  1.89it/s, loss=0.066]\n"
     ]
    },
    {
     "name": "stdout",
     "output_type": "stream",
     "text": [
      "[Epoch 395] Loss: 0.0489\n"
     ]
    },
    {
     "name": "stderr",
     "output_type": "stream",
     "text": [
      "Epoch 396: 100%|████████████████████████████████████████████████████████| 235/235 [01:59<00:00,  1.96it/s, loss=0.0588]\n"
     ]
    },
    {
     "name": "stdout",
     "output_type": "stream",
     "text": [
      "[Epoch 396] Loss: 0.0485\n"
     ]
    },
    {
     "name": "stderr",
     "output_type": "stream",
     "text": [
      "Epoch 397: 100%|████████████████████████████████████████████████████████| 235/235 [02:04<00:00,  1.89it/s, loss=0.0395]\n"
     ]
    },
    {
     "name": "stdout",
     "output_type": "stream",
     "text": [
      "[Epoch 397] Loss: 0.0489\n"
     ]
    },
    {
     "name": "stderr",
     "output_type": "stream",
     "text": [
      "Epoch 398: 100%|█████████████████████████████████████████████████████████| 235/235 [02:03<00:00,  1.90it/s, loss=0.045]\n"
     ]
    },
    {
     "name": "stdout",
     "output_type": "stream",
     "text": [
      "[Epoch 398] Loss: 0.0489\n"
     ]
    },
    {
     "name": "stderr",
     "output_type": "stream",
     "text": [
      "Epoch 399: 100%|████████████████████████████████████████████████████████| 235/235 [02:01<00:00,  1.94it/s, loss=0.0618]\n"
     ]
    },
    {
     "name": "stdout",
     "output_type": "stream",
     "text": [
      "[Epoch 399] Loss: 0.0489\n"
     ]
    }
   ],
   "source": [
    "best_loss = 1\n",
    "for epoch in range(epochs):\n",
    "    model.train()\n",
    "    total_loss = 0\n",
    "    pbar = tqdm.tqdm(dataloader, desc=f\"Epoch {epoch}\")\n",
    "    for i, (x, _) in enumerate(pbar):\n",
    "        x = x.to(device)\n",
    "        with torch.no_grad():\n",
    "            x = model_vae.encoder(x)\n",
    "        t = torch.randint(0, diffusion.timesteps, (x.size(0),), device=device).long()\n",
    "        noise = torch.randn_like(x)\n",
    "        x_t = diffusion.q_sample(x, t, noise)\n",
    "\n",
    "        loss = F.mse_loss(model(x_t, t), noise)\n",
    "\n",
    "        optimizer.zero_grad()\n",
    "        loss.backward()\n",
    "        torch.nn.utils.clip_grad_norm_(model.parameters(), 1.0)\n",
    "        optimizer.step()\n",
    "        ema.update(model)\n",
    "        \n",
    "        total_loss += loss.item()\n",
    "        pbar.set_postfix(loss=loss.item())\n",
    "\n",
    "    scheduler.step()  # 更新学习率\n",
    "    avg_loss = total_loss / len(dataloader)\n",
    "    print(f\"[Epoch {epoch}] Loss: {avg_loss:.4f}\")\n",
    "    best_loss = save_checkpoint(model, ema, optimizer, epoch, avg_loss, best_loss)\n",
    "    # 采样并保存\n",
    "    if epoch % 5 == 0:\n",
    "        with torch.no_grad():\n",
    "            samples = diffusion.p_sample_loop(ema.model, (16, 32, 32, 32))\n",
    "            samples = model_vae.decoder(samples)\n",
    "            samples = samples.clamp(0, 1)\n",
    "            samples = denormalize(samples, mean, std)\n",
    "            save_samples(samples, epoch)"
   ]
  },
  {
   "cell_type": "code",
   "execution_count": 92,
   "id": "1102b3e0-0cac-46e5-86a8-1b58f576a20d",
   "metadata": {},
   "outputs": [],
   "source": [
    "# 保存多个中间步骤图像\n",
    "def visualize_denoising(diffusion, model, shape, save_dir=\"./images\", steps=10):\n",
    "    os.makedirs(save_dir, exist_ok=True)\n",
    "    x = torch.randn(shape).to(diffusion.device)\n",
    "    indices = torch.linspace(0, diffusion.timesteps - 1, steps).long()\n",
    "\n",
    "    with torch.no_grad():\n",
    "        for i, t in enumerate(reversed(indices)):\n",
    "            t_batch = torch.full((shape[0],), t.item(), dtype=torch.long).to(diffusion.device)\n",
    "            x = diffusion.p_sample(model, x, t_batch)\n",
    "            out = (x.clamp(-1, 1) + 1) / 2\n",
    "            save_image(out, os.path.join(save_dir, f\"step_{i:02d}.png\"), nrow=8)"
   ]
  },
  {
   "cell_type": "code",
   "execution_count": null,
   "id": "069e6fff-42dc-4506-be44-0a88cd8b4eb8",
   "metadata": {},
   "outputs": [],
   "source": []
  }
 ],
 "metadata": {
  "kernelspec": {
   "display_name": "Python 3 (ipykernel)",
   "language": "python",
   "name": "python3"
  },
  "language_info": {
   "codemirror_mode": {
    "name": "ipython",
    "version": 3
   },
   "file_extension": ".py",
   "mimetype": "text/x-python",
   "name": "python",
   "nbconvert_exporter": "python",
   "pygments_lexer": "ipython3",
   "version": "3.12.9"
  }
 },
 "nbformat": 4,
 "nbformat_minor": 5
}
